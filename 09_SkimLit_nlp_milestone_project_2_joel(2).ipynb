{
  "nbformat": 4,
  "nbformat_minor": 0,
  "metadata": {
    "colab": {
      "name": "09_SkimLit_nlp_milestone_project_2_joel.ipynb",
      "provenance": [],
      "collapsed_sections": []
    },
    "kernelspec": {
      "name": "python3",
      "display_name": "Python 3"
    },
    "language_info": {
      "name": "python"
    },
    "accelerator": "GPU"
  },
  "cells": [
    {
      "cell_type": "code",
      "metadata": {
        "id": "SE3EqywSG7Ub"
      },
      "source": [
        ""
      ],
      "execution_count": null,
      "outputs": []
    },
    {
      "cell_type": "markdown",
      "metadata": {
        "id": "DrPFa0noIAXr"
      },
      "source": [
        "# Milestone Project 2: SkimLit\n",
        "\n",
        "The purpose of this notebook is to build an NLP model to make reading medical abstrats easier.\n",
        "\n",
        "\n",
        "  The paper we're replicating ( the source of the dataset tha we'll be using ) is availabel here: https://arxiv.org/abs/1710.06071\n",
        "\n",
        "  And reading through the paper above,\n",
        "  we see that the model architecture that they use to achieve their best results is avaliable here: https://arxiv.org/abs/1612.05251\n",
        "\n",
        "**Resource** If you want to find the ground truth for this notebook (with losts a diagram lots of diagrams and text annotations) see the GitHub:\n",
        "\n",
        "https://github.com/mrdbourke/tensorflow-deep-learning/blob/main/09_SkimLit_nlp_milestone_project_2.ipynb\n",
        "\n"
      ]
    },
    {
      "cell_type": "markdown",
      "metadata": {
        "id": "LOQ1QhC7Op9h"
      },
      "source": [
        "## Confirm acces to a GPU"
      ]
    },
    {
      "cell_type": "code",
      "metadata": {
        "colab": {
          "base_uri": "https://localhost:8080/"
        },
        "id": "XG9Agm91QQ4B",
        "outputId": "54ab6751-282d-403d-d4fb-4c104c1c5acf"
      },
      "source": [
        "!nvidia-smi"
      ],
      "execution_count": 23,
      "outputs": [
        {
          "output_type": "stream",
          "text": [
            "Thu May 20 19:27:17 2021       \n",
            "+-----------------------------------------------------------------------------+\n",
            "| NVIDIA-SMI 465.19.01    Driver Version: 460.32.03    CUDA Version: 11.2     |\n",
            "|-------------------------------+----------------------+----------------------+\n",
            "| GPU  Name        Persistence-M| Bus-Id        Disp.A | Volatile Uncorr. ECC |\n",
            "| Fan  Temp  Perf  Pwr:Usage/Cap|         Memory-Usage | GPU-Util  Compute M. |\n",
            "|                               |                      |               MIG M. |\n",
            "|===============================+======================+======================|\n",
            "|   0  Tesla T4            Off  | 00000000:00:04.0 Off |                    0 |\n",
            "| N/A   64C    P0    30W /  70W |    222MiB / 15109MiB |      0%      Default |\n",
            "|                               |                      |                  N/A |\n",
            "+-------------------------------+----------------------+----------------------+\n",
            "                                                                               \n",
            "+-----------------------------------------------------------------------------+\n",
            "| Processes:                                                                  |\n",
            "|  GPU   GI   CI        PID   Type   Process name                  GPU Memory |\n",
            "|        ID   ID                                                   Usage      |\n",
            "|=============================================================================|\n",
            "+-----------------------------------------------------------------------------+\n"
          ],
          "name": "stdout"
        }
      ]
    },
    {
      "cell_type": "markdown",
      "metadata": {
        "id": "iyNxROJwQURq"
      },
      "source": [
        "## Get data\n",
        "\n",
        "Since we'll be replicating the paper above(PubMed 200k RCT), let's  download the\n",
        "\n",
        "dataset they used.\n",
        "\n",
        "\n",
        "We can do so from the authors GitHub:  https://github.com/Franck-Dernoncourt/pubmed-rct\n"
      ]
    },
    {
      "cell_type": "code",
      "metadata": {
        "colab": {
          "base_uri": "https://localhost:8080/"
        },
        "id": "hj01rBV9Rgyr",
        "outputId": "4d588417-a373-436e-f9ab-6139a1741dcd"
      },
      "source": [
        "!git clone https://github.com/Franck-Dernoncourt/pubmed-rct\n",
        "!ls pubmed-rct"
      ],
      "execution_count": 24,
      "outputs": [
        {
          "output_type": "stream",
          "text": [
            "fatal: destination path 'pubmed-rct' already exists and is not an empty directory.\n",
            "PubMed_200k_RCT\n",
            "PubMed_200k_RCT_numbers_replaced_with_at_sign\n",
            "PubMed_20k_RCT\n",
            "PubMed_20k_RCT_numbers_replaced_with_at_sign\n",
            "README.md\n"
          ],
          "name": "stdout"
        }
      ]
    },
    {
      "cell_type": "code",
      "metadata": {
        "colab": {
          "base_uri": "https://localhost:8080/"
        },
        "id": "dveQ9GGVR5PG",
        "outputId": "10c8485f-15c8-4671-ebed-7dae17c69930"
      },
      "source": [
        "# Check what files are in the PubMed_20k dataset\n",
        "\n",
        "!ls pubmed-rct/PubMed_20k_RCT_numbers_replaced_with_at_sign/\n",
        "!ls pubmed-rct/PubMed_20k_RCT/\n",
        "# dev es validation set"
      ],
      "execution_count": 25,
      "outputs": [
        {
          "output_type": "stream",
          "text": [
            "dev.txt  test.txt  train.txt\n",
            "dev.txt  test.txt  train.txt\n"
          ],
          "name": "stdout"
        }
      ]
    },
    {
      "cell_type": "code",
      "metadata": {
        "id": "vpLMjZUdTJpW"
      },
      "source": [
        "# Start our experiments using the 20k dataset with numbers replaced by \"@\" sign\n",
        "data_dir =\"/content/pubmed-rct/PubMed_20k_RCT_numbers_replaced_with_at_sign/\"\n",
        "\n",
        "\n"
      ],
      "execution_count": 26,
      "outputs": []
    },
    {
      "cell_type": "code",
      "metadata": {
        "colab": {
          "base_uri": "https://localhost:8080/"
        },
        "id": "DOjAzPWSVRa9",
        "outputId": "b46e0990-a9aa-498f-b301-c6e525f943ad"
      },
      "source": [
        "# Check all of the filenames in the target directory\n",
        "import os\n",
        "filenames = [data_dir + filename for filename in os.listdir(data_dir)]\n",
        "\n",
        "filenames\n",
        "\n"
      ],
      "execution_count": 27,
      "outputs": [
        {
          "output_type": "execute_result",
          "data": {
            "text/plain": [
              "['/content/pubmed-rct/PubMed_20k_RCT_numbers_replaced_with_at_sign/train.txt',\n",
              " '/content/pubmed-rct/PubMed_20k_RCT_numbers_replaced_with_at_sign/dev.txt',\n",
              " '/content/pubmed-rct/PubMed_20k_RCT_numbers_replaced_with_at_sign/test.txt']"
            ]
          },
          "metadata": {
            "tags": []
          },
          "execution_count": 27
        }
      ]
    },
    {
      "cell_type": "markdown",
      "metadata": {
        "id": "uP3FcpPgVs5R"
      },
      "source": [
        "## Preprocess data\n",
        "\n",
        "Now we'got some text data, it's time to become one with it.\n",
        "\n",
        "And one of the best ways to become one with the data is to...\n",
        "\n",
        "> Visualize, visualize, visualize\n",
        "\n",
        "So with that in mind, let's write a function to read in all of the lines of the lines of a target text file\n"
      ]
    },
    {
      "cell_type": "code",
      "metadata": {
        "id": "2m45siuEW4rP"
      },
      "source": [
        "# Create function to read the lines of a document\n",
        "\n",
        "def get_lines(filename):\n",
        "  \"\"\"\n",
        "  \n",
        "  Reads filename(a text filename) and return the lines of text as a list.\n",
        "\n",
        "\n",
        "  Args:\n",
        "    filename: a string containing the target filepath.\n",
        "\n",
        "  returns:\n",
        "\n",
        "  A list of strings with one string per line from the target filename.\n",
        "\n",
        "\n",
        "\n",
        "  \n",
        "  \n",
        "  \"\"\"\n",
        "\n",
        "  with open(filename, \"r\") as f:\n",
        "\n",
        "    return f.readlines()"
      ],
      "execution_count": 28,
      "outputs": []
    },
    {
      "cell_type": "code",
      "metadata": {
        "colab": {
          "base_uri": "https://localhost:8080/"
        },
        "id": "nxr2lWiFYP0y",
        "outputId": "f4edb2a0-3661-46fa-f0b7-8474225110af"
      },
      "source": [
        "# Let's read in the training lines\n",
        "\n",
        "train_lines = get_lines(data_dir + \"train.txt\") # read the lines with the training file\n",
        "\n",
        "train_lines[:20]"
      ],
      "execution_count": 29,
      "outputs": [
        {
          "output_type": "execute_result",
          "data": {
            "text/plain": [
              "['###24293578\\n',\n",
              " 'OBJECTIVE\\tTo investigate the efficacy of @ weeks of daily low-dose oral prednisolone in improving pain , mobility , and systemic low-grade inflammation in the short term and whether the effect would be sustained at @ weeks in older adults with moderate to severe knee osteoarthritis ( OA ) .\\n',\n",
              " 'METHODS\\tA total of @ patients with primary knee OA were randomized @:@ ; @ received @ mg/day of prednisolone and @ received placebo for @ weeks .\\n',\n",
              " 'METHODS\\tOutcome measures included pain reduction and improvement in function scores and systemic inflammation markers .\\n',\n",
              " 'METHODS\\tPain was assessed using the visual analog pain scale ( @-@ mm ) .\\n',\n",
              " 'METHODS\\tSecondary outcome measures included the Western Ontario and McMaster Universities Osteoarthritis Index scores , patient global assessment ( PGA ) of the severity of knee OA , and @-min walk distance ( @MWD ) .\\n',\n",
              " 'METHODS\\tSerum levels of interleukin @ ( IL-@ ) , IL-@ , tumor necrosis factor ( TNF ) - , and high-sensitivity C-reactive protein ( hsCRP ) were measured .\\n',\n",
              " 'RESULTS\\tThere was a clinically relevant reduction in the intervention group compared to the placebo group for knee pain , physical function , PGA , and @MWD at @ weeks .\\n',\n",
              " 'RESULTS\\tThe mean difference between treatment arms ( @ % CI ) was @ ( @-@ @ ) , p < @ ; @ ( @-@ @ ) , p < @ ; @ ( @-@ @ ) , p < @ ; and @ ( @-@ @ ) , p < @ , respectively .\\n',\n",
              " 'RESULTS\\tFurther , there was a clinically relevant reduction in the serum levels of IL-@ , IL-@ , TNF - , and hsCRP at @ weeks in the intervention group when compared to the placebo group .\\n',\n",
              " 'RESULTS\\tThese differences remained significant at @ weeks .\\n',\n",
              " 'RESULTS\\tThe Outcome Measures in Rheumatology Clinical Trials-Osteoarthritis Research Society International responder rate was @ % in the intervention group and @ % in the placebo group ( p < @ ) .\\n',\n",
              " 'CONCLUSIONS\\tLow-dose oral prednisolone had both a short-term and a longer sustained effect resulting in less knee pain , better physical function , and attenuation of systemic inflammation in older patients with knee OA ( ClinicalTrials.gov identifier NCT@ ) .\\n',\n",
              " '\\n',\n",
              " '###24854809\\n',\n",
              " 'BACKGROUND\\tEmotional eating is associated with overeating and the development of obesity .\\n',\n",
              " 'BACKGROUND\\tYet , empirical evidence for individual ( trait ) differences in emotional eating and cognitive mechanisms that contribute to eating during sad mood remain equivocal .\\n',\n",
              " 'OBJECTIVE\\tThe aim of this study was to test if attention bias for food moderates the effect of self-reported emotional eating during sad mood ( vs neutral mood ) on actual food intake .\\n',\n",
              " 'OBJECTIVE\\tIt was expected that emotional eating is predictive of elevated attention for food and higher food intake after an experimentally induced sad mood and that attentional maintenance on food predicts food intake during a sad versus a neutral mood .\\n',\n",
              " 'METHODS\\tParticipants ( N = @ ) were randomly assigned to one of the two experimental mood induction conditions ( sad/neutral ) .\\n']"
            ]
          },
          "metadata": {
            "tags": []
          },
          "execution_count": 29
        }
      ]
    },
    {
      "cell_type": "code",
      "metadata": {
        "colab": {
          "base_uri": "https://localhost:8080/"
        },
        "id": "SVrH7lYgYupp",
        "outputId": "2c6b6585-7a35-4604-ae47-19def1883b73"
      },
      "source": [
        "len(train_lines)"
      ],
      "execution_count": 30,
      "outputs": [
        {
          "output_type": "execute_result",
          "data": {
            "text/plain": [
              "210040"
            ]
          },
          "metadata": {
            "tags": []
          },
          "execution_count": 30
        }
      ]
    },
    {
      "cell_type": "markdown",
      "metadata": {
        "id": "HwWyiU23ZbK6"
      },
      "source": [
        "Let's think about how we want our data to look...\n",
        "\n",
        "\n",
        "How  I think our data would be best represented\n",
        "\n",
        "```\n",
        "[{'line_number':0,\n",
        "  'target': 'BACKGROUND',\n",
        "  'text': 'Emotional eating is associeated with overeating and the development of obesity. \\n',\n",
        "  'total lines':11},\n",
        "  ....]\n",
        "\n",
        "\n",
        "```\n",
        "\n",
        "es decir deberia retornarme una lista de 11 diccionarios\n"
      ]
    },
    {
      "cell_type": "markdown",
      "metadata": {
        "id": "f1mji1_XcDVT"
      },
      "source": [
        "Let's write a function wich turns each of our datasets into the above format so we can continue to prepare our \n",
        "data for modeling.\n",
        "\n",
        "\n"
      ]
    },
    {
      "cell_type": "code",
      "metadata": {
        "id": "y7unb3buZRew"
      },
      "source": [
        "# tener en cuenta como comienza cada sentencia, como esta separada y como termina\n",
        "\n",
        "def preprocess_text_with_line_numbers(filename):\n",
        "\n",
        "  \"\"\"\n",
        "  Returns a list of dictionaries of abstrac line data.\n",
        "\n",
        "\n",
        "  Takes in filename, reads it contents and sorts through each line,\n",
        "\n",
        "extracting thing like the target label, the text of the sentence, how many sentences are\n",
        "in the current abstract and what sentence number the target line is\n",
        "\n",
        "  \n",
        "  \n",
        "  \"\"\"\n",
        "  input_lines = get_lines(filename)# get all lines from filename\n",
        "\n",
        "  abstract_lines = \"\" # Create an empty abstract(string)\n",
        "  # esta variabla almacenara todas las lineas para un abstract\n",
        "  abstract_samples = [] # Create an empty list of abstracts\n",
        "\n",
        "\n",
        "    # \"\"\" Con el codigo de abajo agrupamos el texto en distintos abstract\"\"\"\n",
        "  # Loop through each line in the target file\n",
        "  for line in input_lines:\n",
        "\n",
        "    # startwith me retorna una valor booleano\n",
        "    if line.startswith(\"###\"): # check to see if the line is an ID line\n",
        "      abstract_id = line\n",
        "      abstract_lines = \"\" # reset the abstract string if the line is an ID line\n",
        "    \n",
        "    elif line.isspace(): # check to see if line is  a new line o salto de linea\n",
        "      \n",
        "      # separamos lo que contiene toda las lineas, en varias lineas\n",
        "      abstract_line_split = abstract_lines.splitlines() # split abstract into separate lines\n",
        "\n",
        "      # \"\"\"  Para cada abstract  hacemos lo siguiente\"\"\"\n",
        "      \n",
        "      # Iterate through each line in a single abstract and count them at the same time\n",
        "      # line = sentence\n",
        "      for abstract_line_number, abstract_line in enumerate(abstract_line_split):\n",
        "        line_data = {} # create an empty dictionary for each line\n",
        "\n",
        "        # separamos con \"\\t\"\"\n",
        "        target_text_split = abstract_line.split(\"\\t\") # split target label from text\n",
        "\n",
        "        #append\n",
        "\n",
        "        line_data[\"target\"] = target_text_split[0] # get target label\n",
        "        line_data[\"text\"] = target_text_split[1].lower() # get target text and low it\n",
        "\n",
        "        line_data[\"line_number\"] = abstract_line_number# what number line does the line appear in the abstract?\n",
        "\n",
        "        line_data[\"total_lines\"] = len(abstract_line_split) - 1 # how many total lines are there in the target abstract?(start from 0)\n",
        "\n",
        "        abstract_samples.append(line_data) # add line data to abstract sample list\n",
        "      \n",
        "    else: # if the above condiction aren't fulfilled, the line contains a labelled sentence\n",
        "\n",
        "        # si no se cumple lo arriba estamos entre el inicio y el final, oseamos estamos en el mismo abstract\n",
        "        # relleno mi contenedor de lineas\n",
        "        abstract_lines += line\n",
        "\n",
        "  return abstract_samples\n"
      ],
      "execution_count": 31,
      "outputs": []
    },
    {
      "cell_type": "code",
      "metadata": {
        "colab": {
          "base_uri": "https://localhost:8080/"
        },
        "id": "6GTPxkR_qtdp",
        "outputId": "18e8bb30-3f0c-4eec-8ee2-c2443ca76bd2"
      },
      "source": [
        "\n",
        "# Get data from file and preprocess it\n",
        "\n",
        "%%time\n",
        "train_samples = preprocess_text_with_line_numbers(data_dir + \"train.txt\")\n",
        "\n",
        "val_samples = preprocess_text_with_line_numbers(data_dir + \"dev.txt\") # dev is another name for validation dataset\n",
        "\n",
        "test_samples = preprocess_text_with_line_numbers(data_dir + \"test.txt\")\n",
        "\n"
      ],
      "execution_count": 32,
      "outputs": [
        {
          "output_type": "stream",
          "text": [
            "CPU times: user 451 ms, sys: 85 ms, total: 536 ms\n",
            "Wall time: 540 ms\n"
          ],
          "name": "stdout"
        }
      ]
    },
    {
      "cell_type": "code",
      "metadata": {
        "colab": {
          "base_uri": "https://localhost:8080/"
        },
        "id": "aFlAry5MrUSF",
        "outputId": "a3dd119a-9c50-4dea-d1eb-fe851ce6de05"
      },
      "source": [
        "len(train_samples), len(val_samples), len(test_samples)"
      ],
      "execution_count": 33,
      "outputs": [
        {
          "output_type": "execute_result",
          "data": {
            "text/plain": [
              "(180040, 30212, 30135)"
            ]
          },
          "metadata": {
            "tags": []
          },
          "execution_count": 33
        }
      ]
    },
    {
      "cell_type": "code",
      "metadata": {
        "colab": {
          "base_uri": "https://localhost:8080/"
        },
        "id": "1WjSzqyysijf",
        "outputId": "f82b033b-d29f-4f3b-ec9d-af327ce7c56c"
      },
      "source": [
        "# Check the first abstract of our training data\n",
        "\n",
        "train_samples[:10]"
      ],
      "execution_count": 34,
      "outputs": [
        {
          "output_type": "execute_result",
          "data": {
            "text/plain": [
              "[{'line_number': 0,\n",
              "  'target': 'OBJECTIVE',\n",
              "  'text': 'to investigate the efficacy of @ weeks of daily low-dose oral prednisolone in improving pain , mobility , and systemic low-grade inflammation in the short term and whether the effect would be sustained at @ weeks in older adults with moderate to severe knee osteoarthritis ( oa ) .',\n",
              "  'total_lines': 11},\n",
              " {'line_number': 1,\n",
              "  'target': 'METHODS',\n",
              "  'text': 'a total of @ patients with primary knee oa were randomized @:@ ; @ received @ mg/day of prednisolone and @ received placebo for @ weeks .',\n",
              "  'total_lines': 11},\n",
              " {'line_number': 2,\n",
              "  'target': 'METHODS',\n",
              "  'text': 'outcome measures included pain reduction and improvement in function scores and systemic inflammation markers .',\n",
              "  'total_lines': 11},\n",
              " {'line_number': 3,\n",
              "  'target': 'METHODS',\n",
              "  'text': 'pain was assessed using the visual analog pain scale ( @-@ mm ) .',\n",
              "  'total_lines': 11},\n",
              " {'line_number': 4,\n",
              "  'target': 'METHODS',\n",
              "  'text': 'secondary outcome measures included the western ontario and mcmaster universities osteoarthritis index scores , patient global assessment ( pga ) of the severity of knee oa , and @-min walk distance ( @mwd ) .',\n",
              "  'total_lines': 11},\n",
              " {'line_number': 5,\n",
              "  'target': 'METHODS',\n",
              "  'text': 'serum levels of interleukin @ ( il-@ ) , il-@ , tumor necrosis factor ( tnf ) - , and high-sensitivity c-reactive protein ( hscrp ) were measured .',\n",
              "  'total_lines': 11},\n",
              " {'line_number': 6,\n",
              "  'target': 'RESULTS',\n",
              "  'text': 'there was a clinically relevant reduction in the intervention group compared to the placebo group for knee pain , physical function , pga , and @mwd at @ weeks .',\n",
              "  'total_lines': 11},\n",
              " {'line_number': 7,\n",
              "  'target': 'RESULTS',\n",
              "  'text': 'the mean difference between treatment arms ( @ % ci ) was @ ( @-@ @ ) , p < @ ; @ ( @-@ @ ) , p < @ ; @ ( @-@ @ ) , p < @ ; and @ ( @-@ @ ) , p < @ , respectively .',\n",
              "  'total_lines': 11},\n",
              " {'line_number': 8,\n",
              "  'target': 'RESULTS',\n",
              "  'text': 'further , there was a clinically relevant reduction in the serum levels of il-@ , il-@ , tnf - , and hscrp at @ weeks in the intervention group when compared to the placebo group .',\n",
              "  'total_lines': 11},\n",
              " {'line_number': 9,\n",
              "  'target': 'RESULTS',\n",
              "  'text': 'these differences remained significant at @ weeks .',\n",
              "  'total_lines': 11}]"
            ]
          },
          "metadata": {
            "tags": []
          },
          "execution_count": 34
        }
      ]
    },
    {
      "cell_type": "markdown",
      "metadata": {
        "id": "kJta9VlyubwY"
      },
      "source": [
        "Now that our datta is the format of a list of dictionaries, how about we turn it into DataFrame to further visualize it?\n",
        "\n"
      ]
    },
    {
      "cell_type": "code",
      "metadata": {
        "colab": {
          "base_uri": "https://localhost:8080/",
          "height": 276
        },
        "id": "PtdJI0DPt3Yh",
        "outputId": "864a49e8-0a7e-4c83-d0b9-320e99af703d"
      },
      "source": [
        "import pandas as pd\n",
        "\n",
        "train_df = pd.DataFrame(train_samples)\n",
        "val_df = pd.DataFrame(val_samples)\n",
        "\n",
        "test_df = pd.DataFrame(test_samples)\n",
        "\n",
        "train_df.head()\n"
      ],
      "execution_count": 35,
      "outputs": [
        {
          "output_type": "execute_result",
          "data": {
            "text/html": [
              "<div>\n",
              "<style scoped>\n",
              "    .dataframe tbody tr th:only-of-type {\n",
              "        vertical-align: middle;\n",
              "    }\n",
              "\n",
              "    .dataframe tbody tr th {\n",
              "        vertical-align: top;\n",
              "    }\n",
              "\n",
              "    .dataframe thead th {\n",
              "        text-align: right;\n",
              "    }\n",
              "</style>\n",
              "<table border=\"1\" class=\"dataframe\">\n",
              "  <thead>\n",
              "    <tr style=\"text-align: right;\">\n",
              "      <th></th>\n",
              "      <th>target</th>\n",
              "      <th>text</th>\n",
              "      <th>line_number</th>\n",
              "      <th>total_lines</th>\n",
              "    </tr>\n",
              "  </thead>\n",
              "  <tbody>\n",
              "    <tr>\n",
              "      <th>0</th>\n",
              "      <td>OBJECTIVE</td>\n",
              "      <td>to investigate the efficacy of @ weeks of dail...</td>\n",
              "      <td>0</td>\n",
              "      <td>11</td>\n",
              "    </tr>\n",
              "    <tr>\n",
              "      <th>1</th>\n",
              "      <td>METHODS</td>\n",
              "      <td>a total of @ patients with primary knee oa wer...</td>\n",
              "      <td>1</td>\n",
              "      <td>11</td>\n",
              "    </tr>\n",
              "    <tr>\n",
              "      <th>2</th>\n",
              "      <td>METHODS</td>\n",
              "      <td>outcome measures included pain reduction and i...</td>\n",
              "      <td>2</td>\n",
              "      <td>11</td>\n",
              "    </tr>\n",
              "    <tr>\n",
              "      <th>3</th>\n",
              "      <td>METHODS</td>\n",
              "      <td>pain was assessed using the visual analog pain...</td>\n",
              "      <td>3</td>\n",
              "      <td>11</td>\n",
              "    </tr>\n",
              "    <tr>\n",
              "      <th>4</th>\n",
              "      <td>METHODS</td>\n",
              "      <td>secondary outcome measures included the wester...</td>\n",
              "      <td>4</td>\n",
              "      <td>11</td>\n",
              "    </tr>\n",
              "  </tbody>\n",
              "</table>\n",
              "</div>"
            ],
            "text/plain": [
              "      target  ... total_lines\n",
              "0  OBJECTIVE  ...          11\n",
              "1    METHODS  ...          11\n",
              "2    METHODS  ...          11\n",
              "3    METHODS  ...          11\n",
              "4    METHODS  ...          11\n",
              "\n",
              "[5 rows x 4 columns]"
            ]
          },
          "metadata": {
            "tags": []
          },
          "execution_count": 35
        }
      ]
    },
    {
      "cell_type": "code",
      "metadata": {
        "colab": {
          "base_uri": "https://localhost:8080/"
        },
        "id": "EJObhDpGu-ot",
        "outputId": "3f102b25-ef9e-4a6e-c821-eb06bd881cc8"
      },
      "source": [
        "# Distribution of labels  in training data\n",
        "\n",
        "#train_df.target.value_counts()\n",
        "\n",
        "train_df[\"target\"].value_counts()"
      ],
      "execution_count": 36,
      "outputs": [
        {
          "output_type": "execute_result",
          "data": {
            "text/plain": [
              "METHODS        59353\n",
              "RESULTS        57953\n",
              "CONCLUSIONS    27168\n",
              "BACKGROUND     21727\n",
              "OBJECTIVE      13839\n",
              "Name: target, dtype: int64"
            ]
          },
          "metadata": {
            "tags": []
          },
          "execution_count": 36
        }
      ]
    },
    {
      "cell_type": "code",
      "metadata": {
        "colab": {
          "base_uri": "https://localhost:8080/",
          "height": 267
        },
        "id": "4R6bfRvBvagZ",
        "outputId": "b281a2de-db61-4f6a-be4b-74b37861e8ee"
      },
      "source": [
        "# Let's check the length of different lines\n",
        "\n",
        "train_df.total_lines.plot.hist();"
      ],
      "execution_count": 37,
      "outputs": [
        {
          "output_type": "display_data",
          "data": {
            "image/png": "[encoded data removed]",
            "text/plain": [
              "<Figure size 432x288 with 1 Axes>"
            ]
          },
          "metadata": {
            "tags": [],
            "needs_background": "light"
          }
        }
      ]
    },
    {
      "cell_type": "markdown",
      "metadata": {
        "id": "IoiGv7kpv-lf"
      },
      "source": [
        "### Get list of sentences"
      ]
    },
    {
      "cell_type": "code",
      "metadata": {
        "colab": {
          "base_uri": "https://localhost:8080/"
        },
        "id": "VUfm2JiywpVc",
        "outputId": "bf6183c9-e12c-41de-cf95-7fd2c7c2caf4"
      },
      "source": [
        "# Convert abstract text lines into list\n",
        "\n",
        "train_sentences = train_df[\"text\"].tolist()\n",
        "\n",
        "val_sentences = val_df[\"text\"].tolist()\n",
        "\n",
        "test_sentences = test_df[\"text\"].tolist()\n",
        "\n",
        "len(train_sentences), len(val_sentences), len(test_sentences)\n",
        "\n"
      ],
      "execution_count": 38,
      "outputs": [
        {
          "output_type": "execute_result",
          "data": {
            "text/plain": [
              "(180040, 30212, 30135)"
            ]
          },
          "metadata": {
            "tags": []
          },
          "execution_count": 38
        }
      ]
    },
    {
      "cell_type": "code",
      "metadata": {
        "colab": {
          "base_uri": "https://localhost:8080/"
        },
        "id": "6YL_PGMHxRSR",
        "outputId": "09216700-3748-4864-f2a2-4f0a0918b260"
      },
      "source": [
        "# View the 10 lines of the training sentences\n",
        "\n",
        "train_sentences[:10]"
      ],
      "execution_count": 39,
      "outputs": [
        {
          "output_type": "execute_result",
          "data": {
            "text/plain": [
              "['to investigate the efficacy of @ weeks of daily low-dose oral prednisolone in improving pain , mobility , and systemic low-grade inflammation in the short term and whether the effect would be sustained at @ weeks in older adults with moderate to severe knee osteoarthritis ( oa ) .',\n",
              " 'a total of @ patients with primary knee oa were randomized @:@ ; @ received @ mg/day of prednisolone and @ received placebo for @ weeks .',\n",
              " 'outcome measures included pain reduction and improvement in function scores and systemic inflammation markers .',\n",
              " 'pain was assessed using the visual analog pain scale ( @-@ mm ) .',\n",
              " 'secondary outcome measures included the western ontario and mcmaster universities osteoarthritis index scores , patient global assessment ( pga ) of the severity of knee oa , and @-min walk distance ( @mwd ) .',\n",
              " 'serum levels of interleukin @ ( il-@ ) , il-@ , tumor necrosis factor ( tnf ) - , and high-sensitivity c-reactive protein ( hscrp ) were measured .',\n",
              " 'there was a clinically relevant reduction in the intervention group compared to the placebo group for knee pain , physical function , pga , and @mwd at @ weeks .',\n",
              " 'the mean difference between treatment arms ( @ % ci ) was @ ( @-@ @ ) , p < @ ; @ ( @-@ @ ) , p < @ ; @ ( @-@ @ ) , p < @ ; and @ ( @-@ @ ) , p < @ , respectively .',\n",
              " 'further , there was a clinically relevant reduction in the serum levels of il-@ , il-@ , tnf - , and hscrp at @ weeks in the intervention group when compared to the placebo group .',\n",
              " 'these differences remained significant at @ weeks .']"
            ]
          },
          "metadata": {
            "tags": []
          },
          "execution_count": 39
        }
      ]
    },
    {
      "cell_type": "markdown",
      "metadata": {
        "id": "ypwLw3SyxajB"
      },
      "source": [
        "## Make numeric labels (ML models require numeric label)\n",
        "\n"
      ]
    },
    {
      "cell_type": "code",
      "metadata": {
        "colab": {
          "base_uri": "https://localhost:8080/"
        },
        "id": "3BciIP6DzfwU",
        "outputId": "1b9d9de5-d282-4f1a-ebee-39471e16570a"
      },
      "source": [
        "# One hot encode labels\n",
        "\n",
        "\n",
        "from  sklearn.preprocessing import OneHotEncoder\n",
        "\n",
        "\n",
        "one_hot_encoder = OneHotEncoder(sparse=True) # we want non-sparse matrix\n",
        "\n",
        "\n",
        "train_labels_one_hot = one_hot_encoder.fit_transform(train_df[\"target\"].to_numpy().reshape(-1, 1))\n",
        "\n",
        "# Check what one hot encoded labels look like\n",
        "train_labels_one_hot\n"
      ],
      "execution_count": 40,
      "outputs": [
        {
          "output_type": "execute_result",
          "data": {
            "text/plain": [
              "<180040x5 sparse matrix of type '<class 'numpy.float64'>'\n",
              "\twith 180040 stored elements in Compressed Sparse Row format>"
            ]
          },
          "metadata": {
            "tags": []
          },
          "execution_count": 40
        }
      ]
    },
    {
      "cell_type": "code",
      "metadata": {
        "colab": {
          "base_uri": "https://localhost:8080/",
          "height": 611
        },
        "id": "e0qJk7Tv1CZm",
        "outputId": "9bce4529-2a6a-4c54-cf6f-5ce82cd643b3"
      },
      "source": [
        "import tensorflow as tf\n",
        "tf.constant(train_labels_one_hot)\n",
        "\n",
        "# como tensorflow es incompatible con sparse matrix debemos asegurarnos de poner a falso el one_hot encoder"
      ],
      "execution_count": 41,
      "outputs": [
        {
          "output_type": "error",
          "ename": "ValueError",
          "evalue": "ignored",
          "traceback": [
            "\u001b[0;31m---------------------------------------------------------------------------\u001b[0m",
            "\u001b[0;31mValueError\u001b[0m                                Traceback (most recent call last)",
            "\u001b[0;32m<ipython-input-41-89c30343d377>\u001b[0m in \u001b[0;36m<module>\u001b[0;34m()\u001b[0m\n\u001b[1;32m      1\u001b[0m \u001b[0;32mimport\u001b[0m \u001b[0mtensorflow\u001b[0m \u001b[0;32mas\u001b[0m \u001b[0mtf\u001b[0m\u001b[0;34m\u001b[0m\u001b[0;34m\u001b[0m\u001b[0m\n\u001b[0;32m----> 2\u001b[0;31m \u001b[0mtf\u001b[0m\u001b[0;34m.\u001b[0m\u001b[0mconstant\u001b[0m\u001b[0;34m(\u001b[0m\u001b[0mtrain_labels_one_hot\u001b[0m\u001b[0;34m)\u001b[0m\u001b[0;34m\u001b[0m\u001b[0;34m\u001b[0m\u001b[0m\n\u001b[0m\u001b[1;32m      3\u001b[0m \u001b[0;34m\u001b[0m\u001b[0m\n\u001b[1;32m      4\u001b[0m \u001b[0;31m# como tensorflow es incompatible con sparse matrix debemos asegurarnos de poner a falso el one_hot encoder\u001b[0m\u001b[0;34m\u001b[0m\u001b[0;34m\u001b[0m\u001b[0;34m\u001b[0m\u001b[0m\n",
            "\u001b[0;32m/usr/local/lib/python3.7/dist-packages/tensorflow/python/framework/constant_op.py\u001b[0m in \u001b[0;36mconstant\u001b[0;34m(value, dtype, shape, name)\u001b[0m\n\u001b[1;32m    263\u001b[0m   \"\"\"\n\u001b[1;32m    264\u001b[0m   return _constant_impl(value, dtype, shape, name, verify_shape=False,\n\u001b[0;32m--> 265\u001b[0;31m                         allow_broadcast=True)\n\u001b[0m\u001b[1;32m    266\u001b[0m \u001b[0;34m\u001b[0m\u001b[0m\n\u001b[1;32m    267\u001b[0m \u001b[0;34m\u001b[0m\u001b[0m\n",
            "\u001b[0;32m/usr/local/lib/python3.7/dist-packages/tensorflow/python/framework/constant_op.py\u001b[0m in \u001b[0;36m_constant_impl\u001b[0;34m(value, dtype, shape, name, verify_shape, allow_broadcast)\u001b[0m\n\u001b[1;32m    274\u001b[0m       \u001b[0;32mwith\u001b[0m \u001b[0mtrace\u001b[0m\u001b[0;34m.\u001b[0m\u001b[0mTrace\u001b[0m\u001b[0;34m(\u001b[0m\u001b[0;34m\"tf.constant\"\u001b[0m\u001b[0;34m)\u001b[0m\u001b[0;34m:\u001b[0m\u001b[0;34m\u001b[0m\u001b[0;34m\u001b[0m\u001b[0m\n\u001b[1;32m    275\u001b[0m         \u001b[0;32mreturn\u001b[0m \u001b[0m_constant_eager_impl\u001b[0m\u001b[0;34m(\u001b[0m\u001b[0mctx\u001b[0m\u001b[0;34m,\u001b[0m \u001b[0mvalue\u001b[0m\u001b[0;34m,\u001b[0m \u001b[0mdtype\u001b[0m\u001b[0;34m,\u001b[0m \u001b[0mshape\u001b[0m\u001b[0;34m,\u001b[0m \u001b[0mverify_shape\u001b[0m\u001b[0;34m)\u001b[0m\u001b[0;34m\u001b[0m\u001b[0;34m\u001b[0m\u001b[0m\n\u001b[0;32m--> 276\u001b[0;31m     \u001b[0;32mreturn\u001b[0m \u001b[0m_constant_eager_impl\u001b[0m\u001b[0;34m(\u001b[0m\u001b[0mctx\u001b[0m\u001b[0;34m,\u001b[0m \u001b[0mvalue\u001b[0m\u001b[0;34m,\u001b[0m \u001b[0mdtype\u001b[0m\u001b[0;34m,\u001b[0m \u001b[0mshape\u001b[0m\u001b[0;34m,\u001b[0m \u001b[0mverify_shape\u001b[0m\u001b[0;34m)\u001b[0m\u001b[0;34m\u001b[0m\u001b[0;34m\u001b[0m\u001b[0m\n\u001b[0m\u001b[1;32m    277\u001b[0m \u001b[0;34m\u001b[0m\u001b[0m\n\u001b[1;32m    278\u001b[0m   \u001b[0mg\u001b[0m \u001b[0;34m=\u001b[0m \u001b[0mops\u001b[0m\u001b[0;34m.\u001b[0m\u001b[0mget_default_graph\u001b[0m\u001b[0;34m(\u001b[0m\u001b[0;34m)\u001b[0m\u001b[0;34m\u001b[0m\u001b[0;34m\u001b[0m\u001b[0m\n",
            "\u001b[0;32m/usr/local/lib/python3.7/dist-packages/tensorflow/python/framework/constant_op.py\u001b[0m in \u001b[0;36m_constant_eager_impl\u001b[0;34m(ctx, value, dtype, shape, verify_shape)\u001b[0m\n\u001b[1;32m    299\u001b[0m \u001b[0;32mdef\u001b[0m \u001b[0m_constant_eager_impl\u001b[0m\u001b[0;34m(\u001b[0m\u001b[0mctx\u001b[0m\u001b[0;34m,\u001b[0m \u001b[0mvalue\u001b[0m\u001b[0;34m,\u001b[0m \u001b[0mdtype\u001b[0m\u001b[0;34m,\u001b[0m \u001b[0mshape\u001b[0m\u001b[0;34m,\u001b[0m \u001b[0mverify_shape\u001b[0m\u001b[0;34m)\u001b[0m\u001b[0;34m:\u001b[0m\u001b[0;34m\u001b[0m\u001b[0;34m\u001b[0m\u001b[0m\n\u001b[1;32m    300\u001b[0m   \u001b[0;34m\"\"\"Implementation of eager constant.\"\"\"\u001b[0m\u001b[0;34m\u001b[0m\u001b[0;34m\u001b[0m\u001b[0m\n\u001b[0;32m--> 301\u001b[0;31m   \u001b[0mt\u001b[0m \u001b[0;34m=\u001b[0m \u001b[0mconvert_to_eager_tensor\u001b[0m\u001b[0;34m(\u001b[0m\u001b[0mvalue\u001b[0m\u001b[0;34m,\u001b[0m \u001b[0mctx\u001b[0m\u001b[0;34m,\u001b[0m \u001b[0mdtype\u001b[0m\u001b[0;34m)\u001b[0m\u001b[0;34m\u001b[0m\u001b[0;34m\u001b[0m\u001b[0m\n\u001b[0m\u001b[1;32m    302\u001b[0m   \u001b[0;32mif\u001b[0m \u001b[0mshape\u001b[0m \u001b[0;32mis\u001b[0m \u001b[0;32mNone\u001b[0m\u001b[0;34m:\u001b[0m\u001b[0;34m\u001b[0m\u001b[0;34m\u001b[0m\u001b[0m\n\u001b[1;32m    303\u001b[0m     \u001b[0;32mreturn\u001b[0m \u001b[0mt\u001b[0m\u001b[0;34m\u001b[0m\u001b[0;34m\u001b[0m\u001b[0m\n",
            "\u001b[0;32m/usr/local/lib/python3.7/dist-packages/tensorflow/python/framework/constant_op.py\u001b[0m in \u001b[0;36mconvert_to_eager_tensor\u001b[0;34m(value, ctx, dtype)\u001b[0m\n\u001b[1;32m     96\u001b[0m       \u001b[0mdtype\u001b[0m \u001b[0;34m=\u001b[0m \u001b[0mdtypes\u001b[0m\u001b[0;34m.\u001b[0m\u001b[0mas_dtype\u001b[0m\u001b[0;34m(\u001b[0m\u001b[0mdtype\u001b[0m\u001b[0;34m)\u001b[0m\u001b[0;34m.\u001b[0m\u001b[0mas_datatype_enum\u001b[0m\u001b[0;34m\u001b[0m\u001b[0;34m\u001b[0m\u001b[0m\n\u001b[1;32m     97\u001b[0m   \u001b[0mctx\u001b[0m\u001b[0;34m.\u001b[0m\u001b[0mensure_initialized\u001b[0m\u001b[0;34m(\u001b[0m\u001b[0;34m)\u001b[0m\u001b[0;34m\u001b[0m\u001b[0;34m\u001b[0m\u001b[0m\n\u001b[0;32m---> 98\u001b[0;31m   \u001b[0;32mreturn\u001b[0m \u001b[0mops\u001b[0m\u001b[0;34m.\u001b[0m\u001b[0mEagerTensor\u001b[0m\u001b[0;34m(\u001b[0m\u001b[0mvalue\u001b[0m\u001b[0;34m,\u001b[0m \u001b[0mctx\u001b[0m\u001b[0;34m.\u001b[0m\u001b[0mdevice_name\u001b[0m\u001b[0;34m,\u001b[0m \u001b[0mdtype\u001b[0m\u001b[0;34m)\u001b[0m\u001b[0;34m\u001b[0m\u001b[0;34m\u001b[0m\u001b[0m\n\u001b[0m\u001b[1;32m     99\u001b[0m \u001b[0;34m\u001b[0m\u001b[0m\n\u001b[1;32m    100\u001b[0m \u001b[0;34m\u001b[0m\u001b[0m\n",
            "\u001b[0;31mValueError\u001b[0m: TypeError: sparse matrix length is ambiguous; use getnnz() or shape[0]\nTraceback (most recent call last):\n\n  File \"/usr/local/lib/python3.7/dist-packages/scipy/sparse/base.py\", line 295, in __len__\n    raise TypeError(\"sparse matrix length is ambiguous; use getnnz()\"\n\nTypeError: sparse matrix length is ambiguous; use getnnz() or shape[0]\n\n"
          ]
        }
      ]
    },
    {
      "cell_type": "code",
      "metadata": {
        "colab": {
          "base_uri": "https://localhost:8080/"
        },
        "id": "WTAzNNGN1cq8",
        "outputId": "5fa433a3-439c-4ce6-92ce-53593cb31b82"
      },
      "source": [
        "# One hot encode labels\n",
        "\n",
        "\n",
        "from  sklearn.preprocessing import OneHotEncoder\n",
        "\n",
        "\n",
        "one_hot_encoder = OneHotEncoder(sparse=False) # we want non-sparse matrix\n",
        "\n",
        "\n",
        "train_labels_one_hot = one_hot_encoder.fit_transform(train_df[\"target\"].to_numpy().reshape(-1, 1))\n",
        "\n",
        "# como ya heamos adecuado el  one hot encoder, ya no necesitamos hacer otro fit para el conjjunto de test(porque tiene las mismas propiedas)\n",
        "val_labels_one_hot = one_hot_encoder.transform(val_df[\"target\"].to_numpy().reshape(-1, 1))\n",
        "test_labels_one_hot = one_hot_encoder.transform(test_df[\"target\"].to_numpy().reshape(-1, 1))\n",
        "# Check what one hot encoded labels look like\n",
        "\n",
        "\n",
        "train_labels_one_hot"
      ],
      "execution_count": 42,
      "outputs": [
        {
          "output_type": "execute_result",
          "data": {
            "text/plain": [
              "array([[0., 0., 0., 1., 0.],\n",
              "       [0., 0., 1., 0., 0.],\n",
              "       [0., 0., 1., 0., 0.],\n",
              "       ...,\n",
              "       [0., 0., 0., 0., 1.],\n",
              "       [0., 1., 0., 0., 0.],\n",
              "       [0., 1., 0., 0., 0.]])"
            ]
          },
          "metadata": {
            "tags": []
          },
          "execution_count": 42
        }
      ]
    },
    {
      "cell_type": "markdown",
      "metadata": {
        "id": "El7RCaa83Znl"
      },
      "source": [
        "### Label encode labels"
      ]
    },
    {
      "cell_type": "code",
      "metadata": {
        "colab": {
          "base_uri": "https://localhost:8080/"
        },
        "id": "FdfmnV1P2Cms",
        "outputId": "f1526f74-2df5-4945-e80c-b41b0f960039"
      },
      "source": [
        "# Extract labels ( \"target\" columns ) and encode them into integers\n",
        "# no necesita el reshape(-1, 1)\n",
        "\n",
        "from sklearn.preprocessing import LabelEncoder\n",
        "\n",
        "label_encoder = LabelEncoder()\n",
        "\n",
        "train_labels_encoded  = label_encoder.fit_transform(train_df[\"target\"].to_numpy())\n",
        "\n",
        "val_labels_encoded = label_encoder.transform(val_df[\"target\"].to_numpy())\n",
        "\n",
        "test_label_encoded = label_encoder.transform(test_df[\"target\"].to_numpy())\n",
        "\n",
        "\n",
        "# check what training labels look like\n",
        "\n",
        "train_labels_encoded"
      ],
      "execution_count": 43,
      "outputs": [
        {
          "output_type": "execute_result",
          "data": {
            "text/plain": [
              "array([3, 2, 2, ..., 4, 1, 1])"
            ]
          },
          "metadata": {
            "tags": []
          },
          "execution_count": 43
        }
      ]
    },
    {
      "cell_type": "code",
      "metadata": {
        "colab": {
          "base_uri": "https://localhost:8080/"
        },
        "id": "a8X-tkqs4uzL",
        "outputId": "afc897fc-00ca-40a8-d8b5-c32996570436"
      },
      "source": [
        "# Get class names and number of classes from LabelEncoder instance ( reverse enginering)\n",
        "\n",
        "num_classes = len(label_encoder.classes_)\n",
        "\n",
        "class_names = label_encoder.classes_\n",
        "\n",
        "num_classes, class_names"
      ],
      "execution_count": 44,
      "outputs": [
        {
          "output_type": "execute_result",
          "data": {
            "text/plain": [
              "(5, array(['BACKGROUND', 'CONCLUSIONS', 'METHODS', 'OBJECTIVE', 'RESULTS'],\n",
              "       dtype=object))"
            ]
          },
          "metadata": {
            "tags": []
          },
          "execution_count": 44
        }
      ]
    },
    {
      "cell_type": "markdown",
      "metadata": {
        "id": "7MsGWu0Y6aPy"
      },
      "source": [
        "## Starting a series of modelling experiments....\n",
        "\n",
        "As usual, we're going to be trying out a bunch of different models and seeing which one works best.\n",
        "\n",
        "And as always, we're going to start with a baseline (TF-IDF Multinomial Naive Bayes Classifier)\n",
        "\n",
        "\n"
      ]
    },
    {
      "cell_type": "markdown",
      "metadata": {
        "id": "AQewXDsn5eem"
      },
      "source": [
        "## Model 0: Getting a a baseline"
      ]
    },
    {
      "cell_type": "code",
      "metadata": {
        "colab": {
          "base_uri": "https://localhost:8080/"
        },
        "id": "T13CRoyi7Djp",
        "outputId": "53e05e39-f677-4f9e-a3a1-e73aff1cdd12"
      },
      "source": [
        "from sklearn.feature_extraction.text import TfidfVectorizer\n",
        "\n",
        "from sklearn.naive_bayes import MultinomialNB\n",
        "\n",
        "from sklearn.pipeline import Pipeline\n",
        "\n",
        "\n",
        "\n",
        "\n",
        "# Create a pipeline\n",
        "# le pasamos una lista de tuplas\n",
        "model_0 = Pipeline([\n",
        "                    \n",
        "                    (\"tf-idf\", TfidfVectorizer()),\n",
        "                    (\"clf\", MultinomialNB())\n",
        "\n",
        "])\n",
        "\n",
        "# Fit the pipeline to the training data\n",
        "\n",
        "model_0.fit(X=train_sentences,\n",
        "            y=train_labels_encoded)\n",
        "\n"
      ],
      "execution_count": 45,
      "outputs": [
        {
          "output_type": "execute_result",
          "data": {
            "text/plain": [
              "Pipeline(memory=None,\n",
              "         steps=[('tf-idf',\n",
              "                 TfidfVectorizer(analyzer='word', binary=False,\n",
              "                                 decode_error='strict',\n",
              "                                 dtype=<class 'numpy.float64'>,\n",
              "                                 encoding='utf-8', input='content',\n",
              "                                 lowercase=True, max_df=1.0, max_features=None,\n",
              "                                 min_df=1, ngram_range=(1, 1), norm='l2',\n",
              "                                 preprocessor=None, smooth_idf=True,\n",
              "                                 stop_words=None, strip_accents=None,\n",
              "                                 sublinear_tf=False,\n",
              "                                 token_pattern='(?u)\\\\b\\\\w\\\\w+\\\\b',\n",
              "                                 tokenizer=None, use_idf=True,\n",
              "                                 vocabulary=None)),\n",
              "                ('clf',\n",
              "                 MultinomialNB(alpha=1.0, class_prior=None, fit_prior=True))],\n",
              "         verbose=False)"
            ]
          },
          "metadata": {
            "tags": []
          },
          "execution_count": 45
        }
      ]
    },
    {
      "cell_type": "code",
      "metadata": {
        "colab": {
          "base_uri": "https://localhost:8080/"
        },
        "id": "P28BM67s8lcs",
        "outputId": "9d5f09da-b06a-4925-acbd-4e261704ad68"
      },
      "source": [
        "# Evaluate baseline model on validation dataset\n",
        "#score = evaluate in keras\n",
        "model_0.score(X=val_sentences,\n",
        "                 y=val_labels_encoded)"
      ],
      "execution_count": 46,
      "outputs": [
        {
          "output_type": "execute_result",
          "data": {
            "text/plain": [
              "0.7218323844829869"
            ]
          },
          "metadata": {
            "tags": []
          },
          "execution_count": 46
        }
      ]
    },
    {
      "cell_type": "code",
      "metadata": {
        "colab": {
          "base_uri": "https://localhost:8080/"
        },
        "id": "dBSXFTik8-SY",
        "outputId": "7f7f17eb-ddc1-48c3-95b8-e8c97a2be426"
      },
      "source": [
        "# Make predictions using our baseline model\n",
        "baseline_preds = model_0.predict(val_sentences)\n",
        "\n",
        "baseline_preds\n"
      ],
      "execution_count": 47,
      "outputs": [
        {
          "output_type": "execute_result",
          "data": {
            "text/plain": [
              "array([4, 1, 3, ..., 4, 4, 1])"
            ]
          },
          "metadata": {
            "tags": []
          },
          "execution_count": 47
        }
      ]
    },
    {
      "cell_type": "code",
      "metadata": {
        "colab": {
          "base_uri": "https://localhost:8080/"
        },
        "id": "QgpLvFeJ9fwe",
        "outputId": "e1abd238-d7c0-4241-cbae-9a2c6f09c3b5"
      },
      "source": [
        "val_labels_encoded"
      ],
      "execution_count": 48,
      "outputs": [
        {
          "output_type": "execute_result",
          "data": {
            "text/plain": [
              "array([0, 0, 3, ..., 4, 1, 1])"
            ]
          },
          "metadata": {
            "tags": []
          },
          "execution_count": 48
        }
      ]
    },
    {
      "cell_type": "markdown",
      "metadata": {
        "id": "tE0AFTuP9mfL"
      },
      "source": [
        "### Download helper function script\n",
        "\n",
        "In the previous module, we wrote a function to compare predictions across different metrics ( accuracy, precision_recall and f1)\n",
        "and rather than rewriting it here, let's download it from our helper function script\n",
        "https://raw.githubusercontent.com/mrdbourke/tensorflow-deep-learning/main/extras/helper_functions.py\n"
      ]
    },
    {
      "cell_type": "code",
      "metadata": {
        "colab": {
          "base_uri": "https://localhost:8080/"
        },
        "id": "pgv_vQLm-pGR",
        "outputId": "27981dae-3847-4bb6-b2c0-4abafbd2194d"
      },
      "source": [
        "!wget https://raw.githubusercontent.com/mrdbourke/tensorflow-deep-learning/main/extras/helper_functions.py"
      ],
      "execution_count": 49,
      "outputs": [
        {
          "output_type": "stream",
          "text": [
            "--2021-05-20 19:27:55--  https://raw.githubusercontent.com/mrdbourke/tensorflow-deep-learning/main/extras/helper_functions.py\n",
            "Resolving raw.githubusercontent.com (raw.githubusercontent.com)... 185.199.108.133, 185.199.109.133, 185.199.110.133, ...\n",
            "Connecting to raw.githubusercontent.com (raw.githubusercontent.com)|185.199.108.133|:443... connected.\n",
            "HTTP request sent, awaiting response... 200 OK\n",
            "Length: 10246 (10K) [text/plain]\n",
            "Saving to: ‘helper_functions.py’\n",
            "\n",
            "helper_functions.py 100%[===================>]  10.01K  --.-KB/s    in 0s      \n",
            "\n",
            "2021-05-20 19:27:55 (95.0 MB/s) - ‘helper_functions.py’ saved [10246/10246]\n",
            "\n"
          ],
          "name": "stdout"
        }
      ]
    },
    {
      "cell_type": "code",
      "metadata": {
        "id": "IzMWZJvA-ubJ"
      },
      "source": [
        "from helper_functions import calculate_results"
      ],
      "execution_count": 50,
      "outputs": []
    },
    {
      "cell_type": "code",
      "metadata": {
        "colab": {
          "base_uri": "https://localhost:8080/"
        },
        "id": "n0EPZeOw-1xn",
        "outputId": "4b4f604e-c17d-4325-d512-add952982d41"
      },
      "source": [
        "#Calculate baseline results\n",
        "\n",
        "baseline_results = calculate_results(y_true=val_labels_encoded,\n",
        "                                     y_pred=baseline_preds)\n",
        "baseline_results"
      ],
      "execution_count": 51,
      "outputs": [
        {
          "output_type": "execute_result",
          "data": {
            "text/plain": [
              "{'accuracy': 72.1832384482987,\n",
              " 'f1': 0.6989250353450294,\n",
              " 'precision': 0.7186466952323352,\n",
              " 'recall': 0.7218323844829869}"
            ]
          },
          "metadata": {
            "tags": []
          },
          "execution_count": 51
        }
      ]
    },
    {
      "cell_type": "code",
      "metadata": {
        "colab": {
          "base_uri": "https://localhost:8080/"
        },
        "id": "AynhGExM_JXr",
        "outputId": "58ab220b-308d-4218-ca29-3b23eb022152"
      },
      "source": [
        "train_sentences[:10]"
      ],
      "execution_count": 52,
      "outputs": [
        {
          "output_type": "execute_result",
          "data": {
            "text/plain": [
              "['to investigate the efficacy of @ weeks of daily low-dose oral prednisolone in improving pain , mobility , and systemic low-grade inflammation in the short term and whether the effect would be sustained at @ weeks in older adults with moderate to severe knee osteoarthritis ( oa ) .',\n",
              " 'a total of @ patients with primary knee oa were randomized @:@ ; @ received @ mg/day of prednisolone and @ received placebo for @ weeks .',\n",
              " 'outcome measures included pain reduction and improvement in function scores and systemic inflammation markers .',\n",
              " 'pain was assessed using the visual analog pain scale ( @-@ mm ) .',\n",
              " 'secondary outcome measures included the western ontario and mcmaster universities osteoarthritis index scores , patient global assessment ( pga ) of the severity of knee oa , and @-min walk distance ( @mwd ) .',\n",
              " 'serum levels of interleukin @ ( il-@ ) , il-@ , tumor necrosis factor ( tnf ) - , and high-sensitivity c-reactive protein ( hscrp ) were measured .',\n",
              " 'there was a clinically relevant reduction in the intervention group compared to the placebo group for knee pain , physical function , pga , and @mwd at @ weeks .',\n",
              " 'the mean difference between treatment arms ( @ % ci ) was @ ( @-@ @ ) , p < @ ; @ ( @-@ @ ) , p < @ ; @ ( @-@ @ ) , p < @ ; and @ ( @-@ @ ) , p < @ , respectively .',\n",
              " 'further , there was a clinically relevant reduction in the serum levels of il-@ , il-@ , tnf - , and hscrp at @ weeks in the intervention group when compared to the placebo group .',\n",
              " 'these differences remained significant at @ weeks .']"
            ]
          },
          "metadata": {
            "tags": []
          },
          "execution_count": 52
        }
      ]
    },
    {
      "cell_type": "markdown",
      "metadata": {
        "id": "i2DF7uSF_6hX"
      },
      "source": [
        "## Preparing our data (the text) for deep sequence models\n",
        "\n",
        "Before we start building deeper models, we've got to create a vectorization and embedding layers."
      ]
    },
    {
      "cell_type": "code",
      "metadata": {
        "id": "jv_2Wzp6_nN4"
      },
      "source": [
        "import numpy as np\n",
        "import tensorflow as tf\n",
        "\n",
        "\n",
        "from tensorflow.keras import layers\n",
        "\n"
      ],
      "execution_count": 53,
      "outputs": []
    },
    {
      "cell_type": "code",
      "metadata": {
        "colab": {
          "base_uri": "https://localhost:8080/",
          "height": 55
        },
        "id": "w0_72hXKCZRp",
        "outputId": "b6686abe-b2d9-457d-83ee-4072452c8aa4"
      },
      "source": [
        "train_sentences[1]"
      ],
      "execution_count": 54,
      "outputs": [
        {
          "output_type": "execute_result",
          "data": {
            "application/vnd.google.colaboratory.intrinsic+json": {
              "type": "string"
            },
            "text/plain": [
              "'a total of @ patients with primary knee oa were randomized @:@ ; @ received @ mg/day of prednisolone and @ received placebo for @ weeks .'"
            ]
          },
          "metadata": {
            "tags": []
          },
          "execution_count": 54
        }
      ]
    },
    {
      "cell_type": "code",
      "metadata": {
        "colab": {
          "base_uri": "https://localhost:8080/"
        },
        "id": "Inr6y1c_Bp61",
        "outputId": "f55c959e-4a62-4c7e-c71b-5743de4adaf7"
      },
      "source": [
        "train_sentences[1].split()"
      ],
      "execution_count": 55,
      "outputs": [
        {
          "output_type": "execute_result",
          "data": {
            "text/plain": [
              "['a',\n",
              " 'total',\n",
              " 'of',\n",
              " '@',\n",
              " 'patients',\n",
              " 'with',\n",
              " 'primary',\n",
              " 'knee',\n",
              " 'oa',\n",
              " 'were',\n",
              " 'randomized',\n",
              " '@:@',\n",
              " ';',\n",
              " '@',\n",
              " 'received',\n",
              " '@',\n",
              " 'mg/day',\n",
              " 'of',\n",
              " 'prednisolone',\n",
              " 'and',\n",
              " '@',\n",
              " 'received',\n",
              " 'placebo',\n",
              " 'for',\n",
              " '@',\n",
              " 'weeks',\n",
              " '.']"
            ]
          },
          "metadata": {
            "tags": []
          },
          "execution_count": 55
        }
      ]
    },
    {
      "cell_type": "code",
      "metadata": {
        "colab": {
          "base_uri": "https://localhost:8080/"
        },
        "id": "f83pSKtY_dyC",
        "outputId": "207a69a9-339e-499b-b1f0-1abed20abf79"
      },
      "source": [
        "# How long is each sentence on average?\n",
        "\n",
        "\n",
        "# lista que contiene la longitud de cada sentencia \n",
        "sent_len = [len(sentence.split()) for sentence in train_sentences]\n",
        "\n",
        "avg_sent_len = np.mean(sent_len)\n",
        "\n",
        "avg_sent_len\n",
        "\n",
        "# cada sentencia dentro de nuestros batches deben tener la misma forma  por eso buscamos un pormedio"
      ],
      "execution_count": 56,
      "outputs": [
        {
          "output_type": "execute_result",
          "data": {
            "text/plain": [
              "26.338269273494777"
            ]
          },
          "metadata": {
            "tags": []
          },
          "execution_count": 56
        }
      ]
    },
    {
      "cell_type": "code",
      "metadata": {
        "colab": {
          "base_uri": "https://localhost:8080/",
          "height": 231
        },
        "id": "lrAikVysCtLd",
        "outputId": "56370bdb-4e4e-4c9d-f067-8246e136f58c"
      },
      "source": [
        "# What's the distribution look like ?\n",
        "\n",
        "import matplotlib.pyplot as plt\n",
        "\n",
        "plt.hist(sent_lens, bins=20);\n"
      ],
      "execution_count": 57,
      "outputs": [
        {
          "output_type": "error",
          "ename": "NameError",
          "evalue": "ignored",
          "traceback": [
            "\u001b[0;31m---------------------------------------------------------------------------\u001b[0m",
            "\u001b[0;31mNameError\u001b[0m                                 Traceback (most recent call last)",
            "\u001b[0;32m<ipython-input-57-8b6a2f370c61>\u001b[0m in \u001b[0;36m<module>\u001b[0;34m()\u001b[0m\n\u001b[1;32m      3\u001b[0m \u001b[0;32mimport\u001b[0m \u001b[0mmatplotlib\u001b[0m\u001b[0;34m.\u001b[0m\u001b[0mpyplot\u001b[0m \u001b[0;32mas\u001b[0m \u001b[0mplt\u001b[0m\u001b[0;34m\u001b[0m\u001b[0;34m\u001b[0m\u001b[0m\n\u001b[1;32m      4\u001b[0m \u001b[0;34m\u001b[0m\u001b[0m\n\u001b[0;32m----> 5\u001b[0;31m \u001b[0mplt\u001b[0m\u001b[0;34m.\u001b[0m\u001b[0mhist\u001b[0m\u001b[0;34m(\u001b[0m\u001b[0msent_lens\u001b[0m\u001b[0;34m,\u001b[0m \u001b[0mbins\u001b[0m\u001b[0;34m=\u001b[0m\u001b[0;36m20\u001b[0m\u001b[0;34m)\u001b[0m\u001b[0;34m;\u001b[0m\u001b[0;34m\u001b[0m\u001b[0;34m\u001b[0m\u001b[0m\n\u001b[0m",
            "\u001b[0;31mNameError\u001b[0m: name 'sent_lens' is not defined"
          ]
        }
      ]
    },
    {
      "cell_type": "code",
      "metadata": {
        "colab": {
          "base_uri": "https://localhost:8080/"
        },
        "id": "EGC_fh8JDgv0",
        "outputId": "e4c8ee74-0e77-442f-d340-748ab0a5d694"
      },
      "source": [
        "# How long of a sentence lenght covers 95% of examples?\n",
        "# necesitamos una longitud que cubra la mayor parte de los datos, lo datos por encima se truncan y los por debajo se \"pad/rellenan\"\n",
        "\n",
        "\n",
        "# donde se ubica el 95 porciento de los datos\n",
        "output_seq_len = int(np.percentile(sent_len, 95))\n",
        "\n",
        "output_seq_len\n",
        "\n"
      ],
      "execution_count": 58,
      "outputs": [
        {
          "output_type": "execute_result",
          "data": {
            "text/plain": [
              "55"
            ]
          },
          "metadata": {
            "tags": []
          },
          "execution_count": 58
        }
      ]
    },
    {
      "cell_type": "code",
      "metadata": {
        "colab": {
          "base_uri": "https://localhost:8080/",
          "height": 231
        },
        "id": "OKAQmqkiEyd1",
        "outputId": "ee34d19a-06ee-4868-e27f-749752820c5c"
      },
      "source": [
        "# Maximum  sequence length in the training set\n",
        "\n",
        "max(sent_lens)"
      ],
      "execution_count": 59,
      "outputs": [
        {
          "output_type": "error",
          "ename": "NameError",
          "evalue": "ignored",
          "traceback": [
            "\u001b[0;31m---------------------------------------------------------------------------\u001b[0m",
            "\u001b[0;31mNameError\u001b[0m                                 Traceback (most recent call last)",
            "\u001b[0;32m<ipython-input-59-4487d0ffd531>\u001b[0m in \u001b[0;36m<module>\u001b[0;34m()\u001b[0m\n\u001b[1;32m      1\u001b[0m \u001b[0;31m# Maximum  sequence length in the training set\u001b[0m\u001b[0;34m\u001b[0m\u001b[0;34m\u001b[0m\u001b[0;34m\u001b[0m\u001b[0m\n\u001b[1;32m      2\u001b[0m \u001b[0;34m\u001b[0m\u001b[0m\n\u001b[0;32m----> 3\u001b[0;31m \u001b[0mmax\u001b[0m\u001b[0;34m(\u001b[0m\u001b[0msent_lens\u001b[0m\u001b[0;34m)\u001b[0m\u001b[0;34m\u001b[0m\u001b[0;34m\u001b[0m\u001b[0m\n\u001b[0m",
            "\u001b[0;31mNameError\u001b[0m: name 'sent_lens' is not defined"
          ]
        }
      ]
    },
    {
      "cell_type": "markdown",
      "metadata": {
        "id": "iSdDU09-FcP9"
      },
      "source": [
        "### Create text vectorizer layer\n",
        "\n",
        "We want to make a layer which maps our texts from words to numbers(integer).\n",
        "\n",
        "\n",
        "\n"
      ]
    },
    {
      "cell_type": "code",
      "metadata": {
        "id": "kLk9vOVjG0nS"
      },
      "source": [
        "# How many words are in our vocab? ( taken from table 2 in : https//arxiv.org/pdf/1710.06071.pdf)\n",
        "\n",
        "max_tokens = 68000\n"
      ],
      "execution_count": 60,
      "outputs": []
    },
    {
      "cell_type": "code",
      "metadata": {
        "id": "cuUIIeD9HWDa"
      },
      "source": [
        "# Create text vectorizer\n",
        "\n",
        "from tensorflow.keras.layers.experimental.preprocessing import TextVectorization\n",
        "\n",
        "\n",
        "text_vectorizer = TextVectorization(max_tokens=max_tokens, # number of words in vocabulary\n",
        "                                    output_sequence_length=output_seq_len)# desired output length of vectorizerd sequence"
      ],
      "execution_count": 61,
      "outputs": []
    },
    {
      "cell_type": "code",
      "metadata": {
        "id": "_onsIN7pITYx"
      },
      "source": [
        "# Adapt text vectorizer to training sentences\n",
        "text_vectorizer.adapt(train_sentences)\n"
      ],
      "execution_count": 62,
      "outputs": []
    },
    {
      "cell_type": "code",
      "metadata": {
        "colab": {
          "base_uri": "https://localhost:8080/"
        },
        "id": "AXehli8VIl53",
        "outputId": "2ec9cfc5-0691-4229-e776-c11ecc11211b"
      },
      "source": [
        "# Test out text  vectorizer on random sentences\n",
        "\n",
        "import random\n",
        "\n",
        "target_sentence = random.choice(train_sentences)\n",
        "\n",
        "print(f\"Text:\\n{target_sentence}\")\n",
        "\n",
        "print(f\"\\nLength of text:{len(target_sentence.split())}\")\n",
        "\n",
        "print(f\"\\nVectorized text: {text_vectorizer([target_sentence])}\")\n",
        "\n",
        "# los \"0\" vienden del padding \n",
        "# las palabras mas comunes tienen el numero menor en este caso"
      ],
      "execution_count": 63,
      "outputs": [
        {
          "output_type": "stream",
          "text": [
            "Text:\n",
            "acceptance : examinees preferred the etdrs test ( p < @ ) , the examiner on average had no preference .\n",
            "\n",
            "Length of text:21\n",
            "\n",
            "Vectorized text: [[ 2245 23185  1955     2  8089   128    14     2  8087    18   405    55\n",
            "     33  1845     0     0     0     0     0     0     0     0     0     0\n",
            "      0     0     0     0     0     0     0     0     0     0     0     0\n",
            "      0     0     0     0     0     0     0     0     0     0     0     0\n",
            "      0     0     0     0     0     0     0]]\n"
          ],
          "name": "stdout"
        }
      ]
    },
    {
      "cell_type": "code",
      "metadata": {
        "colab": {
          "base_uri": "https://localhost:8080/"
        },
        "id": "AOejjnUJJuzf",
        "outputId": "cc2067ca-0ec3-451d-964e-a3bd68c04da7"
      },
      "source": [
        "# How many words in our training vocabulary\n",
        "\n",
        "# rct es el data set que estamos usando\n",
        "rct_20k_text_vocab = text_vectorizer.get_vocabulary()\n",
        "\n",
        "\n",
        "print(f\"Number of words in vocab:{len(rct_20k_text_vocab)}\")\n",
        "\n",
        "print(f\"Most common words in the vocab: {rct_20k_text_vocab[:5]}\")\n",
        "\n",
        "print(f\"Least common words in the vocab: {rct_20k_text_vocab[-5:]}\")"
      ],
      "execution_count": 64,
      "outputs": [
        {
          "output_type": "stream",
          "text": [
            "Number of words in vocab:64841\n",
            "Most common words in the vocab: ['', '[UNK]', 'the', 'and', 'of']\n",
            "Least common words in the vocab: ['aainduced', 'aaigroup', 'aachener', 'aachen', 'aaacp']\n"
          ],
          "name": "stdout"
        }
      ]
    },
    {
      "cell_type": "code",
      "metadata": {
        "colab": {
          "base_uri": "https://localhost:8080/"
        },
        "id": "tOGISkLCL-Eg",
        "outputId": "2fab6d67-7b69-4761-8e2a-95dddc24640e"
      },
      "source": [
        "# Get the config of our text vectorizer\n",
        "text_vectorizer.get_config()"
      ],
      "execution_count": 65,
      "outputs": [
        {
          "output_type": "execute_result",
          "data": {
            "text/plain": [
              "{'dtype': 'string',\n",
              " 'max_tokens': 68000,\n",
              " 'name': 'text_vectorization',\n",
              " 'ngrams': None,\n",
              " 'output_mode': 'int',\n",
              " 'output_sequence_length': 55,\n",
              " 'pad_to_max_tokens': True,\n",
              " 'split': 'whitespace',\n",
              " 'standardize': 'lower_and_strip_punctuation',\n",
              " 'trainable': True}"
            ]
          },
          "metadata": {
            "tags": []
          },
          "execution_count": 65
        }
      ]
    },
    {
      "cell_type": "markdown",
      "metadata": {
        "id": "MVPjdMO8MVIP"
      },
      "source": [
        "### Create custom text embedding\n",
        "\n"
      ]
    },
    {
      "cell_type": "code",
      "metadata": {
        "id": "Dv1vmzqINfb7"
      },
      "source": [
        "# Create token embedding layer\n",
        "\n",
        "token_embed = layers.Embedding(input_dim=len(rct_20k_text_vocab), #length of vocabulary\n",
        "                              output_dim=128, # Nore: different embedding sizes result in drastically different numbers of parameters to train)\n",
        "                              # para que trabaje mejor con 0\n",
        "                              mask_zero=True, # use masking to handle variable sequence lengths(save space)\n",
        "                              name=\"token_embedding\")\n"
      ],
      "execution_count": 66,
      "outputs": []
    },
    {
      "cell_type": "code",
      "metadata": {
        "colab": {
          "base_uri": "https://localhost:8080/"
        },
        "id": "pMWqOM50PkNK",
        "outputId": "99ed77b7-255d-45b2-d267-b5235ce5abc6"
      },
      "source": [
        "# Show example embedding\n",
        "\n",
        "print(f\"Sentence before vectorization:\\n {target_sentence}\")\n",
        "\n",
        "vectorized_sentence = text_vectorizer([target_sentence])\n",
        "\n",
        "print(f\"Sentences after vectorization (before embdding): \\n {vectorized_sentence}\")\n",
        "\n",
        "embedded_sentence = token_embed(vectorized_sentence)\n",
        "\n",
        "print(f\"Sentences after embedding:\\n {embedded_sentence}\\n\")\n",
        "\n",
        "print(f\"Embedded sentence shape:{embedded_sentence.shape}\")\n",
        "\n",
        "# cada token se  representa con un vector de caracteristicasa\n",
        "\n",
        "# la capa de embedding permite aprender cosas finas"
      ],
      "execution_count": 67,
      "outputs": [
        {
          "output_type": "stream",
          "text": [
            "Sentence before vectorization:\n",
            " acceptance : examinees preferred the etdrs test ( p < @ ) , the examiner on average had no preference .\n",
            "Sentences after vectorization (before embdding): \n",
            " [[ 2245 23185  1955     2  8089   128    14     2  8087    18   405    55\n",
            "     33  1845     0     0     0     0     0     0     0     0     0     0\n",
            "      0     0     0     0     0     0     0     0     0     0     0     0\n",
            "      0     0     0     0     0     0     0     0     0     0     0     0\n",
            "      0     0     0     0     0     0     0]]\n",
            "Sentences after embedding:\n",
            " [[[-0.0121394  -0.01200068 -0.04483541 ... -0.02801809  0.02649308\n",
            "    0.02160914]\n",
            "  [ 0.02315264  0.02261451  0.00416061 ... -0.0197889  -0.04335978\n",
            "   -0.03178813]\n",
            "  [ 0.03902114 -0.00043767  0.00756196 ... -0.0328102  -0.04622614\n",
            "    0.00368395]\n",
            "  ...\n",
            "  [ 0.04477951  0.03811151  0.01592367 ...  0.02735689  0.01961011\n",
            "   -0.01705476]\n",
            "  [ 0.04477951  0.03811151  0.01592367 ...  0.02735689  0.01961011\n",
            "   -0.01705476]\n",
            "  [ 0.04477951  0.03811151  0.01592367 ...  0.02735689  0.01961011\n",
            "   -0.01705476]]]\n",
            "\n",
            "Embedded sentence shape:(1, 55, 128)\n"
          ],
          "name": "stdout"
        }
      ]
    },
    {
      "cell_type": "markdown",
      "metadata": {
        "id": "B3XRyLqIPX6G"
      },
      "source": [
        "## Creating datasets (making sure our data loads as fast as possible)\n",
        "\n",
        "We're going to setup our data to run as fast possible with the TensorFlow tf.data.API,  many of the steps here are\n",
        "\n",
        "discussed at length in these two resources:\n",
        "\n",
        "* https://www.tensorflow.org/guide/data_performance\n",
        "\n",
        "* https://www.tensorflow.org/guide/data"
      ]
    },
    {
      "cell_type": "code",
      "metadata": {
        "colab": {
          "base_uri": "https://localhost:8080/"
        },
        "id": "krz1KNh_TDu3",
        "outputId": "aa8a8249-7cb7-4a6b-b7fc-199a8b2cb734"
      },
      "source": [
        "# Turn our data into TensorFlow Datasets\n",
        "\n",
        "# combinamos las sentencias con las labels, se me hara una tupla\n",
        "train_dataset = tf.data.Dataset.from_tensor_slices((train_sentences, train_labels_one_hot))\n",
        "valid_dataset = tf.data.Dataset.from_tensor_slices((val_sentences, val_labels_one_hot))\n",
        "test_dataset = tf.data.Dataset.from_tensor_slices((test_sentences, test_labels_one_hot))\n",
        "\n",
        "\n",
        "train_dataset"
      ],
      "execution_count": 68,
      "outputs": [
        {
          "output_type": "execute_result",
          "data": {
            "text/plain": [
              "<TensorSliceDataset shapes: ((), (5,)), types: (tf.string, tf.float64)>"
            ]
          },
          "metadata": {
            "tags": []
          },
          "execution_count": 68
        }
      ]
    },
    {
      "cell_type": "code",
      "metadata": {
        "colab": {
          "base_uri": "https://localhost:8080/"
        },
        "id": "Ebcgs_eWWVi_",
        "outputId": "3c53044c-0b87-405c-d17f-ec74ad7b65ed"
      },
      "source": [
        "train_labels_one_hot.shape # el 5 es porque despues del encoding hay 5 posibilidades"
      ],
      "execution_count": 69,
      "outputs": [
        {
          "output_type": "execute_result",
          "data": {
            "text/plain": [
              "(180040, 5)"
            ]
          },
          "metadata": {
            "tags": []
          },
          "execution_count": 69
        }
      ]
    },
    {
      "cell_type": "code",
      "metadata": {
        "colab": {
          "base_uri": "https://localhost:8080/"
        },
        "id": "5zldgs7FWhr7",
        "outputId": "ba6fbe1d-b796-4611-efeb-3579db0587df"
      },
      "source": [
        "# Take the TensorSliceDataset's and turn them into prefected dataset\n",
        "\n",
        "\n",
        "# autotune, prapara tantos eejmpls como pueda\n",
        "train_dataset = train_dataset.batch(32).prefetch(tf.data.AUTOTUNE)\n",
        "\n",
        "valid_dataset = valid_dataset.batch(32).prefetch(tf.data.AUTOTUNE)\n",
        "\n",
        "test_dataset = test_dataset.batch(32).prefetch(tf.data.AUTOTUNE)\n",
        "\n",
        "train_dataset\n"
      ],
      "execution_count": 70,
      "outputs": [
        {
          "output_type": "execute_result",
          "data": {
            "text/plain": [
              "<PrefetchDataset shapes: ((None,), (None, 5)), types: (tf.string, tf.float64)>"
            ]
          },
          "metadata": {
            "tags": []
          },
          "execution_count": 70
        }
      ]
    },
    {
      "cell_type": "markdown",
      "metadata": {
        "id": "yGfY_-mMYae8"
      },
      "source": [
        "## Model 1: Conv1D with token embeddings"
      ]
    },
    {
      "cell_type": "code",
      "metadata": {
        "colab": {
          "base_uri": "https://localhost:8080/"
        },
        "id": "MfPWZiZDbPJN",
        "outputId": "9684400c-c506-4b62-a027-76125038b55c"
      },
      "source": [
        "num_classes"
      ],
      "execution_count": 71,
      "outputs": [
        {
          "output_type": "execute_result",
          "data": {
            "text/plain": [
              "5"
            ]
          },
          "metadata": {
            "tags": []
          },
          "execution_count": 71
        }
      ]
    },
    {
      "cell_type": "code",
      "metadata": {
        "id": "cC38mgmIZRWJ"
      },
      "source": [
        "# Create 1D conv model to process sequences\n",
        "\n",
        "# (1,) una secuencia por  vez\n",
        "\n",
        "inputs= layers.Input(shape=(1,), dtype=tf.string)\n",
        "\n",
        "text_vectors = text_vectorizer(inputs) # vectorize text input to integers\n",
        "\n",
        "\n",
        "token_embeddings = token_embed(text_vectors) # create embedding\n",
        "# kernel_size = tomara 5 palabras/token por vez\n",
        "x = layers.Conv1D(64, kernel_size=5, padding=\"same\", activation=\"relu\")(token_embeddings)\n",
        "\n",
        "\n",
        "x = layers.GlobalAveragePooling1D()(x) # condense the output of our feature vector from conv layer\n",
        "\n",
        "\n",
        "outputs = layers.Dense(num_classes, activation=\"softmax\")(x)\n",
        "\n",
        "model_1 = tf.keras.Model(inputs, outputs)\n",
        "\n",
        "# Compile \n",
        "\n",
        "model_1.compile(loss=\"categorical_crossentropy\",\n",
        "                optimizer=tf.keras.optimizers.Adam(),\n",
        "                metrics=[\"accuracy\"])\n"
      ],
      "execution_count": 72,
      "outputs": []
    },
    {
      "cell_type": "code",
      "metadata": {
        "colab": {
          "base_uri": "https://localhost:8080/"
        },
        "id": "Go9_qXSzb8Q1",
        "outputId": "46795587-ab1a-4b31-9ccc-eb8dfd6da2b9"
      },
      "source": [
        "model_1.summary()"
      ],
      "execution_count": 73,
      "outputs": [
        {
          "output_type": "stream",
          "text": [
            "Model: \"model\"\n",
            "_________________________________________________________________\n",
            "Layer (type)                 Output Shape              Param #   \n",
            "=================================================================\n",
            "input_1 (InputLayer)         [(None, 1)]               0         \n",
            "_________________________________________________________________\n",
            "text_vectorization (TextVect (None, 55)                0         \n",
            "_________________________________________________________________\n",
            "token_embedding (Embedding)  (None, 55, 128)           8299648   \n",
            "_________________________________________________________________\n",
            "conv1d (Conv1D)              (None, 55, 64)            41024     \n",
            "_________________________________________________________________\n",
            "global_average_pooling1d (Gl (None, 64)                0         \n",
            "_________________________________________________________________\n",
            "dense (Dense)                (None, 5)                 325       \n",
            "=================================================================\n",
            "Total params: 8,340,997\n",
            "Trainable params: 8,340,997\n",
            "Non-trainable params: 0\n",
            "_________________________________________________________________\n"
          ],
          "name": "stdout"
        }
      ]
    },
    {
      "cell_type": "code",
      "metadata": {
        "colab": {
          "base_uri": "https://localhost:8080/"
        },
        "id": "-U6XXrQHcp7K",
        "outputId": "c57df19f-85c7-4f33-e781-a655eac6fe9f"
      },
      "source": [
        "# es una tupla\n",
        "# no necesitamos pasarle sentences y label por serparado\n",
        "train_dataset"
      ],
      "execution_count": 74,
      "outputs": [
        {
          "output_type": "execute_result",
          "data": {
            "text/plain": [
              "<PrefetchDataset shapes: ((None,), (None, 5)), types: (tf.string, tf.float64)>"
            ]
          },
          "metadata": {
            "tags": []
          },
          "execution_count": 74
        }
      ]
    },
    {
      "cell_type": "code",
      "metadata": {
        "colab": {
          "base_uri": "https://localhost:8080/"
        },
        "id": "4g-CeEbxdIvA",
        "outputId": "8fd1ba6d-2016-4cc9-ab60-61fb1a53727e"
      },
      "source": [
        "# cantidad de batches\n",
        "len(train_dataset)"
      ],
      "execution_count": 75,
      "outputs": [
        {
          "output_type": "execute_result",
          "data": {
            "text/plain": [
              "5627"
            ]
          },
          "metadata": {
            "tags": []
          },
          "execution_count": 75
        }
      ]
    },
    {
      "cell_type": "code",
      "metadata": {
        "colab": {
          "base_uri": "https://localhost:8080/"
        },
        "id": "rFNPazdxdPTl",
        "outputId": "cf4272e8-6b48-4c8d-f281-75d04955ce97"
      },
      "source": [
        "# cantidad de ejemplos que recibira el model\n",
        "\n",
        "5627*32"
      ],
      "execution_count": 76,
      "outputs": [
        {
          "output_type": "execute_result",
          "data": {
            "text/plain": [
              "180064"
            ]
          },
          "metadata": {
            "tags": []
          },
          "execution_count": 76
        }
      ]
    },
    {
      "cell_type": "code",
      "metadata": {
        "colab": {
          "base_uri": "https://localhost:8080/"
        },
        "id": "c9kze8nacMTB",
        "outputId": "64aa3d76-bd9a-429d-a07f-5f25812d333f"
      },
      "source": [
        "# Fit the model\n",
        "\n",
        "history_model_1 = model_1.fit(train_dataset,\n",
        "                            # para rducir el tiempo de calculo de los experimentos\n",
        "                            steps_per_epoch=int(0.1*len(train_dataset)),\n",
        "                            \n",
        "                            epochs=3,\n",
        "                            validation_data=valid_dataset,\n",
        "                            validation_steps=int(0.1*len(valid_dataset))) # only validate on 10% of batches\n",
        "\n",
        "\n"
      ],
      "execution_count": 77,
      "outputs": [
        {
          "output_type": "stream",
          "text": [
            "Epoch 1/3\n",
            "562/562 [==============================] - 79s 82ms/step - loss: 1.1715 - accuracy: 0.5127 - val_loss: 0.6780 - val_accuracy: 0.7384\n",
            "Epoch 2/3\n",
            "562/562 [==============================] - 46s 82ms/step - loss: 0.6729 - accuracy: 0.7496 - val_loss: 0.6246 - val_accuracy: 0.7716\n",
            "Epoch 3/3\n",
            "562/562 [==============================] - 46s 81ms/step - loss: 0.6196 - accuracy: 0.7712 - val_loss: 0.5975 - val_accuracy: 0.7816\n"
          ],
          "name": "stdout"
        }
      ]
    },
    {
      "cell_type": "code",
      "metadata": {
        "colab": {
          "base_uri": "https://localhost:8080/"
        },
        "id": "Ex68htrpeW0g",
        "outputId": "7770435b-6816-49ed-bf10-7e400341bd77"
      },
      "source": [
        "# Evaluate on whole validation dataset\n",
        "\n",
        "model_1.evaluate(valid_dataset)\n"
      ],
      "execution_count": 78,
      "outputs": [
        {
          "output_type": "stream",
          "text": [
            "945/945 [==============================] - 3s 3ms/step - loss: 0.5997 - accuracy: 0.7850\n"
          ],
          "name": "stdout"
        },
        {
          "output_type": "execute_result",
          "data": {
            "text/plain": [
              "[0.5997344851493835, 0.7849860787391663]"
            ]
          },
          "metadata": {
            "tags": []
          },
          "execution_count": 78
        }
      ]
    },
    {
      "cell_type": "code",
      "metadata": {
        "colab": {
          "base_uri": "https://localhost:8080/"
        },
        "id": "KMKNy3NygOA3",
        "outputId": "e7c81e37-70b7-448f-97c7-1ec90c5063ef"
      },
      "source": [
        "# Make predictions (our model  predicts predictions probabilities for each class)\n",
        "\n",
        "model_1_pred_probs = model_1.predict(valid_dataset)\n",
        "model_1_pred_probs, model_1_pred_probs.shape"
      ],
      "execution_count": 79,
      "outputs": [
        {
          "output_type": "execute_result",
          "data": {
            "text/plain": [
              "(array([[4.5028991e-01, 1.7645369e-01, 9.9118277e-02, 2.4542415e-01,\n",
              "         2.8713934e-02],\n",
              "        [4.0587416e-01, 3.5549310e-01, 1.7320881e-02, 2.1162149e-01,\n",
              "         9.6903797e-03],\n",
              "        [1.4640459e-01, 5.4931585e-03, 1.4206481e-03, 8.4665698e-01,\n",
              "         2.4585323e-05],\n",
              "        ...,\n",
              "        [5.1901529e-06, 6.3171901e-04, 6.6146906e-04, 2.0939715e-06,\n",
              "         9.9869955e-01],\n",
              "        [4.5865338e-02, 4.1470829e-01, 1.0456486e-01, 5.2049644e-02,\n",
              "         3.8281187e-01],\n",
              "        [1.7456914e-01, 6.6931516e-01, 3.1371351e-02, 5.1077817e-02,\n",
              "         7.3666550e-02]], dtype=float32), (30212, 5))"
            ]
          },
          "metadata": {
            "tags": []
          },
          "execution_count": 79
        }
      ]
    },
    {
      "cell_type": "code",
      "metadata": {
        "colab": {
          "base_uri": "https://localhost:8080/"
        },
        "id": "okjiirmDgjIq",
        "outputId": "8678a400-c330-4549-ba21-ae5d8a43c975"
      },
      "source": [
        "# Convert pred probs to classes\n",
        "\n",
        "model_1_preds = tf.argmax(model_1_pred_probs, axis=1)\n",
        "\n",
        "model_1_preds"
      ],
      "execution_count": 80,
      "outputs": [
        {
          "output_type": "execute_result",
          "data": {
            "text/plain": [
              "<tf.Tensor: shape=(30212,), dtype=int64, numpy=array([0, 0, 3, ..., 4, 1, 1])>"
            ]
          },
          "metadata": {
            "tags": []
          },
          "execution_count": 80
        }
      ]
    },
    {
      "cell_type": "code",
      "metadata": {
        "colab": {
          "base_uri": "https://localhost:8080/"
        },
        "id": "ctLBAH4HhP4v",
        "outputId": "312c6d77-48d3-42a6-f671-a13be63f21ad"
      },
      "source": [
        "class_names "
      ],
      "execution_count": 81,
      "outputs": [
        {
          "output_type": "execute_result",
          "data": {
            "text/plain": [
              "array(['BACKGROUND', 'CONCLUSIONS', 'METHODS', 'OBJECTIVE', 'RESULTS'],\n",
              "      dtype=object)"
            ]
          },
          "metadata": {
            "tags": []
          },
          "execution_count": 81
        }
      ]
    },
    {
      "cell_type": "code",
      "metadata": {
        "colab": {
          "base_uri": "https://localhost:8080/"
        },
        "id": "l6OhXiCWh9uN",
        "outputId": "7cfcd385-8222-43c5-edfb-0815dca56dfd"
      },
      "source": [
        "val_labels_encoded"
      ],
      "execution_count": 82,
      "outputs": [
        {
          "output_type": "execute_result",
          "data": {
            "text/plain": [
              "array([0, 0, 3, ..., 4, 1, 1])"
            ]
          },
          "metadata": {
            "tags": []
          },
          "execution_count": 82
        }
      ]
    },
    {
      "cell_type": "code",
      "metadata": {
        "colab": {
          "base_uri": "https://localhost:8080/"
        },
        "id": "eolTwi3ahSa3",
        "outputId": "50816184-026b-495f-fe29-e327435d873b"
      },
      "source": [
        "# Calculate model_1 results\n",
        "\n",
        "model_1_results = calculate_results(y_true=val_labels_encoded,\n",
        "                                    y_pred=model_1_preds)\n",
        "\n",
        "model_1_results"
      ],
      "execution_count": 83,
      "outputs": [
        {
          "output_type": "execute_result",
          "data": {
            "text/plain": [
              "{'accuracy': 78.49860982391102,\n",
              " 'f1': 0.7821969091795758,\n",
              " 'precision': 0.7814319919446246,\n",
              " 'recall': 0.7849860982391103}"
            ]
          },
          "metadata": {
            "tags": []
          },
          "execution_count": 83
        }
      ]
    },
    {
      "cell_type": "code",
      "metadata": {
        "colab": {
          "base_uri": "https://localhost:8080/"
        },
        "id": "0YrSeTMyivAQ",
        "outputId": "e037c1fa-cf54-4d70-fde6-09eaa18201a8"
      },
      "source": [
        "baseline_results"
      ],
      "execution_count": 84,
      "outputs": [
        {
          "output_type": "execute_result",
          "data": {
            "text/plain": [
              "{'accuracy': 72.1832384482987,\n",
              " 'f1': 0.6989250353450294,\n",
              " 'precision': 0.7186466952323352,\n",
              " 'recall': 0.7218323844829869}"
            ]
          },
          "metadata": {
            "tags": []
          },
          "execution_count": 84
        }
      ]
    },
    {
      "cell_type": "markdown",
      "metadata": {
        "id": "zx7mUB2klZKZ"
      },
      "source": [
        "## Model 2: Feature extraction with pretrained token embeddings\n",
        "\n",
        "Now let's use pretrained word embeddings from TensorFlow Hub, more specifically the universal sentences enconder: https://tfhub.dev/google/universal-sentence-encoder/4\n",
        "\n",
        "\n",
        "The paper originally used Glove embedding, However, we're going to  stick with later created USE pretrained\n",
        "embeddings>\n",
        "\n"
      ]
    },
    {
      "cell_type": "code",
      "metadata": {
        "id": "-SnwKvxLmFfv"
      },
      "source": [
        "# Dowload pretrained TensorFlow hub use\n",
        "\n",
        "import tensorflow_hub as hub\n",
        "\n",
        "tf_hub_embedding_layer= hub.KerasLayer(\"https://tfhub.dev/google/universal-sentence-encoder/4\",\n",
        "                                       trainable=False,\n",
        "                                       name=\"universal_sentence_encoder\")\n",
        "\n",
        "\n"
      ],
      "execution_count": 85,
      "outputs": []
    },
    {
      "cell_type": "code",
      "metadata": {
        "colab": {
          "base_uri": "https://localhost:8080/"
        },
        "id": "X4o8CKdyo-83",
        "outputId": "d44204f4-7eae-4a1d-d7c2-df65a6a741b0"
      },
      "source": [
        "# Test out the pretrained embedding on a random sentence\n",
        "\n",
        "\n",
        "random_train_sentence= random.choice(train_sentences)\n",
        "\n",
        "print(f\"Random sentence:\\n {random_train_sentence}\")\n",
        "# podemos pasarle una sentencia directamente a este modelo, el mismo la procesa\n",
        "use_embedded_sentence = tf_hub_embedding_layer([random_train_sentence])\n",
        "\n",
        "\n",
        "\n",
        "print(f\"Sentence after embedding:\\n{use_embedded_sentence[0][:30]}\\n\")\n",
        "\n",
        "print(f\"Length of sentence embedding:{len(use_embedded_sentence[0])}\")\n",
        "\n",
        "\n",
        "# el modelo representa cada secuencia como un vector de caracteristicas de 512 columnas\n"
      ],
      "execution_count": 86,
      "outputs": [
        {
          "output_type": "stream",
          "text": [
            "Random sentence:\n",
            " while energy devices are ubiquitous in the operating room , they remain poorly understood and can result in significant complications .\n",
            "Sentence after embedding:\n",
            "[-0.03456404  0.0705503  -0.04755889 -0.01610506  0.08615706 -0.05303672\n",
            "  0.00643455 -0.06730566 -0.08874746  0.02829785  0.0586275  -0.05766686\n",
            " -0.07959186  0.02520714 -0.07489675 -0.06880604 -0.01667619  0.0499994\n",
            "  0.0065307   0.03707492  0.03028505  0.09163246  0.03602714 -0.00280077\n",
            " -0.06468999  0.0493902   0.00358478 -0.04037474 -0.02454089 -0.01619131]\n",
            "\n",
            "Length of sentence embedding:512\n"
          ],
          "name": "stdout"
        }
      ]
    },
    {
      "cell_type": "markdown",
      "metadata": {
        "id": "ylUoV72SqPUB"
      },
      "source": [
        "## Bulding and fitting an NLP feature extraction model use pretrained embeddings from TensorFlow Hub\n",
        "\n"
      ]
    },
    {
      "cell_type": "code",
      "metadata": {
        "id": "q8GFmrDWre8R"
      },
      "source": [
        "# Define feature extraction model using TF Hub layer\n",
        "\n",
        "inputs = layers.Input(shape=[], dtype=tf.string)\n",
        "\n",
        "pretrained_embedding = tf_hub_embedding_layer(inputs) # Tokenize text and create embedding of each sequence(512 long vector)\n",
        "x = layers.Dense(128, activation=\"relu\" )(pretrained_embedding)\n",
        "\n",
        "# Note: you could add more layers here if you wanted to\n",
        "\n",
        "outputs = layers.Dense(num_classes, activation=\"softmax\" )(x) # Create the output layer\n",
        "\n",
        "model_2 = tf.keras.Model(inputs=inputs, outputs=outputs,\n",
        "                         name=\"model_2_USE_feature_extractor\")\n",
        "\n",
        "# Compile the model\n",
        "\n",
        "\n",
        "model_2.compile(loss=\"categorical_crossentropy\",\n",
        "                optimizer= tf.keras.optimizers.Adam(),\n",
        "                metrics=[\"accuracy\"])\n"
      ],
      "execution_count": 87,
      "outputs": []
    },
    {
      "cell_type": "code",
      "metadata": {
        "colab": {
          "base_uri": "https://localhost:8080/"
        },
        "id": "Udha6Y6Wtn_B",
        "outputId": "45dc3fae-d660-491f-bb86-89894f8e1bbb"
      },
      "source": [
        "model_2.summary()"
      ],
      "execution_count": 88,
      "outputs": [
        {
          "output_type": "stream",
          "text": [
            "Model: \"model_2_USE_feature_extractor\"\n",
            "_________________________________________________________________\n",
            "Layer (type)                 Output Shape              Param #   \n",
            "=================================================================\n",
            "input_2 (InputLayer)         [(None,)]                 0         \n",
            "_________________________________________________________________\n",
            "universal_sentence_encoder ( (None, 512)               256797824 \n",
            "_________________________________________________________________\n",
            "dense_1 (Dense)              (None, 128)               65664     \n",
            "_________________________________________________________________\n",
            "dense_2 (Dense)              (None, 5)                 645       \n",
            "=================================================================\n",
            "Total params: 256,864,133\n",
            "Trainable params: 66,309\n",
            "Non-trainable params: 256,797,824\n",
            "_________________________________________________________________\n"
          ],
          "name": "stdout"
        }
      ]
    },
    {
      "cell_type": "code",
      "metadata": {
        "colab": {
          "base_uri": "https://localhost:8080/"
        },
        "id": "Q6wtcH-Ptqhb",
        "outputId": "14769b91-f5f7-4363-d183-43bb3c1b9723"
      },
      "source": [
        "\n",
        "# Fit  model_2 to the data\n",
        "\n",
        "history_model_2 = model_2.fit(train_dataset,\n",
        "                              epochs=3,\n",
        "                              steps_per_epoch=int(0.1 * len(train_dataset)),\n",
        "                              validation_data=valid_dataset,\n",
        "                              validation_steps=int(0.2 * len(valid_dataset)))\n"
      ],
      "execution_count": 89,
      "outputs": [
        {
          "output_type": "stream",
          "text": [
            "Epoch 1/3\n",
            "562/562 [==============================] - 9s 13ms/step - loss: 1.0982 - accuracy: 0.5842 - val_loss: 0.8000 - val_accuracy: 0.6878\n",
            "Epoch 2/3\n",
            "562/562 [==============================] - 7s 12ms/step - loss: 0.7723 - accuracy: 0.7014 - val_loss: 0.7587 - val_accuracy: 0.7054\n",
            "Epoch 3/3\n",
            "562/562 [==============================] - 7s 12ms/step - loss: 0.7573 - accuracy: 0.7137 - val_loss: 0.7425 - val_accuracy: 0.7133\n"
          ],
          "name": "stdout"
        }
      ]
    },
    {
      "cell_type": "code",
      "metadata": {
        "colab": {
          "base_uri": "https://localhost:8080/"
        },
        "id": "7nXFMw_0uheS",
        "outputId": "f03c9e26-425d-447b-f66d-c2d81929fd0b"
      },
      "source": [
        "# Evaluate on the whole validation dataset\n",
        "\n",
        "model_2.evaluate(valid_dataset)"
      ],
      "execution_count": 90,
      "outputs": [
        {
          "output_type": "stream",
          "text": [
            "945/945 [==============================] - 9s 9ms/step - loss: 0.7443 - accuracy: 0.7130\n"
          ],
          "name": "stdout"
        },
        {
          "output_type": "execute_result",
          "data": {
            "text/plain": [
              "[0.7443280220031738, 0.712961733341217]"
            ]
          },
          "metadata": {
            "tags": []
          },
          "execution_count": 90
        }
      ]
    },
    {
      "cell_type": "code",
      "metadata": {
        "colab": {
          "base_uri": "https://localhost:8080/"
        },
        "id": "DhXo905Fu5y1",
        "outputId": "6ab7f03b-4ede-4383-8624-280091d490d7"
      },
      "source": [
        "# Make predictiions with feature extraction model\n",
        "\n",
        "\n",
        "model_2_pred_probs =  model_2.predict(valid_dataset)\n",
        "model_2_pred_probs"
      ],
      "execution_count": 91,
      "outputs": [
        {
          "output_type": "execute_result",
          "data": {
            "text/plain": [
              "array([[0.43350536, 0.36913788, 0.00215294, 0.1884351 , 0.00676873],\n",
              "       [0.33482   , 0.510683  , 0.00350794, 0.14821497, 0.00277401],\n",
              "       [0.22916155, 0.1563223 , 0.01863187, 0.55913985, 0.03674444],\n",
              "       ...,\n",
              "       [0.00226744, 0.00577688, 0.05852452, 0.00100398, 0.93242717],\n",
              "       [0.0047612 , 0.04510201, 0.1980326 , 0.00182605, 0.7502782 ],\n",
              "       [0.22279412, 0.2851567 , 0.41298294, 0.00847241, 0.07059381]],\n",
              "      dtype=float32)"
            ]
          },
          "metadata": {
            "tags": []
          },
          "execution_count": 91
        }
      ]
    },
    {
      "cell_type": "code",
      "metadata": {
        "colab": {
          "base_uri": "https://localhost:8080/"
        },
        "id": "O0phQHWtvJ2p",
        "outputId": "ca80cfd4-722e-4613-cfa3-dede9886b701"
      },
      "source": [
        "# Convert the prediction probabilities with feature extraction model\n",
        "\n",
        "# argmax me devuelve el indice con el valor mas alto\n",
        "model_2_preds = tf.argmax(model_2_pred_probs, axis=1)\n",
        "model_2_preds"
      ],
      "execution_count": 92,
      "outputs": [
        {
          "output_type": "execute_result",
          "data": {
            "text/plain": [
              "<tf.Tensor: shape=(30212,), dtype=int64, numpy=array([0, 1, 3, ..., 4, 4, 2])>"
            ]
          },
          "metadata": {
            "tags": []
          },
          "execution_count": 92
        }
      ]
    },
    {
      "cell_type": "code",
      "metadata": {
        "colab": {
          "base_uri": "https://localhost:8080/"
        },
        "id": "2IewWXmqvuyC",
        "outputId": "f14d5536-a46a-4b05-affd-417552bbe327"
      },
      "source": [
        "# Calculate results from TF HUb pretrained embeddings results on val set\n",
        "\n",
        "\n",
        "model_2_results = calculate_results(y_true=val_labels_encoded,\n",
        "                                   y_pred=model_2_preds)\n",
        "\n",
        "model_2_results"
      ],
      "execution_count": 93,
      "outputs": [
        {
          "output_type": "execute_result",
          "data": {
            "text/plain": [
              "{'accuracy': 71.29617370581227,\n",
              " 'f1': 0.7099459627086563,\n",
              " 'precision': 0.7128195024138995,\n",
              " 'recall': 0.7129617370581226}"
            ]
          },
          "metadata": {
            "tags": []
          },
          "execution_count": 93
        }
      ]
    },
    {
      "cell_type": "code",
      "metadata": {
        "colab": {
          "base_uri": "https://localhost:8080/"
        },
        "id": "dLWfl0SfwFi5",
        "outputId": "95ef283f-d56e-4608-ac32-f4293dfb682b"
      },
      "source": [
        "baseline_results"
      ],
      "execution_count": 94,
      "outputs": [
        {
          "output_type": "execute_result",
          "data": {
            "text/plain": [
              "{'accuracy': 72.1832384482987,\n",
              " 'f1': 0.6989250353450294,\n",
              " 'precision': 0.7186466952323352,\n",
              " 'recall': 0.7218323844829869}"
            ]
          },
          "metadata": {
            "tags": []
          },
          "execution_count": 94
        }
      ]
    },
    {
      "cell_type": "markdown",
      "metadata": {
        "id": "GxIC-k1WwOJP"
      },
      "source": [
        "## Model 3: Conv1D with character embdings\n",
        "\n",
        "the paper which we're replicating states they used a combination of token and character-level embedding\n",
        "\n",
        "\n",
        "Previously we've token-level embeddings but we'll need to do similar steps for characters if we want to use char-level embeddings\n",
        "\n"
      ]
    },
    {
      "cell_type": "markdown",
      "metadata": {
        "id": "4wLf9wV4yabU"
      },
      "source": [
        "### Creating a character lever tokenizer"
      ]
    },
    {
      "cell_type": "code",
      "metadata": {
        "colab": {
          "base_uri": "https://localhost:8080/"
        },
        "id": "4z1OTgRyysE3",
        "outputId": "76a2be65-40c1-4b64-d388-76fd31f8abec"
      },
      "source": [
        "train_sentences[:5]"
      ],
      "execution_count": 95,
      "outputs": [
        {
          "output_type": "execute_result",
          "data": {
            "text/plain": [
              "['to investigate the efficacy of @ weeks of daily low-dose oral prednisolone in improving pain , mobility , and systemic low-grade inflammation in the short term and whether the effect would be sustained at @ weeks in older adults with moderate to severe knee osteoarthritis ( oa ) .',\n",
              " 'a total of @ patients with primary knee oa were randomized @:@ ; @ received @ mg/day of prednisolone and @ received placebo for @ weeks .',\n",
              " 'outcome measures included pain reduction and improvement in function scores and systemic inflammation markers .',\n",
              " 'pain was assessed using the visual analog pain scale ( @-@ mm ) .',\n",
              " 'secondary outcome measures included the western ontario and mcmaster universities osteoarthritis index scores , patient global assessment ( pga ) of the severity of knee oa , and @-min walk distance ( @mwd ) .']"
            ]
          },
          "metadata": {
            "tags": []
          },
          "execution_count": 95
        }
      ]
    },
    {
      "cell_type": "code",
      "metadata": {
        "colab": {
          "base_uri": "https://localhost:8080/",
          "height": 167
        },
        "id": "mQIzYtxHzKol",
        "outputId": "12fe8b95-200f-45e7-dfba-6e83cb6c6be2"
      },
      "source": [
        "\" \".join(list(train_sentences[0]))"
      ],
      "execution_count": 96,
      "outputs": [
        {
          "output_type": "execute_result",
          "data": {
            "application/vnd.google.colaboratory.intrinsic+json": {
              "type": "string"
            },
            "text/plain": [
              "'t o   i n v e s t i g a t e   t h e   e f f i c a c y   o f   @   w e e k s   o f   d a i l y   l o w - d o s e   o r a l   p r e d n i s o l o n e   i n   i m p r o v i n g   p a i n   ,   m o b i l i t y   ,   a n d   s y s t e m i c   l o w - g r a d e   i n f l a m m a t i o n   i n   t h e   s h o r t   t e r m   a n d   w h e t h e r   t h e   e f f e c t   w o u l d   b e   s u s t a i n e d   a t   @   w e e k s   i n   o l d e r   a d u l t s   w i t h   m o d e r a t e   t o   s e v e r e   k n e e   o s t e o a r t h r i t i s   (   o a   )   .'"
            ]
          },
          "metadata": {
            "tags": []
          },
          "execution_count": 96
        }
      ]
    },
    {
      "cell_type": "code",
      "metadata": {
        "colab": {
          "base_uri": "https://localhost:8080/",
          "height": 92
        },
        "id": "pBQPwoWMyt3Y",
        "outputId": "bf1a140a-0a65-46eb-a21b-200ce44e2357"
      },
      "source": [
        "# Make function to split sentences into characters\n",
        "\n",
        "def split_chars(text):\n",
        "  return \" \".join(list(text))\n",
        "\n",
        "# Text splitting non-charecter-level sequence into characters\n",
        "\n",
        "split_chars(random_train_sentence)"
      ],
      "execution_count": 97,
      "outputs": [
        {
          "output_type": "execute_result",
          "data": {
            "application/vnd.google.colaboratory.intrinsic+json": {
              "type": "string"
            },
            "text/plain": [
              "'w h i l e   e n e r g y   d e v i c e s   a r e   u b i q u i t o u s   i n   t h e   o p e r a t i n g   r o o m   ,   t h e y   r e m a i n   p o o r l y   u n d e r s t o o d   a n d   c a n   r e s u l t   i n   s i g n i f i c a n t   c o m p l i c a t i o n s   .'"
            ]
          },
          "metadata": {
            "tags": []
          },
          "execution_count": 97
        }
      ]
    },
    {
      "cell_type": "code",
      "metadata": {
        "colab": {
          "base_uri": "https://localhost:8080/"
        },
        "id": "LjXMv40nz9iO",
        "outputId": "e66df0b7-d8b1-4c29-d8ad-fddf7226ad89"
      },
      "source": [
        "# Split sequence-level data splits into character-level data splits\n",
        "\n",
        "\n",
        "# lo hacemos con comprension de listas\n",
        "train_chars = [split_chars(sentence) for sentence in train_sentences]\n",
        "\n",
        "val_chars =[split_chars(sentence) for sentence in val_sentences]\n",
        "\n",
        "test_chars = [split_chars(sentence) for sentence in test_sentences]\n",
        "train_chars[:5]"
      ],
      "execution_count": 98,
      "outputs": [
        {
          "output_type": "execute_result",
          "data": {
            "text/plain": [
              "['t o   i n v e s t i g a t e   t h e   e f f i c a c y   o f   @   w e e k s   o f   d a i l y   l o w - d o s e   o r a l   p r e d n i s o l o n e   i n   i m p r o v i n g   p a i n   ,   m o b i l i t y   ,   a n d   s y s t e m i c   l o w - g r a d e   i n f l a m m a t i o n   i n   t h e   s h o r t   t e r m   a n d   w h e t h e r   t h e   e f f e c t   w o u l d   b e   s u s t a i n e d   a t   @   w e e k s   i n   o l d e r   a d u l t s   w i t h   m o d e r a t e   t o   s e v e r e   k n e e   o s t e o a r t h r i t i s   (   o a   )   .',\n",
              " 'a   t o t a l   o f   @   p a t i e n t s   w i t h   p r i m a r y   k n e e   o a   w e r e   r a n d o m i z e d   @ : @   ;   @   r e c e i v e d   @   m g / d a y   o f   p r e d n i s o l o n e   a n d   @   r e c e i v e d   p l a c e b o   f o r   @   w e e k s   .',\n",
              " 'o u t c o m e   m e a s u r e s   i n c l u d e d   p a i n   r e d u c t i o n   a n d   i m p r o v e m e n t   i n   f u n c t i o n   s c o r e s   a n d   s y s t e m i c   i n f l a m m a t i o n   m a r k e r s   .',\n",
              " 'p a i n   w a s   a s s e s s e d   u s i n g   t h e   v i s u a l   a n a l o g   p a i n   s c a l e   (   @ - @   m m   )   .',\n",
              " 's e c o n d a r y   o u t c o m e   m e a s u r e s   i n c l u d e d   t h e   w e s t e r n   o n t a r i o   a n d   m c m a s t e r   u n i v e r s i t i e s   o s t e o a r t h r i t i s   i n d e x   s c o r e s   ,   p a t i e n t   g l o b a l   a s s e s s m e n t   (   p g a   )   o f   t h e   s e v e r i t y   o f   k n e e   o a   ,   a n d   @ - m i n   w a l k   d i s t a n c e   (   @ m w d   )   .']"
            ]
          },
          "metadata": {
            "tags": []
          },
          "execution_count": 98
        }
      ]
    },
    {
      "cell_type": "code",
      "metadata": {
        "colab": {
          "base_uri": "https://localhost:8080/"
        },
        "id": "Zjnmvpob0XUK",
        "outputId": "56d185f9-c81a-47f5-a200-d76949f8949e"
      },
      "source": [
        "# What's the average character length?\n",
        "\n",
        "chars_lens = [len(sentence) for sentence in train_sentences]\n",
        "\n",
        "mean_char_len = np.mean(chars_lens)\n",
        "\n",
        "mean_char_len\n"
      ],
      "execution_count": 99,
      "outputs": [
        {
          "output_type": "execute_result",
          "data": {
            "text/plain": [
              "149.3662574983337"
            ]
          },
          "metadata": {
            "tags": []
          },
          "execution_count": 99
        }
      ]
    },
    {
      "cell_type": "code",
      "metadata": {
        "colab": {
          "base_uri": "https://localhost:8080/",
          "height": 265
        },
        "id": "HAsRK6oc1nc7",
        "outputId": "62f2cbd0-39ea-4bac-f346-eeeb8c15e490"
      },
      "source": [
        "# check the distribution of our sequences at a character-level\n",
        "\n",
        "import matplotlib.pyplot as plt\n",
        "\n",
        "plt.hist(chars_lens, bins= 7);"
      ],
      "execution_count": 100,
      "outputs": [
        {
          "output_type": "display_data",
          "data": {
            "image/png": "[encoded data removed]",
            "text/plain": [
              "<Figure size 432x288 with 1 Axes>"
            ]
          },
          "metadata": {
            "tags": [],
            "needs_background": "light"
          }
        }
      ]
    },
    {
      "cell_type": "code",
      "metadata": {
        "colab": {
          "base_uri": "https://localhost:8080/"
        },
        "id": "zPyUc3mj2YfY",
        "outputId": "41a4dd53-b47c-4e8b-d554-4328970dc363"
      },
      "source": [
        "\n",
        "# Find what character length covers 95% of sequences\n",
        "\n",
        "output_seq_char_len = int(np.percentile(chars_lens, 95))\n",
        "output_seq_char_len"
      ],
      "execution_count": 101,
      "outputs": [
        {
          "output_type": "execute_result",
          "data": {
            "text/plain": [
              "290"
            ]
          },
          "metadata": {
            "tags": []
          },
          "execution_count": 101
        }
      ]
    },
    {
      "cell_type": "code",
      "metadata": {
        "colab": {
          "base_uri": "https://localhost:8080/",
          "height": 111
        },
        "id": "EC1Z7rJS3FuQ",
        "outputId": "89d88e02-4b1c-4b65-93da-20669fb16e12"
      },
      "source": [
        "# Get all keyboard characters \n",
        "\n",
        "random.choice(train_sentences)\n",
        "\n",
        "# tenemos varios simbolos ademas del alfato"
      ],
      "execution_count": 102,
      "outputs": [
        {
          "output_type": "execute_result",
          "data": {
            "application/vnd.google.colaboratory.intrinsic+json": {
              "type": "string"
            },
            "text/plain": [
              "'strikingly , lttep had significantly less intravenous fluid than non-ltte patients ( @ l vs. @ l , p < @ ) , less time from tb to operating room ( @ minutes vs. @ min , p = @ ) , higher rate of intensive care unit admission ( @ % vs. @ % , p = @ ) , and a lower mortality rate ( @ % vs. @ % , p = @ ) .'"
            ]
          },
          "metadata": {
            "tags": []
          },
          "execution_count": 102
        }
      ]
    },
    {
      "cell_type": "code",
      "metadata": {
        "colab": {
          "base_uri": "https://localhost:8080/",
          "height": 36
        },
        "id": "0wheSju33q3G",
        "outputId": "7b803ee5-f87a-4b11-83cb-e059b84a387d"
      },
      "source": [
        "import string\n",
        "\n",
        "alphabet = string.ascii_lowercase + string.digits + string.punctuation\n",
        "\n",
        "alphabet\n"
      ],
      "execution_count": 103,
      "outputs": [
        {
          "output_type": "execute_result",
          "data": {
            "application/vnd.google.colaboratory.intrinsic+json": {
              "type": "string"
            },
            "text/plain": [
              "'abcdefghijklmnopqrstuvwxyz0123456789!\"#$%&\\'()*+,-./:;<=>?@[\\\\]^_`{|}~'"
            ]
          },
          "metadata": {
            "tags": []
          },
          "execution_count": 103
        }
      ]
    },
    {
      "cell_type": "code",
      "metadata": {
        "id": "NSsJXqmn4URu"
      },
      "source": [
        "# Create char-level token vectorizer instance\n",
        "\n",
        "\n",
        "NUM_CHAR_TOKENS = len(alphabet) + 2 # add for space and 00V token (OOV=out of vocab, '[UNK]')\n",
        "\n",
        "char_vectorizer = TextVectorization(max_tokens=NUM_CHAR_TOKENS,\n",
        "                                    output_sequence_length=output_seq_char_len,\n",
        "                                    standardize=\"lower_and_strip_punctuation\",# set standardization to \"None\" if you want to leave punctuation in\n",
        "                                    name=\"char_vectorizer\") # cantidad maxima de representacion por token"
      ],
      "execution_count": 104,
      "outputs": []
    },
    {
      "cell_type": "code",
      "metadata": {
        "id": "az38FDm_53D5"
      },
      "source": [
        "# Adapt character vectorizer to training character\n",
        "\n",
        "char_vectorizer.adapt(train_chars)"
      ],
      "execution_count": 105,
      "outputs": []
    },
    {
      "cell_type": "code",
      "metadata": {
        "colab": {
          "base_uri": "https://localhost:8080/"
        },
        "id": "Q2L2mO3t7_6q",
        "outputId": "a650e0b7-b931-4c1a-93af-34227d218914"
      },
      "source": [
        "# Check character vocab stats\n",
        "char_vocab = char_vectorizer.get_vocabulary()\n",
        "print(f\"Number of different characters in character vocab: {len(char_vocab)}\")\n",
        "print(f\"5 most common characters: {char_vocab[:5]} \")\n",
        "print(f\"5 least common characters: {char_vocab[-5:]}\")"
      ],
      "execution_count": 106,
      "outputs": [
        {
          "output_type": "stream",
          "text": [
            "Number of different characters in character vocab: 28\n",
            "5 most common characters: ['', '[UNK]', 'e', 't', 'i'] \n",
            "5 least common characters: ['k', 'x', 'z', 'q', 'j']\n"
          ],
          "name": "stdout"
        }
      ]
    },
    {
      "cell_type": "code",
      "metadata": {
        "colab": {
          "base_uri": "https://localhost:8080/"
        },
        "id": "iRQLNJ6N-g7Z",
        "outputId": "dffe15a7-1e2f-4e5f-dbee-447267919af3"
      },
      "source": [
        "# Test out character vectorizer\n",
        "\n",
        "random_train_chars = random.choice(train_chars)\n",
        "\n",
        "print(f\"Charified text:\\n {random_train_chars}\")\n",
        "\n",
        "\n",
        "print(f\"\\nLength of random_train_chars:{len(random_train_chars.split())}\")\n",
        "\n",
        "# toma cualquier secuencia y retorna un vector de 290\n",
        "vectorized_chars  = char_vectorizer([random_train_chars])\n",
        "\n",
        "print(f\"\\Vectorized chars: \\n {vectorized_chars}\")\n",
        "\n",
        "print(f\"\\nLength of vectorized chars: {len(vectorized_chars[0])}\")"
      ],
      "execution_count": 107,
      "outputs": [
        {
          "output_type": "stream",
          "text": [
            "Charified text:\n",
            " t h r o u g h o u t   t h e   @ - y e a r   s p a n   u n d e r   r e v i e w   ,   t h e   n o n - s k i n   t h i n n i n g   t e s t   g r o u p   e x h i b i t e d   g o o d   p r e s e r v a t i o n   o f   t i s s u e   w i t h   d e c r e a s e d   s k i n   r e a c t i o n s   a n d   n o   a d v e r s e   e v e n t s   .\n",
            "\n",
            "Length of random_train_chars:141\n",
            "\\Vectorized chars: \n",
            " [[ 3 13  8  7 16 18 13  7 16  3  3 13  2 19  2  5  8  9 14  5  6 16  6 10\n",
            "   2  8  8  2 21  4  2 20  3 13  2  6  7  6  9 23  4  6  3 13  4  6  6  4\n",
            "   6 18  3  2  9  3 18  8  7 16 14  2 24 13  4 22  4  3  2 10 18  7  7 10\n",
            "  14  8  2  9  2  8 21  5  3  4  7  6  7 17  3  4  9  9 16  2 20  4  3 13\n",
            "  10  2 11  8  2  5  9  2 10  9 23  4  6  8  2  5 11  3  4  7  6  9  5  6\n",
            "  10  6  7  5 10 21  2  8  9  2  2 21  2  6  3  9  0  0  0  0  0  0  0  0\n",
            "   0  0  0  0  0  0  0  0  0  0  0  0  0  0  0  0  0  0  0  0  0  0  0  0\n",
            "   0  0  0  0  0  0  0  0  0  0  0  0  0  0  0  0  0  0  0  0  0  0  0  0\n",
            "   0  0  0  0  0  0  0  0  0  0  0  0  0  0  0  0  0  0  0  0  0  0  0  0\n",
            "   0  0  0  0  0  0  0  0  0  0  0  0  0  0  0  0  0  0  0  0  0  0  0  0\n",
            "   0  0  0  0  0  0  0  0  0  0  0  0  0  0  0  0  0  0  0  0  0  0  0  0\n",
            "   0  0  0  0  0  0  0  0  0  0  0  0  0  0  0  0  0  0  0  0  0  0  0  0\n",
            "   0  0]]\n",
            "\n",
            "Length of vectorized chars: 290\n"
          ],
          "name": "stdout"
        }
      ]
    },
    {
      "cell_type": "markdown",
      "metadata": {
        "id": "HjpxGlhrBHNJ"
      },
      "source": [
        "## Creating a character-level embedding"
      ]
    },
    {
      "cell_type": "code",
      "metadata": {
        "id": "xibh9e8vCQvK"
      },
      "source": [
        "# Create char embedding layer\n",
        "\n",
        "char_embed = layers.Embedding(input_dim=len(char_vocab),# numbe of different characters)\n",
        "                              output_dim=25, # this is the size of the char embedding in the paper(figure 1)\n",
        "                              mask_zero= True,\n",
        "                              name=\"char_embed\")\n",
        "                              \n",
        "                              \n",
        "\n",
        "\n",
        "\n"
      ],
      "execution_count": 108,
      "outputs": []
    },
    {
      "cell_type": "code",
      "metadata": {
        "colab": {
          "base_uri": "https://localhost:8080/"
        },
        "id": "JdRqiJwpDtv4",
        "outputId": "d8f4c3fe-1afc-4720-af8d-245122201b81"
      },
      "source": [
        "# Test our character embedding layer\n",
        "\n",
        "print(f\"Charified text:\\n {random_train_chars}\\n\")\n",
        "char_embed_example = char_embed(char_vectorizer([random_train_chars]))\n",
        "\n",
        "print(f\"Embedded chars. (after vectorization and embedding:\\n{char_embed_example}\\n\")\n",
        "print(f\"Character embedding shape: {char_embed_example.shape}\")\n",
        "\n",
        "# En cada secuencia habra 290 char/token y seran representados cada uno por un vector de dimension 25"
      ],
      "execution_count": 109,
      "outputs": [
        {
          "output_type": "stream",
          "text": [
            "Charified text:\n",
            " t h r o u g h o u t   t h e   @ - y e a r   s p a n   u n d e r   r e v i e w   ,   t h e   n o n - s k i n   t h i n n i n g   t e s t   g r o u p   e x h i b i t e d   g o o d   p r e s e r v a t i o n   o f   t i s s u e   w i t h   d e c r e a s e d   s k i n   r e a c t i o n s   a n d   n o   a d v e r s e   e v e n t s   .\n",
            "\n",
            "Embedded chars. (after vectorization and embedding:\n",
            "[[[-0.03236883  0.00216844 -0.0192098  ...  0.0292382  -0.04570226\n",
            "   -0.01412427]\n",
            "  [-0.00526706 -0.0410773   0.03991809 ... -0.0005917   0.0127504\n",
            "   -0.04921316]\n",
            "  [-0.00024793  0.0192567   0.01884048 ... -0.04074172  0.00867199\n",
            "    0.0305907 ]\n",
            "  ...\n",
            "  [ 0.01285866  0.03362694 -0.03267701 ... -0.03232787 -0.01927326\n",
            "    0.00431943]\n",
            "  [ 0.01285866  0.03362694 -0.03267701 ... -0.03232787 -0.01927326\n",
            "    0.00431943]\n",
            "  [ 0.01285866  0.03362694 -0.03267701 ... -0.03232787 -0.01927326\n",
            "    0.00431943]]]\n",
            "\n",
            "Character embedding shape: (1, 290, 25)\n"
          ],
          "name": "stdout"
        }
      ]
    },
    {
      "cell_type": "markdown",
      "metadata": {
        "id": "XClacBW0E9jT"
      },
      "source": [
        "## Building  a Conv1D model to fit on character embeddings\n",
        "\n"
      ]
    },
    {
      "cell_type": "code",
      "metadata": {
        "id": "ZGRjTO2LGjxj"
      },
      "source": [
        "# Make Conv1D on chars only\n",
        "\n",
        "inputs = layers.Input(shape=(1,), dtype=tf.string)\n",
        "char_vectors = char_vectorizer(inputs)\n",
        "\n",
        "char_embeddings = char_embed(char_vectors)\n",
        "\n",
        "x = layers.Conv1D(64, kernel_size=5, padding=\"same\", activation=\"relu\")(char_embeddings)\n",
        "\n",
        "x = layers.GlobalMaxPooling1D()(x)# si average no funciona, probar con max\n",
        "\n",
        "outputs = layers.Dense(num_classes, activation=\"softmax\")(x)\n",
        "\n",
        "model_3 = tf.keras.Model(inputs=inputs,\n",
        "                         outputs=outputs,\n",
        "                         name=\"model_3_conv1d_char_embeddings\")\n",
        "\n",
        "\n",
        "# Compile\n",
        "\n",
        "model_3.compile(loss=\"categorical_crossentropy\",\n",
        "                optimizer=tf.keras.optimizers.Adam(),\n",
        "                metrics=[\"accuracy\"])"
      ],
      "execution_count": 110,
      "outputs": []
    },
    {
      "cell_type": "code",
      "metadata": {
        "colab": {
          "base_uri": "https://localhost:8080/"
        },
        "id": "6St-wQeJIR6l",
        "outputId": "3c6efbf1-e6fa-4810-8570-aa3094c285ed"
      },
      "source": [
        "model_3.summary()"
      ],
      "execution_count": 111,
      "outputs": [
        {
          "output_type": "stream",
          "text": [
            "Model: \"model_3_conv1d_char_embeddings\"\n",
            "_________________________________________________________________\n",
            "Layer (type)                 Output Shape              Param #   \n",
            "=================================================================\n",
            "input_3 (InputLayer)         [(None, 1)]               0         \n",
            "_________________________________________________________________\n",
            "char_vectorizer (TextVectori (None, 290)               0         \n",
            "_________________________________________________________________\n",
            "char_embed (Embedding)       (None, 290, 25)           700       \n",
            "_________________________________________________________________\n",
            "conv1d_1 (Conv1D)            (None, 290, 64)           8064      \n",
            "_________________________________________________________________\n",
            "global_max_pooling1d (Global (None, 64)                0         \n",
            "_________________________________________________________________\n",
            "dense_3 (Dense)              (None, 5)                 325       \n",
            "=================================================================\n",
            "Total params: 9,089\n",
            "Trainable params: 9,089\n",
            "Non-trainable params: 0\n",
            "_________________________________________________________________\n"
          ],
          "name": "stdout"
        }
      ]
    },
    {
      "cell_type": "code",
      "metadata": {
        "colab": {
          "base_uri": "https://localhost:8080/"
        },
        "id": "epNPnPYzIsvR",
        "outputId": "26ce33de-d08e-4e7c-be01-4924111a8f6f"
      },
      "source": [
        "# Create char level datasets\n",
        "\n",
        "train_char_dataset = tf.data.Dataset.from_tensor_slices((train_chars, train_labels_one_hot)).batch(32).prefetch(tf.data.AUTOTUNE)\n",
        "val_char_dataset = tf.data.Dataset.from_tensor_slices((val_chars, val_labels_one_hot)).batch(32).prefetch(tf.data.AUTOTUNE)\n",
        "test_char_dataset = tf.data.Dataset.from_tensor_slices((test_chars, test_labels_one_hot)).batch(32).prefetch(tf.data.AUTOTUNE)\n",
        "\n",
        "train_char_dataset\n",
        "# tipo de data cadena, float"
      ],
      "execution_count": 112,
      "outputs": [
        {
          "output_type": "execute_result",
          "data": {
            "text/plain": [
              "<PrefetchDataset shapes: ((None,), (None, 5)), types: (tf.string, tf.float64)>"
            ]
          },
          "metadata": {
            "tags": []
          },
          "execution_count": 112
        }
      ]
    },
    {
      "cell_type": "code",
      "metadata": {
        "colab": {
          "base_uri": "https://localhost:8080/"
        },
        "id": "Pk4LhstrKJ-P",
        "outputId": "8553c87d-80e4-4a82-90df-f03a266c001d"
      },
      "source": [
        "# Fit the model on chars only\n",
        "\n",
        "model_3.history = model_3.fit(train_char_dataset,\n",
        "                              steps_per_epoch=int(0.1* len(train_char_dataset)),\n",
        "                              epochs=5,\n",
        "                              validation_data= val_char_dataset,\n",
        "                              validation_steps=int(0.1*len(val_char_dataset)))"
      ],
      "execution_count": 113,
      "outputs": [
        {
          "output_type": "stream",
          "text": [
            "Epoch 1/5\n",
            "562/562 [==============================] - 4s 7ms/step - loss: 1.3871 - accuracy: 0.4328 - val_loss: 1.0548 - val_accuracy: 0.5642\n",
            "Epoch 2/5\n",
            "562/562 [==============================] - 4s 6ms/step - loss: 1.0403 - accuracy: 0.5817 - val_loss: 0.9481 - val_accuracy: 0.6167\n",
            "Epoch 3/5\n",
            "562/562 [==============================] - 4s 6ms/step - loss: 0.9449 - accuracy: 0.6285 - val_loss: 0.8754 - val_accuracy: 0.6539\n",
            "Epoch 4/5\n",
            "562/562 [==============================] - 4s 6ms/step - loss: 0.8923 - accuracy: 0.6523 - val_loss: 0.8479 - val_accuracy: 0.6712\n",
            "Epoch 5/5\n",
            "562/562 [==============================] - 3s 6ms/step - loss: 0.8595 - accuracy: 0.6599 - val_loss: 0.8300 - val_accuracy: 0.6759\n"
          ],
          "name": "stdout"
        }
      ]
    },
    {
      "cell_type": "code",
      "metadata": {
        "colab": {
          "base_uri": "https://localhost:8080/"
        },
        "id": "LOUWPKO3LZU6",
        "outputId": "cab77440-0364-49d9-fd9b-c8d79221d3a3"
      },
      "source": [
        "# Make predictions with character model only\n",
        "\n",
        "model_3_pred_probs = model_3.predict(val_char_dataset)\n",
        "\n",
        "model_3_pred_probs"
      ],
      "execution_count": 114,
      "outputs": [
        {
          "output_type": "execute_result",
          "data": {
            "text/plain": [
              "array([[0.29979032, 0.36964604, 0.10749754, 0.20424092, 0.01882518],\n",
              "       [0.16794479, 0.73683155, 0.01535092, 0.05877538, 0.02109735],\n",
              "       [0.18740079, 0.36427563, 0.08474822, 0.3025885 , 0.06098682],\n",
              "       ...,\n",
              "       [0.00495437, 0.01402002, 0.08634342, 0.00690864, 0.8877736 ],\n",
              "       [0.02482192, 0.13711879, 0.28066665, 0.0336672 , 0.5237254 ],\n",
              "       [0.30776617, 0.5072703 , 0.11603213, 0.05937487, 0.00955658]],\n",
              "      dtype=float32)"
            ]
          },
          "metadata": {
            "tags": []
          },
          "execution_count": 114
        }
      ]
    },
    {
      "cell_type": "code",
      "metadata": {
        "colab": {
          "base_uri": "https://localhost:8080/"
        },
        "id": "wmlfOs76MKCo",
        "outputId": "988b0b06-c957-4ef4-a5e1-f7f246bbc326"
      },
      "source": [
        "# Convert prediction probabilities to classes\n",
        "\n",
        "\n",
        "\n",
        "model_3_preds = tf.argmax(model_3_pred_probs, axis=1)\n",
        "model_3_preds\n"
      ],
      "execution_count": 115,
      "outputs": [
        {
          "output_type": "execute_result",
          "data": {
            "text/plain": [
              "<tf.Tensor: shape=(30212,), dtype=int64, numpy=array([1, 1, 1, ..., 4, 4, 1])>"
            ]
          },
          "metadata": {
            "tags": []
          },
          "execution_count": 115
        }
      ]
    },
    {
      "cell_type": "code",
      "metadata": {
        "colab": {
          "base_uri": "https://localhost:8080/"
        },
        "id": "Ad4HQaH8MdjS",
        "outputId": "6bb34456-6410-4384-b700-71cb7c183237"
      },
      "source": [
        "# Calculate results for Conv1D model chars only\n",
        "\n",
        "model_3_results = calculate_results(y_true= val_labels_encoded,\n",
        "                                    y_pred = model_3_preds)\n",
        "\n",
        "model_3_results"
      ],
      "execution_count": 116,
      "outputs": [
        {
          "output_type": "execute_result",
          "data": {
            "text/plain": [
              "{'accuracy': 67.27128293393353,\n",
              " 'f1': 0.6682475704089467,\n",
              " 'precision': 0.6792700689659391,\n",
              " 'recall': 0.6727128293393354}"
            ]
          },
          "metadata": {
            "tags": []
          },
          "execution_count": 116
        }
      ]
    },
    {
      "cell_type": "code",
      "metadata": {
        "colab": {
          "base_uri": "https://localhost:8080/"
        },
        "id": "ckmLpnfDM3t-",
        "outputId": "126ca9c3-2366-42e1-d878-be84d444e514"
      },
      "source": [
        "baseline_results"
      ],
      "execution_count": 117,
      "outputs": [
        {
          "output_type": "execute_result",
          "data": {
            "text/plain": [
              "{'accuracy': 72.1832384482987,\n",
              " 'f1': 0.6989250353450294,\n",
              " 'precision': 0.7186466952323352,\n",
              " 'recall': 0.7218323844829869}"
            ]
          },
          "metadata": {
            "tags": []
          },
          "execution_count": 117
        }
      ]
    },
    {
      "cell_type": "markdown",
      "metadata": {
        "id": "GrBlrAZhM-xT"
      },
      "source": [
        "## Model 4: Combining pretrained token embeddings + characters embeddings (hybrid embedding layer)\n",
        "\n",
        "1. Create a token-level embedding model (similar `model_1`)\n",
        "2. Create a character-level model(similar to `model_3`) with a slight modification\n",
        "\n",
        "3. Combine 1 & 2  with a concatenate(`layers.Concatenate`)\n",
        "\n",
        "4. Built a series of output layers on top of 3 similar to Figure 1 and section 4.2 of https://arxiv.org/pdf/1612.05252.pdf\n",
        "\n",
        "5. Contruct a model wich takes token and character-level sequence as input and produces sequence label probabilities as outputs\n",
        "\n",
        "\n",
        "\n",
        "\n",
        "\n",
        "\n"
      ]
    },
    {
      "cell_type": "code",
      "metadata": {
        "id": "G2vTnXVlS33-"
      },
      "source": [
        "# 1. Setup token inputs/model\n",
        "\n",
        "token_inputs = layers.Input(shape=[], dtype=tf.string, name=\"token_input\")\n",
        "\n",
        "\n",
        "token_embeddings = tf_hub_embedding_layer(token_inputs)\n",
        "\n",
        "token_outputs = layers.Dense(128, activation=\"relu\")(token_embeddings)\n",
        "\n",
        "token_model = tf.keras.Model(inputs=token_inputs,\n",
        "                             outputs=token_outputs)\n",
        "\n",
        "\n"
      ],
      "execution_count": 119,
      "outputs": []
    },
    {
      "cell_type": "code",
      "metadata": {
        "id": "U-J8dvsFUmF9"
      },
      "source": [
        "# 2. Setup char inputs/model\n",
        "\n",
        "char_inputs = layers.Input(shape=(1,), dtype=tf.string, name=\"char_input\" )\n",
        "\n",
        "char_vectors = char_vectorizer(char_inputs)\n",
        "\n",
        "char_embeddings = char_embed(char_vectors)\n",
        "# recordar que para bidereccional el numero de unidades se multiplica por 2\n",
        "char_bi_lstm= layers.Bidirectional(layers.LSTM(24))(char_embeddings)# bi-LSTM shown in figure 1 del paper\n",
        "\n",
        "char_model = tf.keras.Model(inputs=char_inputs,\n",
        "                            outputs=char_bi_lstm)\n",
        "\n",
        "\n",
        "#3.concatenaremos matices\n",
        "# Concatenate token and char inputs(create hybrid token embedding)\n",
        "\n",
        "# le pasamos una lista de atributos de los modelos creados(output_atribuie)\n",
        "token_char_concat = layers.Concatenate(name=\"token_char_hybrid\")([token_model.output, \n",
        "                                                                  char_model.output])\n",
        "\n",
        "#. Create output layers - adding in Droput, discussed in section 4.2\n",
        "\n",
        "# dropout coloca a 0  un ratio de los pesos aprendidos,  para evitar overfitting\n",
        "combined_dropout=layers.Dropout(0.5)(token_char_concat)\n",
        "\n",
        "\n",
        "combined_dense = layers.Dense(128,activation=\"relu\")(combined_dropout)\n",
        "\n",
        "\n",
        "final_dropout = layers.Dropout(0.5)(combined_dense)\n",
        "\n",
        "output_layer = layers.Dense(num_classes,activation=\"softmax\")(final_dropout)\n",
        "\n",
        "# 5. Construct model with char and token inputs\n",
        "\n",
        "# podemos pasar una lista de atributos de entrada\n",
        "\n",
        "model_4 = tf.keras.Model(inputs=[token_model.input, char_model.input],\n",
        "                         outputs=output_layer,\n",
        "                         name=\"model_4_token_and_char_embeddings\")\n",
        "\n",
        "\n",
        "\n"
      ],
      "execution_count": 122,
      "outputs": []
    },
    {
      "cell_type": "code",
      "metadata": {
        "colab": {
          "base_uri": "https://localhost:8080/"
        },
        "id": "5CPUxDWEWNsg",
        "outputId": "8f28c0e2-1fe6-4a85-dfbc-ed780ce83e83"
      },
      "source": [
        "# Get a summary of our model\n",
        "\n",
        "model_4.summary()"
      ],
      "execution_count": 123,
      "outputs": [
        {
          "output_type": "stream",
          "text": [
            "Model: \"model_4_token_and_char_embeddings\"\n",
            "__________________________________________________________________________________________________\n",
            "Layer (type)                    Output Shape         Param #     Connected to                     \n",
            "==================================================================================================\n",
            "char_input (InputLayer)         [(None, 1)]          0                                            \n",
            "__________________________________________________________________________________________________\n",
            "token_input (InputLayer)        [(None,)]            0                                            \n",
            "__________________________________________________________________________________________________\n",
            "char_vectorizer (TextVectorizat (None, 290)          0           char_input[0][0]                 \n",
            "__________________________________________________________________________________________________\n",
            "universal_sentence_encoder (Ker (None, 512)          256797824   token_input[0][0]                \n",
            "__________________________________________________________________________________________________\n",
            "char_embed (Embedding)          (None, 290, 25)      700         char_vectorizer[3][0]            \n",
            "__________________________________________________________________________________________________\n",
            "dense_5 (Dense)                 (None, 128)          65664       universal_sentence_encoder[2][0] \n",
            "__________________________________________________________________________________________________\n",
            "bidirectional_2 (Bidirectional) (None, 48)           9600        char_embed[3][0]                 \n",
            "__________________________________________________________________________________________________\n",
            "token_char_hybrid (Concatenate) (None, 176)          0           dense_5[0][0]                    \n",
            "                                                                 bidirectional_2[0][0]            \n",
            "__________________________________________________________________________________________________\n",
            "dropout_2 (Dropout)             (None, 176)          0           token_char_hybrid[0][0]          \n",
            "__________________________________________________________________________________________________\n",
            "dense_8 (Dense)                 (None, 128)          22656       dropout_2[0][0]                  \n",
            "__________________________________________________________________________________________________\n",
            "dropout_3 (Dropout)             (None, 128)          0           dense_8[0][0]                    \n",
            "__________________________________________________________________________________________________\n",
            "dense_9 (Dense)                 (None, 5)            645         dropout_3[0][0]                  \n",
            "==================================================================================================\n",
            "Total params: 256,897,089\n",
            "Trainable params: 99,265\n",
            "Non-trainable params: 256,797,824\n",
            "__________________________________________________________________________________________________\n"
          ],
          "name": "stdout"
        }
      ]
    },
    {
      "cell_type": "code",
      "metadata": {
        "colab": {
          "base_uri": "https://localhost:8080/",
          "height": 581
        },
        "id": "Ag92eSYEa_gH",
        "outputId": "7d01564a-86f9-489a-f1bc-8a587a7bb192"
      },
      "source": [
        "# Plot hybrid token and character model\n",
        "\n",
        "\n",
        "from keras.utils import plot_model\n",
        "\n",
        "plot_model(model_4, show_shapes=True)\n",
        "\n"
      ],
      "execution_count": 125,
      "outputs": [
        {
          "output_type": "execute_result",
          "data": {
            "image/png": "[encoded data removed]",
            "text/plain": [
              "<IPython.core.display.Image object>"
            ]
          },
          "metadata": {
            "tags": []
          },
          "execution_count": 125
        }
      ]
    },
    {
      "cell_type": "code",
      "metadata": {
        "id": "D9tS7wjpbj7n"
      },
      "source": [
        "# Compile token char model\n",
        "\n",
        "model_4.compile(loss=\"categorical_crossentropy\",\n",
        "                optimizer=tf.keras.optimizers.Adam(),# section 4.2 of the paper says they use SGD\n",
        "                metrics=[\"accuracy\"])"
      ],
      "execution_count": 126,
      "outputs": []
    },
    {
      "cell_type": "markdown",
      "metadata": {
        "id": "5A1_4U8Vd-Qr"
      },
      "source": [
        "###  Combining token and character data into a tf.data Dataset\n",
        "\n"
      ]
    },
    {
      "cell_type": "code",
      "metadata": {
        "id": "nA0x-oJ3jMrh"
      },
      "source": [
        "# hay que crearlos en el mismo orden que se creo el modelo \n",
        "\n",
        "# es decir primero abria que pasarle token y luego char!!"
      ],
      "execution_count": null,
      "outputs": []
    },
    {
      "cell_type": "code",
      "metadata": {
        "id": "_WxTtZBAevGa"
      },
      "source": [
        "# combine chars and tokens into dataset\n",
        "\n",
        "train_char_token_data = tf.data.Dataset.from_tensor_slices((train_sentences, train_chars))# make data\n",
        "train_char_token_labels = tf.data.Dataset.from_tensor_slices((train_labels_one_hot))# make labels\n",
        "# unimos todo con el metodo zip que me permite unir 2 datset!!\n",
        "train_char_token_dataset = tf.data.Dataset.zip((train_char_token_data, train_char_token_labels))# combine data and labels\n",
        "\n",
        "# Prefetch and batch train data\n",
        "train_char_token_dataset = train_char_token_dataset.batch(32).prefetch(tf.data.AUTOTUNE)\n",
        "\n",
        "\n",
        "\n",
        "\n",
        "\n",
        "\n",
        "\n"
      ],
      "execution_count": 127,
      "outputs": []
    },
    {
      "cell_type": "code",
      "metadata": {
        "id": "y4jBpVxEhbVA"
      },
      "source": [
        "# Rpeat the above steps for our validation dataset\n",
        "val_char_token_data = tf.data.Dataset.from_tensor_slices((val_sentences, val_chars))# make data\n",
        "val_char_token_labels = tf.data.Dataset.from_tensor_slices((val_labels_one_hot))# make labels\n",
        "# unimos todo con el metodo zip que me permite unir 2 datset!!\n",
        "val_char_token_dataset = tf.data.Dataset.zip((val_char_token_data, val_char_token_labels))# combine data and labels\n",
        "\n",
        "# Prefetch and batch train data\n",
        "\n",
        "val_char_token_dataset = val_char_token_dataset.batch(32).prefetch(tf.data.AUTOTUNE)"
      ],
      "execution_count": 130,
      "outputs": []
    },
    {
      "cell_type": "code",
      "metadata": {
        "colab": {
          "base_uri": "https://localhost:8080/"
        },
        "id": "3Mky1X12iI7B",
        "outputId": "50632c6b-1a72-44e4-f12a-a08c53a06716"
      },
      "source": [
        "# check out our training char and token embedding dataser\n",
        "train_char_token_dataset, val_char_token_dataset\n"
      ],
      "execution_count": 131,
      "outputs": [
        {
          "output_type": "execute_result",
          "data": {
            "text/plain": [
              "(<PrefetchDataset shapes: (((None,), (None,)), (None, 5)), types: ((tf.string, tf.string), tf.float64)>,\n",
              " <PrefetchDataset shapes: (((None,), (None,)), (None, 5)), types: ((tf.string, tf.string), tf.float64)>)"
            ]
          },
          "metadata": {
            "tags": []
          },
          "execution_count": 131
        }
      ]
    },
    {
      "cell_type": "code",
      "metadata": {
        "id": "J7-LcqlAjoIk"
      },
      "source": [
        ""
      ],
      "execution_count": null,
      "outputs": []
    },
    {
      "cell_type": "markdown",
      "metadata": {
        "id": "6Y9BZzPmi6ct"
      },
      "source": [
        "### fitting a model on token and character-level sequences\n",
        "\n"
      ]
    },
    {
      "cell_type": "code",
      "metadata": {
        "colab": {
          "base_uri": "https://localhost:8080/"
        },
        "id": "Os7xVJOWj-SK",
        "outputId": "7355f449-8324-430e-e5bc-a3651da6ead5"
      },
      "source": [
        "# Fit the model on tokens and chars\n",
        "\n",
        "history_model_4 = model_4.fit(train_char_token_dataset,\n",
        "                              steps_per_epoch=int(0.1*len(train_char_token_dataset)),\n",
        "                              epochs=3,\n",
        "                              validation_data=val_char_token_dataset,\n",
        "                              validation_steps=int(0.1*len(val_char_token_dataset)))"
      ],
      "execution_count": 133,
      "outputs": [
        {
          "output_type": "stream",
          "text": [
            "Epoch 1/3\n",
            "562/562 [==============================] - 35s 49ms/step - loss: 1.1558 - accuracy: 0.5269 - val_loss: 0.7791 - val_accuracy: 0.7011\n",
            "Epoch 2/3\n",
            "562/562 [==============================] - 25s 45ms/step - loss: 0.8092 - accuracy: 0.6838 - val_loss: 0.7225 - val_accuracy: 0.7264\n",
            "Epoch 3/3\n",
            "562/562 [==============================] - 23s 41ms/step - loss: 0.7800 - accuracy: 0.7014 - val_loss: 0.6904 - val_accuracy: 0.7387\n"
          ],
          "name": "stdout"
        }
      ]
    },
    {
      "cell_type": "code",
      "metadata": {
        "colab": {
          "base_uri": "https://localhost:8080/"
        },
        "id": "U9KVMBfklAWm",
        "outputId": "a755b66c-24a6-4951-b5a6-1e5d510399d5"
      },
      "source": [
        "model_2_results"
      ],
      "execution_count": 134,
      "outputs": [
        {
          "output_type": "execute_result",
          "data": {
            "text/plain": [
              "{'accuracy': 71.29617370581227,\n",
              " 'f1': 0.7099459627086563,\n",
              " 'precision': 0.7128195024138995,\n",
              " 'recall': 0.7129617370581226}"
            ]
          },
          "metadata": {
            "tags": []
          },
          "execution_count": 134
        }
      ]
    },
    {
      "cell_type": "code",
      "metadata": {
        "colab": {
          "base_uri": "https://localhost:8080/"
        },
        "id": "BRtxoy16lwld",
        "outputId": "94ff2ffd-d123-422d-9339-d00a708e6645"
      },
      "source": [
        "# Evaluate one the whole validation dataset\n",
        "\n",
        "model_4.evaluate(val_char_token_dataset)"
      ],
      "execution_count": 135,
      "outputs": [
        {
          "output_type": "stream",
          "text": [
            "945/945 [==============================] - 20s 21ms/step - loss: 0.6949 - accuracy: 0.7328\n"
          ],
          "name": "stdout"
        },
        {
          "output_type": "execute_result",
          "data": {
            "text/plain": [
              "[0.6949127316474915, 0.7328214049339294]"
            ]
          },
          "metadata": {
            "tags": []
          },
          "execution_count": 135
        }
      ]
    },
    {
      "cell_type": "code",
      "metadata": {
        "colab": {
          "base_uri": "https://localhost:8080/"
        },
        "id": "NMSZn8d7mEqC",
        "outputId": "1fb01fe2-0951-41e0-9159-d3545c01098e"
      },
      "source": [
        "# Make predictions using the token-character model hybrids\n",
        "\n",
        "model_4_pred_probs = model_4.predict(val_char_token_dataset)\n",
        "\n",
        "model_4_pred_probs\n"
      ],
      "execution_count": 136,
      "outputs": [
        {
          "output_type": "execute_result",
          "data": {
            "text/plain": [
              "array([[5.2035350e-01, 2.9553923e-01, 3.8069980e-03, 1.7340781e-01,\n",
              "        6.8924986e-03],\n",
              "       [3.8849294e-01, 4.0611097e-01, 4.7459533e-03, 1.9725563e-01,\n",
              "        3.3945304e-03],\n",
              "       [3.0297646e-01, 1.5301557e-01, 3.6206968e-02, 4.7902828e-01,\n",
              "        2.8772714e-02],\n",
              "       ...,\n",
              "       [1.8687223e-04, 6.3037900e-03, 3.7107512e-02, 5.1131599e-05,\n",
              "        9.5635068e-01],\n",
              "       [6.7619844e-03, 7.0697486e-02, 1.9725938e-01, 2.8796499e-03,\n",
              "        7.2240150e-01],\n",
              "       [2.4074841e-01, 3.7542099e-01, 2.7907205e-01, 2.9866759e-02,\n",
              "        7.4891768e-02]], dtype=float32)"
            ]
          },
          "metadata": {
            "tags": []
          },
          "execution_count": 136
        }
      ]
    },
    {
      "cell_type": "code",
      "metadata": {
        "colab": {
          "base_uri": "https://localhost:8080/"
        },
        "id": "TQnw1LtimpAa",
        "outputId": "4e0cbb16-41eb-47c1-baf7-db0f8361b301"
      },
      "source": [
        "# Format pred probs into pred labels\n",
        "\n",
        "model_4_preds = tf.argmax(model_4_pred_probs, axis=1)\n",
        "\n",
        "\n",
        "model_4_preds\n"
      ],
      "execution_count": 138,
      "outputs": [
        {
          "output_type": "execute_result",
          "data": {
            "text/plain": [
              "<tf.Tensor: shape=(30212,), dtype=int64, numpy=array([0, 1, 3, ..., 4, 4, 1])>"
            ]
          },
          "metadata": {
            "tags": []
          },
          "execution_count": 138
        }
      ]
    },
    {
      "cell_type": "code",
      "metadata": {
        "id": "shPCDDVbnCQZ"
      },
      "source": [
        "# Get results or token-char-hybrid model\n",
        "\n",
        "model_4_results = calculate_results(y_true=val_labels_encoded,\n",
        "                                    y_pred=model_4_preds)\n"
      ],
      "execution_count": 139,
      "outputs": []
    },
    {
      "cell_type": "code",
      "metadata": {
        "colab": {
          "base_uri": "https://localhost:8080/"
        },
        "id": "mkfOFo3Xne-8",
        "outputId": "fbe9a81e-90d1-418d-fd89-ef18d893ee23"
      },
      "source": [
        "model_4_results"
      ],
      "execution_count": 140,
      "outputs": [
        {
          "output_type": "execute_result",
          "data": {
            "text/plain": [
              "{'accuracy': 73.28213954719979,\n",
              " 'f1': 0.7297067488786805,\n",
              " 'precision': 0.7350393887147801,\n",
              " 'recall': 0.7328213954719979}"
            ]
          },
          "metadata": {
            "tags": []
          },
          "execution_count": 140
        }
      ]
    },
    {
      "cell_type": "code",
      "metadata": {
        "colab": {
          "base_uri": "https://localhost:8080/"
        },
        "id": "qxAsQmn8nipu",
        "outputId": "3fedf347-8891-4556-c02e-bb67b30d7a76"
      },
      "source": [
        "model_1_results"
      ],
      "execution_count": 144,
      "outputs": [
        {
          "output_type": "execute_result",
          "data": {
            "text/plain": [
              "{'accuracy': 78.49860982391102,\n",
              " 'f1': 0.7821969091795758,\n",
              " 'precision': 0.7814319919446246,\n",
              " 'recall': 0.7849860982391103}"
            ]
          },
          "metadata": {
            "tags": []
          },
          "execution_count": 144
        }
      ]
    },
    {
      "cell_type": "markdown",
      "metadata": {
        "id": "pvt8zlMtnsCd"
      },
      "source": [
        "## Model 5: Transfer learning with pretrained token embeddings + character embeddings + positional embedding"
      ]
    },
    {
      "cell_type": "code",
      "metadata": {
        "colab": {
          "base_uri": "https://localhost:8080/",
          "height": 276
        },
        "id": "a5ZoKyqXrT9h",
        "outputId": "68e67cb3-cc83-4454-e775-6a81e75d4d22"
      },
      "source": [
        "\n",
        "train_df.head()"
      ],
      "execution_count": 146,
      "outputs": [
        {
          "output_type": "execute_result",
          "data": {
            "text/html": [
              "<div>\n",
              "<style scoped>\n",
              "    .dataframe tbody tr th:only-of-type {\n",
              "        vertical-align: middle;\n",
              "    }\n",
              "\n",
              "    .dataframe tbody tr th {\n",
              "        vertical-align: top;\n",
              "    }\n",
              "\n",
              "    .dataframe thead th {\n",
              "        text-align: right;\n",
              "    }\n",
              "</style>\n",
              "<table border=\"1\" class=\"dataframe\">\n",
              "  <thead>\n",
              "    <tr style=\"text-align: right;\">\n",
              "      <th></th>\n",
              "      <th>target</th>\n",
              "      <th>text</th>\n",
              "      <th>line_number</th>\n",
              "      <th>total_lines</th>\n",
              "    </tr>\n",
              "  </thead>\n",
              "  <tbody>\n",
              "    <tr>\n",
              "      <th>0</th>\n",
              "      <td>OBJECTIVE</td>\n",
              "      <td>to investigate the efficacy of @ weeks of dail...</td>\n",
              "      <td>0</td>\n",
              "      <td>11</td>\n",
              "    </tr>\n",
              "    <tr>\n",
              "      <th>1</th>\n",
              "      <td>METHODS</td>\n",
              "      <td>a total of @ patients with primary knee oa wer...</td>\n",
              "      <td>1</td>\n",
              "      <td>11</td>\n",
              "    </tr>\n",
              "    <tr>\n",
              "      <th>2</th>\n",
              "      <td>METHODS</td>\n",
              "      <td>outcome measures included pain reduction and i...</td>\n",
              "      <td>2</td>\n",
              "      <td>11</td>\n",
              "    </tr>\n",
              "    <tr>\n",
              "      <th>3</th>\n",
              "      <td>METHODS</td>\n",
              "      <td>pain was assessed using the visual analog pain...</td>\n",
              "      <td>3</td>\n",
              "      <td>11</td>\n",
              "    </tr>\n",
              "    <tr>\n",
              "      <th>4</th>\n",
              "      <td>METHODS</td>\n",
              "      <td>secondary outcome measures included the wester...</td>\n",
              "      <td>4</td>\n",
              "      <td>11</td>\n",
              "    </tr>\n",
              "  </tbody>\n",
              "</table>\n",
              "</div>"
            ],
            "text/plain": [
              "      target  ... total_lines\n",
              "0  OBJECTIVE  ...          11\n",
              "1    METHODS  ...          11\n",
              "2    METHODS  ...          11\n",
              "3    METHODS  ...          11\n",
              "4    METHODS  ...          11\n",
              "\n",
              "[5 rows x 4 columns]"
            ]
          },
          "metadata": {
            "tags": []
          },
          "execution_count": 146
        }
      ]
    },
    {
      "cell_type": "markdown",
      "metadata": {
        "id": "01tjxqAkrxpS"
      },
      "source": [
        "> **Note:** Any engineered features used to train a model need to be availabel at test time. In out case, line numers and total lines are available"
      ]
    },
    {
      "cell_type": "markdown",
      "metadata": {
        "id": "a6VMZp31tLMi"
      },
      "source": [
        "### Create postional embeddings(espacio de caracteristicas)"
      ]
    },
    {
      "cell_type": "code",
      "metadata": {
        "colab": {
          "base_uri": "https://localhost:8080/"
        },
        "id": "619Y_2jltrDT",
        "outputId": "17d05233-4a0a-42dc-a035-e5d9f1ddc338"
      },
      "source": [
        "# How many different line numbers are there?\n",
        "\n",
        "train_df[\"line_number\"].value_counts()"
      ],
      "execution_count": 148,
      "outputs": [
        {
          "output_type": "execute_result",
          "data": {
            "text/plain": [
              "0     15000\n",
              "1     15000\n",
              "2     15000\n",
              "3     15000\n",
              "4     14992\n",
              "5     14949\n",
              "6     14758\n",
              "7     14279\n",
              "8     13346\n",
              "9     11981\n",
              "10    10041\n",
              "11     7892\n",
              "12     5853\n",
              "13     4152\n",
              "14     2835\n",
              "15     1861\n",
              "16     1188\n",
              "17      751\n",
              "18      462\n",
              "19      286\n",
              "20      162\n",
              "21      101\n",
              "22       66\n",
              "23       33\n",
              "24       22\n",
              "25       14\n",
              "26        7\n",
              "27        4\n",
              "28        3\n",
              "29        1\n",
              "30        1\n",
              "Name: line_number, dtype: int64"
            ]
          },
          "metadata": {
            "tags": []
          },
          "execution_count": 148
        }
      ]
    },
    {
      "cell_type": "code",
      "metadata": {
        "colab": {
          "base_uri": "https://localhost:8080/",
          "height": 284
        },
        "id": "Y4s657fTuFSW",
        "outputId": "81bc38c1-3911-4125-b08d-93a7376fa121"
      },
      "source": [
        "# Check the distribution of \"line_number\" column\n",
        "\n",
        "train_df[\"line_number\"].plot.hist()"
      ],
      "execution_count": 149,
      "outputs": [
        {
          "output_type": "execute_result",
          "data": {
            "text/plain": [
              "<matplotlib.axes._subplots.AxesSubplot at 0x7fb512bf2e50>"
            ]
          },
          "metadata": {
            "tags": []
          },
          "execution_count": 149
        },
        {
          "output_type": "display_data",
          "data": {
            "image/png": "[encoded data removed]",
            "text/plain": [
              "<Figure size 432x288 with 1 Axes>"
            ]
          },
          "metadata": {
            "tags": [],
            "needs_background": "light"
          }
        }
      ]
    },
    {
      "cell_type": "code",
      "metadata": {
        "colab": {
          "base_uri": "https://localhost:8080/"
        },
        "id": "MEMuGm3BvpKe",
        "outputId": "fe3e9b37-4621-4f8b-8fad-bfa011def3a5"
      },
      "source": [
        "# Use TensorFlow to create one-hot-encoded tensors of our \"line_number\" column\n",
        "# limitamos la cantidad de numeros o clases para evitar problemas de dimension excesiva\n",
        "train_line_numbers_one_hot = tf.one_hot(train_df[\"line_number\"].to_numpy(), depth=15)\n",
        "val_line_numbers_one_hot = tf.one_hot(val_df[\"line_number\"].to_numpy(), depth=15)\n",
        "test_line_numbers_one_hot = tf.one_hot(test_df[\"line_number\"].to_numpy(), depth=15)\n",
        "\n",
        "train_line_numbers_one_hot[:14], train_line_numbers_one_hot.shape"
      ],
      "execution_count": 155,
      "outputs": [
        {
          "output_type": "execute_result",
          "data": {
            "text/plain": [
              "(<tf.Tensor: shape=(14, 15), dtype=float32, numpy=\n",
              " array([[1., 0., 0., 0., 0., 0., 0., 0., 0., 0., 0., 0., 0., 0., 0.],\n",
              "        [0., 1., 0., 0., 0., 0., 0., 0., 0., 0., 0., 0., 0., 0., 0.],\n",
              "        [0., 0., 1., 0., 0., 0., 0., 0., 0., 0., 0., 0., 0., 0., 0.],\n",
              "        [0., 0., 0., 1., 0., 0., 0., 0., 0., 0., 0., 0., 0., 0., 0.],\n",
              "        [0., 0., 0., 0., 1., 0., 0., 0., 0., 0., 0., 0., 0., 0., 0.],\n",
              "        [0., 0., 0., 0., 0., 1., 0., 0., 0., 0., 0., 0., 0., 0., 0.],\n",
              "        [0., 0., 0., 0., 0., 0., 1., 0., 0., 0., 0., 0., 0., 0., 0.],\n",
              "        [0., 0., 0., 0., 0., 0., 0., 1., 0., 0., 0., 0., 0., 0., 0.],\n",
              "        [0., 0., 0., 0., 0., 0., 0., 0., 1., 0., 0., 0., 0., 0., 0.],\n",
              "        [0., 0., 0., 0., 0., 0., 0., 0., 0., 1., 0., 0., 0., 0., 0.],\n",
              "        [0., 0., 0., 0., 0., 0., 0., 0., 0., 0., 1., 0., 0., 0., 0.],\n",
              "        [0., 0., 0., 0., 0., 0., 0., 0., 0., 0., 0., 1., 0., 0., 0.],\n",
              "        [1., 0., 0., 0., 0., 0., 0., 0., 0., 0., 0., 0., 0., 0., 0.],\n",
              "        [0., 1., 0., 0., 0., 0., 0., 0., 0., 0., 0., 0., 0., 0., 0.]],\n",
              "       dtype=float32)>, TensorShape([180040, 15]))"
            ]
          },
          "metadata": {
            "tags": []
          },
          "execution_count": 155
        }
      ]
    },
    {
      "cell_type": "markdown",
      "metadata": {
        "id": "R7m2bDT7zBXM"
      },
      "source": [
        "Now we've encoded our line numbers feature, let's do the same for our total lines feature..."
      ]
    },
    {
      "cell_type": "code",
      "metadata": {
        "colab": {
          "base_uri": "https://localhost:8080/"
        },
        "id": "eR7yazZQw1tJ",
        "outputId": "50de79fe-b3f5-4000-b0e4-d59bd81a37ec"
      },
      "source": [
        "# How many different numbers of lines are there\"?\n",
        "train_df.total_lines.value_counts()\n"
      ],
      "execution_count": 156,
      "outputs": [
        {
          "output_type": "execute_result",
          "data": {
            "text/plain": [
              "11    24468\n",
              "10    23639\n",
              "12    22113\n",
              "9     19400\n",
              "13    18438\n",
              "14    14610\n",
              "8     12285\n",
              "15    10768\n",
              "7      7464\n",
              "16     7429\n",
              "17     5202\n",
              "6      3353\n",
              "18     3344\n",
              "19     2480\n",
              "20     1281\n",
              "5      1146\n",
              "21      770\n",
              "22      759\n",
              "23      264\n",
              "4       215\n",
              "24      200\n",
              "25      182\n",
              "26       81\n",
              "28       58\n",
              "3        32\n",
              "30       31\n",
              "27       28\n",
              "Name: total_lines, dtype: int64"
            ]
          },
          "metadata": {
            "tags": []
          },
          "execution_count": 156
        }
      ]
    },
    {
      "cell_type": "code",
      "metadata": {
        "colab": {
          "base_uri": "https://localhost:8080/",
          "height": 267
        },
        "id": "N3O14RgFznz0",
        "outputId": "3e318a3e-74c4-441b-e5b6-dcd74aca5929"
      },
      "source": [
        "# Check the distributuions of total_lines\n",
        "train_df.total_lines.plot.hist();"
      ],
      "execution_count": 157,
      "outputs": [
        {
          "output_type": "display_data",
          "data": {
            "image/png": "[encoded data removed]",
            "text/plain": [
              "<Figure size 432x288 with 1 Axes>"
            ]
          },
          "metadata": {
            "tags": [],
            "needs_background": "light"
          }
        }
      ]
    },
    {
      "cell_type": "code",
      "metadata": {
        "colab": {
          "base_uri": "https://localhost:8080/"
        },
        "id": "8-MWv9R60dn3",
        "outputId": "cedddfc9-e683-4ff2-9313-936f4c958a19"
      },
      "source": [
        "# Check the coverage of a \"total_lines\" value of 20\n",
        "# con 20 clases ya habremos cubierto la mayoria de las clases\n",
        "np.percentile(train_df.total_lines, 95)"
      ],
      "execution_count": 158,
      "outputs": [
        {
          "output_type": "execute_result",
          "data": {
            "text/plain": [
              "18.0"
            ]
          },
          "metadata": {
            "tags": []
          },
          "execution_count": 158
        }
      ]
    },
    {
      "cell_type": "code",
      "metadata": {
        "colab": {
          "base_uri": "https://localhost:8080/"
        },
        "id": "2wWSAi2k1cty",
        "outputId": "52ab3340-7cf2-4dfe-88aa-d627428a8df2"
      },
      "source": [
        "# Use TensorFlow to create one-hot-enconded tensor of our \"total_lines\" feature\n",
        "train_total_lines_one_hot =tf.one_hot(train_df[\"total_lines\"].to_numpy(), depth=20)\n",
        "val_total_lines_one_hot =tf.one_hot(val_df[\"total_lines\"].to_numpy(), depth=20)\n",
        "test_total_lines_one_hot =tf.one_hot(test_df[\"total_lines\"].to_numpy(), depth=20)\n",
        "\n",
        "\n",
        "\n",
        "train_total_lines_one_hot, train_total_lines_one_hot[:10]"
      ],
      "execution_count": 160,
      "outputs": [
        {
          "output_type": "execute_result",
          "data": {
            "text/plain": [
              "(<tf.Tensor: shape=(180040, 20), dtype=float32, numpy=\n",
              " array([[0., 0., 0., ..., 0., 0., 0.],\n",
              "        [0., 0., 0., ..., 0., 0., 0.],\n",
              "        [0., 0., 0., ..., 0., 0., 0.],\n",
              "        ...,\n",
              "        [0., 0., 0., ..., 0., 0., 0.],\n",
              "        [0., 0., 0., ..., 0., 0., 0.],\n",
              "        [0., 0., 0., ..., 0., 0., 0.]], dtype=float32)>,\n",
              " <tf.Tensor: shape=(10, 20), dtype=float32, numpy=\n",
              " array([[0., 0., 0., 0., 0., 0., 0., 0., 0., 0., 0., 1., 0., 0., 0., 0.,\n",
              "         0., 0., 0., 0.],\n",
              "        [0., 0., 0., 0., 0., 0., 0., 0., 0., 0., 0., 1., 0., 0., 0., 0.,\n",
              "         0., 0., 0., 0.],\n",
              "        [0., 0., 0., 0., 0., 0., 0., 0., 0., 0., 0., 1., 0., 0., 0., 0.,\n",
              "         0., 0., 0., 0.],\n",
              "        [0., 0., 0., 0., 0., 0., 0., 0., 0., 0., 0., 1., 0., 0., 0., 0.,\n",
              "         0., 0., 0., 0.],\n",
              "        [0., 0., 0., 0., 0., 0., 0., 0., 0., 0., 0., 1., 0., 0., 0., 0.,\n",
              "         0., 0., 0., 0.],\n",
              "        [0., 0., 0., 0., 0., 0., 0., 0., 0., 0., 0., 1., 0., 0., 0., 0.,\n",
              "         0., 0., 0., 0.],\n",
              "        [0., 0., 0., 0., 0., 0., 0., 0., 0., 0., 0., 1., 0., 0., 0., 0.,\n",
              "         0., 0., 0., 0.],\n",
              "        [0., 0., 0., 0., 0., 0., 0., 0., 0., 0., 0., 1., 0., 0., 0., 0.,\n",
              "         0., 0., 0., 0.],\n",
              "        [0., 0., 0., 0., 0., 0., 0., 0., 0., 0., 0., 1., 0., 0., 0., 0.,\n",
              "         0., 0., 0., 0.],\n",
              "        [0., 0., 0., 0., 0., 0., 0., 0., 0., 0., 0., 1., 0., 0., 0., 0.,\n",
              "         0., 0., 0., 0.]], dtype=float32)>)"
            ]
          },
          "metadata": {
            "tags": []
          },
          "execution_count": 160
        }
      ]
    },
    {
      "cell_type": "markdown",
      "metadata": {
        "id": "LqTviOts1MzT"
      },
      "source": [
        "### Building a tribrid embedding model\n",
        "1. Create a token-level model\n",
        "\n",
        "2. Create a charater-level model\n",
        "\n",
        "3. create a model for the \"the line_number\" feature\n",
        "\n",
        "4. create a model for the \"total_lines\" feature\n",
        "\n",
        "5. Combine the outputs of 1 & 2 using tf.keras.layers.Concatenate\n",
        "\n",
        "\n",
        "6. combine the outputs of 3, 4, 5 using tf.keras.layers.Concatenate\n",
        "\n",
        "7. Create an output layer to accept the tribried embedding and output label probabilities\n",
        "\n",
        "8. Combine the inputs of 1,2 3, 4  and outputs of into a tf.keras.Model\n",
        "\n"
      ]
    },
    {
      "cell_type": "code",
      "metadata": {
        "colab": {
          "base_uri": "https://localhost:8080/"
        },
        "id": "ZqzJQebM8_B1",
        "outputId": "00fc293b-88fd-4639-9766-36f8e55f95c2"
      },
      "source": [
        "train_line_numbers_one_hot[0].shape"
      ],
      "execution_count": 162,
      "outputs": [
        {
          "output_type": "execute_result",
          "data": {
            "text/plain": [
              "TensorShape([15])"
            ]
          },
          "metadata": {
            "tags": []
          },
          "execution_count": 162
        }
      ]
    },
    {
      "cell_type": "code",
      "metadata": {
        "colab": {
          "base_uri": "https://localhost:8080/"
        },
        "id": "ws3pHpYC-aIc",
        "outputId": "55647c29-c8ed-4326-d6dd-56cd60f8dbef"
      },
      "source": [
        "train_total_lines_one_hot[0].shape, train_total_lines_one_hot[0].dtype"
      ],
      "execution_count": 163,
      "outputs": [
        {
          "output_type": "execute_result",
          "data": {
            "text/plain": [
              "(TensorShape([20]), tf.float32)"
            ]
          },
          "metadata": {
            "tags": []
          },
          "execution_count": 163
        }
      ]
    },
    {
      "cell_type": "code",
      "metadata": {
        "id": "R44vVU4r5nZC"
      },
      "source": [
        "# 1. Token inputs\n",
        "\n",
        "token_inputs = layers.Input(shape=[], dtype=\"string\", name=\"token_inputs\")\n",
        "\n",
        "token_embeddings = tf_hub_embedding_layer(token_inputs)\n",
        "\n",
        "token_outputs = layers.Dense(128, activation=\"relu\")(token_embeddings)\n",
        "\n",
        "token_model = tf.keras.Model(inputs=token_inputs,\n",
        "                             outputs=token_outputs)\n",
        "\n",
        "\n",
        "# 2. chaer inputs\n",
        "\n",
        "char_inputs = layers.Input(shape=(1,), dtype=\"string\", name=\"char_inputs\")\n",
        "\n",
        "char_vectors = char_vectorizer(char_inputs)\n",
        "\n",
        "char_embeddings = char_embed(char_vectors)\n",
        "\n",
        "char_bi_lstm =layers.Bidirectional(layers.LSTM(24))(char_embeddings)\n",
        "\n",
        "char_model = tf.keras.Model(inputs=char_inputs,\n",
        "                            outputs=char_bi_lstm)\n",
        "\n",
        "\n",
        "# 3. line numbers model\n",
        "\n",
        "line_number_inputs= layers.Input(shape=(15,), dtype=tf.float32, name = \"line_number_inputs\")\n",
        "# Dense layer with 32 units & relu activation\n",
        "x = layers.Dense(32, activation=\"relu\")(line_number_inputs)\n",
        "\n",
        "# combine inputs & dense layer into model\n",
        "\n",
        "\n",
        "line_number_model = tf.keras.Model(inputs=line_number_inputs,\n",
        "                                   outputs=x)\n",
        "\n",
        "\n",
        "# 4. Total lines model\n",
        "\n",
        "total_lines_inputs = layers.Input(shape=(20,), dtype=tf.float32, name=\"total_lines_inputs\")\n",
        "\n",
        "y = layers.Dense(32, activation=\"relu\")(total_lines_inputs)\n",
        "\n",
        "total_line_model = tf.keras.Model(inputs=total_lines_inputs,\n",
        "                                  outputs=y)\n",
        "\n",
        "\n",
        "# 5. Comine token and char embeddings into a hybrid embeddings\n",
        "\n",
        "combined_embeddings = layers.Concatenate(name=\"char_token_hybrid_embeddings\")([token_model.output,\n",
        "                                                                               char_model.output])\n",
        "z = layers.Dense(256, activation=\"relu\")(combined_embeddings)\n",
        "\n",
        "z = layers.Dropout(0.5)(z)\n",
        "\n",
        "#  6. Combine positional embedding with combined token and char embeddings\n",
        "\n",
        "tribrid_embeddings = layers.Concatenate(name=\"char_token_positional_embedding\")([line_number_model.output,\n",
        "                                                                                 total_line_model.output,\n",
        "                                                                                 z])\n",
        "\n",
        "# 7. Create output layer\n",
        "\n",
        "output_layer = layers.Dense(num_classes, activation=\"softmax\", name=\"output_layer\")(tribrid_embeddings)\n",
        "\n",
        "#  8. Put together model with all kinds of inputs\n",
        "\n",
        "# el orden es importante recordar\n",
        "model_5 = tf.keras.Model(inputs=[line_number_model.input,\n",
        "                                 total_line_model.input,\n",
        "                                 token_model.input,\n",
        "                                 char_model.input],\n",
        "                         outputs=output_layer,\n",
        "                         name=\"tribid_embeddings_model\")\n",
        "\n",
        "\n",
        "\n",
        "\n"
      ],
      "execution_count": 168,
      "outputs": []
    },
    {
      "cell_type": "code",
      "metadata": {
        "colab": {
          "base_uri": "https://localhost:8080/"
        },
        "id": "oByNgNg8DLi-",
        "outputId": "0fa99ba2-9572-47cc-db66-d83d99a94d67"
      },
      "source": [
        "# Get a summary of our tribrid model\n",
        "\n",
        "model_5.summary()"
      ],
      "execution_count": 169,
      "outputs": [
        {
          "output_type": "stream",
          "text": [
            "Model: \"tribid_embeddings_model\"\n",
            "__________________________________________________________________________________________________\n",
            "Layer (type)                    Output Shape         Param #     Connected to                     \n",
            "==================================================================================================\n",
            "char_inputs (InputLayer)        [(None, 1)]          0                                            \n",
            "__________________________________________________________________________________________________\n",
            "token_inputs (InputLayer)       [(None,)]            0                                            \n",
            "__________________________________________________________________________________________________\n",
            "char_vectorizer (TextVectorizat (None, 290)          0           char_inputs[0][0]                \n",
            "__________________________________________________________________________________________________\n",
            "universal_sentence_encoder (Ker (None, 512)          256797824   token_inputs[0][0]               \n",
            "__________________________________________________________________________________________________\n",
            "char_embed (Embedding)          (None, 290, 25)      700         char_vectorizer[6][0]            \n",
            "__________________________________________________________________________________________________\n",
            "dense_19 (Dense)                (None, 128)          65664       universal_sentence_encoder[6][0] \n",
            "__________________________________________________________________________________________________\n",
            "bidirectional_5 (Bidirectional) (None, 48)           9600        char_embed[6][0]                 \n",
            "__________________________________________________________________________________________________\n",
            "char_token_hybrid_embeddings (C (None, 176)          0           dense_19[0][0]                   \n",
            "                                                                 bidirectional_5[0][0]            \n",
            "__________________________________________________________________________________________________\n",
            "line_number_inputs (InputLayer) [(None, 15)]         0                                            \n",
            "__________________________________________________________________________________________________\n",
            "total_lines_inputs (InputLayer) [(None, 20)]         0                                            \n",
            "__________________________________________________________________________________________________\n",
            "dense_22 (Dense)                (None, 256)          45312       char_token_hybrid_embeddings[0][0\n",
            "__________________________________________________________________________________________________\n",
            "dense_20 (Dense)                (None, 32)           512         line_number_inputs[0][0]         \n",
            "__________________________________________________________________________________________________\n",
            "dense_21 (Dense)                (None, 32)           672         total_lines_inputs[0][0]         \n",
            "__________________________________________________________________________________________________\n",
            "dropout_6 (Dropout)             (None, 256)          0           dense_22[0][0]                   \n",
            "__________________________________________________________________________________________________\n",
            "char_token_positional_embedding (None, 320)          0           dense_20[0][0]                   \n",
            "                                                                 dense_21[0][0]                   \n",
            "                                                                 dropout_6[0][0]                  \n",
            "__________________________________________________________________________________________________\n",
            "output_layer (Dense)            (None, 5)            1605        char_token_positional_embedding[0\n",
            "==================================================================================================\n",
            "Total params: 256,921,889\n",
            "Trainable params: 124,065\n",
            "Non-trainable params: 256,797,824\n",
            "__________________________________________________________________________________________________\n"
          ],
          "name": "stdout"
        }
      ]
    },
    {
      "cell_type": "code",
      "metadata": {
        "colab": {
          "base_uri": "https://localhost:8080/",
          "height": 373
        },
        "id": "nph1uYVJEuiQ",
        "outputId": "121c5937-5622-47a8-d54c-fdb8ee20a280"
      },
      "source": [
        "# Plot model_5 to explore it visually\n",
        "from tensorflow.keras.utils import plot_model\n",
        "plot_model(model_5, show_shapes=True)\n"
      ],
      "execution_count": 173,
      "outputs": [
        {
          "output_type": "execute_result",
          "data": {
            "image/png": "[encoded data removed]",
            "text/plain": [
              "<IPython.core.display.Image object>"
            ]
          },
          "metadata": {
            "tags": []
          },
          "execution_count": 173
        }
      ]
    },
    {
      "cell_type": "markdown",
      "metadata": {
        "id": "MEvT8pJtHCQf"
      },
      "source": [
        "What is label smoothing?\n",
        "\n",
        "for example,if our model gets too confident on a single class (e.g its prediction probability is really high), it may get stuck on that class and not considet other classes\n",
        "\n",
        "really confident `[0.0, 0.0, 1, 0.0, 0,0]`\n",
        "\n",
        "what label smoothing does is it assigns some of the values from the highest pred prob to other classes, in turn, hopefully improving genrelization\n",
        "\n",
        "`[0.01, 0.01, 0.96, 0.01` es decir hace una reparticion\n",
        "\n",
        "\"model considera las otras probabilidades\"\n",
        "\n",
        "\n",
        "> for more on label smoothing, see this blog post from PyImageSearch:\n",
        "\n",
        "https://www.pyimagesearch.com/2019/12/30/label-smoothing-with-keras-tensorflow-and-deep-learning/\n",
        "\n",
        "\n",
        "\n",
        "\n"
      ]
    },
    {
      "cell_type": "code",
      "metadata": {
        "id": "PfDGVVLsFbRP"
      },
      "source": [
        "#Compile token, char, and positional embedding model\n",
        "\n",
        "model_5.compile(loss=tf.keras.losses.CategoricalCrossentropy(label_smoothing=0.2),# helps tu prevent overfitting\n",
        "                optimizer=tf.keras.optimizers.Adam(),\n",
        "                metrics=[\"accuracy\"])"
      ],
      "execution_count": 174,
      "outputs": []
    },
    {
      "cell_type": "markdown",
      "metadata": {
        "id": "lnyE93jqJWdb"
      },
      "source": [
        "### Create tribrid embedding datasets using tf.data\n",
        "\n",
        "\n"
      ]
    },
    {
      "cell_type": "code",
      "metadata": {
        "id": "lNlvommbJ2lW"
      },
      "source": [
        "# Create training and validation datasets( with all four kinds of inputs daa)\n",
        "\n",
        "# usar el orden adecuado\n",
        "\n",
        "train_char_token_pos_data = tf.data.Dataset.from_tensor_slices((train_line_numbers_one_hot,\n",
        "                                                                train_total_lines_one_hot,\n",
        "                                                                train_sentences,\n",
        "                                                                train_chars))\n",
        "\n",
        "train_char_token_pos_labels = tf.data.Dataset.from_tensor_slices((train_labels_one_hot))\n",
        "\n",
        "train_char_token_pos_dataset = tf.data.Dataset.zip((train_char_token_pos_data, train_char_token_pos_labels))\n",
        "\n",
        "train_char_token_pos_dataset = train_char_token_pos_dataset.batch(32).prefetch(tf.data.AUTOTUNE)\n",
        "\n",
        "# Do the same as above but for the validation dataset\n",
        "val_char_token_pos_data = tf.data.Dataset.from_tensor_slices((val_line_numbers_one_hot,\n",
        "                                                              val_total_lines_one_hot,\n",
        "                                                              val_sentences,\n",
        "                                                              val_chars))\n",
        "val_char_token_pos_labels = tf.data.Dataset.from_tensor_slices((val_labels_one_hot))\n",
        "\n",
        "val_char_token_pos_dataset = tf.data.Dataset.zip((val_char_token_pos_data, val_char_token_pos_labels))\n",
        "\n",
        "val_char_token_pos_dataset = val_char_token_pos_dataset.batch(32).prefetch(tf.data.AUTOTUNE)\n"
      ],
      "execution_count": 190,
      "outputs": []
    },
    {
      "cell_type": "code",
      "metadata": {
        "colab": {
          "base_uri": "https://localhost:8080/"
        },
        "id": "W865afwPOWJN",
        "outputId": "683e0cb2-d937-4759-fd72-cfa69ec7f160"
      },
      "source": [
        "# Check input shapes\n",
        "\n",
        "train_char_token_pos_dataset, val_char_token_pos_dataset"
      ],
      "execution_count": 191,
      "outputs": [
        {
          "output_type": "execute_result",
          "data": {
            "text/plain": [
              "(<PrefetchDataset shapes: (((None, 15), (None, 20), (None,), (None,)), (None, 5)), types: ((tf.float32, tf.float32, tf.string, tf.string), tf.float64)>,\n",
              " <PrefetchDataset shapes: (((None, 15), (None, 20), (None,), (None,)), (None, 5)), types: ((tf.float32, tf.float32, tf.string, tf.string), tf.float64)>)"
            ]
          },
          "metadata": {
            "tags": []
          },
          "execution_count": 191
        }
      ]
    },
    {
      "cell_type": "markdown",
      "metadata": {
        "id": "y_uoCH2uMmXC"
      },
      "source": [
        "### Fitting, evaluating and making predictions with our tribid model\n",
        "\n"
      ]
    },
    {
      "cell_type": "code",
      "metadata": {
        "colab": {
          "base_uri": "https://localhost:8080/"
        },
        "id": "DEiuHXsATIe3",
        "outputId": "027e1f67-29eb-4c31-fdb8-3cf33750b416"
      },
      "source": [
        "# Fit our tribrid embedding model\n",
        "\n",
        "history_model_5 = model_5.fit(train_char_token_pos_dataset,\n",
        "                              steps_per_epoch=int(0.1 * len(train_char_token_pos_dataset)),\n",
        "                              epochs=3,\n",
        "                              validation_data=val_char_token_pos_dataset,\n",
        "                              validation_steps=int(0.1 * len(val_char_token_pos_dataset)))"
      ],
      "execution_count": 193,
      "outputs": [
        {
          "output_type": "stream",
          "text": [
            "Epoch 1/3\n",
            "562/562 [==============================] - 37s 53ms/step - loss: 1.2273 - accuracy: 0.6220 - val_loss: 0.9864 - val_accuracy: 0.8029\n",
            "Epoch 2/3\n",
            "562/562 [==============================] - 27s 49ms/step - loss: 0.9736 - accuracy: 0.8102 - val_loss: 0.9507 - val_accuracy: 0.8251\n",
            "Epoch 3/3\n",
            "562/562 [==============================] - 25s 45ms/step - loss: 0.9577 - accuracy: 0.8157 - val_loss: 0.9408 - val_accuracy: 0.8328\n"
          ],
          "name": "stdout"
        }
      ]
    },
    {
      "cell_type": "code",
      "metadata": {
        "colab": {
          "base_uri": "https://localhost:8080/"
        },
        "id": "Xy3VLk0RUiwt",
        "outputId": "9a55f837-cba4-4932-81cb-7a4a155932f9"
      },
      "source": [
        "# Make predictions with the char token pos model\n",
        "\n",
        "model_5_pred_probs = model_5.predict(val_char_token_pos_dataset, verbose=1)\n",
        "\n",
        "model_5_pred_probs"
      ],
      "execution_count": 194,
      "outputs": [
        {
          "output_type": "stream",
          "text": [
            "945/945 [==============================] - 24s 22ms/step\n"
          ],
          "name": "stdout"
        },
        {
          "output_type": "execute_result",
          "data": {
            "text/plain": [
              "array([[0.50097084, 0.10666462, 0.00928902, 0.3670477 , 0.01602784],\n",
              "       [0.5417041 , 0.12240355, 0.04760695, 0.27819625, 0.01008916],\n",
              "       [0.24702562, 0.12474651, 0.09023408, 0.47792765, 0.06006616],\n",
              "       ...,\n",
              "       [0.03433565, 0.12466201, 0.04300471, 0.0316653 , 0.7663323 ],\n",
              "       [0.0308525 , 0.3332819 , 0.07689493, 0.02618459, 0.532786  ],\n",
              "       [0.22343889, 0.5892861 , 0.09517457, 0.03817714, 0.05392332]],\n",
              "      dtype=float32)"
            ]
          },
          "metadata": {
            "tags": []
          },
          "execution_count": 194
        }
      ]
    },
    {
      "cell_type": "code",
      "metadata": {
        "colab": {
          "base_uri": "https://localhost:8080/"
        },
        "id": "btwyUB7jVHAS",
        "outputId": "46003477-4e00-4e85-f128-49d887fbbf9c"
      },
      "source": [
        "# Convert pred probs to pred labels\n",
        "\n",
        "model_5_preds = tf.argmax(model_5_pred_probs, axis=1)\n",
        "\n",
        "model_5_preds"
      ],
      "execution_count": 195,
      "outputs": [
        {
          "output_type": "execute_result",
          "data": {
            "text/plain": [
              "<tf.Tensor: shape=(30212,), dtype=int64, numpy=array([0, 0, 3, ..., 4, 4, 1])>"
            ]
          },
          "metadata": {
            "tags": []
          },
          "execution_count": 195
        }
      ]
    },
    {
      "cell_type": "code",
      "metadata": {
        "colab": {
          "base_uri": "https://localhost:8080/"
        },
        "id": "X88EJzBvVby-",
        "outputId": "987f7716-339d-4dcd-999d-af720fc18a1b"
      },
      "source": [
        "# Calculate results of char token pos model\n",
        "model_5_results = calculate_results(y_true =val_labels_encoded,\n",
        "                                    y_pred=model_5_preds)\n",
        "\n",
        "model_5_results\n",
        "# a;adiendo las engineered features obtuvimos un 10 % adicional en la accuracy"
      ],
      "execution_count": 196,
      "outputs": [
        {
          "output_type": "execute_result",
          "data": {
            "text/plain": [
              "{'accuracy': 83.32450681848272,\n",
              " 'f1': 0.8326348869847351,\n",
              " 'precision': 0.8325921942876616,\n",
              " 'recall': 0.8332450681848272}"
            ]
          },
          "metadata": {
            "tags": []
          },
          "execution_count": 196
        }
      ]
    },
    {
      "cell_type": "code",
      "metadata": {
        "colab": {
          "base_uri": "https://localhost:8080/"
        },
        "id": "x-iwmbQfWTLN",
        "outputId": "7848451a-17fc-474a-e2f9-7dcc54df9b04"
      },
      "source": [
        "model_4_results"
      ],
      "execution_count": 197,
      "outputs": [
        {
          "output_type": "execute_result",
          "data": {
            "text/plain": [
              "{'accuracy': 73.28213954719979,\n",
              " 'f1': 0.7297067488786805,\n",
              " 'precision': 0.7350393887147801,\n",
              " 'recall': 0.7328213954719979}"
            ]
          },
          "metadata": {
            "tags": []
          },
          "execution_count": 197
        }
      ]
    },
    {
      "cell_type": "markdown",
      "metadata": {
        "id": "d_7keGx4WaIY"
      },
      "source": [
        "## Compare model results\n",
        "\n"
      ]
    },
    {
      "cell_type": "code",
      "metadata": {
        "colab": {
          "base_uri": "https://localhost:8080/",
          "height": 206
        },
        "id": "fe1LLAH3YLef",
        "outputId": "5d89f8b8-47e9-477a-819b-75ddc2b13225"
      },
      "source": [
        "# Combine model results into a dataframe\n",
        "\n",
        "all_model_results = pd.DataFrame({\n",
        "    \"model_0_baseline\":baseline_results,\n",
        "    \"model_1_custom_token_embedding\":model_1_results,\n",
        "    \"model_2_pretrained_token_embedding\":model_2_results,\n",
        "    \"model_3_custom_char_embedding\": model_3_results,\n",
        "    \"model_4_hybrid_char_token_embedding\":model_4_results,\n",
        "    \"model_5_pos_char_token_embedding\":model_5_results\n",
        "\n",
        "\n",
        "})\n",
        "\n",
        "all_model_results = all_model_results.transpose()\n",
        "\n",
        "all_model_results.head()"
      ],
      "execution_count": 199,
      "outputs": [
        {
          "output_type": "execute_result",
          "data": {
            "text/html": [
              "<div>\n",
              "<style scoped>\n",
              "    .dataframe tbody tr th:only-of-type {\n",
              "        vertical-align: middle;\n",
              "    }\n",
              "\n",
              "    .dataframe tbody tr th {\n",
              "        vertical-align: top;\n",
              "    }\n",
              "\n",
              "    .dataframe thead th {\n",
              "        text-align: right;\n",
              "    }\n",
              "</style>\n",
              "<table border=\"1\" class=\"dataframe\">\n",
              "  <thead>\n",
              "    <tr style=\"text-align: right;\">\n",
              "      <th></th>\n",
              "      <th>accuracy</th>\n",
              "      <th>precision</th>\n",
              "      <th>recall</th>\n",
              "      <th>f1</th>\n",
              "    </tr>\n",
              "  </thead>\n",
              "  <tbody>\n",
              "    <tr>\n",
              "      <th>model_0_baseline</th>\n",
              "      <td>72.183238</td>\n",
              "      <td>0.718647</td>\n",
              "      <td>0.721832</td>\n",
              "      <td>0.698925</td>\n",
              "    </tr>\n",
              "    <tr>\n",
              "      <th>model_1_custom_token_embedding</th>\n",
              "      <td>78.498610</td>\n",
              "      <td>0.781432</td>\n",
              "      <td>0.784986</td>\n",
              "      <td>0.782197</td>\n",
              "    </tr>\n",
              "    <tr>\n",
              "      <th>model_2_pretrained_token_embedding</th>\n",
              "      <td>71.296174</td>\n",
              "      <td>0.712820</td>\n",
              "      <td>0.712962</td>\n",
              "      <td>0.709946</td>\n",
              "    </tr>\n",
              "    <tr>\n",
              "      <th>model_3_custom_char_embedding</th>\n",
              "      <td>67.271283</td>\n",
              "      <td>0.679270</td>\n",
              "      <td>0.672713</td>\n",
              "      <td>0.668248</td>\n",
              "    </tr>\n",
              "    <tr>\n",
              "      <th>model_4_hybrid_char_token_embedding</th>\n",
              "      <td>73.282140</td>\n",
              "      <td>0.735039</td>\n",
              "      <td>0.732821</td>\n",
              "      <td>0.729707</td>\n",
              "    </tr>\n",
              "  </tbody>\n",
              "</table>\n",
              "</div>"
            ],
            "text/plain": [
              "                                      accuracy  precision    recall        f1\n",
              "model_0_baseline                     72.183238   0.718647  0.721832  0.698925\n",
              "model_1_custom_token_embedding       78.498610   0.781432  0.784986  0.782197\n",
              "model_2_pretrained_token_embedding   71.296174   0.712820  0.712962  0.709946\n",
              "model_3_custom_char_embedding        67.271283   0.679270  0.672713  0.668248\n",
              "model_4_hybrid_char_token_embedding  73.282140   0.735039  0.732821  0.729707"
            ]
          },
          "metadata": {
            "tags": []
          },
          "execution_count": 199
        }
      ]
    },
    {
      "cell_type": "code",
      "metadata": {
        "id": "ZhTBK7gqayEx"
      },
      "source": [
        "# Reduce the accuracy to same scale as other metrics\n",
        "all_model_results[\"accuracy\"] = all_model_results[\"accuracy\"]/100\n",
        "\n",
        "\n",
        "\n"
      ],
      "execution_count": 200,
      "outputs": []
    },
    {
      "cell_type": "code",
      "metadata": {
        "colab": {
          "base_uri": "https://localhost:8080/",
          "height": 639
        },
        "id": "2NmsS9Bnb2as",
        "outputId": "fdebb5bd-51a8-49ac-c321-67dc3be87876"
      },
      "source": [
        "# PLot and compare all model results\n",
        "\n",
        "all_model_results.plot(kind=\"bar\", figsize=(10, 7)).legend(bbox_to_anchor=(1.0, 1.0));"
      ],
      "execution_count": 201,
      "outputs": [
        {
          "output_type": "display_data",
          "data": {
            "image/png": "[encoded data removed]",
            "text/plain": [
              "<Figure size 720x504 with 1 Axes>"
            ]
          },
          "metadata": {
            "tags": [],
            "needs_background": "light"
          }
        }
      ]
    },
    {
      "cell_type": "code",
      "metadata": {
        "colab": {
          "base_uri": "https://localhost:8080/",
          "height": 638
        },
        "id": "B84oS24Wcam1",
        "outputId": "c62c4a95-549c-4b33-abed-7ba833206d6f"
      },
      "source": [
        "# sort models results by f1-score\n",
        "\n",
        "all_model_results.sort_values(\"f1\", ascending=False)[\"f1\"].plot(kind=\"bar\",figsize=(10, 7))"
      ],
      "execution_count": 202,
      "outputs": [
        {
          "output_type": "execute_result",
          "data": {
            "text/plain": [
              "<matplotlib.axes._subplots.AxesSubplot at 0x7fb512a74250>"
            ]
          },
          "metadata": {
            "tags": []
          },
          "execution_count": 202
        },
        {
          "output_type": "display_data",
          "data": {
            "image/png": "[encoded data removed]",
            "text/plain": [
              "<Figure size 720x504 with 1 Axes>"
            ]
          },
          "metadata": {
            "tags": [],
            "needs_background": "light"
          }
        }
      ]
    },
    {
      "cell_type": "markdown",
      "metadata": {
        "id": "v8psxqIWe7U0"
      },
      "source": [
        "## Save and load model"
      ]
    },
    {
      "cell_type": "code",
      "metadata": {
        "colab": {
          "base_uri": "https://localhost:8080/"
        },
        "id": "F3UFZaGpfoKT",
        "outputId": "85739cb0-1e5a-485b-c32a-07cd5e9007d5"
      },
      "source": [
        "\n",
        "# Save the best perfoming model to SaveModel format (Default)\n",
        "\n",
        "model_5.save(\"skimlit_tribrid_model\")"
      ],
      "execution_count": 203,
      "outputs": [
        {
          "output_type": "stream",
          "text": [
            "WARNING:absl:Found untraced functions such as lstm_cell_16_layer_call_fn, lstm_cell_16_layer_call_and_return_conditional_losses, lstm_cell_17_layer_call_fn, lstm_cell_17_layer_call_and_return_conditional_losses, lstm_cell_16_layer_call_fn while saving (showing 5 of 10). These functions will not be directly callable after loading.\n",
            "WARNING:absl:Found untraced functions such as lstm_cell_16_layer_call_fn, lstm_cell_16_layer_call_and_return_conditional_losses, lstm_cell_17_layer_call_fn, lstm_cell_17_layer_call_and_return_conditional_losses, lstm_cell_16_layer_call_fn while saving (showing 5 of 10). These functions will not be directly callable after loading.\n"
          ],
          "name": "stderr"
        },
        {
          "output_type": "stream",
          "text": [
            "INFO:tensorflow:Assets written to: skimlit_tribrid_model/assets\n"
          ],
          "name": "stdout"
        },
        {
          "output_type": "stream",
          "text": [
            "INFO:tensorflow:Assets written to: skimlit_tribrid_model/assets\n"
          ],
          "name": "stderr"
        }
      ]
    },
    {
      "cell_type": "code",
      "metadata": {
        "id": "CwSI5flYgAls"
      },
      "source": [
        "# Load in best perfoming model\n",
        "\n",
        "loaded_model = tf.keras.models.load_model(\"skimlit_tribrid_model\")"
      ],
      "execution_count": 204,
      "outputs": []
    },
    {
      "cell_type": "code",
      "metadata": {
        "colab": {
          "base_uri": "https://localhost:8080/"
        },
        "id": "da9R7P5Ag03w",
        "outputId": "da6e5b4a-f85a-48ce-e882-58cebfc06679"
      },
      "source": [
        "model_5_results"
      ],
      "execution_count": 205,
      "outputs": [
        {
          "output_type": "execute_result",
          "data": {
            "text/plain": [
              "{'accuracy': 83.32450681848272,\n",
              " 'f1': 0.8326348869847351,\n",
              " 'precision': 0.8325921942876616,\n",
              " 'recall': 0.8332450681848272}"
            ]
          },
          "metadata": {
            "tags": []
          },
          "execution_count": 205
        }
      ]
    },
    {
      "cell_type": "code",
      "metadata": {
        "colab": {
          "base_uri": "https://localhost:8080/"
        },
        "id": "Pi7x2PqKg-hT",
        "outputId": "9112645d-f4b7-4949-d142-8fbdb75b3310"
      },
      "source": [
        "# Make prediction with the loaded model on the validation set\n",
        "loaded_pred_probs = loaded_model.predict(val_char_token_pos_dataset)\n",
        "\n",
        "loaded_preds = tf.argmax(loaded_pred_probs, axis=1)\n",
        "\n",
        "loaded_preds[:10]"
      ],
      "execution_count": 206,
      "outputs": [
        {
          "output_type": "execute_result",
          "data": {
            "text/plain": [
              "<tf.Tensor: shape=(10,), dtype=int64, numpy=array([0, 0, 3, 2, 2, 4, 4, 4, 4, 1])>"
            ]
          },
          "metadata": {
            "tags": []
          },
          "execution_count": 206
        }
      ]
    },
    {
      "cell_type": "code",
      "metadata": {
        "colab": {
          "base_uri": "https://localhost:8080/"
        },
        "id": "gmjFeiQUhiC7",
        "outputId": "aee3025d-e795-47ca-c3f4-c5630073e3a8"
      },
      "source": [
        "# Calcualte the results of our loaded model\n",
        "\n",
        "loaded_model_results = calculate_results(y_true=val_labels_encoded,\n",
        "                                         y_pred=loaded_preds)\n",
        "\n",
        "loaded_model_results"
      ],
      "execution_count": 208,
      "outputs": [
        {
          "output_type": "execute_result",
          "data": {
            "text/plain": [
              "{'accuracy': 83.32450681848272,\n",
              " 'f1': 0.8326348869847351,\n",
              " 'precision': 0.8325921942876616,\n",
              " 'recall': 0.8332450681848272}"
            ]
          },
          "metadata": {
            "tags": []
          },
          "execution_count": 208
        }
      ]
    },
    {
      "cell_type": "code",
      "metadata": {
        "colab": {
          "base_uri": "https://localhost:8080/"
        },
        "id": "0gJrF551iAEx",
        "outputId": "9b23e92f-5c36-429a-a16e-a36dda4f2a4c"
      },
      "source": [
        "model_5_results"
      ],
      "execution_count": 209,
      "outputs": [
        {
          "output_type": "execute_result",
          "data": {
            "text/plain": [
              "{'accuracy': 83.32450681848272,\n",
              " 'f1': 0.8326348869847351,\n",
              " 'precision': 0.8325921942876616,\n",
              " 'recall': 0.8332450681848272}"
            ]
          },
          "metadata": {
            "tags": []
          },
          "execution_count": 209
        }
      ]
    },
    {
      "cell_type": "code",
      "metadata": {
        "id": "c4q7-cQCiIuY"
      },
      "source": [
        "assert model_5_results == loaded_model_results"
      ],
      "execution_count": 210,
      "outputs": []
    },
    {
      "cell_type": "code",
      "metadata": {
        "colab": {
          "base_uri": "https://localhost:8080/"
        },
        "id": "6VQMinQmiWes",
        "outputId": "4e035c28-7dd3-41a7-e297-e9bb4fa4e6c1"
      },
      "source": [
        "# Check the loaded model summary\n",
        "\n",
        "loaded_model.summary()"
      ],
      "execution_count": 211,
      "outputs": [
        {
          "output_type": "stream",
          "text": [
            "Model: \"tribid_embeddings_model\"\n",
            "__________________________________________________________________________________________________\n",
            "Layer (type)                    Output Shape         Param #     Connected to                     \n",
            "==================================================================================================\n",
            "char_inputs (InputLayer)        [(None, 1)]          0                                            \n",
            "__________________________________________________________________________________________________\n",
            "token_inputs (InputLayer)       [(None,)]            0                                            \n",
            "__________________________________________________________________________________________________\n",
            "char_vectorizer (TextVectorizat (None, 290)          0           char_inputs[0][0]                \n",
            "__________________________________________________________________________________________________\n",
            "universal_sentence_encoder (Ker (None, 512)          256797824   token_inputs[0][0]               \n",
            "__________________________________________________________________________________________________\n",
            "char_embed (Embedding)          (None, 290, 25)      700         char_vectorizer[0][0]            \n",
            "__________________________________________________________________________________________________\n",
            "dense_19 (Dense)                (None, 128)          65664       universal_sentence_encoder[0][0] \n",
            "__________________________________________________________________________________________________\n",
            "bidirectional_5 (Bidirectional) (None, 48)           9600        char_embed[0][0]                 \n",
            "__________________________________________________________________________________________________\n",
            "char_token_hybrid_embeddings (C (None, 176)          0           dense_19[0][0]                   \n",
            "                                                                 bidirectional_5[0][0]            \n",
            "__________________________________________________________________________________________________\n",
            "line_number_inputs (InputLayer) [(None, 15)]         0                                            \n",
            "__________________________________________________________________________________________________\n",
            "total_lines_inputs (InputLayer) [(None, 20)]         0                                            \n",
            "__________________________________________________________________________________________________\n",
            "dense_22 (Dense)                (None, 256)          45312       char_token_hybrid_embeddings[0][0\n",
            "__________________________________________________________________________________________________\n",
            "dense_20 (Dense)                (None, 32)           512         line_number_inputs[0][0]         \n",
            "__________________________________________________________________________________________________\n",
            "dense_21 (Dense)                (None, 32)           672         total_lines_inputs[0][0]         \n",
            "__________________________________________________________________________________________________\n",
            "dropout_6 (Dropout)             (None, 256)          0           dense_22[0][0]                   \n",
            "__________________________________________________________________________________________________\n",
            "char_token_positional_embedding (None, 320)          0           dense_20[0][0]                   \n",
            "                                                                 dense_21[0][0]                   \n",
            "                                                                 dropout_6[0][0]                  \n",
            "__________________________________________________________________________________________________\n",
            "output_layer (Dense)            (None, 5)            1605        char_token_positional_embedding[0\n",
            "==================================================================================================\n",
            "Total params: 256,921,889\n",
            "Trainable params: 256,921,889\n",
            "Non-trainable params: 0\n",
            "__________________________________________________________________________________________________\n"
          ],
          "name": "stdout"
        }
      ]
    },
    {
      "cell_type": "markdown",
      "metadata": {
        "id": "JyNR29heihAA"
      },
      "source": [
        "## Download and load in a pretained model from google Storage\n",
        "\n"
      ]
    },
    {
      "cell_type": "code",
      "metadata": {
        "id": "m-r_O9wWjROZ"
      },
      "source": [
        "import tensorflow as tf\n",
        "\n",
        "import tensorflow_hub as hub\n",
        "\n",
        "from tensorflow.keras.layers.experimental.preprocessing import TextVectorization\n",
        "\n",
        "\n",
        "\n",
        "\n"
      ],
      "execution_count": 212,
      "outputs": []
    },
    {
      "cell_type": "code",
      "metadata": {
        "colab": {
          "base_uri": "https://localhost:8080/"
        },
        "id": "i82UJ_7qkRgu",
        "outputId": "684bd7dc-459a-4e66-e205-6f4cbfa92e6f"
      },
      "source": [
        "!wget https://storage.googleapis.com/ztm_tf_course/skimlit/skimlit_tribrid_model.zip"
      ],
      "execution_count": 213,
      "outputs": [
        {
          "output_type": "stream",
          "text": [
            "--2021-05-21 01:39:10--  https://storage.googleapis.com/ztm_tf_course/skimlit/skimlit_tribrid_model.zip\n",
            "Resolving storage.googleapis.com (storage.googleapis.com)... 142.250.101.128, 142.250.141.128, 2607:f8b0:4023:c06::80, ...\n",
            "Connecting to storage.googleapis.com (storage.googleapis.com)|142.250.101.128|:443... connected.\n",
            "HTTP request sent, awaiting response... 200 OK\n",
            "Length: 962957902 (918M) [application/zip]\n",
            "Saving to: ‘skimlit_tribrid_model.zip’\n",
            "\n",
            "skimlit_tribrid_mod 100%[===================>] 918.35M   106MB/s    in 9.8s    \n",
            "\n",
            "2021-05-21 01:39:20 (93.3 MB/s) - ‘skimlit_tribrid_model.zip’ saved [962957902/962957902]\n",
            "\n"
          ],
          "name": "stdout"
        }
      ]
    },
    {
      "cell_type": "code",
      "metadata": {
        "colab": {
          "base_uri": "https://localhost:8080/"
        },
        "id": "cYu-W6uRkT88",
        "outputId": "e051e882-f7a9-417b-aa84-ee6bfef16ccd"
      },
      "source": [
        "!mkdir skimlit_gs_model\n",
        "\n",
        "#descomprimer en la la carpeta creada arriba\n",
        "!unzip skimlit_tribrid_model.zip -d skimlit_gs_model"
      ],
      "execution_count": 214,
      "outputs": [
        {
          "output_type": "stream",
          "text": [
            "Archive:  skimlit_tribrid_model.zip\n",
            "   creating: skimlit_gs_model/skimlit_tribrid_model/\n",
            "   creating: skimlit_gs_model/skimlit_tribrid_model/assets/\n",
            "   creating: skimlit_gs_model/skimlit_tribrid_model/variables/\n",
            "  inflating: skimlit_gs_model/skimlit_tribrid_model/variables/variables.index  \n",
            "  inflating: skimlit_gs_model/skimlit_tribrid_model/variables/variables.data-00000-of-00001  \n",
            "  inflating: skimlit_gs_model/skimlit_tribrid_model/saved_model.pb  \n"
          ],
          "name": "stdout"
        }
      ]
    },
    {
      "cell_type": "code",
      "metadata": {
        "colab": {
          "base_uri": "https://localhost:8080/"
        },
        "id": "dtGQQlUpk0Cb",
        "outputId": "31b4d3c4-6eb8-449a-e64d-063dc5116dcb"
      },
      "source": [
        "# Load in downloaded Google storage model\n",
        "\n",
        "loaded_gs_model = tf.keras.models.load_model(\"skimlit_gs_model/skimlit_tribrid_model/\")\n",
        "\n",
        "\n"
      ],
      "execution_count": 215,
      "outputs": [
        {
          "output_type": "stream",
          "text": [
            "WARNING:tensorflow:5 out of the last 5 calls to <function recreate_function.<locals>.restored_function_body at 0x7fb503f1d680> triggered tf.function retracing. Tracing is expensive and the excessive number of tracings could be due to (1) creating @tf.function repeatedly in a loop, (2) passing tensors with different shapes, (3) passing Python objects instead of tensors. For (1), please define your @tf.function outside of the loop. For (2), @tf.function has experimental_relax_shapes=True option that relaxes argument shapes that can avoid unnecessary retracing. For (3), please refer to https://www.tensorflow.org/guide/function#controlling_retracing and https://www.tensorflow.org/api_docs/python/tf/function for  more details.\n"
          ],
          "name": "stdout"
        },
        {
          "output_type": "stream",
          "text": [
            "WARNING:tensorflow:5 out of the last 5 calls to <function recreate_function.<locals>.restored_function_body at 0x7fb503f1d680> triggered tf.function retracing. Tracing is expensive and the excessive number of tracings could be due to (1) creating @tf.function repeatedly in a loop, (2) passing tensors with different shapes, (3) passing Python objects instead of tensors. For (1), please define your @tf.function outside of the loop. For (2), @tf.function has experimental_relax_shapes=True option that relaxes argument shapes that can avoid unnecessary retracing. For (3), please refer to https://www.tensorflow.org/guide/function#controlling_retracing and https://www.tensorflow.org/api_docs/python/tf/function for  more details.\n"
          ],
          "name": "stderr"
        },
        {
          "output_type": "stream",
          "text": [
            "WARNING:tensorflow:6 out of the last 6 calls to <function recreate_function.<locals>.restored_function_body at 0x7fb503f28950> triggered tf.function retracing. Tracing is expensive and the excessive number of tracings could be due to (1) creating @tf.function repeatedly in a loop, (2) passing tensors with different shapes, (3) passing Python objects instead of tensors. For (1), please define your @tf.function outside of the loop. For (2), @tf.function has experimental_relax_shapes=True option that relaxes argument shapes that can avoid unnecessary retracing. For (3), please refer to https://www.tensorflow.org/guide/function#controlling_retracing and https://www.tensorflow.org/api_docs/python/tf/function for  more details.\n"
          ],
          "name": "stdout"
        },
        {
          "output_type": "stream",
          "text": [
            "WARNING:tensorflow:6 out of the last 6 calls to <function recreate_function.<locals>.restored_function_body at 0x7fb503f28950> triggered tf.function retracing. Tracing is expensive and the excessive number of tracings could be due to (1) creating @tf.function repeatedly in a loop, (2) passing tensors with different shapes, (3) passing Python objects instead of tensors. For (1), please define your @tf.function outside of the loop. For (2), @tf.function has experimental_relax_shapes=True option that relaxes argument shapes that can avoid unnecessary retracing. For (3), please refer to https://www.tensorflow.org/guide/function#controlling_retracing and https://www.tensorflow.org/api_docs/python/tf/function for  more details.\n"
          ],
          "name": "stderr"
        }
      ]
    },
    {
      "cell_type": "code",
      "metadata": {
        "colab": {
          "base_uri": "https://localhost:8080/"
        },
        "id": "TQX8oJn5leXE",
        "outputId": "4feed7a7-e82c-4571-a1fe-a56e4ca3f608"
      },
      "source": [
        "# Evaluate the loaded Google Storage model\n",
        "\n",
        "loaded_gs_model.evaluate(val_char_token_pos_dataset)"
      ],
      "execution_count": 218,
      "outputs": [
        {
          "output_type": "stream",
          "text": [
            "945/945 [==============================] - 23s 22ms/step - loss: 0.9459 - accuracy: 0.8283\n"
          ],
          "name": "stdout"
        },
        {
          "output_type": "execute_result",
          "data": {
            "text/plain": [
              "[0.9459028244018555, 0.8283132314682007]"
            ]
          },
          "metadata": {
            "tags": []
          },
          "execution_count": 218
        }
      ]
    },
    {
      "cell_type": "markdown",
      "metadata": {
        "id": "kBhW7n8_mI_j"
      },
      "source": [
        "## Your challengess\n",
        "\n",
        "1. Turn the test data samples into a tf.data Dataset(fast loading) and then\n",
        "evaluate (make predictions) the best perfoming model on the test samples.\n",
        "\n",
        "2. Find the most wrong prediction from 1 ( these are the samples where the model has predicted the wrong label with the hieghest prediction probability).\n",
        "\n",
        "\n",
        "3. Make example predictios (on RCT abstractrs from the wild), you can go to PubMed to find these\n",
        "\n",
        "\n",
        "\n",
        "\n"
      ]
    },
    {
      "cell_type": "code",
      "metadata": {
        "id": "ovrr1g5YlzH_"
      },
      "source": [
        ""
      ],
      "execution_count": null,
      "outputs": []
    }
  ]
}