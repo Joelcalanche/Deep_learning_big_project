{
  "nbformat": 4,
  "nbformat_minor": 0,
  "metadata": {
    "colab": {
      "name": "08_introduction_to_nlp_in_tensorflow.ipynb",
      "provenance": [],
      "collapsed_sections": [
        "tIOEEz5fMguK"
      ]
    },
    "kernelspec": {
      "name": "python3",
      "display_name": "Python 3"
    },
    "language_info": {
      "name": "python"
    },
    "accelerator": "GPU"
  },
  "cells": [
    {
      "cell_type": "code",
      "metadata": {
        "id": "ntQvYzlyVhhJ"
      },
      "source": [
        ""
      ],
      "execution_count": null,
      "outputs": []
    },
    {
      "cell_type": "markdown",
      "metadata": {
        "id": "tIOEEz5fMguK"
      },
      "source": [
        "## Introduction to NLP Fundamentals in TensorFLow\n",
        "\n",
        "NLP has the goal of deriving information out of natural lenguage(could be sequences text or speech)\n",
        "\n",
        "Another common term for NLP problems is sequence to sequence problems (seq2seq).\n"
      ]
    },
    {
      "cell_type": "markdown",
      "metadata": {
        "id": "VaHQy5vfNiKj"
      },
      "source": [
        "## Check for GPU"
      ]
    },
    {
      "cell_type": "code",
      "metadata": {
        "colab": {
          "base_uri": "https://localhost:8080/"
        },
        "id": "lK0ZyPeIOJwO",
        "outputId": "e72013ac-2f7b-4f75-8aef-aabcecc50b11"
      },
      "source": [
        "!nvidia-smi "
      ],
      "execution_count": 75,
      "outputs": [
        {
          "output_type": "stream",
          "text": [
            "Wed May 19 20:27:41 2021       \n",
            "+-----------------------------------------------------------------------------+\n",
            "| NVIDIA-SMI 465.19.01    Driver Version: 460.32.03    CUDA Version: 11.2     |\n",
            "|-------------------------------+----------------------+----------------------+\n",
            "| GPU  Name        Persistence-M| Bus-Id        Disp.A | Volatile Uncorr. ECC |\n",
            "| Fan  Temp  Perf  Pwr:Usage/Cap|         Memory-Usage | GPU-Util  Compute M. |\n",
            "|                               |                      |               MIG M. |\n",
            "|===============================+======================+======================|\n",
            "|   0  Tesla T4            Off  | 00000000:00:04.0 Off |                    0 |\n",
            "| N/A   66C    P0    30W /  70W |    842MiB / 15109MiB |      0%      Default |\n",
            "|                               |                      |                  N/A |\n",
            "+-------------------------------+----------------------+----------------------+\n",
            "                                                                               \n",
            "+-----------------------------------------------------------------------------+\n",
            "| Processes:                                                                  |\n",
            "|  GPU   GI   CI        PID   Type   Process name                  GPU Memory |\n",
            "|        ID   ID                                                   Usage      |\n",
            "|=============================================================================|\n",
            "+-----------------------------------------------------------------------------+\n"
          ],
          "name": "stdout"
        }
      ]
    },
    {
      "cell_type": "markdown",
      "metadata": {
        "id": "NAkA31TEON-n"
      },
      "source": [
        "## Get helper functions"
      ]
    },
    {
      "cell_type": "code",
      "metadata": {
        "colab": {
          "base_uri": "https://localhost:8080/"
        },
        "id": "Rar8iRB0Om7y",
        "outputId": "893ebfd6-e0bb-4a32-84b5-44db6b1af604"
      },
      "source": [
        "!wget https://raw.githubusercontent.com/mrdbourke/tensorflow-deep-learning/main/extras/helper_functions.py"
      ],
      "execution_count": 76,
      "outputs": [
        {
          "output_type": "stream",
          "text": [
            "--2021-05-19 20:27:42--  https://raw.githubusercontent.com/mrdbourke/tensorflow-deep-learning/main/extras/helper_functions.py\n",
            "Resolving raw.githubusercontent.com (raw.githubusercontent.com)... 185.199.111.133, 185.199.108.133, 185.199.110.133, ...\n",
            "Connecting to raw.githubusercontent.com (raw.githubusercontent.com)|185.199.111.133|:443... connected.\n",
            "HTTP request sent, awaiting response... 200 OK\n",
            "Length: 10246 (10K) [text/plain]\n",
            "Saving to: ‘helper_functions.py.1’\n",
            "\n",
            "\rhelper_functions.py   0%[                    ]       0  --.-KB/s               \rhelper_functions.py 100%[===================>]  10.01K  --.-KB/s    in 0s      \n",
            "\n",
            "2021-05-19 20:27:42 (107 MB/s) - ‘helper_functions.py.1’ saved [10246/10246]\n",
            "\n"
          ],
          "name": "stdout"
        }
      ]
    },
    {
      "cell_type": "code",
      "metadata": {
        "id": "WiatynjVO7OU"
      },
      "source": [
        "# Import series of helper functions for the notebook\n",
        "\n",
        "from helper_functions import unzip_data, create_tensorboard_callback, plot_loss_curves, compare_historys"
      ],
      "execution_count": 77,
      "outputs": []
    },
    {
      "cell_type": "markdown",
      "metadata": {
        "id": "wJoLP4zCPO2o"
      },
      "source": [
        "## Get a text dataset\n",
        "\n",
        "The dataset we're going to be using is Kaggle's introduction to NLP datasets (text samples of Tweets labelled as disaster or not disasster).\n",
        "\n",
        "See  the original source here:\n",
        "https://www.kaggle.com/c/nlp-getting-started"
      ]
    },
    {
      "cell_type": "code",
      "metadata": {
        "colab": {
          "base_uri": "https://localhost:8080/"
        },
        "id": "l1OCKw-XPdFP",
        "outputId": "f4d6daad-3d15-4d5c-ddf1-a66d8e368e34"
      },
      "source": [
        "!wget https://storage.googleapis.com/ztm_tf_course/nlp_getting_started.zip"
      ],
      "execution_count": 78,
      "outputs": [
        {
          "output_type": "stream",
          "text": [
            "--2021-05-19 20:27:43--  https://storage.googleapis.com/ztm_tf_course/nlp_getting_started.zip\n",
            "Resolving storage.googleapis.com (storage.googleapis.com)... 142.250.81.208, 142.251.33.208, 172.217.7.240, ...\n",
            "Connecting to storage.googleapis.com (storage.googleapis.com)|142.250.81.208|:443... connected.\n",
            "HTTP request sent, awaiting response... 200 OK\n",
            "Length: 607343 (593K) [application/zip]\n",
            "Saving to: ‘nlp_getting_started.zip.1’\n",
            "\n",
            "\r          nlp_getti   0%[                    ]       0  --.-KB/s               \rnlp_getting_started 100%[===================>] 593.11K  --.-KB/s    in 0.004s  \n",
            "\n",
            "2021-05-19 20:27:43 (132 MB/s) - ‘nlp_getting_started.zip.1’ saved [607343/607343]\n",
            "\n"
          ],
          "name": "stdout"
        }
      ]
    },
    {
      "cell_type": "code",
      "metadata": {
        "id": "mdqultEuQcJB"
      },
      "source": [
        "# Unzip data\n",
        "\n",
        "unzip_data(\"nlp_getting_started.zip\")"
      ],
      "execution_count": 79,
      "outputs": []
    },
    {
      "cell_type": "markdown",
      "metadata": {
        "id": "zwnK6jV1QqZc"
      },
      "source": [
        "## Visualizing a text dataset\n",
        "\n",
        "To visualze or text samples, we first have to read them in, one way to do so would' be to use  Python : https://realpython.com/read-write-files-python/\n",
        "\n",
        "but i prefer to get visual straight away\n",
        "\n",
        "So another way to do this is to use pandas."
      ]
    },
    {
      "cell_type": "code",
      "metadata": {
        "colab": {
          "base_uri": "https://localhost:8080/",
          "height": 206
        },
        "id": "C-zUg_kERHX0",
        "outputId": "c2711d51-5c09-4fbe-d5a2-17d6d7eb7c34"
      },
      "source": [
        "import pandas as pd\n",
        "\n",
        "train_df = pd.read_csv(\"train.csv\")\n",
        "\n",
        "test_df = pd.read_csv(\"test.csv\")\n",
        "\n",
        "train_df.head()"
      ],
      "execution_count": 80,
      "outputs": [
        {
          "output_type": "execute_result",
          "data": {
            "text/html": [
              "<div>\n",
              "<style scoped>\n",
              "    .dataframe tbody tr th:only-of-type {\n",
              "        vertical-align: middle;\n",
              "    }\n",
              "\n",
              "    .dataframe tbody tr th {\n",
              "        vertical-align: top;\n",
              "    }\n",
              "\n",
              "    .dataframe thead th {\n",
              "        text-align: right;\n",
              "    }\n",
              "</style>\n",
              "<table border=\"1\" class=\"dataframe\">\n",
              "  <thead>\n",
              "    <tr style=\"text-align: right;\">\n",
              "      <th></th>\n",
              "      <th>id</th>\n",
              "      <th>keyword</th>\n",
              "      <th>location</th>\n",
              "      <th>text</th>\n",
              "      <th>target</th>\n",
              "    </tr>\n",
              "  </thead>\n",
              "  <tbody>\n",
              "    <tr>\n",
              "      <th>0</th>\n",
              "      <td>1</td>\n",
              "      <td>NaN</td>\n",
              "      <td>NaN</td>\n",
              "      <td>Our Deeds are the Reason of this #earthquake M...</td>\n",
              "      <td>1</td>\n",
              "    </tr>\n",
              "    <tr>\n",
              "      <th>1</th>\n",
              "      <td>4</td>\n",
              "      <td>NaN</td>\n",
              "      <td>NaN</td>\n",
              "      <td>Forest fire near La Ronge Sask. Canada</td>\n",
              "      <td>1</td>\n",
              "    </tr>\n",
              "    <tr>\n",
              "      <th>2</th>\n",
              "      <td>5</td>\n",
              "      <td>NaN</td>\n",
              "      <td>NaN</td>\n",
              "      <td>All residents asked to 'shelter in place' are ...</td>\n",
              "      <td>1</td>\n",
              "    </tr>\n",
              "    <tr>\n",
              "      <th>3</th>\n",
              "      <td>6</td>\n",
              "      <td>NaN</td>\n",
              "      <td>NaN</td>\n",
              "      <td>13,000 people receive #wildfires evacuation or...</td>\n",
              "      <td>1</td>\n",
              "    </tr>\n",
              "    <tr>\n",
              "      <th>4</th>\n",
              "      <td>7</td>\n",
              "      <td>NaN</td>\n",
              "      <td>NaN</td>\n",
              "      <td>Just got sent this photo from Ruby #Alaska as ...</td>\n",
              "      <td>1</td>\n",
              "    </tr>\n",
              "  </tbody>\n",
              "</table>\n",
              "</div>"
            ],
            "text/plain": [
              "   id keyword  ...                                               text target\n",
              "0   1     NaN  ...  Our Deeds are the Reason of this #earthquake M...      1\n",
              "1   4     NaN  ...             Forest fire near La Ronge Sask. Canada      1\n",
              "2   5     NaN  ...  All residents asked to 'shelter in place' are ...      1\n",
              "3   6     NaN  ...  13,000 people receive #wildfires evacuation or...      1\n",
              "4   7     NaN  ...  Just got sent this photo from Ruby #Alaska as ...      1\n",
              "\n",
              "[5 rows x 5 columns]"
            ]
          },
          "metadata": {
            "tags": []
          },
          "execution_count": 80
        }
      ]
    },
    {
      "cell_type": "code",
      "metadata": {
        "colab": {
          "base_uri": "https://localhost:8080/",
          "height": 36
        },
        "id": "ABTK4BZzSpC-",
        "outputId": "3154dc48-0415-494f-b3d8-806447f00233"
      },
      "source": [
        "train_df[\"text\"][1]"
      ],
      "execution_count": 81,
      "outputs": [
        {
          "output_type": "execute_result",
          "data": {
            "application/vnd.google.colaboratory.intrinsic+json": {
              "type": "string"
            },
            "text/plain": [
              "'Forest fire near La Ronge Sask. Canada'"
            ]
          },
          "metadata": {
            "tags": []
          },
          "execution_count": 81
        }
      ]
    },
    {
      "cell_type": "code",
      "metadata": {
        "colab": {
          "base_uri": "https://localhost:8080/",
          "height": 293
        },
        "id": "QCjEm1aKS14Z",
        "outputId": "cd296d22-61a2-47b0-98bc-4db9e88025ae"
      },
      "source": [
        "# Shuffle training dataframe\n",
        "\n",
        "train_df_shuffled = train_df.sample(frac=1, random_state=42)\n",
        "\n",
        "train_df_shuffled.head()"
      ],
      "execution_count": 82,
      "outputs": [
        {
          "output_type": "execute_result",
          "data": {
            "text/html": [
              "<div>\n",
              "<style scoped>\n",
              "    .dataframe tbody tr th:only-of-type {\n",
              "        vertical-align: middle;\n",
              "    }\n",
              "\n",
              "    .dataframe tbody tr th {\n",
              "        vertical-align: top;\n",
              "    }\n",
              "\n",
              "    .dataframe thead th {\n",
              "        text-align: right;\n",
              "    }\n",
              "</style>\n",
              "<table border=\"1\" class=\"dataframe\">\n",
              "  <thead>\n",
              "    <tr style=\"text-align: right;\">\n",
              "      <th></th>\n",
              "      <th>id</th>\n",
              "      <th>keyword</th>\n",
              "      <th>location</th>\n",
              "      <th>text</th>\n",
              "      <th>target</th>\n",
              "    </tr>\n",
              "  </thead>\n",
              "  <tbody>\n",
              "    <tr>\n",
              "      <th>2644</th>\n",
              "      <td>3796</td>\n",
              "      <td>destruction</td>\n",
              "      <td>NaN</td>\n",
              "      <td>So you have a new weapon that can cause un-ima...</td>\n",
              "      <td>1</td>\n",
              "    </tr>\n",
              "    <tr>\n",
              "      <th>2227</th>\n",
              "      <td>3185</td>\n",
              "      <td>deluge</td>\n",
              "      <td>NaN</td>\n",
              "      <td>The f$&amp;amp;@ing things I do for #GISHWHES Just...</td>\n",
              "      <td>0</td>\n",
              "    </tr>\n",
              "    <tr>\n",
              "      <th>5448</th>\n",
              "      <td>7769</td>\n",
              "      <td>police</td>\n",
              "      <td>UK</td>\n",
              "      <td>DT @georgegalloway: RT @Galloway4Mayor: ÛÏThe...</td>\n",
              "      <td>1</td>\n",
              "    </tr>\n",
              "    <tr>\n",
              "      <th>132</th>\n",
              "      <td>191</td>\n",
              "      <td>aftershock</td>\n",
              "      <td>NaN</td>\n",
              "      <td>Aftershock back to school kick off was great. ...</td>\n",
              "      <td>0</td>\n",
              "    </tr>\n",
              "    <tr>\n",
              "      <th>6845</th>\n",
              "      <td>9810</td>\n",
              "      <td>trauma</td>\n",
              "      <td>Montgomery County, MD</td>\n",
              "      <td>in response to trauma Children of Addicts deve...</td>\n",
              "      <td>0</td>\n",
              "    </tr>\n",
              "  </tbody>\n",
              "</table>\n",
              "</div>"
            ],
            "text/plain": [
              "        id  ... target\n",
              "2644  3796  ...      1\n",
              "2227  3185  ...      0\n",
              "5448  7769  ...      1\n",
              "132    191  ...      0\n",
              "6845  9810  ...      0\n",
              "\n",
              "[5 rows x 5 columns]"
            ]
          },
          "metadata": {
            "tags": []
          },
          "execution_count": 82
        }
      ]
    },
    {
      "cell_type": "code",
      "metadata": {
        "colab": {
          "base_uri": "https://localhost:8080/",
          "height": 206
        },
        "id": "p6WuWMLjTdcM",
        "outputId": "96b89016-4cf1-4da9-854d-a29df5cbeaf8"
      },
      "source": [
        "# What does the test dataframe look like ?\n",
        "\n",
        "test_df.head()"
      ],
      "execution_count": 83,
      "outputs": [
        {
          "output_type": "execute_result",
          "data": {
            "text/html": [
              "<div>\n",
              "<style scoped>\n",
              "    .dataframe tbody tr th:only-of-type {\n",
              "        vertical-align: middle;\n",
              "    }\n",
              "\n",
              "    .dataframe tbody tr th {\n",
              "        vertical-align: top;\n",
              "    }\n",
              "\n",
              "    .dataframe thead th {\n",
              "        text-align: right;\n",
              "    }\n",
              "</style>\n",
              "<table border=\"1\" class=\"dataframe\">\n",
              "  <thead>\n",
              "    <tr style=\"text-align: right;\">\n",
              "      <th></th>\n",
              "      <th>id</th>\n",
              "      <th>keyword</th>\n",
              "      <th>location</th>\n",
              "      <th>text</th>\n",
              "    </tr>\n",
              "  </thead>\n",
              "  <tbody>\n",
              "    <tr>\n",
              "      <th>0</th>\n",
              "      <td>0</td>\n",
              "      <td>NaN</td>\n",
              "      <td>NaN</td>\n",
              "      <td>Just happened a terrible car crash</td>\n",
              "    </tr>\n",
              "    <tr>\n",
              "      <th>1</th>\n",
              "      <td>2</td>\n",
              "      <td>NaN</td>\n",
              "      <td>NaN</td>\n",
              "      <td>Heard about #earthquake is different cities, s...</td>\n",
              "    </tr>\n",
              "    <tr>\n",
              "      <th>2</th>\n",
              "      <td>3</td>\n",
              "      <td>NaN</td>\n",
              "      <td>NaN</td>\n",
              "      <td>there is a forest fire at spot pond, geese are...</td>\n",
              "    </tr>\n",
              "    <tr>\n",
              "      <th>3</th>\n",
              "      <td>9</td>\n",
              "      <td>NaN</td>\n",
              "      <td>NaN</td>\n",
              "      <td>Apocalypse lighting. #Spokane #wildfires</td>\n",
              "    </tr>\n",
              "    <tr>\n",
              "      <th>4</th>\n",
              "      <td>11</td>\n",
              "      <td>NaN</td>\n",
              "      <td>NaN</td>\n",
              "      <td>Typhoon Soudelor kills 28 in China and Taiwan</td>\n",
              "    </tr>\n",
              "  </tbody>\n",
              "</table>\n",
              "</div>"
            ],
            "text/plain": [
              "   id keyword location                                               text\n",
              "0   0     NaN      NaN                 Just happened a terrible car crash\n",
              "1   2     NaN      NaN  Heard about #earthquake is different cities, s...\n",
              "2   3     NaN      NaN  there is a forest fire at spot pond, geese are...\n",
              "3   9     NaN      NaN           Apocalypse lighting. #Spokane #wildfires\n",
              "4  11     NaN      NaN      Typhoon Soudelor kills 28 in China and Taiwan"
            ]
          },
          "metadata": {
            "tags": []
          },
          "execution_count": 83
        }
      ]
    },
    {
      "cell_type": "code",
      "metadata": {
        "colab": {
          "base_uri": "https://localhost:8080/"
        },
        "id": "oVtfX8faT0O7",
        "outputId": "47423c55-74c7-4175-dcd6-c92e3e4fb0ad"
      },
      "source": [
        "# How many examples of each class?\n",
        "train_df.target.value_counts()\n"
      ],
      "execution_count": 84,
      "outputs": [
        {
          "output_type": "execute_result",
          "data": {
            "text/plain": [
              "0    4342\n",
              "1    3271\n",
              "Name: target, dtype: int64"
            ]
          },
          "metadata": {
            "tags": []
          },
          "execution_count": 84
        }
      ]
    },
    {
      "cell_type": "code",
      "metadata": {
        "colab": {
          "base_uri": "https://localhost:8080/"
        },
        "id": "Qwz6U9FGUJAF",
        "outputId": "bb850ab7-b8e8-4023-ec75-724cf9c09391"
      },
      "source": [
        "# How many total samples?\n",
        "\n",
        "len(train_df), len(test_df)"
      ],
      "execution_count": 85,
      "outputs": [
        {
          "output_type": "execute_result",
          "data": {
            "text/plain": [
              "(7613, 3263)"
            ]
          },
          "metadata": {
            "tags": []
          },
          "execution_count": 85
        }
      ]
    },
    {
      "cell_type": "code",
      "metadata": {
        "colab": {
          "base_uri": "https://localhost:8080/"
        },
        "id": "qiisQw9YVFTA",
        "outputId": "73d10399-b6f3-443a-e06c-7efea07b9c10"
      },
      "source": [
        "\n",
        "# Let's visualize some random training examples\n",
        "import random\n",
        "random_index = random.randint(0, len(train_df)-5) # create random indexes not higher than the total number of samples\n",
        "\n",
        "\n",
        "for  row in train_df_shuffled[[\"text\", \"target\"]][random_index:random_index+5].itertuples():\n",
        "\n",
        "  _, text, target = row\n",
        "  print(f\"Target: {target}\", \"(real disaster)\" if target > 0 else \"(not real disaster)\")\n",
        "\n",
        "  print(f\"Text:\\n{text}\\n\")\n",
        "\n",
        "  print(\"----\\n\")"
      ],
      "execution_count": 86,
      "outputs": [
        {
          "output_type": "stream",
          "text": [
            "Target: 0 (not real disaster)\n",
            "Text:\n",
            "Photo: Sketch I did based on the A Taste of Armageddon episode of #startrek #tos http://t.co/a2e6dcsk88\n",
            "\n",
            "----\n",
            "\n",
            "Target: 0 (not real disaster)\n",
            "Text:\n",
            "Spot fixing/match fixing ..anyone???\n",
            "Or it has to be Pak SL WI RSA or BD to say this. Sham on them who say that when these team collapse\n",
            "\n",
            "----\n",
            "\n",
            "Target: 0 (not real disaster)\n",
            "Text:\n",
            "Help me win $$$$ by having the most shares on my article! A Lifetime Of Fear http://t.co/9eh2lCQkxl  Thanks! #BlackInAmerica #GrowingUpBlack\n",
            "\n",
            "----\n",
            "\n",
            "Target: 0 (not real disaster)\n",
            "Text:\n",
            "@tsunami_esh ESH PLEASE OKAY!\n",
            "\n",
            "----\n",
            "\n",
            "Target: 1 (real disaster)\n",
            "Text:\n",
            "17 dead as Afghanistan aircraft crashes: An Afghan military helicopter has crashed in a remote region of the s...  http://t.co/kI9eHjHl8y\n",
            "\n",
            "----\n",
            "\n"
          ],
          "name": "stdout"
        }
      ]
    },
    {
      "cell_type": "markdown",
      "metadata": {
        "id": "02Y0SCB3X4Xb"
      },
      "source": [
        "### Split data into training and validation sets\n",
        "\n"
      ]
    },
    {
      "cell_type": "code",
      "metadata": {
        "id": "MeGOBbVNaMP5"
      },
      "source": [
        "from sklearn.model_selection import train_test_split\n",
        "\n",
        "\n"
      ],
      "execution_count": 87,
      "outputs": []
    },
    {
      "cell_type": "code",
      "metadata": {
        "id": "rM41jsINaa_O"
      },
      "source": [
        "# Use train_test_split to split training data into training and validation sets\n",
        "\n",
        "train_sentences, val_sentences, train_labels, val_labels = train_test_split(train_df_shuffled[\"text\"].to_numpy(),\n",
        "                                                                            train_df_shuffled[\"target\"].to_numpy(),\n",
        "                                                                            test_size=0.1, # use 10% of training data for validation split\n",
        "                                                                            random_state=42)"
      ],
      "execution_count": 88,
      "outputs": []
    },
    {
      "cell_type": "code",
      "metadata": {
        "colab": {
          "base_uri": "https://localhost:8080/"
        },
        "id": "0o6F0uJMbz0f",
        "outputId": "93c23437-9013-4855-bd41-e1e068e6d951"
      },
      "source": [
        "# Check the lengths\n",
        "\n",
        "len(train_sentences), len(train_labels), len(val_sentences), len(val_labels)\n"
      ],
      "execution_count": 89,
      "outputs": [
        {
          "output_type": "execute_result",
          "data": {
            "text/plain": [
              "(6851, 6851, 762, 762)"
            ]
          },
          "metadata": {
            "tags": []
          },
          "execution_count": 89
        }
      ]
    },
    {
      "cell_type": "code",
      "metadata": {
        "colab": {
          "base_uri": "https://localhost:8080/"
        },
        "id": "pORgxsEFcKx0",
        "outputId": "9fead68d-7e9c-430f-af0c-a013a774de80"
      },
      "source": [
        "len(train_df_shuffled)"
      ],
      "execution_count": 90,
      "outputs": [
        {
          "output_type": "execute_result",
          "data": {
            "text/plain": [
              "7613"
            ]
          },
          "metadata": {
            "tags": []
          },
          "execution_count": 90
        }
      ]
    },
    {
      "cell_type": "code",
      "metadata": {
        "colab": {
          "base_uri": "https://localhost:8080/"
        },
        "id": "7FpEFfTZcT9t",
        "outputId": "59a34330-2987-4e29-c9ed-16c63e8c74af"
      },
      "source": [
        "# Check the first 10 samples\n",
        "train_sentences[:10], train_labels[:10]"
      ],
      "execution_count": 91,
      "outputs": [
        {
          "output_type": "execute_result",
          "data": {
            "text/plain": [
              "(array(['@mogacola @zamtriossu i screamed after hitting tweet',\n",
              "        'Imagine getting flattened by Kurt Zouma',\n",
              "        '@Gurmeetramrahim #MSGDoing111WelfareWorks Green S welfare force ke appx 65000 members har time disaster victim ki help ke liye tyar hai....',\n",
              "        \"@shakjn @C7 @Magnums im shaking in fear he's gonna hack the planet\",\n",
              "        'Somehow find you and I collide http://t.co/Ee8RpOahPk',\n",
              "        '@EvaHanderek @MarleyKnysh great times until the bus driver held us hostage in the mall parking lot lmfao',\n",
              "        'destroy the free fandom honestly',\n",
              "        'Weapons stolen from National Guard Armory in New Albany still missing #Gunsense http://t.co/lKNU8902JE',\n",
              "        '@wfaaweather Pete when will the heat wave pass? Is it really going to be mid month? Frisco Boy Scouts have a canoe trip in Okla.',\n",
              "        'Patient-reported outcomes in long-term survivors of metastatic colorectal cancer - British Journal of Surgery http://t.co/5Yl4DC1Tqt'],\n",
              "       dtype=object), array([0, 0, 1, 0, 0, 1, 1, 0, 1, 1]))"
            ]
          },
          "metadata": {
            "tags": []
          },
          "execution_count": 91
        }
      ]
    },
    {
      "cell_type": "markdown",
      "metadata": {
        "id": "JDEeV_pgcely"
      },
      "source": [
        "## Converting text into numbers\n",
        "\n",
        "When dealing with a text  problem, one of the first things you'll have to do before you can build a model is to convert your text to numbers.\n",
        "\n",
        "\n",
        "There are a few ways to this, namely:\n",
        "\n",
        "* Tokenization - direct mapping of token( a token could be a word or character) to number\n",
        "\n",
        "* Embdeding - create a matrix of featrue vector for each token\n",
        "\n",
        "(thi size of feature vector can be defined and this embding cn be learned)\n",
        "\n",
        "\n",
        "\n",
        "\n",
        "\n"
      ]
    },
    {
      "cell_type": "markdown",
      "metadata": {
        "id": "O0EeD2Jmjcj4"
      },
      "source": [
        "#### Text vctorization (tokenization)"
      ]
    },
    {
      "cell_type": "code",
      "metadata": {
        "colab": {
          "base_uri": "https://localhost:8080/"
        },
        "id": "4CcyfkYrjlvu",
        "outputId": "28129373-3a29-4cf4-ad47-3591bef9218a"
      },
      "source": [
        "train_sentences[:5]"
      ],
      "execution_count": 92,
      "outputs": [
        {
          "output_type": "execute_result",
          "data": {
            "text/plain": [
              "array(['@mogacola @zamtriossu i screamed after hitting tweet',\n",
              "       'Imagine getting flattened by Kurt Zouma',\n",
              "       '@Gurmeetramrahim #MSGDoing111WelfareWorks Green S welfare force ke appx 65000 members har time disaster victim ki help ke liye tyar hai....',\n",
              "       \"@shakjn @C7 @Magnums im shaking in fear he's gonna hack the planet\",\n",
              "       'Somehow find you and I collide http://t.co/Ee8RpOahPk'],\n",
              "      dtype=object)"
            ]
          },
          "metadata": {
            "tags": []
          },
          "execution_count": 92
        }
      ]
    },
    {
      "cell_type": "code",
      "metadata": {
        "id": "HtWdMmv9jpBH"
      },
      "source": [
        "import tensorflow as tf\n",
        "from tensorflow.keras.layers.experimental.preprocessing import TextVectorization"
      ],
      "execution_count": 93,
      "outputs": []
    },
    {
      "cell_type": "code",
      "metadata": {
        "id": "sFPvpddlj4U4"
      },
      "source": [
        "# ngram agrupa palabras\n",
        "\n",
        "# Use the dafault TextVectorization parameters\n",
        "\n",
        "text_vectorizer = TextVectorization(max_tokens=None, # how many words in the vocabulary (automatically add <OOV>)\n",
        "                                    standardize=\"lower_and_strip_punctuation\",\n",
        "                                    split=\"whitespace\",\n",
        "\n",
        "                                    ngrams=None, # create groups of n-words?\n",
        "                                    output_mode=\"int\", # how to map tokens to numbers\n",
        "\n",
        "                                    output_sequence_length=None, # how long do yoy want your sequences to be\n",
        "                                    pad_to_max_tokens =True)"
      ],
      "execution_count": 94,
      "outputs": []
    },
    {
      "cell_type": "code",
      "metadata": {
        "colab": {
          "base_uri": "https://localhost:8080/"
        },
        "id": "O33kvT5epVk0",
        "outputId": "eeb60d34-55d0-4702-d44a-e9906a06a35b"
      },
      "source": [
        "len(train_sentences[0].split())"
      ],
      "execution_count": 95,
      "outputs": [
        {
          "output_type": "execute_result",
          "data": {
            "text/plain": [
              "7"
            ]
          },
          "metadata": {
            "tags": []
          },
          "execution_count": 95
        }
      ]
    },
    {
      "cell_type": "code",
      "metadata": {
        "colab": {
          "base_uri": "https://localhost:8080/"
        },
        "id": "hlwsrTqNoqVT",
        "outputId": "b45d924e-0928-4f5d-bdab-d0ac64d17de7"
      },
      "source": [
        "# Find the average number of tokens ( words) in the training tweets\n",
        "# comprension de listas\n",
        "round(sum([len(i.split()) for i in train_sentences]))/len(train_sentences)"
      ],
      "execution_count": 96,
      "outputs": [
        {
          "output_type": "execute_result",
          "data": {
            "text/plain": [
              "14.901036345059115"
            ]
          },
          "metadata": {
            "tags": []
          },
          "execution_count": 96
        }
      ]
    },
    {
      "cell_type": "code",
      "metadata": {
        "id": "oUxgUtK7p8k4"
      },
      "source": [
        "# Setup text vectorization variables\n",
        "\n",
        "max_vocab_length = 10000 # max number of words to have in our vocabulary\n",
        "\n",
        "max_length = 15 # max length or sequences will be (e.g how many words from a Tweet does a model see?)\n",
        "\n",
        "text_vectorizer = TextVectorization(max_tokens=max_vocab_length,\n",
        "                                    output_mode=\"int\",\n",
        "                                    # truncar cuando las palabras superen la longitud maxima\n",
        "                                    output_sequence_length=max_length)"
      ],
      "execution_count": 97,
      "outputs": []
    },
    {
      "cell_type": "code",
      "metadata": {
        "colab": {
          "base_uri": "https://localhost:8080/"
        },
        "id": "yAo7PXRrst7Y",
        "outputId": "747f8b29-8c7e-419f-8d0a-7ab4c26143f6"
      },
      "source": [
        "\n",
        "train_sentences[:10]"
      ],
      "execution_count": 98,
      "outputs": [
        {
          "output_type": "execute_result",
          "data": {
            "text/plain": [
              "array(['@mogacola @zamtriossu i screamed after hitting tweet',\n",
              "       'Imagine getting flattened by Kurt Zouma',\n",
              "       '@Gurmeetramrahim #MSGDoing111WelfareWorks Green S welfare force ke appx 65000 members har time disaster victim ki help ke liye tyar hai....',\n",
              "       \"@shakjn @C7 @Magnums im shaking in fear he's gonna hack the planet\",\n",
              "       'Somehow find you and I collide http://t.co/Ee8RpOahPk',\n",
              "       '@EvaHanderek @MarleyKnysh great times until the bus driver held us hostage in the mall parking lot lmfao',\n",
              "       'destroy the free fandom honestly',\n",
              "       'Weapons stolen from National Guard Armory in New Albany still missing #Gunsense http://t.co/lKNU8902JE',\n",
              "       '@wfaaweather Pete when will the heat wave pass? Is it really going to be mid month? Frisco Boy Scouts have a canoe trip in Okla.',\n",
              "       'Patient-reported outcomes in long-term survivors of metastatic colorectal cancer - British Journal of Surgery http://t.co/5Yl4DC1Tqt'],\n",
              "      dtype=object)"
            ]
          },
          "metadata": {
            "tags": []
          },
          "execution_count": 98
        }
      ]
    },
    {
      "cell_type": "code",
      "metadata": {
        "colab": {
          "base_uri": "https://localhost:8080/"
        },
        "id": "9U3gkC0StXJ-",
        "outputId": "1b5699a0-ca96-4640-f407-602113092bc1"
      },
      "source": [
        "max_length"
      ],
      "execution_count": 99,
      "outputs": [
        {
          "output_type": "execute_result",
          "data": {
            "text/plain": [
              "15"
            ]
          },
          "metadata": {
            "tags": []
          },
          "execution_count": 99
        }
      ]
    },
    {
      "cell_type": "code",
      "metadata": {
        "id": "4o16Mbgzri8O"
      },
      "source": [
        "\n",
        "\n",
        "# Fit the text vectorizer to the training text\n",
        "text_vectorizer.adapt(train_sentences)"
      ],
      "execution_count": 100,
      "outputs": []
    },
    {
      "cell_type": "code",
      "metadata": {
        "colab": {
          "base_uri": "https://localhost:8080/"
        },
        "id": "8BIB0qqes1xm",
        "outputId": "6a48148e-8d10-4830-e371-e98a0acf79f8"
      },
      "source": [
        "# Create a sample sentence and tokenize it \n",
        "\n",
        "sample_sentence = \"There's a flood in my street!\"\n",
        "\n",
        "text_vectorizer([sample_sentence])"
      ],
      "execution_count": 101,
      "outputs": [
        {
          "output_type": "execute_result",
          "data": {
            "text/plain": [
              "<tf.Tensor: shape=(1, 15), dtype=int64, numpy=\n",
              "array([[264,   3, 232,   4,  13, 698,   0,   0,   0,   0,   0,   0,   0,\n",
              "          0,   0]])>"
            ]
          },
          "metadata": {
            "tags": []
          },
          "execution_count": 101
        }
      ]
    },
    {
      "cell_type": "code",
      "metadata": {
        "colab": {
          "base_uri": "https://localhost:8080/"
        },
        "id": "-ceNX32etRDA",
        "outputId": "49bd98bd-35dd-4a9a-df9d-bafb7c38d35d"
      },
      "source": [
        "# Choose  a random sentence from the training dataset and tokenize it\n",
        "\n",
        "random_sentence = random.choice(train_sentences)\n",
        "\n",
        "print(f\"Original text:\\n{random_sentence}\\\n",
        "      \\n\\nVectorized version:\")\n",
        "text_vectorizer([random_sentence])"
      ],
      "execution_count": 102,
      "outputs": [
        {
          "output_type": "stream",
          "text": [
            "Original text:\n",
            "It's Time To Reduce Gun Deaths http://t.co/ilADQEBxPn      \n",
            "\n",
            "Vectorized version:\n"
          ],
          "name": "stdout"
        },
        {
          "output_type": "execute_result",
          "data": {
            "text/plain": [
              "<tf.Tensor: shape=(1, 15), dtype=int64, numpy=\n",
              "array([[  37,   92,    5, 1780,  849,  401,    1,    0,    0,    0,    0,\n",
              "           0,    0,    0,    0]])>"
            ]
          },
          "metadata": {
            "tags": []
          },
          "execution_count": 102
        }
      ]
    },
    {
      "cell_type": "code",
      "metadata": {
        "id": "IkLSfLyCubZD"
      },
      "source": [
        "# Get the unique words in the vocubulary\n",
        "\n",
        "words_in_vocab = text_vectorizer.get_vocabulary() # get all of the unique words in our training data\n",
        "\n",
        "top_5_words = words_in_vocab[:5]# get the most common words\n",
        "\n",
        "bottom_5_words = words_in_vocab[-5:] # get the least commom words"
      ],
      "execution_count": 103,
      "outputs": []
    },
    {
      "cell_type": "code",
      "metadata": {
        "colab": {
          "base_uri": "https://localhost:8080/"
        },
        "id": "b4b-BS2MwZVp",
        "outputId": "7f6125e0-4495-482a-d4ca-28fbd2cc192c"
      },
      "source": [
        "print(f\"Number of words in vocab: {len(words_in_vocab)}\")\n",
        "\n",
        "print(f\"5 most commom words: {top_5_words}\")\n",
        "\n",
        "print(f\"5 least commom words:{bottom_5_words} \")"
      ],
      "execution_count": 104,
      "outputs": [
        {
          "output_type": "stream",
          "text": [
            "Number of words in vocab: 10000\n",
            "5 most commom words: ['', '[UNK]', 'the', 'a', 'in']\n",
            "5 least commom words:['pages', 'paeds', 'pads', 'padres', 'paddytomlinson1'] \n"
          ],
          "name": "stdout"
        }
      ]
    },
    {
      "cell_type": "code",
      "metadata": {
        "colab": {
          "base_uri": "https://localhost:8080/"
        },
        "id": "ZiYFcn4Lw8m-",
        "outputId": "e9730f8d-ec15-4f26-e71a-6f8423c7436a"
      },
      "source": [
        "train_sentences"
      ],
      "execution_count": 105,
      "outputs": [
        {
          "output_type": "execute_result",
          "data": {
            "text/plain": [
              "array(['@mogacola @zamtriossu i screamed after hitting tweet',\n",
              "       'Imagine getting flattened by Kurt Zouma',\n",
              "       '@Gurmeetramrahim #MSGDoing111WelfareWorks Green S welfare force ke appx 65000 members har time disaster victim ki help ke liye tyar hai....',\n",
              "       ...,\n",
              "       'Near them on the sand half sunk a shattered visage lies... http://t.co/0kCCG1BT06',\n",
              "       \"kesabaran membuahkan hasil indah pada saat tepat! life isn't about waiting for the storm to pass it's about learning to dance in the rain.\",\n",
              "       \"@ScottDPierce @billharris_tv @HarrisGle @Beezersun I'm forfeiting this years fantasy football pool out of fear I may win n get my ass kicked\"],\n",
              "      dtype=object)"
            ]
          },
          "metadata": {
            "tags": []
          },
          "execution_count": 105
        }
      ]
    },
    {
      "cell_type": "markdown",
      "metadata": {
        "id": "yefGAfEdxiTS"
      },
      "source": [
        "### Creating an Embedding using an  Embedding Layer\n",
        "\n",
        "To make our embedding, we're going to use a TensorFlow's embedding layer:\n",
        "\n",
        "https://www.tensorflow.org/api_docs/python/tf/keras/layers/Embedding\n",
        "\n",
        "\n",
        "The parameters we care most about for our embedding layer :\n",
        "\n",
        "* `input_dim` = the size of our vocabulary\n",
        "\n",
        "* `output_dim` = the size of the output embedding vector, for example, a value of 100 would mean each token gets represented by a vector 100 long\n",
        "\n",
        "\n",
        "* `input_length` = length of the sequences being passed to the embedding layer\n"
      ]
    },
    {
      "cell_type": "code",
      "metadata": {
        "colab": {
          "base_uri": "https://localhost:8080/"
        },
        "id": "QL2F9CC-yNgf",
        "outputId": "eb972dbc-fb41-41d9-e5b9-5af983ebd222"
      },
      "source": [
        "# las redes neuronales en general trabajan bien con numeros divisibles entre 8,  \"\"8 bites\"\"\"\n",
        "from tensorflow.keras import layers\n",
        "\n",
        "embedding = layers.Embedding(input_dim=max_vocab_length, # set input shape\n",
        "                             output_dim=128, # output shape\n",
        "                             embeddings_initializer=\"uniform\",\n",
        "                             input_length=max_length # how long is each inputs\n",
        "                             )\n",
        "\n",
        "embedding"
      ],
      "execution_count": 106,
      "outputs": [
        {
          "output_type": "execute_result",
          "data": {
            "text/plain": [
              "<tensorflow.python.keras.layers.embeddings.Embedding at 0x7f2bc73e2d50>"
            ]
          },
          "metadata": {
            "tags": []
          },
          "execution_count": 106
        }
      ]
    },
    {
      "cell_type": "code",
      "metadata": {
        "colab": {
          "base_uri": "https://localhost:8080/"
        },
        "id": "nojy75-p08Qd",
        "outputId": "6bf6498d-ed39-4160-b961-f664ba74078c"
      },
      "source": [
        "# Get a random sentence from  the training  set\n",
        "\n",
        "random_sentence = random.choice(train_sentences)\n",
        "\n",
        "print(f\"Original text:\\n {random_sentence}\\\n",
        "      \\n\\nEmbedded version:\")\n",
        "\n",
        "# Embed the random sentence(turn it into dense vectors of fixed size)\n",
        "\n",
        "sample_embed = embedding(text_vectorizer([random_sentence]))\n",
        "\n",
        "sample_embed\n",
        "\n",
        "# shape (1, 15, 128) una secuencia,  de 15 tokem,  cada token esrepresentado en un tensor de 128 columnas"
      ],
      "execution_count": 107,
      "outputs": [
        {
          "output_type": "stream",
          "text": [
            "Original text:\n",
            " #Kisii Police in Kisii hunt for students over failed arson plot: Police in Kisii hunt for students... http://t.co/m5SbFRrSn7 #CountyNews      \n",
            "\n",
            "Embedded version:\n"
          ],
          "name": "stdout"
        },
        {
          "output_type": "execute_result",
          "data": {
            "text/plain": [
              "<tf.Tensor: shape=(1, 15, 128), dtype=float32, numpy=\n",
              "array([[[-0.00295902,  0.036076  , -0.00997729, ..., -0.02423167,\n",
              "         -0.00714157,  0.03777386],\n",
              "        [-0.04647094, -0.04386315,  0.04668761, ...,  0.03859678,\n",
              "         -0.03995545,  0.04478165],\n",
              "        [-0.03451636,  0.00721534, -0.04561032, ..., -0.0499254 ,\n",
              "         -0.04208442, -0.02866522],\n",
              "        ...,\n",
              "        [-0.03451636,  0.00721534, -0.04561032, ..., -0.0499254 ,\n",
              "         -0.04208442, -0.02866522],\n",
              "        [-0.00295902,  0.036076  , -0.00997729, ..., -0.02423167,\n",
              "         -0.00714157,  0.03777386],\n",
              "        [ 0.0167037 ,  0.02465456, -0.04470638, ...,  0.01245612,\n",
              "         -0.04945585,  0.01367659]]], dtype=float32)>"
            ]
          },
          "metadata": {
            "tags": []
          },
          "execution_count": 107
        }
      ]
    },
    {
      "cell_type": "code",
      "metadata": {
        "colab": {
          "base_uri": "https://localhost:8080/"
        },
        "id": "zB5taBmt2T4_",
        "outputId": "b9e54c50-0693-443a-fbe9-273ec6050135"
      },
      "source": [
        "# check out a single token's embedding\n",
        "\n",
        "sample_embed[0][0], sample_embed[0][0].shape, random_sentence"
      ],
      "execution_count": 108,
      "outputs": [
        {
          "output_type": "execute_result",
          "data": {
            "text/plain": [
              "(<tf.Tensor: shape=(128,), dtype=float32, numpy=\n",
              " array([-0.00295902,  0.036076  , -0.00997729,  0.02087246, -0.01433954,\n",
              "         0.02001742, -0.04825124,  0.04698775, -0.01476764,  0.04036553,\n",
              "        -0.03821922,  0.01950983,  0.04150486, -0.02276665,  0.02964005,\n",
              "        -0.02605143,  0.00160643,  0.03322976, -0.02558115,  0.01371903,\n",
              "         0.04260086, -0.04160755,  0.04011642, -0.04184914,  0.00841483,\n",
              "         0.02913494,  0.02843669,  0.03901101,  0.02669178,  0.03069327,\n",
              "        -0.01747691, -0.02815646, -0.01560196, -0.01371734, -0.03716233,\n",
              "         0.0303461 ,  0.01202228,  0.00900973, -0.03262325,  0.00470941,\n",
              "         0.00797925, -0.01721667, -0.03902738, -0.03629287, -0.00275875,\n",
              "         0.02448435, -0.02486085, -0.00663201, -0.01716683,  0.03291636,\n",
              "        -0.01110569,  0.02136454,  0.01976686,  0.00812441, -0.01017692,\n",
              "         0.03832689,  0.03309773, -0.00725966, -0.01886185, -0.04589787,\n",
              "        -0.03904481,  0.00989337, -0.00595839, -0.0023253 , -0.04011704,\n",
              "         0.02311001, -0.03213068,  0.00424441, -0.03834839, -0.02792618,\n",
              "         0.01989713,  0.03327401, -0.04628706, -0.0206943 ,  0.02047357,\n",
              "         0.01657473, -0.01532167, -0.00337861, -0.02674999, -0.03250688,\n",
              "         0.03417984, -0.01011859,  0.01833996, -0.03931259, -0.01140661,\n",
              "         0.01819756, -0.03504686, -0.00181521, -0.0249552 ,  0.02144457,\n",
              "         0.01925926, -0.04261643,  0.00235417, -0.00886053,  0.02526522,\n",
              "        -0.03592794,  0.01764131,  0.0307269 , -0.01171922,  0.03431484,\n",
              "        -0.02932385, -0.01176637, -0.00176413, -0.04111955,  0.01427301,\n",
              "        -0.01933049, -0.00746841,  0.01151114, -0.02516458,  0.00635499,\n",
              "        -0.02048233, -0.02199955,  0.02499268, -0.03761852, -0.02269087,\n",
              "         0.02891735, -0.04228736,  0.04276177, -0.0115065 , -0.02816526,\n",
              "        -0.04422126, -0.02497575,  0.00478828, -0.03623736,  0.02929207,\n",
              "        -0.02423167, -0.00714157,  0.03777386], dtype=float32)>,\n",
              " TensorShape([128]),\n",
              " '#Kisii Police in Kisii hunt for students over failed arson plot: Police in Kisii hunt for students... http://t.co/m5SbFRrSn7 #CountyNews')"
            ]
          },
          "metadata": {
            "tags": []
          },
          "execution_count": 108
        }
      ]
    },
    {
      "cell_type": "markdown",
      "metadata": {
        "id": "auzk2KyV3S41"
      },
      "source": [
        "## Modelling a text dataset (running a series of experiments)\n",
        "\n",
        "\n",
        "Now we've a got way to turn our text sequences into numbers,\n",
        "\n",
        "it's time to start building a series of modelling experiments.\n",
        "\n",
        "We'll start with a baseline and move on from there.\n",
        "\n",
        "* Model 0 : Naive bayes (baseline), this is from Sklearn Ml map:\n",
        "https://scikit-learn.org/stable/tutorial/machine_learning_map/index.html\n",
        "\n",
        "* Model 1: Feed-forward neural network ( dense model)\n",
        "\n",
        "* Model 2: LSTM model (RNN)\n",
        "\n",
        "\n",
        "* Model 3: GRU model (RNN)\n",
        "\n",
        "\n",
        "* Model 4: Bidirectional-LSTM model (RNN)\n",
        "\n",
        "* Model 5: 1D Convulutional Neural Network ( CNN)\n",
        "\n",
        "* Model 6: TensorFlow Hub Pretrained Feature Extractor ( using transfer learning for NLP)\n",
        "\n",
        "*  Model 7: Same as model 6 with 10 % of training data\n",
        "\n",
        "How are we going to approach all of these?\n",
        "\n",
        "\n",
        "Use the standard steps in modelling with tensorflow:\n",
        "\n",
        "* Create a model\n",
        "\n",
        "* Build a model\n",
        "\n",
        "\n",
        "* Fit a model\n",
        "\n",
        "\n",
        "* Evaluate our model\n",
        "\n",
        "\n",
        "\n",
        "\n",
        "\n",
        "\n",
        "\n",
        "\n",
        "*"
      ]
    },
    {
      "cell_type": "markdown",
      "metadata": {
        "id": "Y_8obI1H7xo9"
      },
      "source": [
        "### Model 0: Getting a baseline\n",
        "\n",
        "As with all machine learning modelling experiment, it's important to create a baseline model so you've got a benchmark for future experiments to build upon.\n",
        "\n",
        "To create our baseline, we'll use Sklearn's Multinomial Naive Bayes using the TF-IDF formula to convert our words to numbers.\n",
        "\n",
        "> **Note:** It's common practice to use non-Dl as a baseline because of their speed and then later using Dl to see if you can imrove upon them.\n"
      ]
    },
    {
      "cell_type": "code",
      "metadata": {
        "colab": {
          "base_uri": "https://localhost:8080/"
        },
        "id": "LH9KSmZd9vd2",
        "outputId": "918d270d-b91d-4631-901e-2a8695f3e7d8"
      },
      "source": [
        "from sklearn.feature_extraction.text import TfidfVectorizer\n",
        "\n",
        "from sklearn.naive_bayes import  MultinomialNB\n",
        "\n",
        "from sklearn.pipeline import Pipeline\n",
        "\n",
        "\n",
        "\n",
        "# Create tokenization and modelling pipeline\n",
        "\n",
        "# pipeline es muy parecido a sequential de tf hay que pasarle una lista de tuplas\n",
        "model_0 = Pipeline([\n",
        "                    \n",
        "                    (\"tfidf\", TfidfVectorizer()), # convert words to numbers using tfidf\n",
        "                    #\"clf\" es classfier\n",
        "                    (\"clf\", MultinomialNB()), # model the text\n",
        "])\n",
        "\n",
        "\n",
        "# Fit the pipline to the training data\n",
        "\n",
        "model_0.fit(train_sentences, train_labels)\n"
      ],
      "execution_count": 109,
      "outputs": [
        {
          "output_type": "execute_result",
          "data": {
            "text/plain": [
              "Pipeline(memory=None,\n",
              "         steps=[('tfidf',\n",
              "                 TfidfVectorizer(analyzer='word', binary=False,\n",
              "                                 decode_error='strict',\n",
              "                                 dtype=<class 'numpy.float64'>,\n",
              "                                 encoding='utf-8', input='content',\n",
              "                                 lowercase=True, max_df=1.0, max_features=None,\n",
              "                                 min_df=1, ngram_range=(1, 1), norm='l2',\n",
              "                                 preprocessor=None, smooth_idf=True,\n",
              "                                 stop_words=None, strip_accents=None,\n",
              "                                 sublinear_tf=False,\n",
              "                                 token_pattern='(?u)\\\\b\\\\w\\\\w+\\\\b',\n",
              "                                 tokenizer=None, use_idf=True,\n",
              "                                 vocabulary=None)),\n",
              "                ('clf',\n",
              "                 MultinomialNB(alpha=1.0, class_prior=None, fit_prior=True))],\n",
              "         verbose=False)"
            ]
          },
          "metadata": {
            "tags": []
          },
          "execution_count": 109
        }
      ]
    },
    {
      "cell_type": "code",
      "metadata": {
        "colab": {
          "base_uri": "https://localhost:8080/"
        },
        "id": "yCNODz6G_yUj",
        "outputId": "c1d9dd7b-850a-4325-fb1c-496a751e65a1"
      },
      "source": [
        "# Evaluate our baseline model\n",
        "# score == evaluate en tf\n",
        "baseline_score = model_0.score(val_sentences, val_labels)\n",
        "\n",
        "print(f\"Our baseline model achieves an accuracy of:{baseline_score*100:.2f}%\")"
      ],
      "execution_count": 110,
      "outputs": [
        {
          "output_type": "stream",
          "text": [
            "Our baseline model achieves an accuracy of:79.27%\n"
          ],
          "name": "stdout"
        }
      ]
    },
    {
      "cell_type": "code",
      "metadata": {
        "colab": {
          "base_uri": "https://localhost:8080/"
        },
        "id": "XJZkPZ9pArWd",
        "outputId": "38cb50dc-1c6e-4c72-8151-040c65aaa0f2"
      },
      "source": [
        "train_df.target.value_counts()\n",
        "\n",
        "train_df[\"target\"].value_counts()"
      ],
      "execution_count": 111,
      "outputs": [
        {
          "output_type": "execute_result",
          "data": {
            "text/plain": [
              "0    4342\n",
              "1    3271\n",
              "Name: target, dtype: int64"
            ]
          },
          "metadata": {
            "tags": []
          },
          "execution_count": 111
        }
      ]
    },
    {
      "cell_type": "code",
      "metadata": {
        "colab": {
          "base_uri": "https://localhost:8080/"
        },
        "id": "YLVHrq-eA33d",
        "outputId": "aea9b0cb-98e3-410a-d59e-180ce7c7a096"
      },
      "source": [
        "# Make predictionss\n",
        "\n",
        "baseline_preds = model_0.predict(val_sentences)\n",
        "\n",
        "baseline_preds[:20]"
      ],
      "execution_count": 112,
      "outputs": [
        {
          "output_type": "execute_result",
          "data": {
            "text/plain": [
              "array([1, 1, 1, 0, 0, 1, 1, 1, 1, 0, 0, 1, 0, 0, 0, 0, 0, 0, 0, 1])"
            ]
          },
          "metadata": {
            "tags": []
          },
          "execution_count": 112
        }
      ]
    },
    {
      "cell_type": "code",
      "metadata": {
        "colab": {
          "base_uri": "https://localhost:8080/"
        },
        "id": "GMq8gt63Ba4H",
        "outputId": "71e9f906-e655-4345-e32a-3f2855030651"
      },
      "source": [
        "train_labels"
      ],
      "execution_count": 113,
      "outputs": [
        {
          "output_type": "execute_result",
          "data": {
            "text/plain": [
              "array([0, 0, 1, ..., 1, 1, 0])"
            ]
          },
          "metadata": {
            "tags": []
          },
          "execution_count": 113
        }
      ]
    },
    {
      "cell_type": "markdown",
      "metadata": {
        "id": "8taNaXR7Be3G"
      },
      "source": [
        "### Creating an evaluation function for our model experiments\n",
        "\n",
        "we could evaluate all of our model's predictions with different metrics every time, however, this will be cumbersome and could easily be fixed with a function\n",
        "\n",
        "\n",
        "Let's create one to compare out model's predictions with the truth labels using the following metrics:\n",
        "\n",
        "* Accuracy\n",
        "\n",
        "* Precision\n",
        "* Recall\n",
        "\n",
        "* F1-score\n",
        "\n",
        "for a deep overview of many different evaluation methods, see the sklearn documentation\n",
        "\n",
        "https://scikit-learn.org/stable/modules/model_evaluation.html"
      ]
    },
    {
      "cell_type": "code",
      "metadata": {
        "id": "LDnAzmItDLQ4"
      },
      "source": [
        "# Function to evaluate: accuracy, precision, recall, f1-score\n",
        "\n",
        "from sklearn.metrics import accuracy_score, precision_recall_fscore_support\n",
        "\n",
        "\n",
        "def calculate_results(y_true, y_pred):\n",
        "  \"\"\"\n",
        "  Calculates model accuracy, precision, recall and f1 score of a binary classification model.\n",
        "\n",
        "\n",
        "  \n",
        "  \"\"\"\n",
        "  # Calculate model accuracy\n",
        "\n",
        "  model_accuracy = accuracy_score(y_true, y_pred) * 100\n",
        "\n",
        "  # Calculate model precision, recall and f1-score using \"weighted\" average\n",
        "\n",
        "  # \"_\" blank variable en python\n",
        "  model_precision, model_recall, model_f1, _ = precision_recall_fscore_support(y_true, y_pred, average=\"weighted\")\n",
        "\n",
        "  model_results = {\"accuracy\": model_accuracy,\n",
        "                   \"precision\": model_precision,\n",
        "                   \"recall\": model_recall,\n",
        "                   \"f1\":model_f1}\n",
        "\n",
        "  return model_results             \n",
        "\n"
      ],
      "execution_count": 114,
      "outputs": []
    },
    {
      "cell_type": "code",
      "metadata": {
        "colab": {
          "base_uri": "https://localhost:8080/"
        },
        "id": "ZwqG9h-WGrWI",
        "outputId": "e259c97c-5130-4ee6-9d99-03f5e7c68860"
      },
      "source": [
        "# Get baseline results\n",
        "\n",
        "baseline_results = calculate_results(y_true=val_labels,\n",
        "                                     y_pred=baseline_preds)\n",
        "\n",
        "baseline_results"
      ],
      "execution_count": 115,
      "outputs": [
        {
          "output_type": "execute_result",
          "data": {
            "text/plain": [
              "{'accuracy': 79.26509186351706,\n",
              " 'f1': 0.7862189758049549,\n",
              " 'precision': 0.8111390004213173,\n",
              " 'recall': 0.7926509186351706}"
            ]
          },
          "metadata": {
            "tags": []
          },
          "execution_count": 115
        }
      ]
    },
    {
      "cell_type": "code",
      "metadata": {
        "id": "9Jwg0otOHGjm"
      },
      "source": [
        "from helper_functions import calculate_results"
      ],
      "execution_count": 116,
      "outputs": []
    },
    {
      "cell_type": "markdown",
      "metadata": {
        "id": "Mc_6B1xuHpjN"
      },
      "source": [
        "### Model 1:  A simple dense model"
      ]
    },
    {
      "cell_type": "code",
      "metadata": {
        "id": "awkNWnBrIDZG"
      },
      "source": [
        "# Create a tensorboard callback (need to create a new one for each model)\n",
        "\n",
        "from helper_functions import create_tensorboard_callback\n",
        "\n",
        "# Create a directory to save TensorBoard logs\n",
        "\n",
        "SAVE_DIR = \"model_logs\""
      ],
      "execution_count": 117,
      "outputs": []
    },
    {
      "cell_type": "code",
      "metadata": {
        "id": "KvCtvYwAI0Hj"
      },
      "source": [
        "# Build model with the Functional API\n",
        "\n",
        "from tensorflow.keras import layers\n",
        "inputs = layers.Input(shape=(1,), dtype=tf.string) # inputs are 1-dimensional strings\n",
        "x = text_vectorizer(inputs) # turn the input text into numbers\n",
        "\n",
        "x = embedding(x) # create an embedding of the numerized inputs\n",
        "\n",
        "# paso de una representacion de  128 por token a 128 por secuencia\n",
        "x = layers.GlobalAveragePooling1D()(x)#condense  the  feature vector for each token to one vector\n",
        "outputs= layers.Dense(1, activation=\"sigmoid\")(x) # Create the output layer, want binary outputs so use sigmoid activation function\n",
        "\n",
        "model_1 = tf.keras.Model(inputs, outputs, name =\"model_1_dense\")\n",
        "\n"
      ],
      "execution_count": 118,
      "outputs": []
    },
    {
      "cell_type": "code",
      "metadata": {
        "colab": {
          "base_uri": "https://localhost:8080/"
        },
        "id": "VSdGUWTBN4rs",
        "outputId": "3ef6fa80-ca0c-4424-f10d-0dd70a9a5a9c"
      },
      "source": [
        "model_1.summary()"
      ],
      "execution_count": 119,
      "outputs": [
        {
          "output_type": "stream",
          "text": [
            "Model: \"model_1_dense\"\n",
            "_________________________________________________________________\n",
            "Layer (type)                 Output Shape              Param #   \n",
            "=================================================================\n",
            "input_3 (InputLayer)         [(None, 1)]               0         \n",
            "_________________________________________________________________\n",
            "text_vectorization_3 (TextVe (None, 15)                0         \n",
            "_________________________________________________________________\n",
            "embedding_1 (Embedding)      (None, 15, 128)           1280000   \n",
            "_________________________________________________________________\n",
            "global_average_pooling1d_1 ( (None, 128)               0         \n",
            "_________________________________________________________________\n",
            "dense_2 (Dense)              (None, 1)                 129       \n",
            "=================================================================\n",
            "Total params: 1,280,129\n",
            "Trainable params: 1,280,129\n",
            "Non-trainable params: 0\n",
            "_________________________________________________________________\n"
          ],
          "name": "stdout"
        }
      ]
    },
    {
      "cell_type": "code",
      "metadata": {
        "colab": {
          "base_uri": "https://localhost:8080/"
        },
        "id": "BfBR3w7RKLUd",
        "outputId": "eda6ad25-b372-4a2f-c3c5-757e81ee0a35"
      },
      "source": [
        "model_1.summary()"
      ],
      "execution_count": 120,
      "outputs": [
        {
          "output_type": "stream",
          "text": [
            "Model: \"model_1_dense\"\n",
            "_________________________________________________________________\n",
            "Layer (type)                 Output Shape              Param #   \n",
            "=================================================================\n",
            "input_3 (InputLayer)         [(None, 1)]               0         \n",
            "_________________________________________________________________\n",
            "text_vectorization_3 (TextVe (None, 15)                0         \n",
            "_________________________________________________________________\n",
            "embedding_1 (Embedding)      (None, 15, 128)           1280000   \n",
            "_________________________________________________________________\n",
            "global_average_pooling1d_1 ( (None, 128)               0         \n",
            "_________________________________________________________________\n",
            "dense_2 (Dense)              (None, 1)                 129       \n",
            "=================================================================\n",
            "Total params: 1,280,129\n",
            "Trainable params: 1,280,129\n",
            "Non-trainable params: 0\n",
            "_________________________________________________________________\n"
          ],
          "name": "stdout"
        }
      ]
    },
    {
      "cell_type": "code",
      "metadata": {
        "id": "mORc9wzNKOdL"
      },
      "source": [
        "# Compile model\n",
        "\n",
        "model_1.compile(loss=\"binary_crossentropy\",\n",
        "                optimizer=tf.keras.optimizers.Adam(),\n",
        "                metrics=[\"accuracy\"])"
      ],
      "execution_count": 121,
      "outputs": []
    },
    {
      "cell_type": "code",
      "metadata": {
        "colab": {
          "base_uri": "https://localhost:8080/"
        },
        "id": "yruaaPSaLDit",
        "outputId": "55781d96-ca37-4ea6-9563-281bb0fe8d27"
      },
      "source": [
        "# Fit the model\n",
        "\n",
        "model_1_history = model_1.fit(x=train_sentences,\n",
        "                              y=train_labels,\n",
        "                              epochs=5,\n",
        "                              #hacemos una tupla (sentence, labels)\n",
        "                              validation_data=(val_sentences, val_labels),\n",
        "\n",
        "                              callbacks=[create_tensorboard_callback(dir_name=SAVE_DIR,\n",
        "                                                                     experiment_name=\"model_1 Dense\")]\n",
        "                              )"
      ],
      "execution_count": 122,
      "outputs": [
        {
          "output_type": "stream",
          "text": [
            "Saving TensorBoard log files to: model_logs/model_1 Dense/20210519-202744\n",
            "Epoch 1/5\n",
            "215/215 [==============================] - 4s 17ms/step - loss: 0.6533 - accuracy: 0.6468 - val_loss: 0.5351 - val_accuracy: 0.7533\n",
            "Epoch 2/5\n",
            "215/215 [==============================] - 3s 14ms/step - loss: 0.4580 - accuracy: 0.8152 - val_loss: 0.4707 - val_accuracy: 0.7848\n",
            "Epoch 3/5\n",
            "215/215 [==============================] - 3s 13ms/step - loss: 0.3501 - accuracy: 0.8684 - val_loss: 0.4579 - val_accuracy: 0.7887\n",
            "Epoch 4/5\n",
            "215/215 [==============================] - 3s 14ms/step - loss: 0.2857 - accuracy: 0.8956 - val_loss: 0.4622 - val_accuracy: 0.7913\n",
            "Epoch 5/5\n",
            "215/215 [==============================] - 3s 14ms/step - loss: 0.2350 - accuracy: 0.9169 - val_loss: 0.4833 - val_accuracy: 0.7874\n"
          ],
          "name": "stdout"
        }
      ]
    },
    {
      "cell_type": "code",
      "metadata": {
        "colab": {
          "base_uri": "https://localhost:8080/"
        },
        "id": "yjVDdcg8MIHR",
        "outputId": "d5892082-4591-4f63-8921-c6499b56367e"
      },
      "source": [
        "# Check the reuslts\n",
        "model_1.evaluate(val_sentences, val_labels)"
      ],
      "execution_count": 123,
      "outputs": [
        {
          "output_type": "stream",
          "text": [
            "24/24 [==============================] - 0s 3ms/step - loss: 0.4833 - accuracy: 0.7874\n"
          ],
          "name": "stdout"
        },
        {
          "output_type": "execute_result",
          "data": {
            "text/plain": [
              "[0.4832972586154938, 0.787401556968689]"
            ]
          },
          "metadata": {
            "tags": []
          },
          "execution_count": 123
        }
      ]
    },
    {
      "cell_type": "code",
      "metadata": {
        "colab": {
          "base_uri": "https://localhost:8080/"
        },
        "id": "NcnK2i_1MX1R",
        "outputId": "625ec06a-a26e-4bbd-b9ee-9a1a0948f858"
      },
      "source": [
        "# Make some predictions and evaluate those\n",
        "\n",
        "model_1_pred_probs = model_1.predict(val_sentences)\n",
        "\n",
        "model_1_pred_probs.shape"
      ],
      "execution_count": 124,
      "outputs": [
        {
          "output_type": "execute_result",
          "data": {
            "text/plain": [
              "(762, 1)"
            ]
          },
          "metadata": {
            "tags": []
          },
          "execution_count": 124
        }
      ]
    },
    {
      "cell_type": "code",
      "metadata": {
        "colab": {
          "base_uri": "https://localhost:8080/"
        },
        "id": "woL1H7FeMoQA",
        "outputId": "a46f4cc9-2e66-40b3-ef37-ccc1a07ac57c"
      },
      "source": [
        "# look at a single prediction\n",
        "# como el threshold is 0.5, todo lo que este por encima vale 1,  lo que esta por debajo  sera 0\n",
        "model_1_pred_probs[0]"
      ],
      "execution_count": 125,
      "outputs": [
        {
          "output_type": "execute_result",
          "data": {
            "text/plain": [
              "array([0.29127592], dtype=float32)"
            ]
          },
          "metadata": {
            "tags": []
          },
          "execution_count": 125
        }
      ]
    },
    {
      "cell_type": "code",
      "metadata": {
        "colab": {
          "base_uri": "https://localhost:8080/"
        },
        "id": "ZKKnSOafQMjW",
        "outputId": "0a070ce5-cfc9-4f39-abcd-fbded5deda06"
      },
      "source": [
        "# look at the first\n",
        "\n",
        "model_1_pred_probs[:10]"
      ],
      "execution_count": 126,
      "outputs": [
        {
          "output_type": "execute_result",
          "data": {
            "text/plain": [
              "array([[0.29127592],\n",
              "       [0.8385098 ],\n",
              "       [0.99714476],\n",
              "       [0.09846418],\n",
              "       [0.10191789],\n",
              "       [0.93386585],\n",
              "       [0.92662877],\n",
              "       [0.9925581 ],\n",
              "       [0.9602174 ],\n",
              "       [0.24100985]], dtype=float32)"
            ]
          },
          "metadata": {
            "tags": []
          },
          "execution_count": 126
        }
      ]
    },
    {
      "cell_type": "code",
      "metadata": {
        "colab": {
          "base_uri": "https://localhost:8080/"
        },
        "id": "jU_IIE41MzKq",
        "outputId": "b3b9d212-736d-4876-a4fd-fb4fce0fe84f"
      },
      "source": [
        "val_labels"
      ],
      "execution_count": 127,
      "outputs": [
        {
          "output_type": "execute_result",
          "data": {
            "text/plain": [
              "array([0, 0, 1, 1, 1, 1, 1, 1, 1, 0, 0, 0, 0, 0, 0, 0, 0, 0, 1, 0, 1, 1,\n",
              "       1, 1, 1, 1, 0, 0, 0, 0, 1, 0, 0, 0, 1, 0, 1, 0, 1, 1, 1, 0, 1, 0,\n",
              "       0, 1, 0, 1, 0, 0, 0, 1, 0, 0, 0, 0, 0, 1, 1, 1, 0, 1, 1, 1, 1, 1,\n",
              "       1, 0, 0, 1, 0, 0, 1, 0, 0, 1, 0, 1, 0, 1, 0, 0, 1, 0, 1, 1, 0, 0,\n",
              "       1, 1, 1, 0, 0, 0, 1, 1, 1, 1, 1, 1, 1, 0, 0, 1, 1, 0, 1, 1, 0, 0,\n",
              "       1, 0, 0, 0, 0, 0, 0, 0, 1, 0, 1, 1, 1, 1, 1, 0, 0, 1, 0, 0, 0, 1,\n",
              "       1, 1, 1, 1, 1, 0, 0, 0, 1, 0, 0, 1, 0, 1, 0, 0, 0, 1, 0, 0, 0, 0,\n",
              "       0, 1, 0, 0, 1, 0, 1, 0, 0, 1, 0, 0, 1, 0, 1, 0, 1, 1, 1, 0, 1, 0,\n",
              "       1, 1, 1, 1, 0, 0, 0, 1, 1, 0, 0, 1, 0, 0, 0, 1, 1, 0, 0, 0, 0, 1,\n",
              "       1, 0, 0, 1, 1, 0, 0, 1, 0, 1, 1, 0, 0, 1, 0, 0, 0, 0, 1, 1, 1, 0,\n",
              "       1, 1, 0, 0, 1, 0, 1, 1, 1, 0, 1, 1, 1, 1, 0, 0, 0, 0, 1, 0, 1, 1,\n",
              "       1, 1, 1, 0, 1, 0, 1, 1, 1, 0, 0, 0, 1, 0, 1, 1, 1, 0, 1, 1, 1, 1,\n",
              "       1, 1, 1, 0, 0, 0, 0, 0, 1, 0, 1, 1, 0, 0, 1, 0, 0, 0, 1, 0, 0, 0,\n",
              "       1, 1, 1, 0, 1, 0, 0, 1, 1, 1, 1, 1, 0, 0, 0, 0, 0, 0, 0, 0, 1, 0,\n",
              "       0, 0, 0, 1, 1, 0, 1, 0, 1, 0, 0, 0, 0, 0, 1, 0, 1, 0, 0, 1, 0, 1,\n",
              "       1, 0, 1, 1, 0, 1, 0, 0, 1, 1, 0, 0, 1, 1, 0, 1, 0, 0, 0, 0, 0, 0,\n",
              "       1, 0, 1, 0, 1, 1, 1, 0, 0, 1, 1, 1, 1, 0, 0, 0, 0, 0, 1, 0, 0, 1,\n",
              "       0, 0, 1, 0, 0, 1, 1, 0, 1, 0, 0, 1, 1, 0, 1, 0, 1, 0, 0, 0, 1, 1,\n",
              "       0, 0, 0, 0, 1, 0, 1, 1, 0, 1, 0, 1, 1, 0, 1, 1, 0, 1, 1, 1, 0, 1,\n",
              "       0, 0, 1, 1, 1, 1, 0, 1, 0, 1, 1, 1, 0, 0, 0, 0, 1, 1, 0, 0, 1, 1,\n",
              "       0, 1, 0, 0, 1, 1, 0, 0, 0, 0, 0, 1, 1, 1, 1, 1, 0, 1, 0, 1, 1, 0,\n",
              "       0, 1, 1, 1, 1, 0, 1, 0, 0, 1, 0, 0, 0, 1, 1, 1, 0, 0, 0, 0, 0, 1,\n",
              "       0, 1, 1, 0, 0, 0, 0, 1, 1, 0, 0, 0, 0, 1, 0, 1, 1, 0, 1, 1, 0, 1,\n",
              "       0, 1, 0, 0, 0, 0, 0, 1, 1, 0, 1, 1, 1, 1, 0, 0, 1, 1, 0, 0, 0, 0,\n",
              "       1, 1, 1, 1, 0, 0, 1, 1, 1, 0, 0, 0, 0, 1, 0, 0, 0, 1, 0, 1, 1, 0,\n",
              "       1, 1, 0, 1, 0, 1, 0, 1, 0, 0, 0, 0, 1, 1, 1, 0, 1, 0, 0, 0, 1, 1,\n",
              "       1, 1, 0, 1, 0, 0, 1, 0, 0, 0, 1, 0, 0, 1, 1, 0, 0, 0, 0, 0, 1, 0,\n",
              "       0, 1, 0, 1, 1, 0, 0, 0, 1, 1, 1, 0, 0, 0, 0, 1, 0, 1, 0, 1, 1, 0,\n",
              "       0, 1, 0, 0, 1, 0, 1, 0, 1, 1, 0, 1, 0, 0, 0, 1, 1, 1, 1, 0, 1, 0,\n",
              "       1, 1, 1, 1, 1, 0, 0, 0, 0, 0, 1, 1, 1, 0, 0, 0, 0, 0, 0, 1, 0, 1,\n",
              "       0, 0, 1, 1, 0, 0, 0, 0, 1, 1, 0, 0, 0, 0, 1, 0, 1, 1, 0, 0, 0, 1,\n",
              "       0, 1, 0, 1, 0, 1, 0, 0, 1, 1, 0, 0, 1, 0, 1, 1, 0, 0, 0, 0, 1, 0,\n",
              "       1, 0, 1, 0, 0, 0, 0, 0, 0, 0, 0, 0, 0, 0, 0, 0, 1, 0, 1, 1, 0, 0,\n",
              "       0, 0, 1, 0, 0, 1, 1, 1, 1, 1, 0, 0, 0, 1, 1, 0, 0, 0, 1, 1, 0, 0,\n",
              "       0, 0, 0, 1, 1, 0, 1, 1, 0, 0, 0, 0, 0, 0])"
            ]
          },
          "metadata": {
            "tags": []
          },
          "execution_count": 127
        }
      ]
    },
    {
      "cell_type": "code",
      "metadata": {
        "colab": {
          "base_uri": "https://localhost:8080/"
        },
        "id": "PWflesiqQ-gF",
        "outputId": "40eed2e0-5eb0-46d1-a32b-fd833238cd04"
      },
      "source": [
        "model_1_pred_probs.shape"
      ],
      "execution_count": 128,
      "outputs": [
        {
          "output_type": "execute_result",
          "data": {
            "text/plain": [
              "(762, 1)"
            ]
          },
          "metadata": {
            "tags": []
          },
          "execution_count": 128
        }
      ]
    },
    {
      "cell_type": "code",
      "metadata": {
        "colab": {
          "base_uri": "https://localhost:8080/"
        },
        "id": "GW-QIj_TQeVr",
        "outputId": "cbc26e1c-fe9e-447c-dcff-a15ba26f3d00"
      },
      "source": [
        "# Convert model prediction probabilities to label format\n",
        "# apples with apples (hacemos esto para luego comparar manzanas con manzanass)\n",
        "model_1_preds= tf.squeeze(tf.round(model_1_pred_probs))\n",
        "\n",
        "model_1_preds[:20]"
      ],
      "execution_count": 129,
      "outputs": [
        {
          "output_type": "execute_result",
          "data": {
            "text/plain": [
              "<tf.Tensor: shape=(20,), dtype=float32, numpy=\n",
              "array([0., 1., 1., 0., 0., 1., 1., 1., 1., 0., 0., 1., 0., 0., 0., 0., 0.,\n",
              "       0., 0., 0.], dtype=float32)>"
            ]
          },
          "metadata": {
            "tags": []
          },
          "execution_count": 129
        }
      ]
    },
    {
      "cell_type": "code",
      "metadata": {
        "colab": {
          "base_uri": "https://localhost:8080/"
        },
        "id": "znQFpit0Rdd4",
        "outputId": "1080cfb5-175c-4173-9ccf-47941935fc95"
      },
      "source": [
        "# Calculate our model_1 results\n",
        "\n",
        "model_1_results = calculate_results(y_true=val_labels,\n",
        "                                    y_pred=model_1_preds)\n",
        "model_1_results"
      ],
      "execution_count": 130,
      "outputs": [
        {
          "output_type": "execute_result",
          "data": {
            "text/plain": [
              "{'accuracy': 78.74015748031496,\n",
              " 'f1': 0.7838012115396069,\n",
              " 'precision': 0.7942180127180873,\n",
              " 'recall': 0.7874015748031497}"
            ]
          },
          "metadata": {
            "tags": []
          },
          "execution_count": 130
        }
      ]
    },
    {
      "cell_type": "code",
      "metadata": {
        "colab": {
          "base_uri": "https://localhost:8080/"
        },
        "id": "sWQi61ZsSqk1",
        "outputId": "eadcaa5a-61cc-4bfc-dbae-23d80d83012e"
      },
      "source": [
        "baseline_results"
      ],
      "execution_count": 131,
      "outputs": [
        {
          "output_type": "execute_result",
          "data": {
            "text/plain": [
              "{'accuracy': 79.26509186351706,\n",
              " 'f1': 0.7862189758049549,\n",
              " 'precision': 0.8111390004213173,\n",
              " 'recall': 0.7926509186351706}"
            ]
          },
          "metadata": {
            "tags": []
          },
          "execution_count": 131
        }
      ]
    },
    {
      "cell_type": "code",
      "metadata": {
        "colab": {
          "base_uri": "https://localhost:8080/"
        },
        "id": "XhbVhJbxR8BG",
        "outputId": "9ef7347c-c56c-4769-deeb-8880a79633ab"
      },
      "source": [
        "import numpy as np\n",
        "\n",
        "np.array(list(model_1_results.values())) > np.array(list(baseline_results.values()))"
      ],
      "execution_count": 132,
      "outputs": [
        {
          "output_type": "execute_result",
          "data": {
            "text/plain": [
              "array([False, False, False, False])"
            ]
          },
          "metadata": {
            "tags": []
          },
          "execution_count": 132
        }
      ]
    },
    {
      "cell_type": "markdown",
      "metadata": {
        "id": "KVUBSUTpSact"
      },
      "source": [
        "## Viasulizing learned embedding"
      ]
    },
    {
      "cell_type": "code",
      "metadata": {
        "colab": {
          "base_uri": "https://localhost:8080/"
        },
        "id": "JfV8NZWuUCSI",
        "outputId": "c9b7ccd7-68d9-4d05-f078-725d9f3c90d0"
      },
      "source": [
        "words_in_vocab"
      ],
      "execution_count": 133,
      "outputs": [
        {
          "output_type": "execute_result",
          "data": {
            "text/plain": [
              "['',\n",
              " '[UNK]',\n",
              " 'the',\n",
              " 'a',\n",
              " 'in',\n",
              " 'to',\n",
              " 'of',\n",
              " 'and',\n",
              " 'i',\n",
              " 'is',\n",
              " 'for',\n",
              " 'on',\n",
              " 'you',\n",
              " 'my',\n",
              " 'with',\n",
              " 'it',\n",
              " 'that',\n",
              " 'at',\n",
              " 'by',\n",
              " 'this',\n",
              " 'from',\n",
              " 'be',\n",
              " 'are',\n",
              " 'was',\n",
              " 'have',\n",
              " 'like',\n",
              " 'as',\n",
              " 'up',\n",
              " 'so',\n",
              " 'just',\n",
              " 'but',\n",
              " 'me',\n",
              " 'im',\n",
              " 'your',\n",
              " 'not',\n",
              " 'amp',\n",
              " 'out',\n",
              " 'its',\n",
              " 'will',\n",
              " 'an',\n",
              " 'no',\n",
              " 'has',\n",
              " 'fire',\n",
              " 'after',\n",
              " 'all',\n",
              " 'when',\n",
              " 'we',\n",
              " 'if',\n",
              " 'now',\n",
              " 'via',\n",
              " 'new',\n",
              " 'more',\n",
              " 'get',\n",
              " 'or',\n",
              " 'about',\n",
              " 'what',\n",
              " 'he',\n",
              " 'people',\n",
              " 'news',\n",
              " 'been',\n",
              " 'over',\n",
              " 'one',\n",
              " 'how',\n",
              " 'dont',\n",
              " 'they',\n",
              " 'who',\n",
              " 'into',\n",
              " 'were',\n",
              " 'do',\n",
              " 'us',\n",
              " '2',\n",
              " 'can',\n",
              " 'video',\n",
              " 'emergency',\n",
              " 'there',\n",
              " 'disaster',\n",
              " 'than',\n",
              " 'police',\n",
              " 'would',\n",
              " 'his',\n",
              " 'still',\n",
              " 'her',\n",
              " 'some',\n",
              " 'body',\n",
              " 'storm',\n",
              " 'crash',\n",
              " 'burning',\n",
              " 'suicide',\n",
              " 'back',\n",
              " 'man',\n",
              " 'california',\n",
              " 'why',\n",
              " 'time',\n",
              " 'them',\n",
              " 'had',\n",
              " 'buildings',\n",
              " 'rt',\n",
              " 'first',\n",
              " 'cant',\n",
              " 'see',\n",
              " 'got',\n",
              " 'day',\n",
              " 'off',\n",
              " 'our',\n",
              " 'going',\n",
              " 'nuclear',\n",
              " 'know',\n",
              " 'world',\n",
              " 'bomb',\n",
              " 'fires',\n",
              " 'love',\n",
              " 'killed',\n",
              " 'go',\n",
              " 'attack',\n",
              " 'youtube',\n",
              " 'dead',\n",
              " 'two',\n",
              " 'families',\n",
              " '3',\n",
              " 'train',\n",
              " 'full',\n",
              " 'being',\n",
              " 'war',\n",
              " 'many',\n",
              " 'today',\n",
              " 'think',\n",
              " 'only',\n",
              " 'car',\n",
              " 'accident',\n",
              " 'life',\n",
              " 'hiroshima',\n",
              " 'their',\n",
              " 'say',\n",
              " 'may',\n",
              " 'down',\n",
              " 'watch',\n",
              " 'good',\n",
              " 'could',\n",
              " 'want',\n",
              " 'last',\n",
              " 'here',\n",
              " 'years',\n",
              " 'u',\n",
              " 'then',\n",
              " 'make',\n",
              " 'did',\n",
              " 'wildfire',\n",
              " 'way',\n",
              " 'help',\n",
              " 'best',\n",
              " 'too',\n",
              " 'even',\n",
              " 'because',\n",
              " 'home',\n",
              " 'death',\n",
              " 'collapse',\n",
              " 'bombing',\n",
              " 'mass',\n",
              " 'him',\n",
              " 'black',\n",
              " 'am',\n",
              " 'those',\n",
              " 'need',\n",
              " 'fatal',\n",
              " 'army',\n",
              " 'another',\n",
              " 'work',\n",
              " 'take',\n",
              " 'should',\n",
              " 'really',\n",
              " 'please',\n",
              " 'mh370',\n",
              " 'youre',\n",
              " 'look',\n",
              " 'lol',\n",
              " 'hot',\n",
              " 'pm',\n",
              " 'legionnaires',\n",
              " '4',\n",
              " 'right',\n",
              " '5',\n",
              " 'let',\n",
              " 'city',\n",
              " 'year',\n",
              " 'wreck',\n",
              " 'school',\n",
              " 'northern',\n",
              " 'much',\n",
              " 'forest',\n",
              " 'bomber',\n",
              " 'water',\n",
              " 'she',\n",
              " 'never',\n",
              " 'read',\n",
              " 'latest',\n",
              " 'homes',\n",
              " 'great',\n",
              " 'every',\n",
              " '1',\n",
              " 'live',\n",
              " 'god',\n",
              " 'fear',\n",
              " 'any',\n",
              " '\\x89Û',\n",
              " 'under',\n",
              " 'said',\n",
              " 'old',\n",
              " 'floods',\n",
              " '2015',\n",
              " 'getting',\n",
              " 'atomic',\n",
              " 'while',\n",
              " 'top',\n",
              " 'obama',\n",
              " 'feel',\n",
              " 'thats',\n",
              " 'since',\n",
              " 'near',\n",
              " 'flames',\n",
              " 'ever',\n",
              " 'come',\n",
              " 'where',\n",
              " 'these',\n",
              " 'military',\n",
              " 'japan',\n",
              " 'found',\n",
              " 'content',\n",
              " 'ass',\n",
              " 'without',\n",
              " 'weather',\n",
              " 'most',\n",
              " 'flooding',\n",
              " 'flood',\n",
              " 'damage',\n",
              " 'which',\n",
              " 'shit',\n",
              " 's',\n",
              " 'hope',\n",
              " 'everyone',\n",
              " 'before',\n",
              " 'stop',\n",
              " 'plan',\n",
              " 'malaysia',\n",
              " 'injured',\n",
              " 'hit',\n",
              " 'evacuation',\n",
              " 'during',\n",
              " 'debris',\n",
              " 'cross',\n",
              " 'coming',\n",
              " 'wild',\n",
              " 'well',\n",
              " 'times',\n",
              " 'sinking',\n",
              " 'oil',\n",
              " 'fucking',\n",
              " 'check',\n",
              " 'cause',\n",
              " 'weapons',\n",
              " 'truck',\n",
              " 'food',\n",
              " 'bloody',\n",
              " 'always',\n",
              " 'weapon',\n",
              " 'theres',\n",
              " 'state',\n",
              " 'little',\n",
              " 'injuries',\n",
              " 'free',\n",
              " 'wounded',\n",
              " 'summer',\n",
              " 'smoke',\n",
              " 'severe',\n",
              " 'reddit',\n",
              " 'next',\n",
              " 'movie',\n",
              " 'ive',\n",
              " 'hes',\n",
              " 'fall',\n",
              " 'evacuate',\n",
              " 'confirmed',\n",
              " 'bad',\n",
              " 'again',\n",
              " 'thunderstorm',\n",
              " 'set',\n",
              " 'night',\n",
              " 'natural',\n",
              " 'looks',\n",
              " 'heat',\n",
              " 'face',\n",
              " 'earthquake',\n",
              " 'boy',\n",
              " 'whole',\n",
              " 'until',\n",
              " 'thunder',\n",
              " 'through',\n",
              " 'says',\n",
              " 'panic',\n",
              " 'outbreak',\n",
              " 'made',\n",
              " 'lightning',\n",
              " 'fatalities',\n",
              " 'family',\n",
              " 'explosion',\n",
              " 'end',\n",
              " 'destroy',\n",
              " 'derailment',\n",
              " 'air',\n",
              " 'w',\n",
              " 'terrorist',\n",
              " 'survive',\n",
              " 'screaming',\n",
              " 'saudi',\n",
              " 'refugees',\n",
              " 'rain',\n",
              " 'murder',\n",
              " 'loud',\n",
              " 'liked',\n",
              " 'house',\n",
              " 'gonna',\n",
              " 'failure',\n",
              " 'collided',\n",
              " 'bag',\n",
              " 'attacked',\n",
              " 'ambulance',\n",
              " '70',\n",
              " 'wind',\n",
              " 'services',\n",
              " 'save',\n",
              " 'report',\n",
              " 'migrants',\n",
              " 'head',\n",
              " 'explode',\n",
              " 'charged',\n",
              " 'change',\n",
              " 'big',\n",
              " 'also',\n",
              " 'wrecked',\n",
              " 'warning',\n",
              " 'update',\n",
              " 'run',\n",
              " 'rescuers',\n",
              " 'released',\n",
              " 'photo',\n",
              " 'massacre',\n",
              " 'injury',\n",
              " 'hurricane',\n",
              " 'high',\n",
              " 'hail',\n",
              " 'fuck',\n",
              " 'does',\n",
              " 'destroyed',\n",
              " 'bus',\n",
              " 'blood',\n",
              " '40',\n",
              " '\\x89ÛÒ',\n",
              " 'wreckage',\n",
              " 'violent',\n",
              " 'twister',\n",
              " 'trauma',\n",
              " 'tragedy',\n",
              " 'terrorism',\n",
              " 'survivors',\n",
              " 'survived',\n",
              " 'sinkhole',\n",
              " 'sandstorm',\n",
              " 'road',\n",
              " 'rioting',\n",
              " 'red',\n",
              " 'real',\n",
              " 'put',\n",
              " 'post',\n",
              " 'national',\n",
              " 'missing',\n",
              " 'landslide',\n",
              " 'keep',\n",
              " 'girl',\n",
              " 'drought',\n",
              " 'curfew',\n",
              " 'breaking',\n",
              " 'bags',\n",
              " 'white',\n",
              " 'twitter',\n",
              " 'tonight',\n",
              " 'structural',\n",
              " 'spill',\n",
              " 'service',\n",
              " 'screamed',\n",
              " 'rescued',\n",
              " 'rescue',\n",
              " 'phone',\n",
              " 'ok',\n",
              " 'oh',\n",
              " 'mosque',\n",
              " 'lives',\n",
              " 'horrible',\n",
              " 'harm',\n",
              " 'game',\n",
              " 'dust',\n",
              " 'destruction',\n",
              " 'deluge',\n",
              " 'deaths',\n",
              " 'crashed',\n",
              " 'cliff',\n",
              " 'catastrophe',\n",
              " 'boat',\n",
              " 'away',\n",
              " 'august',\n",
              " 'area',\n",
              " 'apocalypse',\n",
              " 'woman',\n",
              " 'whirlwind',\n",
              " 'traumatised',\n",
              " 'stock',\n",
              " 'saw',\n",
              " 'ruin',\n",
              " 'riot',\n",
              " 'quarantine',\n",
              " 'kills',\n",
              " 'island',\n",
              " 'investigators',\n",
              " 'ill',\n",
              " 'hostages',\n",
              " 'hazard',\n",
              " 'danger',\n",
              " 'call',\n",
              " '15',\n",
              " 'women',\n",
              " 'windstorm',\n",
              " 'things',\n",
              " 'suspect',\n",
              " 'show',\n",
              " 'reunion',\n",
              " 'quarantined',\n",
              " 'lava',\n",
              " 'heart',\n",
              " 'engulfed',\n",
              " 'detonate',\n",
              " 'crush',\n",
              " 'collapsed',\n",
              " 'came',\n",
              " 'better',\n",
              " 'battle',\n",
              " 'armageddon',\n",
              " 'airplane',\n",
              " 'against',\n",
              " 'affected',\n",
              " 'use',\n",
              " 'trapped',\n",
              " 'thank',\n",
              " 'sunk',\n",
              " 'story',\n",
              " 'send',\n",
              " 'part',\n",
              " 'other',\n",
              " 'must',\n",
              " 'mudslide',\n",
              " 'market',\n",
              " 'iran',\n",
              " 'famine',\n",
              " 'exploded',\n",
              " 'electrocuted',\n",
              " 'ebay',\n",
              " 'displaced',\n",
              " 'derailed',\n",
              " 'derail',\n",
              " 'burned',\n",
              " 'bombed',\n",
              " 'blown',\n",
              " 'baby',\n",
              " 'around',\n",
              " 'zone',\n",
              " 'wave',\n",
              " 'wanna',\n",
              " 'sure',\n",
              " 'someone',\n",
              " 'screams',\n",
              " 'razed',\n",
              " 'power',\n",
              " 'obliterated',\n",
              " 'long',\n",
              " 'land',\n",
              " 'hundreds',\n",
              " 'heard',\n",
              " 'group',\n",
              " 'flattened',\n",
              " 'drown',\n",
              " 'doing',\n",
              " 'care',\n",
              " 'bridge',\n",
              " 'bagging',\n",
              " '9',\n",
              " 'went',\n",
              " 'used',\n",
              " 'typhoon',\n",
              " 'trouble',\n",
              " 'tornado',\n",
              " 'thought',\n",
              " 'thing',\n",
              " 'river',\n",
              " 'responders',\n",
              " 'past',\n",
              " 'pandemonium',\n",
              " 'officials',\n",
              " 'meltdown',\n",
              " 'lot',\n",
              " 'least',\n",
              " 'inundated',\n",
              " 'id',\n",
              " 'hostage',\n",
              " 'hijacking',\n",
              " 'hazardous',\n",
              " 'goes',\n",
              " 'drowning',\n",
              " 'didnt',\n",
              " 'devastation',\n",
              " 'demolish',\n",
              " 'collide',\n",
              " 'casualties',\n",
              " 'calgary',\n",
              " 'bang',\n",
              " 'anniversary',\n",
              " 'yet',\n",
              " 'wounds',\n",
              " 'volcano',\n",
              " 'tsunami',\n",
              " 'sue',\n",
              " 'st',\n",
              " 'song',\n",
              " 'something',\n",
              " 'shoulder',\n",
              " 'security',\n",
              " 'prebreak',\n",
              " 'possible',\n",
              " 'pkk',\n",
              " 'panicking',\n",
              " 'obliteration',\n",
              " 'obliterate',\n",
              " 'murderer',\n",
              " 'minute',\n",
              " 'light',\n",
              " 'lets',\n",
              " 'kill',\n",
              " 'isis',\n",
              " 'india',\n",
              " 'hijacker',\n",
              " 'hellfire',\n",
              " 'government',\n",
              " 'few',\n",
              " 'evacuated',\n",
              " 'due',\n",
              " 'detonated',\n",
              " 'desolation',\n",
              " 'crushed',\n",
              " 'chemical',\n",
              " 'blew',\n",
              " 'blazing',\n",
              " 'blast',\n",
              " 'annihilated',\n",
              " 'airport',\n",
              " '6',\n",
              " 'week',\n",
              " 'upheaval',\n",
              " 'trying',\n",
              " 'three',\n",
              " 'thanks',\n",
              " 'sound',\n",
              " 'soon',\n",
              " 'sirens',\n",
              " 'rainstorm',\n",
              " 'plane',\n",
              " 'music',\n",
              " 'making',\n",
              " 'kids',\n",
              " 'issues',\n",
              " 'half',\n",
              " 'guys',\n",
              " 'fedex',\n",
              " 'done',\n",
              " 'died',\n",
              " 'detonation',\n",
              " 'days',\n",
              " 'cyclone',\n",
              " 'county',\n",
              " 'collision',\n",
              " 'caused',\n",
              " 'catastrophic',\n",
              " 'bleeding',\n",
              " 'beautiful',\n",
              " '8',\n",
              " 'words',\n",
              " 'very',\n",
              " 'traffic',\n",
              " 'south',\n",
              " 'remember',\n",
              " 'policy',\n",
              " 'place',\n",
              " 'nothing',\n",
              " 'north',\n",
              " 'mp',\n",
              " 'longer',\n",
              " 'left',\n",
              " 'israeli',\n",
              " 'hell',\n",
              " 'fun',\n",
              " 'drowned',\n",
              " 'demolished',\n",
              " 'cool',\n",
              " 'both',\n",
              " 'bioterror',\n",
              " 'believe',\n",
              " 'avalanche',\n",
              " 'arson',\n",
              " 'turkey',\n",
              " 'snowstorm',\n",
              " 'site',\n",
              " 'shot',\n",
              " 'shooting',\n",
              " 'pic',\n",
              " 'nowplaying',\n",
              " 'media',\n",
              " 'islam',\n",
              " 'inside',\n",
              " 'hijack',\n",
              " 'helicopter',\n",
              " 'fight',\n",
              " 'fatality',\n",
              " 'fan',\n",
              " 'electrocute',\n",
              " 'doesnt',\n",
              " 'building',\n",
              " 'brown',\n",
              " 'bc',\n",
              " 'actually',\n",
              " '16yr',\n",
              " 'yes',\n",
              " 'watching',\n",
              " 'wait',\n",
              " 'ur',\n",
              " 'tell',\n",
              " 'swallowed',\n",
              " 'seismic',\n",
              " 'second',\n",
              " 'rubble',\n",
              " 're\\x89Û',\n",
              " 'plans',\n",
              " 'men',\n",
              " 'memories',\n",
              " 'line',\n",
              " 'la',\n",
              " 'horror',\n",
              " 'health',\n",
              " 'having',\n",
              " 'find',\n",
              " 'eyewitness',\n",
              " 'deluged',\n",
              " 'children',\n",
              " 'bush',\n",
              " 'anything',\n",
              " 'already',\n",
              " 'almost',\n",
              " 'aircraft',\n",
              " 'yourself',\n",
              " 'yeah',\n",
              " 'whats',\n",
              " 'tomorrow',\n",
              " 'such',\n",
              " 'start',\n",
              " 'side',\n",
              " 'searching',\n",
              " 'saved',\n",
              " 'reactor',\n",
              " 'probably',\n",
              " 'play',\n",
              " 'person',\n",
              " 'peace',\n",
              " 'outside',\n",
              " 'officer',\n",
              " 'nearby',\n",
              " 'n',\n",
              " 'maybe',\n",
              " 'lost',\n",
              " 'literally',\n",
              " 'hours',\n",
              " 'hear',\n",
              " 'far',\n",
              " 'die',\n",
              " 'demolition',\n",
              " 'data',\n",
              " 'crews',\n",
              " 'conclusively',\n",
              " 'business',\n",
              " 'american',\n",
              " '20',\n",
              " '\\x89ÛÓ',\n",
              " 'west',\n",
              " 'waves',\n",
              " 'team',\n",
              " 'street',\n",
              " 'stay',\n",
              " 'soudelor',\n",
              " 'reuters',\n",
              " 'manslaughter',\n",
              " 'leather',\n",
              " 'job',\n",
              " 'history',\n",
              " 'hey',\n",
              " 'feeling',\n",
              " 'eyes',\n",
              " 'everything',\n",
              " 'declares',\n",
              " 'deal',\n",
              " 'casualty',\n",
              " 'bodies',\n",
              " 'amid',\n",
              " 'ablaze',\n",
              " '7',\n",
              " '50',\n",
              " '30',\n",
              " '12',\n",
              " 'youth',\n",
              " 'wont',\n",
              " 'wake',\n",
              " 'theyre',\n",
              " 'support',\n",
              " 'stretcher',\n",
              " 'same',\n",
              " 'rise',\n",
              " 'picking',\n",
              " 'photos',\n",
              " 'own',\n",
              " 'others',\n",
              " 'order',\n",
              " 'omg',\n",
              " 'okay',\n",
              " 'name',\n",
              " 'myself',\n",
              " 'money',\n",
              " 'makes',\n",
              " 'leave',\n",
              " 'lab',\n",
              " 'gt',\n",
              " 'gets',\n",
              " 'flag',\n",
              " 'desolate',\n",
              " 'crisis',\n",
              " 'center',\n",
              " 'book',\n",
              " 'blight',\n",
              " 'blaze',\n",
              " 'ago',\n",
              " 'abc',\n",
              " '11yearold',\n",
              " 'womens',\n",
              " 'typhoondevastated',\n",
              " 'tv',\n",
              " 'trench',\n",
              " 'trains',\n",
              " 'texas',\n",
              " 'space',\n",
              " 'siren',\n",
              " 'shes',\n",
              " 'self',\n",
              " 'saipan',\n",
              " 'reason',\n",
              " 'rd',\n",
              " 'pretty',\n",
              " 'pick',\n",
              " 'offensive',\n",
              " 'move',\n",
              " 'meek',\n",
              " 'major',\n",
              " 'm',\n",
              " 'low',\n",
              " 'lord',\n",
              " 'huge',\n",
              " 'hat',\n",
              " 'flash',\n",
              " 'feared',\n",
              " 'fast',\n",
              " 'effect',\n",
              " 'course',\n",
              " 'country',\n",
              " 'control',\n",
              " 'class',\n",
              " 'child',\n",
              " 'chance',\n",
              " 'caught',\n",
              " 'called',\n",
              " 'bioterrorism',\n",
              " 'bestnaijamade',\n",
              " 'become',\n",
              " 'bar',\n",
              " 'banned',\n",
              " 'ball',\n",
              " 'aug',\n",
              " 'annihilation',\n",
              " 'wrong',\n",
              " 'win',\n",
              " 'usa',\n",
              " 'united',\n",
              " 'town',\n",
              " 'totally',\n",
              " 'toddler',\n",
              " 'though',\n",
              " 'temple',\n",
              " 'taken',\n",
              " 'stand',\n",
              " 'spot',\n",
              " 'signs',\n",
              " 'ship',\n",
              " 'pakistan',\n",
              " 'online',\n",
              " 'level',\n",
              " 'ladies',\n",
              " 'jobs',\n",
              " 'isnt',\n",
              " 'happy',\n",
              " 'hailstorm',\n",
              " 'friends',\n",
              " 'disea',\n",
              " 'damn',\n",
              " 'couple',\n",
              " 'case',\n",
              " 'blue',\n",
              " 'bigger',\n",
              " 'america',\n",
              " 'across',\n",
              " '10',\n",
              " 'yours',\n",
              " 'village',\n",
              " 'try',\n",
              " 'transport',\n",
              " 'talk',\n",
              " 'seen',\n",
              " 'russian',\n",
              " 'radio',\n",
              " 'projected',\n",
              " 'once',\n",
              " 'official',\n",
              " 'needs',\n",
              " 'nearly',\n",
              " 'mount',\n",
              " 'might',\n",
              " 'mayhem',\n",
              " 'instead',\n",
              " 'hollywood',\n",
              " 'haha',\n",
              " 'guy',\n",
              " 'gun',\n",
              " 'green',\n",
              " 'front',\n",
              " 'finally',\n",
              " 'favorite',\n",
              " 'experts',\n",
              " 'entire',\n",
              " 'east',\n",
              " 'daily',\n",
              " 'crazy',\n",
              " 'computers',\n",
              " 'coaches',\n",
              " 'christian',\n",
              " 'china',\n",
              " 'blizzard',\n",
              " 'anyone',\n",
              " 'aint',\n",
              " 'action',\n",
              " '25',\n",
              " 'virgin',\n",
              " 'vehicle',\n",
              " 'truth',\n",
              " 'trust',\n",
              " 'takes',\n",
              " 't',\n",
              " 'star',\n",
              " 'sorry',\n",
              " 'running',\n",
              " 'refugio',\n",
              " 'reddits',\n",
              " 'poor',\n",
              " 'pain',\n",
              " 'mom',\n",
              " 'miners',\n",
              " 'marks',\n",
              " 'looking',\n",
              " 'knock',\n",
              " 'issued',\n",
              " 'insurance',\n",
              " 'ignition',\n",
              " 'houses',\n",
              " 'heavy',\n",
              " 'hate',\n",
              " 'hard',\n",
              " 'happened',\n",
              " 'global',\n",
              " 'giant',\n",
              " 'gbbo',\n",
              " 'flight',\n",
              " 'eye',\n",
              " 'emmerdale',\n",
              " 'driver',\n",
              " 'devastated',\n",
              " 'd',\n",
              " 'costlier',\n",
              " 'cnn',\n",
              " 'cars',\n",
              " 'camp',\n",
              " 'beach',\n",
              " 'arsonist',\n",
              " 'angry',\n",
              " 'alone',\n",
              " 'added',\n",
              " '05',\n",
              " 'york',\n",
              " 'wonder',\n",
              " 'uk',\n",
              " 'turn',\n",
              " 'taking',\n",
              " 'subreddits',\n",
              " 'sounds',\n",
              " 'scared',\n",
              " 'russia',\n",
              " 'rly',\n",
              " 'reports',\n",
              " 'ready',\n",
              " 'quiz',\n",
              " 'public',\n",
              " 'property',\n",
              " 'pradesh',\n",
              " 'ppl',\n",
              " 'playing',\n",
              " 'pay',\n",
              " 'parole',\n",
              " 'pamela',\n",
              " 'pakistani',\n",
              " 'outrage',\n",
              " 'niggas',\n",
              " 'nagasaki',\n",
              " 'myanmar',\n",
              " 'muslims',\n",
              " 'mop',\n",
              " 'madhya',\n",
              " 'mad',\n",
              " 'lmao',\n",
              " 'learn',\n",
              " 'large',\n",
              " 'govt',\n",
              " 'give',\n",
              " 'gems',\n",
              " 'gave',\n",
              " 'funtenna',\n",
              " 'fukushima',\n",
              " 'former',\n",
              " 'film',\n",
              " 'earth',\n",
              " 'drive',\n",
              " 'downtown',\n",
              " 'dog',\n",
              " 'comes',\n",
              " 'closed',\n",
              " 'cake',\n",
              " 'british',\n",
              " 'bring',\n",
              " 'bbc',\n",
              " 'b',\n",
              " 'appears',\n",
              " 'aftershock',\n",
              " '13',\n",
              " '11',\n",
              " 'young',\n",
              " 'wow',\n",
              " 'worst',\n",
              " 'waving',\n",
              " 'washington',\n",
              " 'wanted',\n",
              " 'vs',\n",
              " 'view',\n",
              " 'upon',\n",
              " 'tweet',\n",
              " 'tree',\n",
              " 'tote',\n",
              " 'thousands',\n",
              " 'thinking',\n",
              " 'theater',\n",
              " 'soul',\n",
              " 'sky',\n",
              " 'sign',\n",
              " 'shows',\n",
              " 'shift',\n",
              " 'seeing',\n",
              " 'sea',\n",
              " 'scene',\n",
              " 'safety',\n",
              " 'rules',\n",
              " 'rock',\n",
              " 'reported',\n",
              " 'r',\n",
              " 'pray',\n",
              " 'playlist',\n",
              " 'patience',\n",
              " ...]"
            ]
          },
          "metadata": {
            "tags": []
          },
          "execution_count": 133
        }
      ]
    },
    {
      "cell_type": "code",
      "metadata": {
        "colab": {
          "base_uri": "https://localhost:8080/"
        },
        "id": "euIlnFsCTmg_",
        "outputId": "3ae154e7-9bdf-491d-ba73-a70c7ae4a6ab"
      },
      "source": [
        "# Get the vocabulary from text vectorization layer\n",
        "\n",
        "words_in_vocab = text_vectorizer.get_vocabulary()\n",
        "len(words_in_vocab), words_in_vocab[:10]"
      ],
      "execution_count": 134,
      "outputs": [
        {
          "output_type": "execute_result",
          "data": {
            "text/plain": [
              "(10000, ['', '[UNK]', 'the', 'a', 'in', 'to', 'of', 'and', 'i', 'is'])"
            ]
          },
          "metadata": {
            "tags": []
          },
          "execution_count": 134
        }
      ]
    },
    {
      "cell_type": "code",
      "metadata": {
        "colab": {
          "base_uri": "https://localhost:8080/"
        },
        "id": "MIkoetsGUjHS",
        "outputId": "ac5be934-4016-420f-87ca-37184798ed23"
      },
      "source": [
        "max_vocab_length"
      ],
      "execution_count": 135,
      "outputs": [
        {
          "output_type": "execute_result",
          "data": {
            "text/plain": [
              "10000"
            ]
          },
          "metadata": {
            "tags": []
          },
          "execution_count": 135
        }
      ]
    },
    {
      "cell_type": "code",
      "metadata": {
        "colab": {
          "base_uri": "https://localhost:8080/"
        },
        "id": "UcYl6LT2UmVB",
        "outputId": "21121ec9-95af-4acc-9ae7-1d2f8c445b18"
      },
      "source": [
        "# Model 1 summary\n",
        "model_1.summary()"
      ],
      "execution_count": 136,
      "outputs": [
        {
          "output_type": "stream",
          "text": [
            "Model: \"model_1_dense\"\n",
            "_________________________________________________________________\n",
            "Layer (type)                 Output Shape              Param #   \n",
            "=================================================================\n",
            "input_3 (InputLayer)         [(None, 1)]               0         \n",
            "_________________________________________________________________\n",
            "text_vectorization_3 (TextVe (None, 15)                0         \n",
            "_________________________________________________________________\n",
            "embedding_1 (Embedding)      (None, 15, 128)           1280000   \n",
            "_________________________________________________________________\n",
            "global_average_pooling1d_1 ( (None, 128)               0         \n",
            "_________________________________________________________________\n",
            "dense_2 (Dense)              (None, 1)                 129       \n",
            "=================================================================\n",
            "Total params: 1,280,129\n",
            "Trainable params: 1,280,129\n",
            "Non-trainable params: 0\n",
            "_________________________________________________________________\n"
          ],
          "name": "stdout"
        }
      ]
    },
    {
      "cell_type": "code",
      "metadata": {
        "colab": {
          "base_uri": "https://localhost:8080/"
        },
        "id": "zXFS7JiwUts2",
        "outputId": "bcf6d064-d166-43a4-8073-3093b7eab181"
      },
      "source": [
        "# Get the weight matrix of embedding layer\n",
        "\n",
        "# (these are the numerical representations of each token in our training data, which have been learned for -5 epochs)\n",
        "\n",
        "embed_weights = model_1.get_layer(\"embedding_1\").get_weights()[0]\n",
        "embed_weights"
      ],
      "execution_count": 137,
      "outputs": [
        {
          "output_type": "execute_result",
          "data": {
            "text/plain": [
              "array([[-1.9919420e-02,  5.3546228e-02,  5.6923139e-03, ...,\n",
              "        -2.0012170e-02,  3.8066633e-02, -3.0100802e-03],\n",
              "       [ 1.3580940e-02, -3.4799263e-02, -2.6586788e-02, ...,\n",
              "        -6.4763180e-03, -2.2140022e-02, -2.1767857e-02],\n",
              "       [-1.1442009e-02, -2.5690785e-02,  7.9655426e-04, ...,\n",
              "        -9.4965473e-03,  2.0742415e-02, -3.1610884e-02],\n",
              "       ...,\n",
              "       [ 2.4014834e-02,  2.2706080e-02, -1.1803698e-02, ...,\n",
              "        -1.0966301e-02,  2.9018287e-02,  4.5574557e-02],\n",
              "       [-7.3391020e-02,  2.0473832e-03,  4.5915684e-05, ...,\n",
              "         6.0534891e-02,  3.3988159e-02,  5.0648670e-03],\n",
              "       [-4.4150911e-02,  1.8490301e-02,  7.2147891e-02, ...,\n",
              "         5.5408888e-02,  1.6841916e-02,  3.2054663e-02]], dtype=float32)"
            ]
          },
          "metadata": {
            "tags": []
          },
          "execution_count": 137
        }
      ]
    },
    {
      "cell_type": "code",
      "metadata": {
        "colab": {
          "base_uri": "https://localhost:8080/"
        },
        "id": "qXgHKcvAVGKz",
        "outputId": "3039fb55-f23a-4774-9b62-5d1e6b854194"
      },
      "source": [
        "# cada token se convierte en 128 vector\n",
        "print(embed_weights.shape) # same size as vocab size and embedding_dim"
      ],
      "execution_count": 138,
      "outputs": [
        {
          "output_type": "stream",
          "text": [
            "(10000, 128)\n"
          ],
          "name": "stdout"
        }
      ]
    },
    {
      "cell_type": "markdown",
      "metadata": {
        "id": "f_c8BqglWeV9"
      },
      "source": [
        "Now we've got  the embedding matrix our model has learned to represent our tokens, let's see how we can visualize it.\n",
        "\n",
        "\n",
        "To do so, TensorFlow has a handy tool called projector: http://projector.tensorflow.org/\n",
        "\n",
        "\n",
        "And TensorFlor also  has an incredible guide on word embeddings themselves:\n",
        "\n",
        "https://www.tensorflow.org/tutorials/text/word_embeddings"
      ]
    },
    {
      "cell_type": "code",
      "metadata": {
        "colab": {
          "base_uri": "https://localhost:8080/"
        },
        "id": "xa7kHaRIV3Rw",
        "outputId": "8f6f4f13-7551-4432-e730-cc15bf48086f"
      },
      "source": [
        "\n",
        "embed_weights"
      ],
      "execution_count": 139,
      "outputs": [
        {
          "output_type": "execute_result",
          "data": {
            "text/plain": [
              "array([[-1.9919420e-02,  5.3546228e-02,  5.6923139e-03, ...,\n",
              "        -2.0012170e-02,  3.8066633e-02, -3.0100802e-03],\n",
              "       [ 1.3580940e-02, -3.4799263e-02, -2.6586788e-02, ...,\n",
              "        -6.4763180e-03, -2.2140022e-02, -2.1767857e-02],\n",
              "       [-1.1442009e-02, -2.5690785e-02,  7.9655426e-04, ...,\n",
              "        -9.4965473e-03,  2.0742415e-02, -3.1610884e-02],\n",
              "       ...,\n",
              "       [ 2.4014834e-02,  2.2706080e-02, -1.1803698e-02, ...,\n",
              "        -1.0966301e-02,  2.9018287e-02,  4.5574557e-02],\n",
              "       [-7.3391020e-02,  2.0473832e-03,  4.5915684e-05, ...,\n",
              "         6.0534891e-02,  3.3988159e-02,  5.0648670e-03],\n",
              "       [-4.4150911e-02,  1.8490301e-02,  7.2147891e-02, ...,\n",
              "         5.5408888e-02,  1.6841916e-02,  3.2054663e-02]], dtype=float32)"
            ]
          },
          "metadata": {
            "tags": []
          },
          "execution_count": 139
        }
      ]
    },
    {
      "cell_type": "code",
      "metadata": {
        "id": "x5iAt3p2WXAa"
      },
      "source": [
        "# Create embedding files (we got this from tensorflow word embeddings documentation)\n",
        "import io\n",
        "out_v = io.open('vector.tsv', 'w', encoding='utf-8')\n",
        "\n",
        "out_m = io.open('metadata.tsv', 'w', encoding='utf-8')\n",
        "\n",
        "\n",
        "for index, word in enumerate(words_in_vocab):\n",
        "  if index == 0:\n",
        "    continue # skip 0, it's padding\n",
        "  vec = embed_weights[index]\n",
        "\n",
        "  out_v.write('\\t'.join([str(x) for x in vec]) + \"\\n\")\n",
        "  out_m.write(word + \"\\n\")\n",
        "out_v.close()\n",
        "out_m.close()"
      ],
      "execution_count": 140,
      "outputs": []
    },
    {
      "cell_type": "code",
      "metadata": {
        "colab": {
          "base_uri": "https://localhost:8080/",
          "height": 52
        },
        "id": "g_imlGCEZKR5",
        "outputId": "c21bd789-8131-46e9-a571-a53392c46442"
      },
      "source": [
        "# Download files from colab to upload to projector\n",
        "\n",
        "try:\n",
        "  from google.colab import files\n",
        "  files.download('vector.tsv')\n",
        "  files.download('metadata.tsv')\n",
        "except Exception:\n",
        "  pass\n"
      ],
      "execution_count": 141,
      "outputs": [
        {
          "output_type": "display_data",
          "data": {
            "application/javascript": [
              "\n",
              "    async function download(id, filename, size) {\n",
              "      if (!google.colab.kernel.accessAllowed) {\n",
              "        return;\n",
              "      }\n",
              "      const div = document.createElement('div');\n",
              "      const label = document.createElement('label');\n",
              "      label.textContent = `Downloading \"${filename}\": `;\n",
              "      div.appendChild(label);\n",
              "      const progress = document.createElement('progress');\n",
              "      progress.max = size;\n",
              "      div.appendChild(progress);\n",
              "      document.body.appendChild(div);\n",
              "\n",
              "      const buffers = [];\n",
              "      let downloaded = 0;\n",
              "\n",
              "      const channel = await google.colab.kernel.comms.open(id);\n",
              "      // Send a message to notify the kernel that we're ready.\n",
              "      channel.send({})\n",
              "\n",
              "      for await (const message of channel.messages) {\n",
              "        // Send a message to notify the kernel that we're ready.\n",
              "        channel.send({})\n",
              "        if (message.buffers) {\n",
              "          for (const buffer of message.buffers) {\n",
              "            buffers.push(buffer);\n",
              "            downloaded += buffer.byteLength;\n",
              "            progress.value = downloaded;\n",
              "          }\n",
              "        }\n",
              "      }\n",
              "      const blob = new Blob(buffers, {type: 'application/binary'});\n",
              "      const a = document.createElement('a');\n",
              "      a.href = window.URL.createObjectURL(blob);\n",
              "      a.download = filename;\n",
              "      div.appendChild(a);\n",
              "      a.click();\n",
              "      div.remove();\n",
              "    }\n",
              "  "
            ],
            "text/plain": [
              "<IPython.core.display.Javascript object>"
            ]
          },
          "metadata": {
            "tags": []
          }
        },
        {
          "output_type": "display_data",
          "data": {
            "application/javascript": [
              "download(\"download_7bfc8d8c-24ab-406b-ac11-7649c0ae980c\", \"vector.tsv\", 15379892)"
            ],
            "text/plain": [
              "<IPython.core.display.Javascript object>"
            ]
          },
          "metadata": {
            "tags": []
          }
        },
        {
          "output_type": "display_data",
          "data": {
            "application/javascript": [
              "\n",
              "    async function download(id, filename, size) {\n",
              "      if (!google.colab.kernel.accessAllowed) {\n",
              "        return;\n",
              "      }\n",
              "      const div = document.createElement('div');\n",
              "      const label = document.createElement('label');\n",
              "      label.textContent = `Downloading \"${filename}\": `;\n",
              "      div.appendChild(label);\n",
              "      const progress = document.createElement('progress');\n",
              "      progress.max = size;\n",
              "      div.appendChild(progress);\n",
              "      document.body.appendChild(div);\n",
              "\n",
              "      const buffers = [];\n",
              "      let downloaded = 0;\n",
              "\n",
              "      const channel = await google.colab.kernel.comms.open(id);\n",
              "      // Send a message to notify the kernel that we're ready.\n",
              "      channel.send({})\n",
              "\n",
              "      for await (const message of channel.messages) {\n",
              "        // Send a message to notify the kernel that we're ready.\n",
              "        channel.send({})\n",
              "        if (message.buffers) {\n",
              "          for (const buffer of message.buffers) {\n",
              "            buffers.push(buffer);\n",
              "            downloaded += buffer.byteLength;\n",
              "            progress.value = downloaded;\n",
              "          }\n",
              "        }\n",
              "      }\n",
              "      const blob = new Blob(buffers, {type: 'application/binary'});\n",
              "      const a = document.createElement('a');\n",
              "      a.href = window.URL.createObjectURL(blob);\n",
              "      a.download = filename;\n",
              "      div.appendChild(a);\n",
              "      a.click();\n",
              "      div.remove();\n",
              "    }\n",
              "  "
            ],
            "text/plain": [
              "<IPython.core.display.Javascript object>"
            ]
          },
          "metadata": {
            "tags": []
          }
        },
        {
          "output_type": "display_data",
          "data": {
            "application/javascript": [
              "download(\"download_9c72e9e0-36ea-4042-98ff-cdb94cc6e562\", \"metadata.tsv\", 80388)"
            ],
            "text/plain": [
              "<IPython.core.display.Javascript object>"
            ]
          },
          "metadata": {
            "tags": []
          }
        }
      ]
    },
    {
      "cell_type": "markdown",
      "metadata": {
        "id": "xbLBZuYCbGBb"
      },
      "source": [
        "## Recurrent Neural Networks (RNN's)\n",
        "\n",
        "RNN's are useful for sequence data.\n",
        "\n",
        "THe premise of a recurrent neural network is to use the representation of a previous input to aid the representation of a later input.\n",
        "\n",
        "If you want an overview of the internals of a recurrent neural network,\n",
        "\n",
        "see the following: - MIT's sequence modelling lecture\n",
        "https://www.youtube.com/watch?v=qjrad0V0uJE&list=PLtBw6njQRU-rwp5__7C0oIVt26ZgjG9NI&index=2&ab_channel=AlexanderAmini\n",
        "\n",
        "\n",
        "- Chris olah intro lstm https://colah.github.io/posts/2015-08-Understanding-LSTMs/\n",
        "\n",
        "\n",
        "- Andrej  Karpathy's the unreasonable effectivenes of recurrent neural network\n",
        "\n",
        "-http://karpathy.github.io/2015/05/21/rnn-effectiveness/\n",
        "\n",
        "\n",
        "\n",
        "\n"
      ]
    },
    {
      "cell_type": "code",
      "metadata": {
        "colab": {
          "base_uri": "https://localhost:8080/"
        },
        "id": "5fvzJgaye-VF",
        "outputId": "ea2c8328-45df-481a-bd37-6056c69ea902"
      },
      "source": [
        "train_sentences[:10]"
      ],
      "execution_count": 142,
      "outputs": [
        {
          "output_type": "execute_result",
          "data": {
            "text/plain": [
              "array(['@mogacola @zamtriossu i screamed after hitting tweet',\n",
              "       'Imagine getting flattened by Kurt Zouma',\n",
              "       '@Gurmeetramrahim #MSGDoing111WelfareWorks Green S welfare force ke appx 65000 members har time disaster victim ki help ke liye tyar hai....',\n",
              "       \"@shakjn @C7 @Magnums im shaking in fear he's gonna hack the planet\",\n",
              "       'Somehow find you and I collide http://t.co/Ee8RpOahPk',\n",
              "       '@EvaHanderek @MarleyKnysh great times until the bus driver held us hostage in the mall parking lot lmfao',\n",
              "       'destroy the free fandom honestly',\n",
              "       'Weapons stolen from National Guard Armory in New Albany still missing #Gunsense http://t.co/lKNU8902JE',\n",
              "       '@wfaaweather Pete when will the heat wave pass? Is it really going to be mid month? Frisco Boy Scouts have a canoe trip in Okla.',\n",
              "       'Patient-reported outcomes in long-term survivors of metastatic colorectal cancer - British Journal of Surgery http://t.co/5Yl4DC1Tqt'],\n",
              "      dtype=object)"
            ]
          },
          "metadata": {
            "tags": []
          },
          "execution_count": 142
        }
      ]
    },
    {
      "cell_type": "markdown",
      "metadata": {
        "id": "PBd2ubTIfBQE"
      },
      "source": [
        "### Model: LSTM\n",
        "\n",
        "LSTM  = long short term memory ( one of the most popular LSTM cells)\n",
        "\n",
        "\n",
        "Our structure of an RNN typically looks like this:\n",
        "\n",
        "\n",
        "```\n",
        "Input (text) - > Tokenize --> Embedding --> Layers (RNNs>dense)---> Output ( label probability)\n",
        "```\n"
      ]
    },
    {
      "cell_type": "code",
      "metadata": {
        "id": "s23Vl81Viif6"
      },
      "source": [
        "# Create an LSTM model\n",
        " \n",
        "from tensorflow.keras import layers\n",
        "\n",
        "inputs = layers.Input(shape=(1,), dtype=\"string\")\n",
        "\n",
        "x =  text_vectorizer(inputs)\n",
        "\n",
        "x = embedding(x)\n",
        "\n",
        "# print(x.shape)\n",
        "# en nuestro caso cada secuencia es un timesteps\n",
        "x = layers.LSTM(units=64, return_sequences=True)(x) # When you're  stacking RNN celss together, you need to set return_sequences = True\n",
        "\n",
        "# print(x.shape)\n",
        "x = layers.LSTM(64)(x)\n",
        "#print(x.shape)\n",
        "# x = layers.Dense(64, activation=\"relu\" )(x)\n",
        "# print(x.shape)\n",
        "outputs = layers.Dense(1, activation=\"sigmoid\")(x)\n",
        "\n",
        "model_2 = tf.keras.Model(inputs, outputs, name =\"model_2_LSTM\")"
      ],
      "execution_count": 143,
      "outputs": []
    },
    {
      "cell_type": "code",
      "metadata": {
        "colab": {
          "base_uri": "https://localhost:8080/"
        },
        "id": "nD-pe6yVlput",
        "outputId": "338186ac-0664-4674-93b4-ebb1af63203e"
      },
      "source": [
        "# Get a summary\n",
        "\n",
        "model_2.summary()"
      ],
      "execution_count": 144,
      "outputs": [
        {
          "output_type": "stream",
          "text": [
            "Model: \"model_2_LSTM\"\n",
            "_________________________________________________________________\n",
            "Layer (type)                 Output Shape              Param #   \n",
            "=================================================================\n",
            "input_4 (InputLayer)         [(None, 1)]               0         \n",
            "_________________________________________________________________\n",
            "text_vectorization_3 (TextVe (None, 15)                0         \n",
            "_________________________________________________________________\n",
            "embedding_1 (Embedding)      (None, 15, 128)           1280000   \n",
            "_________________________________________________________________\n",
            "lstm_1 (LSTM)                (None, 15, 64)            49408     \n",
            "_________________________________________________________________\n",
            "lstm_2 (LSTM)                (None, 64)                33024     \n",
            "_________________________________________________________________\n",
            "dense_3 (Dense)              (None, 1)                 65        \n",
            "=================================================================\n",
            "Total params: 1,362,497\n",
            "Trainable params: 1,362,497\n",
            "Non-trainable params: 0\n",
            "_________________________________________________________________\n"
          ],
          "name": "stdout"
        }
      ]
    },
    {
      "cell_type": "code",
      "metadata": {
        "id": "_SaozYO9oUeP"
      },
      "source": [
        "\n",
        "# Compile the model\n",
        "\n",
        "model_2.compile(loss=\"binary_crossentropy\",\n",
        "                optimizer=tf.keras.optimizers.Adam(),\n",
        "                metrics=[\"accuracy\"])"
      ],
      "execution_count": 145,
      "outputs": []
    },
    {
      "cell_type": "code",
      "metadata": {
        "colab": {
          "base_uri": "https://localhost:8080/"
        },
        "id": "4OTXBC2WouAI",
        "outputId": "7fb5db53-d7a7-4f7d-d0fe-53a180049db2"
      },
      "source": [
        "# Fit the model\n",
        "model_2.histor = model_2.fit(train_sentences,\n",
        "                             train_labels,\n",
        "                             epochs=5,\n",
        "                             validation_data=(val_sentences, val_labels),\n",
        "                             callbacks=[create_tensorboard_callback(SAVE_DIR,\n",
        "                                                                    \"model_2_LSTM\")])"
      ],
      "execution_count": 146,
      "outputs": [
        {
          "output_type": "stream",
          "text": [
            "Saving TensorBoard log files to: model_logs/model_2_LSTM/20210519-202803\n",
            "Epoch 1/5\n",
            "215/215 [==============================] - 8s 24ms/step - loss: 0.2866 - accuracy: 0.8948 - val_loss: 0.6585 - val_accuracy: 0.7782\n",
            "Epoch 2/5\n",
            "215/215 [==============================] - 4s 18ms/step - loss: 0.1639 - accuracy: 0.9433 - val_loss: 0.6338 - val_accuracy: 0.7756\n",
            "Epoch 3/5\n",
            "215/215 [==============================] - 4s 18ms/step - loss: 0.1303 - accuracy: 0.9537 - val_loss: 0.7379 - val_accuracy: 0.7730\n",
            "Epoch 4/5\n",
            "215/215 [==============================] - 4s 18ms/step - loss: 0.0917 - accuracy: 0.9649 - val_loss: 0.8088 - val_accuracy: 0.7690\n",
            "Epoch 5/5\n",
            "215/215 [==============================] - 4s 18ms/step - loss: 0.0696 - accuracy: 0.9730 - val_loss: 0.9493 - val_accuracy: 0.7717\n"
          ],
          "name": "stdout"
        }
      ]
    },
    {
      "cell_type": "code",
      "metadata": {
        "colab": {
          "base_uri": "https://localhost:8080/"
        },
        "id": "Kea6jU6ipPhj",
        "outputId": "d5333a64-a93a-4cab-bd80-a5bcf477aa81"
      },
      "source": [
        "# make prediction with LSTM model\n",
        "model_2_pred_probs = model_2.predict(val_sentences)\n",
        "\n",
        "model_2_pred_probs[:10]\n"
      ],
      "execution_count": 147,
      "outputs": [
        {
          "output_type": "execute_result",
          "data": {
            "text/plain": [
              "array([[1.9370083e-02],\n",
              "       [8.6944681e-01],\n",
              "       [9.9990273e-01],\n",
              "       [1.9203041e-01],\n",
              "       [1.4766376e-04],\n",
              "       [9.9916697e-01],\n",
              "       [9.5298594e-01],\n",
              "       [9.9992526e-01],\n",
              "       [9.9990582e-01],\n",
              "       [4.6194616e-01]], dtype=float32)"
            ]
          },
          "metadata": {
            "tags": []
          },
          "execution_count": 147
        }
      ]
    },
    {
      "cell_type": "code",
      "metadata": {
        "colab": {
          "base_uri": "https://localhost:8080/"
        },
        "id": "VPTmB2vWpitq",
        "outputId": "4a9e56c2-e75a-4d60-8b05-2dc20a371433"
      },
      "source": [
        "# Convert model 2 pred probs to labels\n",
        "\n",
        "model_2_preds = tf.squeeze(tf.round(model_2_pred_probs))\n",
        "\n",
        "model_2_preds[:10]\n",
        "\n",
        "\n"
      ],
      "execution_count": 148,
      "outputs": [
        {
          "output_type": "execute_result",
          "data": {
            "text/plain": [
              "<tf.Tensor: shape=(10,), dtype=float32, numpy=array([0., 1., 1., 0., 0., 1., 1., 1., 1., 0.], dtype=float32)>"
            ]
          },
          "metadata": {
            "tags": []
          },
          "execution_count": 148
        }
      ]
    },
    {
      "cell_type": "code",
      "metadata": {
        "colab": {
          "base_uri": "https://localhost:8080/"
        },
        "id": "_3Md1HvxqF9f",
        "outputId": "ff4e34af-abfa-481c-a4bd-f9547c3b2d92"
      },
      "source": [
        "val_labels"
      ],
      "execution_count": 149,
      "outputs": [
        {
          "output_type": "execute_result",
          "data": {
            "text/plain": [
              "array([0, 0, 1, 1, 1, 1, 1, 1, 1, 0, 0, 0, 0, 0, 0, 0, 0, 0, 1, 0, 1, 1,\n",
              "       1, 1, 1, 1, 0, 0, 0, 0, 1, 0, 0, 0, 1, 0, 1, 0, 1, 1, 1, 0, 1, 0,\n",
              "       0, 1, 0, 1, 0, 0, 0, 1, 0, 0, 0, 0, 0, 1, 1, 1, 0, 1, 1, 1, 1, 1,\n",
              "       1, 0, 0, 1, 0, 0, 1, 0, 0, 1, 0, 1, 0, 1, 0, 0, 1, 0, 1, 1, 0, 0,\n",
              "       1, 1, 1, 0, 0, 0, 1, 1, 1, 1, 1, 1, 1, 0, 0, 1, 1, 0, 1, 1, 0, 0,\n",
              "       1, 0, 0, 0, 0, 0, 0, 0, 1, 0, 1, 1, 1, 1, 1, 0, 0, 1, 0, 0, 0, 1,\n",
              "       1, 1, 1, 1, 1, 0, 0, 0, 1, 0, 0, 1, 0, 1, 0, 0, 0, 1, 0, 0, 0, 0,\n",
              "       0, 1, 0, 0, 1, 0, 1, 0, 0, 1, 0, 0, 1, 0, 1, 0, 1, 1, 1, 0, 1, 0,\n",
              "       1, 1, 1, 1, 0, 0, 0, 1, 1, 0, 0, 1, 0, 0, 0, 1, 1, 0, 0, 0, 0, 1,\n",
              "       1, 0, 0, 1, 1, 0, 0, 1, 0, 1, 1, 0, 0, 1, 0, 0, 0, 0, 1, 1, 1, 0,\n",
              "       1, 1, 0, 0, 1, 0, 1, 1, 1, 0, 1, 1, 1, 1, 0, 0, 0, 0, 1, 0, 1, 1,\n",
              "       1, 1, 1, 0, 1, 0, 1, 1, 1, 0, 0, 0, 1, 0, 1, 1, 1, 0, 1, 1, 1, 1,\n",
              "       1, 1, 1, 0, 0, 0, 0, 0, 1, 0, 1, 1, 0, 0, 1, 0, 0, 0, 1, 0, 0, 0,\n",
              "       1, 1, 1, 0, 1, 0, 0, 1, 1, 1, 1, 1, 0, 0, 0, 0, 0, 0, 0, 0, 1, 0,\n",
              "       0, 0, 0, 1, 1, 0, 1, 0, 1, 0, 0, 0, 0, 0, 1, 0, 1, 0, 0, 1, 0, 1,\n",
              "       1, 0, 1, 1, 0, 1, 0, 0, 1, 1, 0, 0, 1, 1, 0, 1, 0, 0, 0, 0, 0, 0,\n",
              "       1, 0, 1, 0, 1, 1, 1, 0, 0, 1, 1, 1, 1, 0, 0, 0, 0, 0, 1, 0, 0, 1,\n",
              "       0, 0, 1, 0, 0, 1, 1, 0, 1, 0, 0, 1, 1, 0, 1, 0, 1, 0, 0, 0, 1, 1,\n",
              "       0, 0, 0, 0, 1, 0, 1, 1, 0, 1, 0, 1, 1, 0, 1, 1, 0, 1, 1, 1, 0, 1,\n",
              "       0, 0, 1, 1, 1, 1, 0, 1, 0, 1, 1, 1, 0, 0, 0, 0, 1, 1, 0, 0, 1, 1,\n",
              "       0, 1, 0, 0, 1, 1, 0, 0, 0, 0, 0, 1, 1, 1, 1, 1, 0, 1, 0, 1, 1, 0,\n",
              "       0, 1, 1, 1, 1, 0, 1, 0, 0, 1, 0, 0, 0, 1, 1, 1, 0, 0, 0, 0, 0, 1,\n",
              "       0, 1, 1, 0, 0, 0, 0, 1, 1, 0, 0, 0, 0, 1, 0, 1, 1, 0, 1, 1, 0, 1,\n",
              "       0, 1, 0, 0, 0, 0, 0, 1, 1, 0, 1, 1, 1, 1, 0, 0, 1, 1, 0, 0, 0, 0,\n",
              "       1, 1, 1, 1, 0, 0, 1, 1, 1, 0, 0, 0, 0, 1, 0, 0, 0, 1, 0, 1, 1, 0,\n",
              "       1, 1, 0, 1, 0, 1, 0, 1, 0, 0, 0, 0, 1, 1, 1, 0, 1, 0, 0, 0, 1, 1,\n",
              "       1, 1, 0, 1, 0, 0, 1, 0, 0, 0, 1, 0, 0, 1, 1, 0, 0, 0, 0, 0, 1, 0,\n",
              "       0, 1, 0, 1, 1, 0, 0, 0, 1, 1, 1, 0, 0, 0, 0, 1, 0, 1, 0, 1, 1, 0,\n",
              "       0, 1, 0, 0, 1, 0, 1, 0, 1, 1, 0, 1, 0, 0, 0, 1, 1, 1, 1, 0, 1, 0,\n",
              "       1, 1, 1, 1, 1, 0, 0, 0, 0, 0, 1, 1, 1, 0, 0, 0, 0, 0, 0, 1, 0, 1,\n",
              "       0, 0, 1, 1, 0, 0, 0, 0, 1, 1, 0, 0, 0, 0, 1, 0, 1, 1, 0, 0, 0, 1,\n",
              "       0, 1, 0, 1, 0, 1, 0, 0, 1, 1, 0, 0, 1, 0, 1, 1, 0, 0, 0, 0, 1, 0,\n",
              "       1, 0, 1, 0, 0, 0, 0, 0, 0, 0, 0, 0, 0, 0, 0, 0, 1, 0, 1, 1, 0, 0,\n",
              "       0, 0, 1, 0, 0, 1, 1, 1, 1, 1, 0, 0, 0, 1, 1, 0, 0, 0, 1, 1, 0, 0,\n",
              "       0, 0, 0, 1, 1, 0, 1, 1, 0, 0, 0, 0, 0, 0])"
            ]
          },
          "metadata": {
            "tags": []
          },
          "execution_count": 149
        }
      ]
    },
    {
      "cell_type": "code",
      "metadata": {
        "colab": {
          "base_uri": "https://localhost:8080/"
        },
        "id": "ExHaOL9LqIzT",
        "outputId": "27255d85-4326-4f4b-c2c1-c2ff1bdf13b4"
      },
      "source": [
        "\n",
        "# Calculate model 2 results\n",
        "\n",
        "model_2_results = calculate_results(y_true=val_labels,\n",
        "                                    y_pred=model_2_preds)\n",
        "\n",
        "model_2_results"
      ],
      "execution_count": 150,
      "outputs": [
        {
          "output_type": "execute_result",
          "data": {
            "text/plain": [
              "{'accuracy': 77.16535433070865,\n",
              " 'f1': 0.7705026760144871,\n",
              " 'precision': 0.7717840407633899,\n",
              " 'recall': 0.7716535433070866}"
            ]
          },
          "metadata": {
            "tags": []
          },
          "execution_count": 150
        }
      ]
    },
    {
      "cell_type": "code",
      "metadata": {
        "colab": {
          "base_uri": "https://localhost:8080/"
        },
        "id": "GUTvgm6fqkKR",
        "outputId": "3e31fd5d-1d21-4154-b0c3-1b15891f0773"
      },
      "source": [
        "baseline_results"
      ],
      "execution_count": 151,
      "outputs": [
        {
          "output_type": "execute_result",
          "data": {
            "text/plain": [
              "{'accuracy': 79.26509186351706,\n",
              " 'f1': 0.7862189758049549,\n",
              " 'precision': 0.8111390004213173,\n",
              " 'recall': 0.7926509186351706}"
            ]
          },
          "metadata": {
            "tags": []
          },
          "execution_count": 151
        }
      ]
    },
    {
      "cell_type": "markdown",
      "metadata": {
        "id": "lSHxwEDCqtMA"
      },
      "source": [
        "### Model 3: GRU\n",
        "\n",
        "Another popular  and effective RNN componnet is the GRU or gated recurrent unit.\n",
        "\n",
        "The GRU cell has similar features to an LSTM cell but has less parameters.\n",
        "\n"
      ]
    },
    {
      "cell_type": "code",
      "metadata": {
        "id": "Rr-1Am2Sswot"
      },
      "source": [
        "# Build a  RNN using the GRU cell\n",
        "\n",
        "from tensorflow.keras import layers\n",
        "inputs = layers.Input(shape=(1,), dtype=tf.string)\n",
        "\n",
        "x = text_vectorizer(inputs)\n",
        "\n",
        "x = embedding(x)\n",
        "\n",
        "#x = layers.GRU(64,return_sequences=True )(x) # if  you want to stack recurrent layers on top of each other, you need retunr sequences =True\n",
        "\n",
        "# x = layers.LSTM(64, return_sequences=True)(x)\n",
        "\n",
        "\n",
        "# x = layers.GRU(64)(x)\n",
        "\n",
        "#x =  layers.GlobalAveragePooling1D()(x)\n",
        "\n",
        "x = layers.GRU(64)(x)\n",
        "#x = layers.Dense(64, activation=\"relu\")(x)\n",
        "\n",
        "outputs = layers.Dense(1, activation=\"sigmoid\")(x)\n",
        "\n",
        "model_3 = tf.keras.Model(inputs, outputs, name = \"model_3_GRU\")\n",
        "\n"
      ],
      "execution_count": 152,
      "outputs": []
    },
    {
      "cell_type": "code",
      "metadata": {
        "colab": {
          "base_uri": "https://localhost:8080/"
        },
        "id": "ImUxsvc3vTG7",
        "outputId": "ce2426ba-2fea-4124-f01a-3c30c4562552"
      },
      "source": [
        "\n",
        "model_3.summary()"
      ],
      "execution_count": 153,
      "outputs": [
        {
          "output_type": "stream",
          "text": [
            "Model: \"model_3_GRU\"\n",
            "_________________________________________________________________\n",
            "Layer (type)                 Output Shape              Param #   \n",
            "=================================================================\n",
            "input_5 (InputLayer)         [(None, 1)]               0         \n",
            "_________________________________________________________________\n",
            "text_vectorization_3 (TextVe (None, 15)                0         \n",
            "_________________________________________________________________\n",
            "embedding_1 (Embedding)      (None, 15, 128)           1280000   \n",
            "_________________________________________________________________\n",
            "gru (GRU)                    (None, 64)                37248     \n",
            "_________________________________________________________________\n",
            "dense_4 (Dense)              (None, 1)                 65        \n",
            "=================================================================\n",
            "Total params: 1,317,313\n",
            "Trainable params: 1,317,313\n",
            "Non-trainable params: 0\n",
            "_________________________________________________________________\n"
          ],
          "name": "stdout"
        }
      ]
    },
    {
      "cell_type": "code",
      "metadata": {
        "id": "LRjGcmcPwAX-"
      },
      "source": [
        "# Compile the model\n",
        "\n",
        "model_3.compile(loss=\"binary_crossentropy\",\n",
        "                optimizer=tf.keras.optimizers.Adam(),\n",
        "                metrics=[\"accuracy\"])\n"
      ],
      "execution_count": 154,
      "outputs": []
    },
    {
      "cell_type": "code",
      "metadata": {
        "colab": {
          "base_uri": "https://localhost:8080/"
        },
        "id": "UFxXSSAlxKg7",
        "outputId": "99ef5223-95dd-439d-e9d8-71f9baea89ba"
      },
      "source": [
        "\n",
        "# Fit the model\n",
        "\n",
        "model_3_history = model_3.fit(train_sentences,\n",
        "                              train_labels,\n",
        "                              epochs=5,\n",
        "                              # recordar poner como tupla\n",
        "                              validation_data=(val_sentences, val_labels),\n",
        "                              callbacks=[create_tensorboard_callback(SAVE_DIR,\n",
        "                                                                     \"model_3_GRU\")])"
      ],
      "execution_count": 155,
      "outputs": [
        {
          "output_type": "stream",
          "text": [
            "Saving TensorBoard log files to: model_logs/model_3_GRU/20210519-202827\n",
            "Epoch 1/5\n",
            "215/215 [==============================] - 6s 20ms/step - loss: 0.2732 - accuracy: 0.8841 - val_loss: 0.6916 - val_accuracy: 0.7782\n",
            "Epoch 2/5\n",
            "215/215 [==============================] - 3s 15ms/step - loss: 0.0778 - accuracy: 0.9726 - val_loss: 0.7642 - val_accuracy: 0.7717\n",
            "Epoch 3/5\n",
            "215/215 [==============================] - 3s 15ms/step - loss: 0.0669 - accuracy: 0.9767 - val_loss: 0.9705 - val_accuracy: 0.7638\n",
            "Epoch 4/5\n",
            "215/215 [==============================] - 3s 15ms/step - loss: 0.0577 - accuracy: 0.9761 - val_loss: 1.1329 - val_accuracy: 0.7769\n",
            "Epoch 5/5\n",
            "215/215 [==============================] - 3s 15ms/step - loss: 0.0481 - accuracy: 0.9786 - val_loss: 1.1739 - val_accuracy: 0.7717\n"
          ],
          "name": "stdout"
        }
      ]
    },
    {
      "cell_type": "code",
      "metadata": {
        "colab": {
          "base_uri": "https://localhost:8080/"
        },
        "id": "OrvGpmUQx6Y7",
        "outputId": "717671ad-15ba-4a3e-dfc7-cd204f47b1f2"
      },
      "source": [
        "\n",
        "\n",
        "# Make some predictions with our Gru model\n",
        "\n",
        "model_3_pred_probs = model_3.predict(val_sentences)\n",
        "\n",
        "model_3_pred_probs"
      ],
      "execution_count": 156,
      "outputs": [
        {
          "output_type": "execute_result",
          "data": {
            "text/plain": [
              "array([[9.14899483e-02],\n",
              "       [8.78023088e-01],\n",
              "       [9.99778569e-01],\n",
              "       [7.10171834e-02],\n",
              "       [8.57292180e-05],\n",
              "       [9.99352276e-01],\n",
              "       [9.81259644e-01],\n",
              "       [9.99896288e-01],\n",
              "       [9.99781787e-01],\n",
              "       [6.17835760e-01],\n",
              "       [2.93910620e-04],\n",
              "       [9.33644593e-01],\n",
              "       [3.64830514e-04],\n",
              "       [2.13246211e-01],\n",
              "       [9.16056597e-05],\n",
              "       [1.11712900e-03],\n",
              "       [2.33766870e-04],\n",
              "       [4.63896955e-04],\n",
              "       [2.03561839e-02],\n",
              "       [9.99373257e-01],\n",
              "       [9.99950528e-01],\n",
              "       [6.37314588e-05],\n",
              "       [9.98758435e-01],\n",
              "       [7.80036265e-04],\n",
              "       [9.99862432e-01],\n",
              "       [9.99839902e-01],\n",
              "       [2.38468958e-04],\n",
              "       [7.47232116e-04],\n",
              "       [4.51080967e-04],\n",
              "       [8.03143620e-01],\n",
              "       [9.94105935e-01],\n",
              "       [3.03031178e-04],\n",
              "       [4.41803150e-02],\n",
              "       [1.15892384e-03],\n",
              "       [7.65665114e-01],\n",
              "       [3.02946210e-01],\n",
              "       [9.99499798e-01],\n",
              "       [1.64439604e-01],\n",
              "       [1.00120772e-02],\n",
              "       [9.99823630e-01],\n",
              "       [2.64682949e-01],\n",
              "       [7.65051518e-05],\n",
              "       [4.97389436e-01],\n",
              "       [1.66593192e-04],\n",
              "       [9.95315313e-01],\n",
              "       [9.99509096e-01],\n",
              "       [9.98741567e-01],\n",
              "       [9.57610428e-01],\n",
              "       [2.54805200e-03],\n",
              "       [9.71601844e-01],\n",
              "       [2.81381793e-03],\n",
              "       [5.12765408e-01],\n",
              "       [5.60475560e-03],\n",
              "       [1.17682748e-01],\n",
              "       [7.97646880e-01],\n",
              "       [1.42884860e-02],\n",
              "       [5.43273706e-03],\n",
              "       [9.99810398e-01],\n",
              "       [3.09259834e-04],\n",
              "       [3.95694020e-04],\n",
              "       [6.01648539e-03],\n",
              "       [9.99651074e-01],\n",
              "       [9.98045087e-01],\n",
              "       [5.33787860e-03],\n",
              "       [9.99891639e-01],\n",
              "       [9.99890804e-01],\n",
              "       [9.83375609e-01],\n",
              "       [9.34031382e-02],\n",
              "       [9.95886505e-01],\n",
              "       [8.59387871e-03],\n",
              "       [5.43329399e-03],\n",
              "       [8.11161175e-02],\n",
              "       [9.99878526e-01],\n",
              "       [7.05979881e-04],\n",
              "       [5.44816494e-01],\n",
              "       [9.98291194e-01],\n",
              "       [1.07892118e-02],\n",
              "       [9.99179542e-01],\n",
              "       [1.27816707e-01],\n",
              "       [1.94122978e-02],\n",
              "       [5.52640064e-04],\n",
              "       [4.59004790e-02],\n",
              "       [9.99826849e-01],\n",
              "       [7.57838716e-04],\n",
              "       [4.55989590e-04],\n",
              "       [7.97952467e-04],\n",
              "       [2.27491051e-04],\n",
              "       [2.21890208e-04],\n",
              "       [3.06167756e-04],\n",
              "       [9.99630094e-01],\n",
              "       [9.99590576e-01],\n",
              "       [7.63211574e-05],\n",
              "       [9.93968725e-01],\n",
              "       [1.09036773e-04],\n",
              "       [9.99809086e-01],\n",
              "       [8.77158880e-01],\n",
              "       [8.83750916e-01],\n",
              "       [9.99811709e-01],\n",
              "       [9.99115527e-01],\n",
              "       [9.99378085e-01],\n",
              "       [9.99942303e-01],\n",
              "       [9.65714862e-04],\n",
              "       [7.85420780e-05],\n",
              "       [9.98792887e-01],\n",
              "       [9.99558508e-01],\n",
              "       [2.34781057e-02],\n",
              "       [9.99134481e-01],\n",
              "       [9.95897174e-01],\n",
              "       [4.91230225e-04],\n",
              "       [9.99418139e-01],\n",
              "       [9.97907281e-01],\n",
              "       [2.35232714e-04],\n",
              "       [9.75130200e-01],\n",
              "       [3.77586228e-04],\n",
              "       [3.12975753e-04],\n",
              "       [1.31473765e-01],\n",
              "       [9.02214408e-01],\n",
              "       [9.99628305e-01],\n",
              "       [8.17484260e-01],\n",
              "       [1.55038098e-04],\n",
              "       [9.99891281e-01],\n",
              "       [1.10640387e-04],\n",
              "       [8.34891180e-05],\n",
              "       [9.81409192e-01],\n",
              "       [5.90931118e-01],\n",
              "       [2.70574325e-04],\n",
              "       [9.99388218e-01],\n",
              "       [7.61845222e-05],\n",
              "       [5.90472308e-04],\n",
              "       [9.96890128e-01],\n",
              "       [4.93562431e-04],\n",
              "       [9.99891281e-01],\n",
              "       [9.99893546e-01],\n",
              "       [9.99839902e-01],\n",
              "       [9.99588907e-01],\n",
              "       [5.02435840e-04],\n",
              "       [9.99687552e-01],\n",
              "       [5.33472598e-01],\n",
              "       [4.41827113e-03],\n",
              "       [1.98845359e-04],\n",
              "       [9.99892354e-01],\n",
              "       [9.29198086e-01],\n",
              "       [2.13246211e-01],\n",
              "       [9.99470532e-01],\n",
              "       [7.38386959e-02],\n",
              "       [3.39090591e-03],\n",
              "       [1.11166089e-04],\n",
              "       [7.32786721e-05],\n",
              "       [8.11668992e-01],\n",
              "       [9.99649644e-01],\n",
              "       [2.89515359e-04],\n",
              "       [6.74312701e-03],\n",
              "       [1.44057313e-03],\n",
              "       [2.66924879e-04],\n",
              "       [6.33384974e-04],\n",
              "       [9.99514222e-01],\n",
              "       [9.95013773e-01],\n",
              "       [7.65418110e-04],\n",
              "       [9.98684824e-01],\n",
              "       [1.41257027e-04],\n",
              "       [9.99478996e-01],\n",
              "       [5.41251060e-03],\n",
              "       [3.84618901e-02],\n",
              "       [9.97072697e-01],\n",
              "       [3.18692699e-02],\n",
              "       [9.32391486e-05],\n",
              "       [9.99784291e-01],\n",
              "       [7.95668643e-03],\n",
              "       [9.99765933e-01],\n",
              "       [7.95287192e-01],\n",
              "       [9.99768913e-01],\n",
              "       [9.97470975e-01],\n",
              "       [9.99028444e-01],\n",
              "       [1.38936011e-04],\n",
              "       [9.99948978e-01],\n",
              "       [2.01636663e-04],\n",
              "       [6.17026677e-03],\n",
              "       [1.15187012e-03],\n",
              "       [9.87551630e-01],\n",
              "       [9.99821484e-01],\n",
              "       [5.16312604e-04],\n",
              "       [9.97218251e-01],\n",
              "       [9.99644518e-01],\n",
              "       [9.99796212e-01],\n",
              "       [9.99855518e-01],\n",
              "       [2.95487116e-04],\n",
              "       [2.15005377e-04],\n",
              "       [9.99952197e-01],\n",
              "       [8.22383518e-05],\n",
              "       [5.54301150e-05],\n",
              "       [8.57380405e-03],\n",
              "       [9.99388099e-01],\n",
              "       [4.06893960e-04],\n",
              "       [2.60309258e-04],\n",
              "       [1.66415688e-04],\n",
              "       [9.20170685e-04],\n",
              "       [2.06169527e-04],\n",
              "       [9.45724954e-04],\n",
              "       [9.99577224e-01],\n",
              "       [5.80212800e-04],\n",
              "       [1.52918287e-02],\n",
              "       [9.99758184e-01],\n",
              "       [9.99685407e-01],\n",
              "       [4.72798757e-03],\n",
              "       [2.42350172e-04],\n",
              "       [9.99811232e-01],\n",
              "       [9.99508142e-01],\n",
              "       [9.99904037e-01],\n",
              "       [9.99514461e-01],\n",
              "       [9.90359306e-01],\n",
              "       [8.89185909e-03],\n",
              "       [9.99631047e-01],\n",
              "       [1.58520677e-04],\n",
              "       [6.93330832e-04],\n",
              "       [1.40082440e-04],\n",
              "       [1.00103993e-04],\n",
              "       [9.99838114e-01],\n",
              "       [9.92033064e-01],\n",
              "       [9.98769701e-01],\n",
              "       [3.94132674e-01],\n",
              "       [5.12229919e-01],\n",
              "       [8.12445115e-03],\n",
              "       [9.96024930e-04],\n",
              "       [3.21703777e-03],\n",
              "       [9.99667764e-01],\n",
              "       [5.16099453e-01],\n",
              "       [2.85162427e-03],\n",
              "       [9.99920607e-01],\n",
              "       [9.98830974e-01],\n",
              "       [9.95706141e-01],\n",
              "       [1.62010110e-04],\n",
              "       [7.06278207e-03],\n",
              "       [9.98906374e-01],\n",
              "       [1.31695747e-01],\n",
              "       [1.11429207e-01],\n",
              "       [6.03672862e-03],\n",
              "       [5.14626466e-02],\n",
              "       [4.92144376e-01],\n",
              "       [1.27090444e-03],\n",
              "       [2.32532926e-04],\n",
              "       [9.98188317e-01],\n",
              "       [2.51096115e-02],\n",
              "       [9.99735415e-01],\n",
              "       [9.99639392e-01],\n",
              "       [3.38034821e-04],\n",
              "       [9.22696636e-05],\n",
              "       [9.99523044e-01],\n",
              "       [1.44449266e-04],\n",
              "       [2.45795795e-03],\n",
              "       [8.53424549e-01],\n",
              "       [1.90265768e-04],\n",
              "       [9.99085784e-01],\n",
              "       [6.83972903e-05],\n",
              "       [3.72889754e-03],\n",
              "       [9.99596894e-01],\n",
              "       [2.05381457e-02],\n",
              "       [9.99795735e-01],\n",
              "       [9.99917269e-01],\n",
              "       [7.83479363e-02],\n",
              "       [2.00166294e-04],\n",
              "       [8.47302494e-04],\n",
              "       [3.18523555e-04],\n",
              "       [5.06331271e-05],\n",
              "       [9.99500036e-01],\n",
              "       [9.99772966e-01],\n",
              "       [6.16569459e-01],\n",
              "       [9.99325514e-01],\n",
              "       [3.32711148e-04],\n",
              "       [7.53877102e-04],\n",
              "       [1.76618618e-04],\n",
              "       [3.29847855e-04],\n",
              "       [1.82360003e-04],\n",
              "       [9.99445021e-01],\n",
              "       [8.45234899e-04],\n",
              "       [1.53148285e-04],\n",
              "       [9.99377847e-01],\n",
              "       [9.57611992e-05],\n",
              "       [1.78321789e-04],\n",
              "       [9.99470770e-01],\n",
              "       [1.38375559e-04],\n",
              "       [8.59192479e-03],\n",
              "       [8.25462630e-05],\n",
              "       [9.99516368e-01],\n",
              "       [9.78382349e-01],\n",
              "       [6.92142725e-01],\n",
              "       [4.03437875e-02],\n",
              "       [9.98732746e-01],\n",
              "       [1.20046630e-03],\n",
              "       [9.99852777e-01],\n",
              "       [6.50538579e-02],\n",
              "       [9.97875214e-01],\n",
              "       [9.90870178e-01],\n",
              "       [9.85916436e-01],\n",
              "       [5.43653667e-01],\n",
              "       [1.86807709e-03],\n",
              "       [6.80120289e-01],\n",
              "       [9.78806335e-03],\n",
              "       [1.02663494e-03],\n",
              "       [4.28345840e-04],\n",
              "       [1.03318594e-01],\n",
              "       [3.77616670e-05],\n",
              "       [3.15502170e-04],\n",
              "       [3.47568654e-02],\n",
              "       [9.99840736e-01],\n",
              "       [2.04010881e-04],\n",
              "       [2.51330249e-03],\n",
              "       [8.86577070e-02],\n",
              "       [9.07328501e-02],\n",
              "       [6.89964533e-01],\n",
              "       [2.12263069e-04],\n",
              "       [1.69025603e-04],\n",
              "       [9.99091268e-01],\n",
              "       [1.88601315e-01],\n",
              "       [3.99555355e-01],\n",
              "       [9.99936700e-01],\n",
              "       [3.20218562e-04],\n",
              "       [9.87646580e-01],\n",
              "       [1.28303677e-01],\n",
              "       [1.54488673e-03],\n",
              "       [4.87398840e-02],\n",
              "       [2.00418377e-04],\n",
              "       [1.75322522e-03],\n",
              "       [9.99480426e-01],\n",
              "       [9.49969172e-01],\n",
              "       [9.99635577e-01],\n",
              "       [3.00966829e-01],\n",
              "       [1.49062325e-04],\n",
              "       [9.99732435e-01],\n",
              "       [3.37313570e-04],\n",
              "       [9.99788344e-01],\n",
              "       [1.51640421e-03],\n",
              "       [3.66456225e-04],\n",
              "       [9.99755085e-01],\n",
              "       [2.36335822e-04],\n",
              "       [2.14385116e-04],\n",
              "       [9.99750197e-01],\n",
              "       [1.95654939e-04],\n",
              "       [7.88893027e-04],\n",
              "       [9.86896336e-01],\n",
              "       [9.99686956e-01],\n",
              "       [8.32314836e-05],\n",
              "       [1.03518376e-02],\n",
              "       [9.99558151e-01],\n",
              "       [9.99877572e-01],\n",
              "       [9.99468386e-01],\n",
              "       [2.71150380e-01],\n",
              "       [9.93089020e-01],\n",
              "       [9.97031569e-01],\n",
              "       [8.33950762e-04],\n",
              "       [2.47180084e-04],\n",
              "       [9.24096350e-03],\n",
              "       [1.15944166e-02],\n",
              "       [1.31575303e-04],\n",
              "       [3.22271660e-02],\n",
              "       [3.97242270e-02],\n",
              "       [1.52430759e-04],\n",
              "       [9.99518275e-01],\n",
              "       [9.99839902e-01],\n",
              "       [9.99893785e-01],\n",
              "       [7.22900790e-04],\n",
              "       [2.23509490e-01],\n",
              "       [2.19262578e-02],\n",
              "       [2.05468714e-01],\n",
              "       [9.98415470e-01],\n",
              "       [3.84252399e-01],\n",
              "       [1.81431926e-04],\n",
              "       [1.94429740e-04],\n",
              "       [5.08785131e-04],\n",
              "       [9.99010205e-01],\n",
              "       [4.05428058e-04],\n",
              "       [1.35524082e-03],\n",
              "       [3.46525514e-04],\n",
              "       [4.27757186e-04],\n",
              "       [4.28834826e-01],\n",
              "       [9.34601903e-01],\n",
              "       [5.73582686e-02],\n",
              "       [3.28835595e-04],\n",
              "       [1.84647215e-03],\n",
              "       [2.34986003e-03],\n",
              "       [9.99856114e-01],\n",
              "       [9.99188006e-01],\n",
              "       [7.89575219e-01],\n",
              "       [9.84937787e-01],\n",
              "       [1.22533951e-04],\n",
              "       [9.77373123e-01],\n",
              "       [9.99784410e-01],\n",
              "       [9.98071730e-01],\n",
              "       [6.23171078e-03],\n",
              "       [9.99573052e-01],\n",
              "       [1.18312966e-02],\n",
              "       [9.99804914e-01],\n",
              "       [3.95043522e-01],\n",
              "       [5.89572010e-04],\n",
              "       [8.77656281e-01],\n",
              "       [2.28688508e-01],\n",
              "       [9.99657393e-01],\n",
              "       [2.38566715e-02],\n",
              "       [5.91982098e-05],\n",
              "       [3.18100210e-04],\n",
              "       [3.84252399e-01],\n",
              "       [9.99960423e-01],\n",
              "       [5.59021355e-05],\n",
              "       [3.74149352e-01],\n",
              "       [9.99901414e-01],\n",
              "       [6.03576627e-05],\n",
              "       [9.99891281e-01],\n",
              "       [2.73164012e-04],\n",
              "       [3.04907880e-04],\n",
              "       [2.08028650e-04],\n",
              "       [9.99261916e-01],\n",
              "       [9.99722302e-01],\n",
              "       [6.11862575e-04],\n",
              "       [1.99721893e-04],\n",
              "       [9.98519480e-01],\n",
              "       [9.99774277e-01],\n",
              "       [6.44878089e-01],\n",
              "       [1.61486809e-04],\n",
              "       [2.94779358e-03],\n",
              "       [9.08520997e-01],\n",
              "       [2.30064514e-04],\n",
              "       [9.99864817e-01],\n",
              "       [9.96324480e-01],\n",
              "       [9.99867558e-01],\n",
              "       [9.99649167e-01],\n",
              "       [9.96492803e-04],\n",
              "       [9.79009449e-01],\n",
              "       [1.10442727e-03],\n",
              "       [9.99568880e-01],\n",
              "       [9.99525905e-01],\n",
              "       [9.49842691e-01],\n",
              "       [5.37997810e-03],\n",
              "       [4.84430343e-02],\n",
              "       [3.52525502e-04],\n",
              "       [9.90782501e-05],\n",
              "       [1.35374352e-01],\n",
              "       [3.08132987e-03],\n",
              "       [9.85776484e-01],\n",
              "       [1.68969773e-03],\n",
              "       [9.99908328e-01],\n",
              "       [9.99887109e-01],\n",
              "       [2.77672807e-04],\n",
              "       [8.78023088e-01],\n",
              "       [3.64336674e-03],\n",
              "       [5.72745805e-04],\n",
              "       [2.63779938e-01],\n",
              "       [9.99700308e-01],\n",
              "       [6.69969199e-03],\n",
              "       [9.44236666e-03],\n",
              "       [9.37494769e-05],\n",
              "       [6.53629184e-01],\n",
              "       [3.17875747e-05],\n",
              "       [9.99834657e-01],\n",
              "       [9.96850312e-01],\n",
              "       [9.99759734e-01],\n",
              "       [9.93535399e-01],\n",
              "       [9.88595784e-01],\n",
              "       [7.21776485e-03],\n",
              "       [9.51756519e-05],\n",
              "       [9.86855030e-01],\n",
              "       [9.99326825e-01],\n",
              "       [9.99737442e-01],\n",
              "       [1.08832755e-04],\n",
              "       [3.78708518e-03],\n",
              "       [2.93602294e-04],\n",
              "       [9.99794543e-01],\n",
              "       [9.99743640e-01],\n",
              "       [2.76775248e-02],\n",
              "       [9.43259150e-02],\n",
              "       [9.99905109e-01],\n",
              "       [1.27286755e-03],\n",
              "       [6.55344571e-04],\n",
              "       [9.95498955e-01],\n",
              "       [3.69210553e-04],\n",
              "       [2.37548753e-04],\n",
              "       [9.92191017e-01],\n",
              "       [3.98526728e-01],\n",
              "       [4.65880752e-01],\n",
              "       [9.99918342e-01],\n",
              "       [2.49287172e-04],\n",
              "       [9.98291653e-04],\n",
              "       [4.44469551e-05],\n",
              "       [1.17396943e-04],\n",
              "       [2.66211224e-04],\n",
              "       [9.99718010e-01],\n",
              "       [1.53714165e-04],\n",
              "       [8.62556636e-01],\n",
              "       [9.81018066e-01],\n",
              "       [1.50473202e-02],\n",
              "       [9.14683864e-02],\n",
              "       [6.96446004e-05],\n",
              "       [7.12272595e-04],\n",
              "       [9.99865174e-01],\n",
              "       [9.99552190e-01],\n",
              "       [3.25238751e-03],\n",
              "       [2.07746576e-04],\n",
              "       [4.85976896e-04],\n",
              "       [1.73661159e-04],\n",
              "       [9.98645484e-01],\n",
              "       [2.07665769e-04],\n",
              "       [9.98864651e-01],\n",
              "       [9.98557627e-01],\n",
              "       [9.38318133e-01],\n",
              "       [9.91705179e-01],\n",
              "       [3.36462587e-01],\n",
              "       [5.59748430e-03],\n",
              "       [2.73561978e-04],\n",
              "       [7.70371482e-02],\n",
              "       [7.96878457e-01],\n",
              "       [8.90137613e-01],\n",
              "       [6.32794723e-02],\n",
              "       [1.90092236e-04],\n",
              "       [6.65942352e-05],\n",
              "       [2.69262644e-04],\n",
              "       [5.77399600e-03],\n",
              "       [9.78308737e-01],\n",
              "       [5.87259829e-02],\n",
              "       [9.99871850e-01],\n",
              "       [9.99257863e-01],\n",
              "       [8.77158880e-01],\n",
              "       [9.99881744e-01],\n",
              "       [1.66279003e-02],\n",
              "       [3.90454050e-04],\n",
              "       [9.98718262e-01],\n",
              "       [2.00207289e-02],\n",
              "       [3.39911232e-04],\n",
              "       [1.82883918e-01],\n",
              "       [9.58766460e-01],\n",
              "       [7.44106146e-05],\n",
              "       [9.25464451e-01],\n",
              "       [9.91149902e-01],\n",
              "       [9.98496056e-01],\n",
              "       [9.99520659e-01],\n",
              "       [1.11363805e-03],\n",
              "       [1.92116927e-02],\n",
              "       [9.94320273e-01],\n",
              "       [1.24209138e-04],\n",
              "       [1.62144646e-03],\n",
              "       [2.07649320e-02],\n",
              "       [9.94692266e-01],\n",
              "       [9.67261612e-01],\n",
              "       [1.17828476e-03],\n",
              "       [2.99820094e-04],\n",
              "       [9.92388904e-01],\n",
              "       [1.95266359e-04],\n",
              "       [7.63410120e-04],\n",
              "       [1.47333383e-04],\n",
              "       [3.77464533e-01],\n",
              "       [9.99856353e-01],\n",
              "       [9.99292612e-01],\n",
              "       [1.18127116e-03],\n",
              "       [9.99777257e-01],\n",
              "       [9.99802172e-01],\n",
              "       [9.82275596e-05],\n",
              "       [9.99656558e-01],\n",
              "       [6.32099248e-03],\n",
              "       [9.99427855e-01],\n",
              "       [6.45125061e-02],\n",
              "       [7.76095490e-04],\n",
              "       [1.60985626e-04],\n",
              "       [1.31046923e-04],\n",
              "       [4.67648875e-04],\n",
              "       [1.65612975e-04],\n",
              "       [7.37049878e-01],\n",
              "       [6.92173745e-03],\n",
              "       [9.99728262e-01],\n",
              "       [2.83905567e-04],\n",
              "       [9.93168831e-01],\n",
              "       [9.96899486e-01],\n",
              "       [7.96488137e-04],\n",
              "       [5.70286356e-04],\n",
              "       [9.99899983e-01],\n",
              "       [1.00413454e-03],\n",
              "       [9.99682546e-01],\n",
              "       [2.89980769e-01],\n",
              "       [2.85537029e-03],\n",
              "       [8.48499179e-01],\n",
              "       [4.72573040e-04],\n",
              "       [3.72578278e-02],\n",
              "       [9.99802172e-01],\n",
              "       [1.33622190e-04],\n",
              "       [1.76673188e-04],\n",
              "       [3.61034013e-02],\n",
              "       [9.99778450e-01],\n",
              "       [4.55251895e-03],\n",
              "       [2.18945905e-04],\n",
              "       [9.98722255e-01],\n",
              "       [1.32415575e-04],\n",
              "       [2.78488587e-04],\n",
              "       [2.92793295e-04],\n",
              "       [2.12936282e-01],\n",
              "       [5.25912852e-04],\n",
              "       [4.07823265e-01],\n",
              "       [4.98222381e-01],\n",
              "       [2.69185100e-03],\n",
              "       [9.59989193e-05],\n",
              "       [9.17386860e-02],\n",
              "       [7.06517312e-05],\n",
              "       [9.99434054e-01],\n",
              "       [9.87315774e-01],\n",
              "       [7.79470662e-03],\n",
              "       [1.17270618e-04],\n",
              "       [1.13938365e-03],\n",
              "       [9.99864101e-01],\n",
              "       [9.73415971e-01],\n",
              "       [9.99932885e-01],\n",
              "       [5.41885558e-04],\n",
              "       [9.98568654e-01],\n",
              "       [1.92487933e-04],\n",
              "       [9.96334791e-01],\n",
              "       [9.82164979e-01],\n",
              "       [1.37366806e-04],\n",
              "       [9.99893188e-01],\n",
              "       [1.11418718e-03],\n",
              "       [9.97604847e-01],\n",
              "       [9.99922514e-01],\n",
              "       [6.13767048e-03],\n",
              "       [1.62925979e-04],\n",
              "       [9.08947289e-01],\n",
              "       [1.50239270e-04],\n",
              "       [9.82767761e-01],\n",
              "       [9.99811232e-01],\n",
              "       [3.86033833e-01],\n",
              "       [9.99610245e-01],\n",
              "       [6.59498051e-02],\n",
              "       [9.99524593e-01],\n",
              "       [9.90423739e-01],\n",
              "       [3.04452907e-02],\n",
              "       [1.17862430e-04],\n",
              "       [9.97533798e-01],\n",
              "       [1.43751109e-04],\n",
              "       [1.83490589e-01],\n",
              "       [9.99759972e-01],\n",
              "       [9.98615623e-01],\n",
              "       [9.99870658e-01],\n",
              "       [9.99405622e-01],\n",
              "       [9.77873951e-02],\n",
              "       [9.92421806e-01],\n",
              "       [2.27931334e-04],\n",
              "       [9.84371483e-01],\n",
              "       [9.89516556e-01],\n",
              "       [9.99159455e-01],\n",
              "       [2.03171876e-04],\n",
              "       [9.98243451e-01],\n",
              "       [9.99767601e-01],\n",
              "       [1.05693552e-03],\n",
              "       [8.38372740e-04],\n",
              "       [6.32794723e-02],\n",
              "       [3.74178169e-04],\n",
              "       [7.79358208e-01],\n",
              "       [9.98812199e-01],\n",
              "       [9.99774396e-01],\n",
              "       [2.90989730e-04],\n",
              "       [1.30601067e-04],\n",
              "       [2.09262245e-04],\n",
              "       [5.69756553e-02],\n",
              "       [2.40574535e-02],\n",
              "       [4.23155390e-02],\n",
              "       [9.89742041e-01],\n",
              "       [1.45843107e-04],\n",
              "       [2.38871768e-01],\n",
              "       [2.31769428e-01],\n",
              "       [2.52784626e-03],\n",
              "       [9.99659657e-01],\n",
              "       [1.02124293e-03],\n",
              "       [9.98878658e-01],\n",
              "       [6.69675530e-04],\n",
              "       [6.12014410e-05],\n",
              "       [2.39956003e-04],\n",
              "       [9.99855161e-01],\n",
              "       [9.68815029e-01],\n",
              "       [1.56990282e-04],\n",
              "       [1.82779506e-01],\n",
              "       [5.78104079e-01],\n",
              "       [1.46618797e-04],\n",
              "       [9.99530435e-01],\n",
              "       [5.80785738e-04],\n",
              "       [9.70335007e-01],\n",
              "       [9.89285886e-01],\n",
              "       [4.85801167e-04],\n",
              "       [6.88826084e-01],\n",
              "       [9.30915549e-02],\n",
              "       [1.77238893e-03],\n",
              "       [9.99736488e-01],\n",
              "       [1.25637040e-01],\n",
              "       [9.23637629e-01],\n",
              "       [9.99833703e-01],\n",
              "       [5.92391670e-01],\n",
              "       [4.49409336e-02],\n",
              "       [7.44106146e-05],\n",
              "       [1.90323085e-01],\n",
              "       [9.99423981e-01],\n",
              "       [9.99891281e-01],\n",
              "       [9.96999562e-01],\n",
              "       [3.95991988e-02],\n",
              "       [9.99856472e-01],\n",
              "       [3.35184157e-01],\n",
              "       [9.99808133e-01],\n",
              "       [3.35184157e-01],\n",
              "       [9.99813497e-01],\n",
              "       [8.89253570e-05],\n",
              "       [1.88549072e-03],\n",
              "       [1.45154263e-04],\n",
              "       [9.99858141e-01],\n",
              "       [9.39542311e-04],\n",
              "       [9.57448129e-03],\n",
              "       [2.05433666e-04],\n",
              "       [9.84815531e-04],\n",
              "       [1.28517812e-03],\n",
              "       [3.71932838e-04],\n",
              "       [9.09558218e-03],\n",
              "       [5.22402814e-04],\n",
              "       [6.36105076e-04],\n",
              "       [9.99521613e-01],\n",
              "       [6.20490930e-04],\n",
              "       [1.61175942e-03],\n",
              "       [4.55819856e-04],\n",
              "       [1.22539554e-04],\n",
              "       [3.89537327e-02],\n",
              "       [9.98589575e-01],\n",
              "       [8.84190842e-04],\n",
              "       [8.74813259e-01],\n",
              "       [1.22668443e-03],\n",
              "       [9.99473274e-01],\n",
              "       [9.99566615e-01],\n",
              "       [1.70738087e-04],\n",
              "       [1.71207445e-04],\n",
              "       [2.19107314e-04],\n",
              "       [4.38963689e-05],\n",
              "       [9.99826610e-01],\n",
              "       [1.22539554e-04],\n",
              "       [4.47590789e-03],\n",
              "       [9.99151826e-01],\n",
              "       [9.99769628e-01],\n",
              "       [9.99762237e-01],\n",
              "       [9.99922156e-01],\n",
              "       [9.99977350e-01],\n",
              "       [2.96815560e-04],\n",
              "       [1.62282537e-04],\n",
              "       [7.07435787e-01],\n",
              "       [9.96570945e-01],\n",
              "       [9.99824584e-01],\n",
              "       [9.08812881e-01],\n",
              "       [1.86697766e-03],\n",
              "       [9.98714209e-01],\n",
              "       [8.52564394e-01],\n",
              "       [6.39781356e-05],\n",
              "       [1.41094148e-04],\n",
              "       [2.30349065e-03],\n",
              "       [2.09119380e-03],\n",
              "       [1.18891097e-04],\n",
              "       [6.28498849e-04],\n",
              "       [9.96967614e-01],\n",
              "       [9.99888301e-01],\n",
              "       [1.97094792e-04],\n",
              "       [9.99779284e-01],\n",
              "       [9.98205662e-01],\n",
              "       [1.96824390e-02],\n",
              "       [3.98626830e-03],\n",
              "       [1.45150393e-01],\n",
              "       [8.73352468e-01],\n",
              "       [1.85434911e-02],\n",
              "       [1.29963650e-04]], dtype=float32)"
            ]
          },
          "metadata": {
            "tags": []
          },
          "execution_count": 156
        }
      ]
    },
    {
      "cell_type": "code",
      "metadata": {
        "colab": {
          "base_uri": "https://localhost:8080/"
        },
        "id": "c_uo6NrgyNH1",
        "outputId": "02acea4f-f165-4629-8b3b-8544940afcd2"
      },
      "source": [
        "# Convert model 3 pred probs to labels\n",
        "\n",
        "model_3_preds = tf.squeeze(tf.round(model_3_pred_probs))\n",
        "\n",
        "model_3_preds[:10]\n"
      ],
      "execution_count": 157,
      "outputs": [
        {
          "output_type": "execute_result",
          "data": {
            "text/plain": [
              "<tf.Tensor: shape=(10,), dtype=float32, numpy=array([0., 1., 1., 0., 0., 1., 1., 1., 1., 1.], dtype=float32)>"
            ]
          },
          "metadata": {
            "tags": []
          },
          "execution_count": 157
        }
      ]
    },
    {
      "cell_type": "code",
      "metadata": {
        "colab": {
          "base_uri": "https://localhost:8080/"
        },
        "id": "lsMpKORlyuTj",
        "outputId": "ee97a964-ac9a-4c6b-ff19-36b65c2b7141"
      },
      "source": [
        "# Calculate model 3 results\n",
        "\n",
        "model_3_results = calculate_results(y_true=val_labels,\n",
        "                                    y_pred=model_3_preds)\n",
        "\n",
        "model_3_results"
      ],
      "execution_count": 158,
      "outputs": [
        {
          "output_type": "execute_result",
          "data": {
            "text/plain": [
              "{'accuracy': 77.16535433070865,\n",
              " 'f1': 0.7709684019624822,\n",
              " 'precision': 0.7713581681518764,\n",
              " 'recall': 0.7716535433070866}"
            ]
          },
          "metadata": {
            "tags": []
          },
          "execution_count": 158
        }
      ]
    },
    {
      "cell_type": "markdown",
      "metadata": {
        "id": "FqyCsGOKzCZD"
      },
      "source": [
        "### Model 4: Bidirectional RNN\n",
        "\n",
        " Normal Rnn's go from left to right (just like you'd read an English sentence) however, a bidirectional RNN goes from right to left as well as left to right.\n",
        "\n"
      ]
    },
    {
      "cell_type": "code",
      "metadata": {
        "colab": {
          "base_uri": "https://localhost:8080/"
        },
        "id": "gi9N3KJ41AIw",
        "outputId": "c667f0f3-cf32-4288-b259-99163883ae9a"
      },
      "source": [
        "# Build's  a bidirectional RNN in TensorFlow\n",
        "\n",
        "from tensorflow.keras import layers\n",
        "\n",
        "inputs= layers.Input(shape=(1,), dtype=\"string\")\n",
        "\n",
        "x = text_vectorizer(inputs)\n",
        "\n",
        "x = embedding(x)\n",
        "\n",
        "# le pasamos una lstm normal o Gru\n",
        "# la bidirectional  multiplica por 2 el numero de unidades\n",
        "# x = layers.Bidirectional(layers.LSTM(64, return_sequences=True))(x)\n",
        "print(x.shape)\n",
        "x = layers.Bidirectional(layers.LSTM(64))(x)\n",
        "\n",
        "# print(x.shape)\n",
        "outputs = layers.Dense(1, activation=\"sigmoid\")(x)\n",
        "\n",
        "model_4 = tf.keras.Model(inputs, outputs, name=\"model_4_bidirectional\")\n",
        "\n",
        "\n"
      ],
      "execution_count": 159,
      "outputs": [
        {
          "output_type": "stream",
          "text": [
            "(None, 15, 128)\n"
          ],
          "name": "stdout"
        }
      ]
    },
    {
      "cell_type": "code",
      "metadata": {
        "colab": {
          "base_uri": "https://localhost:8080/"
        },
        "id": "03n_ZKiI2yjC",
        "outputId": "35a3f1e1-1a22-4c06-c5cd-7df28a1efd09"
      },
      "source": [
        "# Get aa summary\n",
        "model_4.summary()\n"
      ],
      "execution_count": 160,
      "outputs": [
        {
          "output_type": "stream",
          "text": [
            "Model: \"model_4_bidirectional\"\n",
            "_________________________________________________________________\n",
            "Layer (type)                 Output Shape              Param #   \n",
            "=================================================================\n",
            "input_6 (InputLayer)         [(None, 1)]               0         \n",
            "_________________________________________________________________\n",
            "text_vectorization_3 (TextVe (None, 15)                0         \n",
            "_________________________________________________________________\n",
            "embedding_1 (Embedding)      (None, 15, 128)           1280000   \n",
            "_________________________________________________________________\n",
            "bidirectional_1 (Bidirection (None, 128)               98816     \n",
            "_________________________________________________________________\n",
            "dense_5 (Dense)              (None, 1)                 129       \n",
            "=================================================================\n",
            "Total params: 1,378,945\n",
            "Trainable params: 1,378,945\n",
            "Non-trainable params: 0\n",
            "_________________________________________________________________\n"
          ],
          "name": "stdout"
        }
      ]
    },
    {
      "cell_type": "code",
      "metadata": {
        "id": "V-hB4Iv43xya"
      },
      "source": [
        "# Compile model\n",
        "\n",
        "model_4.compile(loss=\"binary_crossentropy\",\n",
        "                optimizer=tf.keras.optimizers.Adam(),\n",
        "                metrics=[\"accuracy\"])"
      ],
      "execution_count": 161,
      "outputs": []
    },
    {
      "cell_type": "code",
      "metadata": {
        "colab": {
          "base_uri": "https://localhost:8080/"
        },
        "id": "0Dz4nxGp5DL0",
        "outputId": "0203450d-89b4-4073-80b3-b3e3e111aa50"
      },
      "source": [
        "# Fit the model\n",
        "model_4_history = model_4.fit(train_sentences,\n",
        "                              train_labels,\n",
        "                              epochs=5,\n",
        "                              validation_data=(val_sentences, val_labels),\n",
        "                              callbacks=[create_tensorboard_callback(SAVE_DIR,\n",
        "                                                                     \"model_4_bidirectional\")])"
      ],
      "execution_count": 162,
      "outputs": [
        {
          "output_type": "stream",
          "text": [
            "Saving TensorBoard log files to: model_logs/model_4_bidirectional/20210519-202847\n",
            "Epoch 1/5\n",
            "215/215 [==============================] - 8s 24ms/step - loss: 0.1998 - accuracy: 0.9429 - val_loss: 1.0595 - val_accuracy: 0.7612\n",
            "Epoch 2/5\n",
            "215/215 [==============================] - 4s 18ms/step - loss: 0.0548 - accuracy: 0.9770 - val_loss: 1.1465 - val_accuracy: 0.7743\n",
            "Epoch 3/5\n",
            "215/215 [==============================] - 4s 18ms/step - loss: 0.0409 - accuracy: 0.9803 - val_loss: 1.2689 - val_accuracy: 0.7743\n",
            "Epoch 4/5\n",
            "215/215 [==============================] - 4s 17ms/step - loss: 0.0416 - accuracy: 0.9835 - val_loss: 1.0896 - val_accuracy: 0.7677\n",
            "Epoch 5/5\n",
            "215/215 [==============================] - 4s 18ms/step - loss: 0.0437 - accuracy: 0.9788 - val_loss: 1.5416 - val_accuracy: 0.7612\n"
          ],
          "name": "stdout"
        }
      ]
    },
    {
      "cell_type": "code",
      "metadata": {
        "colab": {
          "base_uri": "https://localhost:8080/"
        },
        "id": "5XQ3Xq0v5vFT",
        "outputId": "6c1539ea-6463-44f5-a381-2deca4e28835"
      },
      "source": [
        "# make predictions with our bidirectional model\n",
        "\n",
        "model_4_pred_probs = model_4.predict(val_sentences)\n",
        "\n",
        "model_4_pred_probs"
      ],
      "execution_count": 163,
      "outputs": [
        {
          "output_type": "execute_result",
          "data": {
            "text/plain": [
              "array([[2.89978320e-03],\n",
              "       [5.33329964e-01],\n",
              "       [9.99979615e-01],\n",
              "       [2.04243094e-01],\n",
              "       [1.37366569e-05],\n",
              "       [9.99839544e-01],\n",
              "       [8.21488440e-01],\n",
              "       [9.99989152e-01],\n",
              "       [9.99978662e-01],\n",
              "       [9.96210217e-01],\n",
              "       [4.12479785e-05],\n",
              "       [8.94083619e-01],\n",
              "       [3.80921338e-05],\n",
              "       [3.22373182e-01],\n",
              "       [1.76951944e-05],\n",
              "       [2.96637329e-04],\n",
              "       [3.79795456e-05],\n",
              "       [1.31829729e-05],\n",
              "       [1.92816500e-02],\n",
              "       [9.99864817e-01],\n",
              "       [9.99751747e-01],\n",
              "       [1.63137320e-05],\n",
              "       [9.99835134e-01],\n",
              "       [1.04062492e-04],\n",
              "       [9.99972463e-01],\n",
              "       [9.99978185e-01],\n",
              "       [8.30785939e-05],\n",
              "       [1.55114540e-04],\n",
              "       [4.40383374e-05],\n",
              "       [8.05781305e-01],\n",
              "       [9.98773158e-01],\n",
              "       [6.89899141e-04],\n",
              "       [1.40668079e-02],\n",
              "       [8.41962828e-05],\n",
              "       [1.57093734e-01],\n",
              "       [2.38910958e-01],\n",
              "       [9.99969959e-01],\n",
              "       [3.68440390e-01],\n",
              "       [1.22980296e-03],\n",
              "       [9.99976158e-01],\n",
              "       [9.96046960e-01],\n",
              "       [1.49630059e-05],\n",
              "       [6.43508807e-02],\n",
              "       [1.44751793e-05],\n",
              "       [9.99565661e-01],\n",
              "       [9.99948025e-01],\n",
              "       [9.99736249e-01],\n",
              "       [9.47110415e-01],\n",
              "       [3.70402297e-04],\n",
              "       [9.63496506e-01],\n",
              "       [6.05104942e-05],\n",
              "       [4.91479427e-01],\n",
              "       [2.17647672e-01],\n",
              "       [3.64930020e-03],\n",
              "       [9.58550632e-01],\n",
              "       [8.23330716e-04],\n",
              "       [8.75269470e-05],\n",
              "       [9.99926090e-01],\n",
              "       [4.79923547e-05],\n",
              "       [2.34304116e-05],\n",
              "       [5.40252961e-03],\n",
              "       [9.99967217e-01],\n",
              "       [9.99792278e-01],\n",
              "       [3.08387447e-04],\n",
              "       [9.99967813e-01],\n",
              "       [9.99988437e-01],\n",
              "       [9.49717402e-01],\n",
              "       [8.69192090e-03],\n",
              "       [9.97297585e-01],\n",
              "       [7.03593949e-03],\n",
              "       [9.84148792e-05],\n",
              "       [1.41501799e-01],\n",
              "       [9.99976039e-01],\n",
              "       [4.45487117e-03],\n",
              "       [9.98619318e-01],\n",
              "       [9.99364913e-01],\n",
              "       [9.58107226e-03],\n",
              "       [9.99952555e-01],\n",
              "       [9.71336544e-01],\n",
              "       [6.31035678e-03],\n",
              "       [1.27487059e-04],\n",
              "       [2.19003856e-01],\n",
              "       [9.99987364e-01],\n",
              "       [6.84968982e-05],\n",
              "       [6.55664116e-05],\n",
              "       [1.53237663e-04],\n",
              "       [2.46381042e-05],\n",
              "       [3.08052840e-05],\n",
              "       [7.04597769e-05],\n",
              "       [9.99964237e-01],\n",
              "       [9.99975443e-01],\n",
              "       [1.65200290e-05],\n",
              "       [9.99760211e-01],\n",
              "       [2.42441547e-05],\n",
              "       [9.99977827e-01],\n",
              "       [5.00042200e-01],\n",
              "       [9.91773188e-01],\n",
              "       [9.99795973e-01],\n",
              "       [9.99842763e-01],\n",
              "       [9.70305562e-01],\n",
              "       [9.99981999e-01],\n",
              "       [5.15597581e-04],\n",
              "       [7.80518531e-06],\n",
              "       [9.98411894e-01],\n",
              "       [9.99766886e-01],\n",
              "       [5.09504578e-04],\n",
              "       [9.98978972e-01],\n",
              "       [9.99969721e-01],\n",
              "       [2.13204567e-05],\n",
              "       [9.99625921e-01],\n",
              "       [9.98773873e-01],\n",
              "       [5.13029809e-05],\n",
              "       [9.99863982e-01],\n",
              "       [1.18601900e-04],\n",
              "       [4.47619350e-05],\n",
              "       [9.02996734e-02],\n",
              "       [9.94143784e-01],\n",
              "       [9.99888062e-01],\n",
              "       [2.31293544e-01],\n",
              "       [2.85233273e-05],\n",
              "       [9.99987125e-01],\n",
              "       [1.27614885e-05],\n",
              "       [1.57088325e-05],\n",
              "       [8.74226570e-01],\n",
              "       [1.60161704e-02],\n",
              "       [4.87501471e-04],\n",
              "       [9.99917746e-01],\n",
              "       [1.14586319e-05],\n",
              "       [8.18428816e-05],\n",
              "       [9.99830008e-01],\n",
              "       [1.72038752e-04],\n",
              "       [9.99987125e-01],\n",
              "       [9.99982357e-01],\n",
              "       [9.99978185e-01],\n",
              "       [9.99963522e-01],\n",
              "       [3.86586726e-05],\n",
              "       [9.99980807e-01],\n",
              "       [8.39252710e-01],\n",
              "       [1.97766087e-04],\n",
              "       [5.93081677e-05],\n",
              "       [9.99988794e-01],\n",
              "       [9.97420788e-01],\n",
              "       [3.22373182e-01],\n",
              "       [9.99922037e-01],\n",
              "       [1.69621482e-01],\n",
              "       [2.26427591e-03],\n",
              "       [1.40976153e-05],\n",
              "       [1.47412602e-05],\n",
              "       [1.24114472e-03],\n",
              "       [9.99958634e-01],\n",
              "       [2.96919723e-04],\n",
              "       [8.90663639e-02],\n",
              "       [2.09081285e-02],\n",
              "       [4.97773908e-05],\n",
              "       [8.96252241e-05],\n",
              "       [9.99944925e-01],\n",
              "       [9.99664545e-01],\n",
              "       [3.19456565e-04],\n",
              "       [9.99874115e-01],\n",
              "       [2.18738260e-05],\n",
              "       [9.99919772e-01],\n",
              "       [2.37434916e-03],\n",
              "       [2.79524853e-03],\n",
              "       [9.99890327e-01],\n",
              "       [3.54608893e-03],\n",
              "       [2.25498534e-05],\n",
              "       [9.99974132e-01],\n",
              "       [2.98937620e-03],\n",
              "       [9.99978662e-01],\n",
              "       [9.91012990e-01],\n",
              "       [9.99976158e-01],\n",
              "       [9.99764144e-01],\n",
              "       [9.99515533e-01],\n",
              "       [2.31110043e-05],\n",
              "       [9.99978900e-01],\n",
              "       [4.85750425e-05],\n",
              "       [3.22284130e-03],\n",
              "       [2.33130966e-04],\n",
              "       [9.91893291e-01],\n",
              "       [9.99979019e-01],\n",
              "       [3.60026825e-05],\n",
              "       [9.87215400e-01],\n",
              "       [9.99678373e-01],\n",
              "       [9.99979377e-01],\n",
              "       [9.99965787e-01],\n",
              "       [2.20907950e-05],\n",
              "       [8.68258358e-05],\n",
              "       [9.99988556e-01],\n",
              "       [1.70546646e-05],\n",
              "       [1.25681963e-05],\n",
              "       [8.02346971e-04],\n",
              "       [9.99201715e-01],\n",
              "       [2.69766570e-05],\n",
              "       [1.59643925e-04],\n",
              "       [1.78114751e-05],\n",
              "       [1.49953892e-04],\n",
              "       [2.85404130e-05],\n",
              "       [3.40693456e-04],\n",
              "       [9.99946117e-01],\n",
              "       [1.68059269e-04],\n",
              "       [2.94016637e-02],\n",
              "       [9.99974370e-01],\n",
              "       [9.99896884e-01],\n",
              "       [3.28356191e-03],\n",
              "       [3.34042743e-05],\n",
              "       [9.99981642e-01],\n",
              "       [9.99956250e-01],\n",
              "       [9.99915719e-01],\n",
              "       [9.89070892e-01],\n",
              "       [9.99893308e-01],\n",
              "       [8.30007017e-01],\n",
              "       [9.99971509e-01],\n",
              "       [2.24558589e-05],\n",
              "       [1.40043834e-04],\n",
              "       [1.18228272e-05],\n",
              "       [9.70227575e-06],\n",
              "       [9.99943376e-01],\n",
              "       [9.98560488e-01],\n",
              "       [9.99483824e-01],\n",
              "       [5.02057314e-01],\n",
              "       [1.99182909e-02],\n",
              "       [6.43036561e-04],\n",
              "       [4.70925850e-04],\n",
              "       [1.27944862e-04],\n",
              "       [9.99980569e-01],\n",
              "       [5.46166241e-01],\n",
              "       [2.10943189e-03],\n",
              "       [9.99980092e-01],\n",
              "       [9.99787867e-01],\n",
              "       [9.95648444e-01],\n",
              "       [1.64657340e-05],\n",
              "       [5.84867131e-03],\n",
              "       [9.99848366e-01],\n",
              "       [1.49294347e-01],\n",
              "       [2.89666206e-01],\n",
              "       [1.03371253e-03],\n",
              "       [8.84637237e-01],\n",
              "       [5.75878331e-03],\n",
              "       [1.46321167e-04],\n",
              "       [6.85790583e-05],\n",
              "       [9.99728620e-01],\n",
              "       [1.65810078e-01],\n",
              "       [9.99982715e-01],\n",
              "       [9.99960184e-01],\n",
              "       [4.06471445e-05],\n",
              "       [1.29209566e-05],\n",
              "       [9.99953389e-01],\n",
              "       [3.27550770e-05],\n",
              "       [9.45110689e-04],\n",
              "       [6.37859046e-01],\n",
              "       [3.61689272e-05],\n",
              "       [9.99924302e-01],\n",
              "       [6.46632361e-06],\n",
              "       [2.10419705e-04],\n",
              "       [9.99963522e-01],\n",
              "       [4.78700688e-03],\n",
              "       [9.99958873e-01],\n",
              "       [9.99989748e-01],\n",
              "       [1.11111462e-01],\n",
              "       [2.07089361e-05],\n",
              "       [4.20823926e-05],\n",
              "       [2.69067987e-05],\n",
              "       [8.63661262e-06],\n",
              "       [9.99954820e-01],\n",
              "       [9.99970198e-01],\n",
              "       [2.34791562e-02],\n",
              "       [9.99942064e-01],\n",
              "       [3.67047287e-05],\n",
              "       [5.06385579e-04],\n",
              "       [1.91375657e-05],\n",
              "       [8.65636757e-05],\n",
              "       [7.82824718e-05],\n",
              "       [9.99959707e-01],\n",
              "       [1.88012069e-04],\n",
              "       [1.20645536e-05],\n",
              "       [9.99968290e-01],\n",
              "       [3.06268666e-05],\n",
              "       [1.62240467e-04],\n",
              "       [9.99894023e-01],\n",
              "       [2.82205092e-05],\n",
              "       [1.65770529e-03],\n",
              "       [1.11429363e-05],\n",
              "       [9.99972939e-01],\n",
              "       [9.87804055e-01],\n",
              "       [5.12724757e-01],\n",
              "       [1.94970042e-01],\n",
              "       [9.99756277e-01],\n",
              "       [1.58273746e-04],\n",
              "       [9.99813020e-01],\n",
              "       [6.80267364e-02],\n",
              "       [9.99124110e-01],\n",
              "       [9.98012304e-01],\n",
              "       [9.96212721e-01],\n",
              "       [4.18355083e-03],\n",
              "       [2.21712468e-03],\n",
              "       [1.97714508e-01],\n",
              "       [2.24543721e-04],\n",
              "       [5.92311262e-04],\n",
              "       [1.59693111e-04],\n",
              "       [2.11993277e-01],\n",
              "       [9.86720352e-06],\n",
              "       [3.60416743e-05],\n",
              "       [1.28888031e-02],\n",
              "       [9.99972701e-01],\n",
              "       [6.43985331e-05],\n",
              "       [3.01937736e-03],\n",
              "       [4.75794682e-03],\n",
              "       [4.84230399e-01],\n",
              "       [5.60349901e-04],\n",
              "       [4.04882194e-05],\n",
              "       [1.80233510e-05],\n",
              "       [9.99927759e-01],\n",
              "       [1.18416034e-01],\n",
              "       [4.37387794e-01],\n",
              "       [9.99988794e-01],\n",
              "       [2.96448288e-05],\n",
              "       [9.81202245e-01],\n",
              "       [7.56081790e-02],\n",
              "       [3.12344963e-03],\n",
              "       [1.73901543e-02],\n",
              "       [2.76852479e-05],\n",
              "       [1.00242125e-03],\n",
              "       [9.99906063e-01],\n",
              "       [3.92436655e-03],\n",
              "       [9.99977827e-01],\n",
              "       [3.08190227e-01],\n",
              "       [1.75488203e-05],\n",
              "       [9.99979138e-01],\n",
              "       [4.69186416e-05],\n",
              "       [9.99983668e-01],\n",
              "       [1.46752078e-04],\n",
              "       [9.77651798e-05],\n",
              "       [9.99966145e-01],\n",
              "       [5.72748577e-05],\n",
              "       [1.65119800e-05],\n",
              "       [9.99898911e-01],\n",
              "       [1.63095301e-05],\n",
              "       [6.57408382e-05],\n",
              "       [9.89884377e-01],\n",
              "       [9.99952435e-01],\n",
              "       [3.41160485e-05],\n",
              "       [2.62460834e-03],\n",
              "       [9.99978065e-01],\n",
              "       [9.99675512e-01],\n",
              "       [9.99115765e-01],\n",
              "       [1.10279836e-01],\n",
              "       [9.98903513e-01],\n",
              "       [9.99385357e-01],\n",
              "       [9.38969490e-04],\n",
              "       [4.17350930e-05],\n",
              "       [2.25314172e-03],\n",
              "       [2.22792965e-03],\n",
              "       [1.64914272e-05],\n",
              "       [4.64891344e-02],\n",
              "       [8.52782488e-01],\n",
              "       [1.69387549e-05],\n",
              "       [9.99959588e-01],\n",
              "       [9.99978185e-01],\n",
              "       [9.99979973e-01],\n",
              "       [6.83944309e-05],\n",
              "       [2.87569106e-01],\n",
              "       [1.78777836e-02],\n",
              "       [6.54904824e-03],\n",
              "       [9.99807179e-01],\n",
              "       [4.34924781e-01],\n",
              "       [3.69616355e-05],\n",
              "       [7.77248861e-05],\n",
              "       [5.72764475e-05],\n",
              "       [9.99919772e-01],\n",
              "       [2.16595436e-05],\n",
              "       [1.41245866e-04],\n",
              "       [3.77295546e-05],\n",
              "       [5.64601760e-05],\n",
              "       [1.06827095e-01],\n",
              "       [9.98890102e-01],\n",
              "       [1.22495750e-02],\n",
              "       [1.50537780e-05],\n",
              "       [8.41876608e-04],\n",
              "       [6.11684736e-05],\n",
              "       [9.99982834e-01],\n",
              "       [9.99913216e-01],\n",
              "       [9.82763767e-01],\n",
              "       [9.99259531e-01],\n",
              "       [1.01252872e-05],\n",
              "       [9.99162436e-01],\n",
              "       [9.99981046e-01],\n",
              "       [9.87128735e-01],\n",
              "       [1.87921501e-03],\n",
              "       [9.99782026e-01],\n",
              "       [5.05093904e-03],\n",
              "       [9.99955535e-01],\n",
              "       [8.61596167e-01],\n",
              "       [9.49782770e-05],\n",
              "       [2.88064659e-01],\n",
              "       [1.52537599e-03],\n",
              "       [9.99974251e-01],\n",
              "       [9.26261172e-02],\n",
              "       [1.15983903e-05],\n",
              "       [2.64510600e-05],\n",
              "       [4.34924781e-01],\n",
              "       [9.99976039e-01],\n",
              "       [1.11601012e-05],\n",
              "       [1.75837934e-01],\n",
              "       [9.99967456e-01],\n",
              "       [1.26374980e-05],\n",
              "       [9.99987125e-01],\n",
              "       [1.38765408e-05],\n",
              "       [8.70609583e-05],\n",
              "       [2.15771834e-05],\n",
              "       [9.99907255e-01],\n",
              "       [9.99927640e-01],\n",
              "       [1.12729205e-04],\n",
              "       [2.57708634e-05],\n",
              "       [9.99780595e-01],\n",
              "       [9.99965429e-01],\n",
              "       [5.68871856e-01],\n",
              "       [6.03933040e-05],\n",
              "       [1.85443991e-04],\n",
              "       [1.74161524e-01],\n",
              "       [9.95892842e-05],\n",
              "       [9.99985337e-01],\n",
              "       [9.88767087e-01],\n",
              "       [9.99982715e-01],\n",
              "       [9.99958754e-01],\n",
              "       [2.33740138e-04],\n",
              "       [5.86230695e-01],\n",
              "       [3.26280642e-05],\n",
              "       [9.99946713e-01],\n",
              "       [8.85264874e-01],\n",
              "       [7.65269220e-01],\n",
              "       [9.08117509e-04],\n",
              "       [3.79230857e-01],\n",
              "       [1.13694216e-04],\n",
              "       [1.67474045e-05],\n",
              "       [7.59227667e-03],\n",
              "       [7.32136657e-04],\n",
              "       [9.97440934e-01],\n",
              "       [3.78181197e-04],\n",
              "       [9.99983191e-01],\n",
              "       [9.99976754e-01],\n",
              "       [4.14720089e-05],\n",
              "       [5.33329964e-01],\n",
              "       [3.92079150e-04],\n",
              "       [2.84843736e-05],\n",
              "       [3.95722568e-01],\n",
              "       [9.99848008e-01],\n",
              "       [4.86531993e-04],\n",
              "       [2.33439524e-02],\n",
              "       [1.09256544e-05],\n",
              "       [6.73985283e-04],\n",
              "       [2.19574686e-05],\n",
              "       [9.99968529e-01],\n",
              "       [9.99753058e-01],\n",
              "       [9.99980688e-01],\n",
              "       [9.71964896e-01],\n",
              "       [9.99251783e-01],\n",
              "       [2.22932501e-03],\n",
              "       [1.17041591e-05],\n",
              "       [9.92388129e-01],\n",
              "       [9.99915004e-01],\n",
              "       [9.99977589e-01],\n",
              "       [2.48264350e-05],\n",
              "       [1.92219435e-04],\n",
              "       [4.91164465e-05],\n",
              "       [9.99982715e-01],\n",
              "       [9.99979734e-01],\n",
              "       [1.39837654e-03],\n",
              "       [2.04089633e-03],\n",
              "       [9.99982357e-01],\n",
              "       [2.66441290e-04],\n",
              "       [5.84272260e-04],\n",
              "       [9.99965787e-01],\n",
              "       [1.25105857e-04],\n",
              "       [1.03157392e-04],\n",
              "       [9.98514831e-01],\n",
              "       [3.97456646e-01],\n",
              "       [4.62162495e-01],\n",
              "       [9.99970198e-01],\n",
              "       [3.47747446e-05],\n",
              "       [4.79012779e-05],\n",
              "       [1.33152744e-05],\n",
              "       [1.69755112e-05],\n",
              "       [3.05638132e-05],\n",
              "       [9.99977827e-01],\n",
              "       [3.53327923e-05],\n",
              "       [9.02579188e-01],\n",
              "       [9.63600278e-01],\n",
              "       [7.71158282e-03],\n",
              "       [1.26296937e-01],\n",
              "       [1.31658990e-05],\n",
              "       [6.26697874e-05],\n",
              "       [9.99990344e-01],\n",
              "       [9.99954700e-01],\n",
              "       [9.72537673e-05],\n",
              "       [7.08606312e-05],\n",
              "       [3.77180113e-05],\n",
              "       [1.72936416e-04],\n",
              "       [9.99792874e-01],\n",
              "       [2.08515412e-05],\n",
              "       [9.99824107e-01],\n",
              "       [9.99749839e-01],\n",
              "       [9.89156485e-01],\n",
              "       [9.98257935e-01],\n",
              "       [2.06537783e-01],\n",
              "       [6.93575363e-04],\n",
              "       [3.75642267e-04],\n",
              "       [2.81479321e-02],\n",
              "       [6.45535529e-01],\n",
              "       [7.44995296e-01],\n",
              "       [2.22604647e-02],\n",
              "       [4.60163246e-05],\n",
              "       [1.51848990e-05],\n",
              "       [3.03862646e-04],\n",
              "       [1.83989329e-03],\n",
              "       [3.40242267e-01],\n",
              "       [2.41672471e-01],\n",
              "       [9.99977231e-01],\n",
              "       [9.99937773e-01],\n",
              "       [5.00042200e-01],\n",
              "       [9.99859095e-01],\n",
              "       [1.42168906e-02],\n",
              "       [1.17608375e-04],\n",
              "       [9.99895215e-01],\n",
              "       [2.83108995e-04],\n",
              "       [3.68531946e-05],\n",
              "       [2.89785832e-01],\n",
              "       [9.95333374e-01],\n",
              "       [9.93458161e-06],\n",
              "       [9.99571383e-01],\n",
              "       [9.95963931e-01],\n",
              "       [9.99701202e-01],\n",
              "       [9.99907494e-01],\n",
              "       [2.71444063e-04],\n",
              "       [2.69693672e-03],\n",
              "       [9.98928726e-01],\n",
              "       [2.00928880e-05],\n",
              "       [2.10175314e-03],\n",
              "       [1.28549477e-02],\n",
              "       [9.98616815e-01],\n",
              "       [9.56221700e-01],\n",
              "       [6.91188034e-05],\n",
              "       [5.05312055e-05],\n",
              "       [9.98474061e-01],\n",
              "       [6.46920671e-05],\n",
              "       [2.46207725e-04],\n",
              "       [5.21349029e-05],\n",
              "       [3.71293664e-01],\n",
              "       [9.99985695e-01],\n",
              "       [9.99735892e-01],\n",
              "       [1.26567867e-03],\n",
              "       [9.99984026e-01],\n",
              "       [9.99970555e-01],\n",
              "       [1.83646662e-05],\n",
              "       [9.99974728e-01],\n",
              "       [1.05192596e-02],\n",
              "       [9.96448398e-01],\n",
              "       [1.23374656e-01],\n",
              "       [7.15422560e-04],\n",
              "       [6.86046260e-05],\n",
              "       [4.12085064e-05],\n",
              "       [7.67566016e-05],\n",
              "       [4.06846048e-05],\n",
              "       [9.98275995e-01],\n",
              "       [7.25894279e-05],\n",
              "       [9.99979377e-01],\n",
              "       [2.04885946e-04],\n",
              "       [9.80832934e-01],\n",
              "       [9.97144520e-01],\n",
              "       [4.43480967e-05],\n",
              "       [4.80690796e-05],\n",
              "       [9.99986410e-01],\n",
              "       [9.88006941e-05],\n",
              "       [9.99957681e-01],\n",
              "       [3.30937713e-01],\n",
              "       [4.08239983e-04],\n",
              "       [8.38262379e-01],\n",
              "       [2.21843671e-04],\n",
              "       [1.98096633e-02],\n",
              "       [9.99970555e-01],\n",
              "       [1.13591550e-05],\n",
              "       [2.61537261e-05],\n",
              "       [1.36464334e-03],\n",
              "       [9.99980569e-01],\n",
              "       [1.23642909e-03],\n",
              "       [3.53014693e-05],\n",
              "       [9.99905586e-01],\n",
              "       [3.28428432e-05],\n",
              "       [4.86570571e-05],\n",
              "       [5.11875958e-04],\n",
              "       [8.27726722e-01],\n",
              "       [1.88071601e-04],\n",
              "       [4.11108732e-01],\n",
              "       [7.56138027e-01],\n",
              "       [6.09688053e-04],\n",
              "       [2.16709905e-05],\n",
              "       [1.81654040e-02],\n",
              "       [1.92481912e-05],\n",
              "       [9.99817073e-01],\n",
              "       [9.96074080e-01],\n",
              "       [1.76240187e-02],\n",
              "       [1.71840475e-05],\n",
              "       [1.82873482e-04],\n",
              "       [9.99980450e-01],\n",
              "       [9.53131676e-01],\n",
              "       [9.99973655e-01],\n",
              "       [4.47040482e-04],\n",
              "       [9.99801099e-01],\n",
              "       [3.03634151e-04],\n",
              "       [9.98971224e-01],\n",
              "       [9.78766680e-01],\n",
              "       [1.98928283e-05],\n",
              "       [9.99963522e-01],\n",
              "       [1.34307274e-03],\n",
              "       [9.99848366e-01],\n",
              "       [9.99979496e-01],\n",
              "       [4.71845211e-04],\n",
              "       [1.99676579e-05],\n",
              "       [9.91829813e-01],\n",
              "       [1.71401844e-05],\n",
              "       [9.93072569e-01],\n",
              "       [9.99981642e-01],\n",
              "       [3.90463144e-01],\n",
              "       [9.99906659e-01],\n",
              "       [1.79244161e-01],\n",
              "       [9.99964595e-01],\n",
              "       [9.99209404e-01],\n",
              "       [4.77237906e-03],\n",
              "       [2.02909960e-05],\n",
              "       [9.98504519e-01],\n",
              "       [1.42369636e-05],\n",
              "       [3.59333098e-01],\n",
              "       [9.99939084e-01],\n",
              "       [9.99818146e-01],\n",
              "       [9.99986172e-01],\n",
              "       [9.99880791e-01],\n",
              "       [8.36715221e-01],\n",
              "       [9.99735415e-01],\n",
              "       [1.76146987e-05],\n",
              "       [6.67070925e-01],\n",
              "       [9.96250927e-01],\n",
              "       [9.99925733e-01],\n",
              "       [2.38353550e-05],\n",
              "       [9.99832273e-01],\n",
              "       [9.99972939e-01],\n",
              "       [7.37710798e-04],\n",
              "       [3.36814206e-04],\n",
              "       [2.22604647e-02],\n",
              "       [6.87506035e-05],\n",
              "       [9.98529434e-01],\n",
              "       [9.99412656e-01],\n",
              "       [9.99974012e-01],\n",
              "       [3.57126031e-04],\n",
              "       [1.02518716e-05],\n",
              "       [2.16616518e-05],\n",
              "       [2.29223594e-01],\n",
              "       [1.96837354e-02],\n",
              "       [1.50821626e-01],\n",
              "       [9.98610973e-01],\n",
              "       [1.17689533e-05],\n",
              "       [2.61479229e-01],\n",
              "       [8.10052734e-03],\n",
              "       [2.43411049e-01],\n",
              "       [9.99943018e-01],\n",
              "       [2.81960936e-04],\n",
              "       [9.99080420e-01],\n",
              "       [9.38770536e-04],\n",
              "       [8.08383993e-06],\n",
              "       [8.99180814e-05],\n",
              "       [9.99981523e-01],\n",
              "       [9.91127849e-01],\n",
              "       [1.17998252e-05],\n",
              "       [3.23039651e-01],\n",
              "       [9.97101963e-01],\n",
              "       [1.06532834e-05],\n",
              "       [9.99968886e-01],\n",
              "       [6.97905270e-05],\n",
              "       [9.98922348e-01],\n",
              "       [9.75755274e-01],\n",
              "       [2.48180331e-05],\n",
              "       [9.41190839e-01],\n",
              "       [1.01664521e-01],\n",
              "       [2.95891106e-04],\n",
              "       [9.99597490e-01],\n",
              "       [4.82097231e-02],\n",
              "       [9.99164581e-01],\n",
              "       [9.99933839e-01],\n",
              "       [4.09740537e-01],\n",
              "       [2.31707379e-01],\n",
              "       [9.93458161e-06],\n",
              "       [3.33675355e-01],\n",
              "       [1.99896712e-02],\n",
              "       [9.99987125e-01],\n",
              "       [9.25533175e-01],\n",
              "       [7.91865750e-04],\n",
              "       [9.99968767e-01],\n",
              "       [3.65407616e-01],\n",
              "       [9.99930859e-01],\n",
              "       [3.65407616e-01],\n",
              "       [9.99985337e-01],\n",
              "       [1.10121946e-05],\n",
              "       [9.14132397e-04],\n",
              "       [1.58821513e-05],\n",
              "       [9.99989152e-01],\n",
              "       [5.77378669e-05],\n",
              "       [2.13315268e-03],\n",
              "       [2.46376585e-05],\n",
              "       [8.05291202e-05],\n",
              "       [8.23300070e-05],\n",
              "       [2.58492819e-05],\n",
              "       [1.08471920e-03],\n",
              "       [2.71971276e-05],\n",
              "       [1.86742298e-04],\n",
              "       [9.99772012e-01],\n",
              "       [1.00499870e-04],\n",
              "       [9.04735527e-04],\n",
              "       [4.43608260e-05],\n",
              "       [9.74758041e-06],\n",
              "       [2.64675412e-02],\n",
              "       [9.99812067e-01],\n",
              "       [1.68921222e-04],\n",
              "       [9.02480620e-04],\n",
              "       [2.79574539e-04],\n",
              "       [9.98929560e-01],\n",
              "       [9.99971628e-01],\n",
              "       [2.36351480e-05],\n",
              "       [2.19382127e-05],\n",
              "       [3.16421538e-05],\n",
              "       [8.59733973e-06],\n",
              "       [9.99940753e-01],\n",
              "       [9.74758041e-06],\n",
              "       [1.94497814e-03],\n",
              "       [9.99795616e-01],\n",
              "       [9.99979258e-01],\n",
              "       [9.99977946e-01],\n",
              "       [9.99975204e-01],\n",
              "       [9.99968410e-01],\n",
              "       [2.88186711e-05],\n",
              "       [3.06097572e-05],\n",
              "       [9.90106940e-01],\n",
              "       [9.99373972e-01],\n",
              "       [9.99982476e-01],\n",
              "       [9.26579952e-01],\n",
              "       [1.93669490e-04],\n",
              "       [9.99886870e-01],\n",
              "       [7.67611980e-01],\n",
              "       [1.36455083e-05],\n",
              "       [1.34740148e-05],\n",
              "       [4.59683215e-04],\n",
              "       [1.15764909e-04],\n",
              "       [1.61681564e-05],\n",
              "       [3.74919589e-04],\n",
              "       [9.94343638e-01],\n",
              "       [9.99981403e-01],\n",
              "       [3.85516869e-05],\n",
              "       [9.99984741e-01],\n",
              "       [9.98854876e-01],\n",
              "       [8.21668953e-02],\n",
              "       [1.57554145e-03],\n",
              "       [4.03288566e-03],\n",
              "       [5.47240257e-01],\n",
              "       [2.21800478e-03],\n",
              "       [1.31362622e-05]], dtype=float32)"
            ]
          },
          "metadata": {
            "tags": []
          },
          "execution_count": 163
        }
      ]
    },
    {
      "cell_type": "code",
      "metadata": {
        "colab": {
          "base_uri": "https://localhost:8080/"
        },
        "id": "Dy6Gp0Fu6LmX",
        "outputId": "1987bb8e-399d-4946-c711-ac48caf0d26b"
      },
      "source": [
        "# Convert  pred probs to pred labels\n",
        "\n",
        "\n",
        "model_4_preds = tf.squeeze(tf.round(model_4_pred_probs))\n",
        "\n",
        "model_4_preds"
      ],
      "execution_count": 164,
      "outputs": [
        {
          "output_type": "execute_result",
          "data": {
            "text/plain": [
              "<tf.Tensor: shape=(762,), dtype=float32, numpy=\n",
              "array([0., 1., 1., 0., 0., 1., 1., 1., 1., 1., 0., 1., 0., 0., 0., 0., 0.,\n",
              "       0., 0., 1., 1., 0., 1., 0., 1., 1., 0., 0., 0., 1., 1., 0., 0., 0.,\n",
              "       0., 0., 1., 0., 0., 1., 1., 0., 0., 0., 1., 1., 1., 1., 0., 1., 0.,\n",
              "       0., 0., 0., 1., 0., 0., 1., 0., 0., 0., 1., 1., 0., 1., 1., 1., 0.,\n",
              "       1., 0., 0., 0., 1., 0., 1., 1., 0., 1., 1., 0., 0., 0., 1., 0., 0.,\n",
              "       0., 0., 0., 0., 1., 1., 0., 1., 0., 1., 1., 1., 1., 1., 1., 1., 0.,\n",
              "       0., 1., 1., 0., 1., 1., 0., 1., 1., 0., 1., 0., 0., 0., 1., 1., 0.,\n",
              "       0., 1., 0., 0., 1., 0., 0., 1., 0., 0., 1., 0., 1., 1., 1., 1., 0.,\n",
              "       1., 1., 0., 0., 1., 1., 0., 1., 0., 0., 0., 0., 0., 1., 0., 0., 0.,\n",
              "       0., 0., 1., 1., 0., 1., 0., 1., 0., 0., 1., 0., 0., 1., 0., 1., 1.,\n",
              "       1., 1., 1., 0., 1., 0., 0., 0., 1., 1., 0., 1., 1., 1., 1., 0., 0.,\n",
              "       1., 0., 0., 0., 1., 0., 0., 0., 0., 0., 0., 1., 0., 0., 1., 1., 0.,\n",
              "       0., 1., 1., 1., 1., 1., 1., 1., 0., 0., 0., 0., 1., 1., 1., 1., 0.,\n",
              "       0., 0., 0., 1., 1., 0., 1., 1., 1., 0., 0., 1., 0., 0., 0., 1., 0.,\n",
              "       0., 0., 1., 0., 1., 1., 0., 0., 1., 0., 0., 1., 0., 1., 0., 0., 1.,\n",
              "       0., 1., 1., 0., 0., 0., 0., 0., 1., 1., 0., 1., 0., 0., 0., 0., 0.,\n",
              "       1., 0., 0., 1., 0., 0., 1., 0., 0., 0., 1., 1., 1., 0., 1., 0., 1.,\n",
              "       0., 1., 1., 1., 0., 0., 0., 0., 0., 0., 0., 0., 0., 0., 1., 0., 0.,\n",
              "       0., 0., 0., 0., 0., 1., 0., 0., 1., 0., 1., 0., 0., 0., 0., 0., 1.,\n",
              "       0., 1., 0., 0., 1., 0., 1., 0., 0., 1., 0., 0., 1., 0., 0., 1., 1.,\n",
              "       0., 0., 1., 1., 1., 0., 1., 1., 0., 0., 0., 0., 0., 0., 1., 0., 1.,\n",
              "       1., 1., 0., 0., 0., 0., 1., 0., 0., 0., 0., 1., 0., 0., 0., 0., 0.,\n",
              "       1., 0., 0., 0., 0., 1., 1., 1., 1., 0., 1., 1., 1., 0., 1., 0., 1.,\n",
              "       1., 0., 0., 0., 1., 0., 0., 0., 0., 1., 0., 0., 1., 0., 1., 0., 0.,\n",
              "       0., 1., 1., 0., 0., 1., 1., 1., 0., 0., 0., 0., 1., 1., 1., 1., 0.,\n",
              "       1., 0., 1., 1., 1., 0., 0., 0., 0., 0., 0., 1., 0., 1., 1., 0., 1.,\n",
              "       0., 0., 0., 1., 0., 0., 0., 0., 0., 1., 1., 1., 1., 1., 0., 0., 1.,\n",
              "       1., 1., 0., 0., 0., 1., 1., 0., 0., 1., 0., 0., 1., 0., 0., 1., 0.,\n",
              "       0., 1., 0., 0., 0., 0., 0., 1., 0., 1., 1., 0., 0., 0., 0., 1., 1.,\n",
              "       0., 0., 0., 0., 1., 0., 1., 1., 1., 1., 0., 0., 0., 0., 1., 1., 0.,\n",
              "       0., 0., 0., 0., 0., 0., 1., 1., 1., 1., 0., 0., 1., 0., 0., 0., 1.,\n",
              "       0., 1., 1., 1., 1., 0., 0., 1., 0., 0., 0., 1., 1., 0., 0., 1., 0.,\n",
              "       0., 0., 0., 1., 1., 0., 1., 1., 0., 1., 0., 1., 0., 0., 0., 0., 0.,\n",
              "       0., 1., 0., 1., 0., 1., 1., 0., 0., 1., 0., 1., 0., 0., 1., 0., 0.,\n",
              "       1., 0., 0., 0., 1., 0., 0., 1., 0., 0., 0., 1., 0., 0., 1., 0., 0.,\n",
              "       0., 0., 1., 1., 0., 0., 0., 1., 1., 1., 0., 1., 0., 1., 1., 0., 1.,\n",
              "       0., 1., 1., 0., 0., 1., 0., 1., 1., 0., 1., 0., 1., 1., 0., 0., 1.,\n",
              "       0., 0., 1., 1., 1., 1., 1., 1., 0., 1., 1., 1., 0., 1., 1., 0., 0.,\n",
              "       0., 0., 1., 1., 1., 0., 0., 0., 0., 0., 0., 1., 0., 0., 0., 0., 1.,\n",
              "       0., 1., 0., 0., 0., 1., 1., 0., 0., 1., 0., 1., 0., 1., 1., 0., 1.,\n",
              "       0., 0., 1., 0., 1., 1., 0., 0., 0., 0., 0., 1., 1., 0., 1., 0., 1.,\n",
              "       0., 1., 0., 0., 0., 1., 0., 0., 0., 0., 0., 0., 0., 0., 0., 1., 0.,\n",
              "       0., 0., 0., 0., 1., 0., 0., 0., 1., 1., 0., 0., 0., 0., 1., 0., 0.,\n",
              "       1., 1., 1., 1., 1., 0., 0., 1., 1., 1., 1., 0., 1., 1., 0., 0., 0.,\n",
              "       0., 0., 0., 1., 1., 0., 1., 1., 0., 0., 0., 1., 0., 0.],\n",
              "      dtype=float32)>"
            ]
          },
          "metadata": {
            "tags": []
          },
          "execution_count": 164
        }
      ]
    },
    {
      "cell_type": "code",
      "metadata": {
        "id": "M5PVDO5A6kzb"
      },
      "source": [
        "# Calculate the results of our bidirectional model\n",
        "\n",
        "\n",
        "model_4_results = calculate_results(y_true=val_labels,\n",
        "                                    y_pred=model_4_preds)\n"
      ],
      "execution_count": 165,
      "outputs": []
    },
    {
      "cell_type": "code",
      "metadata": {
        "colab": {
          "base_uri": "https://localhost:8080/"
        },
        "id": "gxVcrY126m30",
        "outputId": "8626f1b2-21a9-4a2c-f0e5-f23123772813"
      },
      "source": [
        "model_4_results"
      ],
      "execution_count": 166,
      "outputs": [
        {
          "output_type": "execute_result",
          "data": {
            "text/plain": [
              "{'accuracy': 76.11548556430446,\n",
              " 'f1': 0.7600554649035874,\n",
              " 'precision': 0.7610421046068336,\n",
              " 'recall': 0.7611548556430446}"
            ]
          },
          "metadata": {
            "tags": []
          },
          "execution_count": 166
        }
      ]
    },
    {
      "cell_type": "code",
      "metadata": {
        "colab": {
          "base_uri": "https://localhost:8080/"
        },
        "id": "ORxsB0Ux68VW",
        "outputId": "2225f94c-9dee-4297-e14a-468ace17d9c1"
      },
      "source": [
        "\n",
        "model_3_results"
      ],
      "execution_count": 167,
      "outputs": [
        {
          "output_type": "execute_result",
          "data": {
            "text/plain": [
              "{'accuracy': 77.16535433070865,\n",
              " 'f1': 0.7709684019624822,\n",
              " 'precision': 0.7713581681518764,\n",
              " 'recall': 0.7716535433070866}"
            ]
          },
          "metadata": {
            "tags": []
          },
          "execution_count": 167
        }
      ]
    },
    {
      "cell_type": "markdown",
      "metadata": {
        "id": "pLh_V7-Y7AfE"
      },
      "source": [
        "## Convolution Neural Networks for Text ( and other types of sequences)\n",
        "\n",
        "\n",
        "We've used CNNS for images but images are typicaly 2D ( height * width... however, our text data is 1D).\n",
        "\n",
        "\n",
        "Previosly we've Conv2D for our image data but now we're going to use Conv1D.\n",
        "\n",
        "\n",
        "\n",
        "The typical structure of a Conv1D model for sequences( in our case, text) :\n",
        "\n",
        "```\n",
        "Inputs(text) -> Tokenization -> Embedding -> Layer(s) (typically Conv1D + pooling) ---> outputs (class probabilites)\n",
        "\n",
        "\n",
        "\n",
        "```\n"
      ]
    },
    {
      "cell_type": "markdown",
      "metadata": {
        "id": "JBKUq_ET9BNN"
      },
      "source": [
        "### Model 5: Conv1D\n",
        "\n",
        "\n",
        "For different explanations of parameters\n",
        "\n",
        "see:\n",
        "\n",
        "https://poloclub.github.io/cnn-explainer/ ( this is for 2D\n",
        "\n",
        " but can relate to 1D data)\n",
        "\n",
        " Difference between \"same\" and \"valid\"\n",
        "\n",
        " https://stackoverflow.com/questions/37674306/what-is-the-difference-between-same-and-valid-padding-in-tf-nn-max-pool-of-t#:~:text=%22SAME%22%20%3A%20output%20size%20is,No%20padding%20occurs.\n",
        "\n"
      ]
    },
    {
      "cell_type": "code",
      "metadata": {
        "colab": {
          "base_uri": "https://localhost:8080/"
        },
        "id": "CZ3srHmA9-TK",
        "outputId": "877182b0-43c3-4ee2-ac58-f1433e0b0098"
      },
      "source": [
        "# Test out our embedding layer, Conv1D layer and max pooling\n",
        "from tensorflow.keras import layers\n",
        "embedding_test = embedding(text_vectorizer([\"this is a test sentence\"])) # Turn target sequence into embedding\n",
        "\n",
        "conv_1d = layers.Conv1D(filters=32,\n",
        "                        # pasa por 5 palabras cada vez\n",
        "                        kernel_size=5,# this is also referred to as an ngram of 5 (meaning it looks at 5 words at a time)\n",
        "                        activation=\"relu\",\n",
        "                        strides=1, # default\n",
        "                        padding=\"valid\")# default=\"valid\", the output is smaller than the input shape, \"same\" means output is same shape as input\n",
        "\n",
        "conv_1d_output =conv_1d(embedding_test) # pass test embedding through conv1d layer\n",
        "\n",
        "# usamos maxpool 1 D porque estamos usando Conv1D\n",
        "# pasa de columnas por token a columnas por secuencia\n",
        "max_pool = layers.GlobalMaxPool1D()\n",
        "\n",
        "max_pool_output = max_pool(conv_1d_output)# equivalent to \"get the most impportant feature\" o r get the feature with the highest value\n",
        "\n",
        "\n",
        "embedding_test.shape, conv_1d_output.shape, max_pool_output.shape"
      ],
      "execution_count": 168,
      "outputs": [
        {
          "output_type": "execute_result",
          "data": {
            "text/plain": [
              "(TensorShape([1, 15, 128]), TensorShape([1, 11, 32]), TensorShape([1, 32]))"
            ]
          },
          "metadata": {
            "tags": []
          },
          "execution_count": 168
        }
      ]
    },
    {
      "cell_type": "code",
      "metadata": {
        "colab": {
          "base_uri": "https://localhost:8080/"
        },
        "id": "w6JmA1zLA1Bg",
        "outputId": "34bca86b-b9d9-4563-cc9e-46af5fd6457a"
      },
      "source": [
        "embedding_test"
      ],
      "execution_count": 169,
      "outputs": [
        {
          "output_type": "execute_result",
          "data": {
            "text/plain": [
              "<tf.Tensor: shape=(1, 15, 128), dtype=float32, numpy=\n",
              "array([[[-4.4487283e-02,  3.7554555e-02, -1.7149701e-03, ...,\n",
              "         -3.1113544e-02,  1.2212623e-02,  1.8180544e-02],\n",
              "        [-2.0312587e-02,  3.9960016e-03,  5.5520065e-02, ...,\n",
              "         -6.8008937e-02,  2.3437817e-02, -5.7659697e-02],\n",
              "        [-4.2228781e-02, -6.2546082e-02,  8.2094118e-02, ...,\n",
              "         -9.3881518e-02,  3.3434000e-02,  3.9950683e-05],\n",
              "        ...,\n",
              "        [-2.2558838e-02,  3.3286326e-02, -6.1731846e-03, ...,\n",
              "         -3.4897663e-02,  3.2161631e-02, -3.6686177e-03],\n",
              "        [-2.2558838e-02,  3.3286326e-02, -6.1731846e-03, ...,\n",
              "         -3.4897663e-02,  3.2161631e-02, -3.6686177e-03],\n",
              "        [-2.2558838e-02,  3.3286326e-02, -6.1731846e-03, ...,\n",
              "         -3.4897663e-02,  3.2161631e-02, -3.6686177e-03]]], dtype=float32)>"
            ]
          },
          "metadata": {
            "tags": []
          },
          "execution_count": 169
        }
      ]
    },
    {
      "cell_type": "code",
      "metadata": {
        "colab": {
          "base_uri": "https://localhost:8080/"
        },
        "id": "bSMMPez0EMOx",
        "outputId": "d4b5b7d4-3024-44f5-b490-d2cb08bcb25d"
      },
      "source": [
        "conv_1d_output"
      ],
      "execution_count": 170,
      "outputs": [
        {
          "output_type": "execute_result",
          "data": {
            "text/plain": [
              "<tf.Tensor: shape=(1, 11, 32), dtype=float32, numpy=\n",
              "array([[[0.        , 0.04173951, 0.01545784, 0.03560931, 0.        ,\n",
              "         0.        , 0.        , 0.        , 0.04624949, 0.01297183,\n",
              "         0.09860897, 0.        , 0.        , 0.        , 0.        ,\n",
              "         0.        , 0.01987983, 0.0521689 , 0.        , 0.07146688,\n",
              "         0.0161502 , 0.        , 0.01544063, 0.03456417, 0.03073361,\n",
              "         0.        , 0.        , 0.00552946, 0.01109513, 0.        ,\n",
              "         0.04657618, 0.        ],\n",
              "        [0.        , 0.06934471, 0.01190964, 0.02117247, 0.04347256,\n",
              "         0.        , 0.00829177, 0.        , 0.        , 0.        ,\n",
              "         0.02309174, 0.        , 0.        , 0.        , 0.04400741,\n",
              "         0.02095994, 0.        , 0.        , 0.03700632, 0.02357951,\n",
              "         0.00890619, 0.01865904, 0.        , 0.0424427 , 0.03995974,\n",
              "         0.01757801, 0.        , 0.01860271, 0.01616792, 0.04987159,\n",
              "         0.04107301, 0.        ],\n",
              "        [0.        , 0.01176424, 0.0215527 , 0.0329138 , 0.00356936,\n",
              "         0.        , 0.04663507, 0.        , 0.        , 0.05095561,\n",
              "         0.05808252, 0.00201228, 0.        , 0.        , 0.02204463,\n",
              "         0.06749237, 0.        , 0.00189765, 0.06853893, 0.00940281,\n",
              "         0.02898074, 0.06992085, 0.        , 0.00414767, 0.06689519,\n",
              "         0.        , 0.03662629, 0.01215025, 0.        , 0.        ,\n",
              "         0.02321794, 0.05067527],\n",
              "        [0.        , 0.        , 0.        , 0.        , 0.        ,\n",
              "         0.        , 0.        , 0.00330776, 0.        , 0.08113967,\n",
              "         0.04601292, 0.00394933, 0.        , 0.        , 0.        ,\n",
              "         0.01563993, 0.03794729, 0.        , 0.00812736, 0.02677853,\n",
              "         0.08043899, 0.08855399, 0.        , 0.02381747, 0.00704465,\n",
              "         0.00167832, 0.01051837, 0.04133643, 0.        , 0.0229098 ,\n",
              "         0.        , 0.        ],\n",
              "        [0.01407115, 0.        , 0.04355573, 0.        , 0.        ,\n",
              "         0.        , 0.00466732, 0.02574735, 0.        , 0.03205286,\n",
              "         0.0715348 , 0.00312651, 0.02081626, 0.01099513, 0.00677082,\n",
              "         0.        , 0.01875223, 0.02939649, 0.01902992, 0.04395264,\n",
              "         0.02992813, 0.03036542, 0.00662406, 0.01610042, 0.02589706,\n",
              "         0.        , 0.00682954, 0.05525988, 0.        , 0.01204791,\n",
              "         0.        , 0.01388205],\n",
              "        [0.02940331, 0.        , 0.01935196, 0.        , 0.        ,\n",
              "         0.        , 0.01690419, 0.0211711 , 0.01160507, 0.02162581,\n",
              "         0.04188691, 0.        , 0.        , 0.        , 0.02345996,\n",
              "         0.        , 0.01128702, 0.        , 0.        , 0.00456193,\n",
              "         0.00913008, 0.02626501, 0.        , 0.        , 0.04548731,\n",
              "         0.        , 0.00443998, 0.03909429, 0.        , 0.        ,\n",
              "         0.        , 0.02021751],\n",
              "        [0.02940332, 0.        , 0.01935196, 0.        , 0.        ,\n",
              "         0.        , 0.01690419, 0.02117111, 0.01160508, 0.02162581,\n",
              "         0.04188692, 0.        , 0.        , 0.        , 0.02345996,\n",
              "         0.        , 0.01128702, 0.        , 0.        , 0.00456193,\n",
              "         0.00913007, 0.026265  , 0.        , 0.        , 0.04548732,\n",
              "         0.        , 0.00443997, 0.03909428, 0.        , 0.        ,\n",
              "         0.        , 0.02021752],\n",
              "        [0.02940331, 0.        , 0.01935196, 0.        , 0.        ,\n",
              "         0.        , 0.01690419, 0.02117112, 0.01160507, 0.02162581,\n",
              "         0.04188691, 0.        , 0.        , 0.        , 0.02345997,\n",
              "         0.        , 0.01128702, 0.        , 0.        , 0.00456193,\n",
              "         0.00913008, 0.02626501, 0.        , 0.        , 0.04548731,\n",
              "         0.        , 0.00443998, 0.03909428, 0.        , 0.        ,\n",
              "         0.        , 0.02021753],\n",
              "        [0.02940332, 0.        , 0.01935197, 0.        , 0.        ,\n",
              "         0.        , 0.01690419, 0.02117111, 0.01160508, 0.02162581,\n",
              "         0.04188691, 0.        , 0.        , 0.        , 0.02345996,\n",
              "         0.        , 0.01128702, 0.        , 0.        , 0.00456193,\n",
              "         0.00913007, 0.02626501, 0.        , 0.        , 0.04548732,\n",
              "         0.        , 0.00443997, 0.03909429, 0.        , 0.        ,\n",
              "         0.        , 0.02021752],\n",
              "        [0.02940331, 0.        , 0.01935197, 0.        , 0.        ,\n",
              "         0.        , 0.0169042 , 0.02117111, 0.01160508, 0.02162581,\n",
              "         0.0418869 , 0.        , 0.        , 0.        , 0.02345997,\n",
              "         0.        , 0.01128701, 0.        , 0.        , 0.00456193,\n",
              "         0.00913007, 0.026265  , 0.        , 0.        , 0.04548732,\n",
              "         0.        , 0.00443998, 0.03909428, 0.        , 0.        ,\n",
              "         0.        , 0.02021752],\n",
              "        [0.02940332, 0.        , 0.01935197, 0.        , 0.        ,\n",
              "         0.        , 0.01690419, 0.02117111, 0.01160507, 0.02162581,\n",
              "         0.04188691, 0.        , 0.        , 0.        , 0.02345996,\n",
              "         0.        , 0.01128701, 0.        , 0.        , 0.00456193,\n",
              "         0.00913007, 0.026265  , 0.        , 0.        , 0.04548731,\n",
              "         0.        , 0.00443998, 0.03909429, 0.        , 0.        ,\n",
              "         0.        , 0.02021752]]], dtype=float32)>"
            ]
          },
          "metadata": {
            "tags": []
          },
          "execution_count": 170
        }
      ]
    },
    {
      "cell_type": "code",
      "metadata": {
        "colab": {
          "base_uri": "https://localhost:8080/"
        },
        "id": "j3m9C45dETSW",
        "outputId": "98864566-b503-40fe-bacc-98ac55c45163"
      },
      "source": [
        "max_pool_output"
      ],
      "execution_count": 171,
      "outputs": [
        {
          "output_type": "execute_result",
          "data": {
            "text/plain": [
              "<tf.Tensor: shape=(1, 32), dtype=float32, numpy=\n",
              "array([[0.02940332, 0.06934471, 0.04355573, 0.03560931, 0.04347256,\n",
              "        0.        , 0.04663507, 0.02574735, 0.04624949, 0.08113967,\n",
              "        0.09860897, 0.00394933, 0.02081626, 0.01099513, 0.04400741,\n",
              "        0.06749237, 0.03794729, 0.0521689 , 0.06853893, 0.07146688,\n",
              "        0.08043899, 0.08855399, 0.01544063, 0.0424427 , 0.06689519,\n",
              "        0.01757801, 0.03662629, 0.05525988, 0.01616792, 0.04987159,\n",
              "        0.04657618, 0.05067527]], dtype=float32)>"
            ]
          },
          "metadata": {
            "tags": []
          },
          "execution_count": 171
        }
      ]
    },
    {
      "cell_type": "code",
      "metadata": {
        "colab": {
          "base_uri": "https://localhost:8080/"
        },
        "id": "Cf8V0OLLEooF",
        "outputId": "ad889730-c6e2-486a-87db-24de11909ffc"
      },
      "source": [
        "# Create 1-dimensional convultional layer to model sequence\n",
        "\n",
        "from tensorflow.keras import layers\n",
        "\n",
        "inputs = layers.Input(shape=(1, ), dtype=tf.string)\n",
        "\n",
        "x = text_vectorizer(inputs)\n",
        "\n",
        "x =embedding(x)\n",
        "\n",
        "x = layers.Conv1D(filters=64, kernel_size=5, strides= 1, activation=\"relu\", padding =\"valid\") (x)\n",
        "\n",
        "x = layers.GlobalMaxPooling1D()(x)\n",
        "\n",
        "# x = layers.Dense(64, activation=\"relu\")(x)\n",
        "\n",
        "outputs = layers.Dense(1, activation=\"sigmoid\")(x)\n",
        "\n",
        "model_5 = tf.keras.Model(inputs, outputs, name=\"model_5_Conv1D\")\n",
        "\n",
        "\n",
        "# Compile Conv1D\n",
        "\n",
        "model_5.compile(loss=\"binary_crossentropy\",\n",
        "                optimizer=tf.keras.optimizers.Adam(),\n",
        "                metrics=[\"accuracy\"])\n",
        "\n",
        "\n",
        "# Get a summary of our Conv1D model\n",
        "\n",
        "model_5.summary()\n",
        "\n"
      ],
      "execution_count": 172,
      "outputs": [
        {
          "output_type": "stream",
          "text": [
            "Model: \"model_5_Conv1D\"\n",
            "_________________________________________________________________\n",
            "Layer (type)                 Output Shape              Param #   \n",
            "=================================================================\n",
            "input_7 (InputLayer)         [(None, 1)]               0         \n",
            "_________________________________________________________________\n",
            "text_vectorization_3 (TextVe (None, 15)                0         \n",
            "_________________________________________________________________\n",
            "embedding_1 (Embedding)      (None, 15, 128)           1280000   \n",
            "_________________________________________________________________\n",
            "conv1d_1 (Conv1D)            (None, 11, 64)            41024     \n",
            "_________________________________________________________________\n",
            "global_max_pooling1d_1 (Glob (None, 64)                0         \n",
            "_________________________________________________________________\n",
            "dense_6 (Dense)              (None, 1)                 65        \n",
            "=================================================================\n",
            "Total params: 1,321,089\n",
            "Trainable params: 1,321,089\n",
            "Non-trainable params: 0\n",
            "_________________________________________________________________\n"
          ],
          "name": "stdout"
        }
      ]
    },
    {
      "cell_type": "code",
      "metadata": {
        "colab": {
          "base_uri": "https://localhost:8080/"
        },
        "id": "D4-xiN6RHsYq",
        "outputId": "79aefb37-d871-4b64-f2f5-246c1065ec30"
      },
      "source": [
        "# Fit the model\n",
        "\n",
        "model_5_history = model_5.fit(train_sentences,\n",
        "                              train_labels,\n",
        "                              epochs=5,\n",
        "                              validation_data=(val_sentences, val_labels),\n",
        "                              callbacks=[create_tensorboard_callback(SAVE_DIR,\n",
        "                                                                     \"Conv1D\")])"
      ],
      "execution_count": 173,
      "outputs": [
        {
          "output_type": "stream",
          "text": [
            "Saving TensorBoard log files to: model_logs/Conv1D/20210519-202913\n",
            "Epoch 1/5\n",
            "215/215 [==============================] - 5s 19ms/step - loss: 0.1830 - accuracy: 0.9476 - val_loss: 0.8956 - val_accuracy: 0.7703\n",
            "Epoch 2/5\n",
            "215/215 [==============================] - 3s 15ms/step - loss: 0.0698 - accuracy: 0.9741 - val_loss: 1.0371 - val_accuracy: 0.7638\n",
            "Epoch 3/5\n",
            "215/215 [==============================] - 3s 15ms/step - loss: 0.0572 - accuracy: 0.9761 - val_loss: 1.1357 - val_accuracy: 0.7585\n",
            "Epoch 4/5\n",
            "215/215 [==============================] - 3s 14ms/step - loss: 0.0506 - accuracy: 0.9794 - val_loss: 1.1316 - val_accuracy: 0.7638\n",
            "Epoch 5/5\n",
            "215/215 [==============================] - 3s 14ms/step - loss: 0.0498 - accuracy: 0.9787 - val_loss: 1.2012 - val_accuracy: 0.7612\n"
          ],
          "name": "stdout"
        }
      ]
    },
    {
      "cell_type": "code",
      "metadata": {
        "colab": {
          "base_uri": "https://localhost:8080/"
        },
        "id": "SyapDFAVIyOB",
        "outputId": "e5828a40-0c75-4c77-b5ba-31b66cbf7027"
      },
      "source": [
        "\n",
        "# Make some proedictions with our Conv1D model\n",
        "\n",
        "model_5_pred_probs = model_5.predict(val_sentences)\n",
        "model_5_pred_probs[:10]"
      ],
      "execution_count": 174,
      "outputs": [
        {
          "output_type": "execute_result",
          "data": {
            "text/plain": [
              "array([[5.7292217e-01],\n",
              "       [8.8474548e-01],\n",
              "       [9.9995613e-01],\n",
              "       [4.6378639e-02],\n",
              "       [2.3448832e-08],\n",
              "       [9.9603683e-01],\n",
              "       [9.7861302e-01],\n",
              "       [9.9998438e-01],\n",
              "       [9.9999952e-01],\n",
              "       [8.8569951e-01]], dtype=float32)"
            ]
          },
          "metadata": {
            "tags": []
          },
          "execution_count": 174
        }
      ]
    },
    {
      "cell_type": "code",
      "metadata": {
        "colab": {
          "base_uri": "https://localhost:8080/"
        },
        "id": "nrNAu1xnLIZP",
        "outputId": "9d283f0a-f77a-4c75-f9e8-134942d135b4"
      },
      "source": [
        "# Convert model 5 pred probs to labels\n",
        "\n",
        "\n",
        "model_5_pred = tf.squeeze(tf.round(model_5_pred_probs))\n",
        "\n",
        "model_5_pred[:10]"
      ],
      "execution_count": 175,
      "outputs": [
        {
          "output_type": "execute_result",
          "data": {
            "text/plain": [
              "<tf.Tensor: shape=(10,), dtype=float32, numpy=array([1., 1., 1., 0., 0., 1., 1., 1., 1., 1.], dtype=float32)>"
            ]
          },
          "metadata": {
            "tags": []
          },
          "execution_count": 175
        }
      ]
    },
    {
      "cell_type": "code",
      "metadata": {
        "colab": {
          "base_uri": "https://localhost:8080/"
        },
        "id": "IpLH_LRSLkOr",
        "outputId": "d3491834-03cb-49fe-d6f4-5a5e8aadf366"
      },
      "source": [
        "# Evaluate model 5 predictions\n",
        "model_5_results = calculate_results(y_true=val_labels,\n",
        "                                    y_pred=model_5_pred)\n",
        "\n",
        "model_5_results"
      ],
      "execution_count": 176,
      "outputs": [
        {
          "output_type": "execute_result",
          "data": {
            "text/plain": [
              "{'accuracy': 76.11548556430446,\n",
              " 'f1': 0.7603477266511175,\n",
              " 'precision': 0.7608241679589117,\n",
              " 'recall': 0.7611548556430446}"
            ]
          },
          "metadata": {
            "tags": []
          },
          "execution_count": 176
        }
      ]
    },
    {
      "cell_type": "code",
      "metadata": {
        "colab": {
          "base_uri": "https://localhost:8080/"
        },
        "id": "slnO4R_XMHFK",
        "outputId": "eadb2b64-1e7f-4ba1-edb8-4c6a09410c1c"
      },
      "source": [
        "baseline_results"
      ],
      "execution_count": 177,
      "outputs": [
        {
          "output_type": "execute_result",
          "data": {
            "text/plain": [
              "{'accuracy': 79.26509186351706,\n",
              " 'f1': 0.7862189758049549,\n",
              " 'precision': 0.8111390004213173,\n",
              " 'recall': 0.7926509186351706}"
            ]
          },
          "metadata": {
            "tags": []
          },
          "execution_count": 177
        }
      ]
    },
    {
      "cell_type": "markdown",
      "metadata": {
        "id": "yDej1NeMMLRG"
      },
      "source": [
        "## Model 6: TensorFlow Hub Pretrained Sentence Encoder\n",
        "\n",
        "Now we ve built a few of our own models, let s try and  use  TensorFlow hubs Universal Sentence econder: \n",
        "https://tfhub.dev/google/universal-sentence-encoder/4"
      ]
    },
    {
      "cell_type": "code",
      "metadata": {
        "colab": {
          "base_uri": "https://localhost:8080/",
          "height": 36
        },
        "id": "NB_2Y3oLVj2u",
        "outputId": "a14e47a6-8e61-419e-eb1e-bd90ce996669"
      },
      "source": [
        "sample_sentence"
      ],
      "execution_count": 183,
      "outputs": [
        {
          "output_type": "execute_result",
          "data": {
            "application/vnd.google.colaboratory.intrinsic+json": {
              "type": "string"
            },
            "text/plain": [
              "\"There's a flood in my street!\""
            ]
          },
          "metadata": {
            "tags": []
          },
          "execution_count": 183
        }
      ]
    },
    {
      "cell_type": "code",
      "metadata": {
        "id": "qApf6bcPO-0e",
        "colab": {
          "base_uri": "https://localhost:8080/"
        },
        "outputId": "e1039fce-0e47-4615-9fb5-6f6d8e2025c9"
      },
      "source": [
        "import tensorflow_hub as hub\n",
        "\n",
        "embed = hub.load(\"https://tfhub.dev/google/universal-sentence-encoder/4\")\n",
        "\n",
        "embed_samples = embed([sample_sentence,\n",
        "                       \"When you can the universal encoder on a sentence, it turns it into numbers.\"])\n",
        "\n",
        "print(embed_samples[0][:50])"
      ],
      "execution_count": 182,
      "outputs": [
        {
          "output_type": "stream",
          "text": [
            "WARNING:tensorflow:5 out of the last 5 calls to <function recreate_function.<locals>.restored_function_body at 0x7f2b09757a70> triggered tf.function retracing. Tracing is expensive and the excessive number of tracings could be due to (1) creating @tf.function repeatedly in a loop, (2) passing tensors with different shapes, (3) passing Python objects instead of tensors. For (1), please define your @tf.function outside of the loop. For (2), @tf.function has experimental_relax_shapes=True option that relaxes argument shapes that can avoid unnecessary retracing. For (3), please refer to https://www.tensorflow.org/guide/function#controlling_retracing and https://www.tensorflow.org/api_docs/python/tf/function for  more details.\n"
          ],
          "name": "stdout"
        },
        {
          "output_type": "stream",
          "text": [
            "WARNING:tensorflow:5 out of the last 5 calls to <function recreate_function.<locals>.restored_function_body at 0x7f2b09757a70> triggered tf.function retracing. Tracing is expensive and the excessive number of tracings could be due to (1) creating @tf.function repeatedly in a loop, (2) passing tensors with different shapes, (3) passing Python objects instead of tensors. For (1), please define your @tf.function outside of the loop. For (2), @tf.function has experimental_relax_shapes=True option that relaxes argument shapes that can avoid unnecessary retracing. For (3), please refer to https://www.tensorflow.org/guide/function#controlling_retracing and https://www.tensorflow.org/api_docs/python/tf/function for  more details.\n"
          ],
          "name": "stderr"
        },
        {
          "output_type": "stream",
          "text": [
            "tf.Tensor(\n",
            "[-0.01157027  0.02485911  0.02878048 -0.012715    0.03971538  0.08827761\n",
            "  0.02680985  0.05589839 -0.01068729 -0.00597292  0.00639323 -0.0181952\n",
            "  0.00030814  0.09105889  0.05874645 -0.03180628  0.01512474 -0.05162929\n",
            "  0.00991367 -0.06865346 -0.04209306  0.02678981  0.03011008  0.00321069\n",
            " -0.00337971 -0.04787357  0.02266719 -0.00985925 -0.04063613 -0.01292093\n",
            " -0.04666385  0.056303   -0.03949255  0.00517688  0.02495828 -0.07014441\n",
            "  0.02871509  0.04947684 -0.00633978 -0.08960193  0.02807117 -0.00808362\n",
            " -0.01360601  0.0599865  -0.10361787 -0.05195374  0.00232955 -0.0233253\n",
            " -0.03758106  0.0332773 ], shape=(50,), dtype=float32)\n"
          ],
          "name": "stdout"
        }
      ]
    },
    {
      "cell_type": "code",
      "metadata": {
        "colab": {
          "base_uri": "https://localhost:8080/"
        },
        "id": "hZZr2uoKTJUV",
        "outputId": "1f64f6a0-8023-4494-f97b-a36b2a3b88d5"
      },
      "source": [
        "# the universal sentence  enconder transforma las sentencias a un vector de  512\n",
        "embed_samples.shape "
      ],
      "execution_count": 185,
      "outputs": [
        {
          "output_type": "execute_result",
          "data": {
            "text/plain": [
              "TensorShape([2, 512])"
            ]
          },
          "metadata": {
            "tags": []
          },
          "execution_count": 185
        }
      ]
    },
    {
      "cell_type": "code",
      "metadata": {
        "colab": {
          "base_uri": "https://localhost:8080/"
        },
        "id": "H0yqReVlV3JW",
        "outputId": "6174b64f-e187-401d-a756-878e582ab0da"
      },
      "source": [
        "# Create a Keras  Layer using the USE pretrained layer from tensorflow hub\n",
        "\n",
        "sentence_enconder_layer = hub.KerasLayer(\"https://tfhub.dev/google/universal-sentence-encoder/4\",\n",
        "                                         \n",
        "                                         # la entrada en esta mmodelo puede ser variable\n",
        "                                         input_shape=[],\n",
        "                                         dtype=tf.string,\n",
        "                                         trainable=False,\n",
        "                                         name=\"USE\")"
      ],
      "execution_count": 186,
      "outputs": [
        {
          "output_type": "stream",
          "text": [
            "WARNING:tensorflow:6 out of the last 6 calls to <function recreate_function.<locals>.restored_function_body at 0x7f2b097a8440> triggered tf.function retracing. Tracing is expensive and the excessive number of tracings could be due to (1) creating @tf.function repeatedly in a loop, (2) passing tensors with different shapes, (3) passing Python objects instead of tensors. For (1), please define your @tf.function outside of the loop. For (2), @tf.function has experimental_relax_shapes=True option that relaxes argument shapes that can avoid unnecessary retracing. For (3), please refer to https://www.tensorflow.org/guide/function#controlling_retracing and https://www.tensorflow.org/api_docs/python/tf/function for  more details.\n"
          ],
          "name": "stdout"
        },
        {
          "output_type": "stream",
          "text": [
            "WARNING:tensorflow:6 out of the last 6 calls to <function recreate_function.<locals>.restored_function_body at 0x7f2b097a8440> triggered tf.function retracing. Tracing is expensive and the excessive number of tracings could be due to (1) creating @tf.function repeatedly in a loop, (2) passing tensors with different shapes, (3) passing Python objects instead of tensors. For (1), please define your @tf.function outside of the loop. For (2), @tf.function has experimental_relax_shapes=True option that relaxes argument shapes that can avoid unnecessary retracing. For (3), please refer to https://www.tensorflow.org/guide/function#controlling_retracing and https://www.tensorflow.org/api_docs/python/tf/function for  more details.\n"
          ],
          "name": "stderr"
        }
      ]
    },
    {
      "cell_type": "code",
      "metadata": {
        "colab": {
          "base_uri": "https://localhost:8080/"
        },
        "id": "VhP-d11KX_H8",
        "outputId": "023877ef-b068-4b3f-e787-772d6457acc8"
      },
      "source": [
        "# Create model using the Sequential API\n",
        "\n",
        "model_6 = tf.keras.Sequential([\n",
        "              sentence_enconder_layer,\n",
        "\n",
        "              layers.Dense(64, activation=\"relu\"),\n",
        "\n",
        "              layers.Dense(1,activation=\"sigmoid\")\n",
        "\n",
        "\n",
        "\n",
        "],name = \"model_6_USE\")\n",
        "\n",
        "# Compile \n",
        "\n",
        "model_6.compile(loss=\"binary_crossentropy\",\n",
        "                optimizer=tf.keras.optimizers.Adam(),\n",
        "                metrics=[\"accuracy\"])\n",
        "\n",
        "\n",
        "model_6.summary()"
      ],
      "execution_count": 197,
      "outputs": [
        {
          "output_type": "stream",
          "text": [
            "Model: \"model_6_USE\"\n",
            "_________________________________________________________________\n",
            "Layer (type)                 Output Shape              Param #   \n",
            "=================================================================\n",
            "USE (KerasLayer)             (None, 512)               256797824 \n",
            "_________________________________________________________________\n",
            "dense_10 (Dense)             (None, 64)                32832     \n",
            "_________________________________________________________________\n",
            "dense_11 (Dense)             (None, 1)                 65        \n",
            "=================================================================\n",
            "Total params: 256,830,721\n",
            "Trainable params: 32,897\n",
            "Non-trainable params: 256,797,824\n",
            "_________________________________________________________________\n"
          ],
          "name": "stdout"
        }
      ]
    },
    {
      "cell_type": "code",
      "metadata": {
        "colab": {
          "base_uri": "https://localhost:8080/"
        },
        "id": "ydpJHb4qZpvg",
        "outputId": "bf48798a-52cf-4095-dcc7-975f58a01ec5"
      },
      "source": [
        "# Train  a classifier on top of USE pretrained embedding\n",
        "\n",
        "model_6_history = model_6.fit(train_sentences,\n",
        "                              train_labels,\n",
        "                              epochs=5,\n",
        "                              validation_data=(val_sentences, val_labels ),\n",
        "                              callbacks=[create_tensorboard_callback(SAVE_DIR,\n",
        "                                                                     \"tf_hub_sentence_encoder\")])"
      ],
      "execution_count": 198,
      "outputs": [
        {
          "output_type": "stream",
          "text": [
            "Saving TensorBoard log files to: model_logs/tf_hub_sentence_encoder/20210519-210614\n",
            "Epoch 1/5\n",
            "215/215 [==============================] - 4s 16ms/step - loss: 0.5801 - accuracy: 0.7301 - val_loss: 0.4525 - val_accuracy: 0.7953\n",
            "Epoch 2/5\n",
            "215/215 [==============================] - 2s 10ms/step - loss: 0.4147 - accuracy: 0.8127 - val_loss: 0.4382 - val_accuracy: 0.8110\n",
            "Epoch 3/5\n",
            "215/215 [==============================] - 2s 10ms/step - loss: 0.4014 - accuracy: 0.8196 - val_loss: 0.4327 - val_accuracy: 0.8150\n",
            "Epoch 4/5\n",
            "215/215 [==============================] - 2s 10ms/step - loss: 0.3890 - accuracy: 0.8276 - val_loss: 0.4325 - val_accuracy: 0.8150\n",
            "Epoch 5/5\n",
            "215/215 [==============================] - 2s 10ms/step - loss: 0.3821 - accuracy: 0.8331 - val_loss: 0.4294 - val_accuracy: 0.8150\n"
          ],
          "name": "stdout"
        }
      ]
    },
    {
      "cell_type": "code",
      "metadata": {
        "colab": {
          "base_uri": "https://localhost:8080/"
        },
        "id": "NlmJH9Xqalw9",
        "outputId": "93b5bc8a-1bdb-48d6-e91c-62ecaefa2901"
      },
      "source": [
        "# Make predictions with USE TF Hub Model\n",
        "\n",
        "model_6_pred_probs = model_6.predict(val_sentences)\n",
        "\n",
        "model_6_pred_probs[:10]\n"
      ],
      "execution_count": 199,
      "outputs": [
        {
          "output_type": "execute_result",
          "data": {
            "text/plain": [
              "array([[0.21274607],\n",
              "       [0.8047888 ],\n",
              "       [0.9883769 ],\n",
              "       [0.21002233],\n",
              "       [0.73464936],\n",
              "       [0.7433437 ],\n",
              "       [0.98213875],\n",
              "       [0.9802198 ],\n",
              "       [0.9480369 ],\n",
              "       [0.09805269]], dtype=float32)"
            ]
          },
          "metadata": {
            "tags": []
          },
          "execution_count": 199
        }
      ]
    },
    {
      "cell_type": "code",
      "metadata": {
        "colab": {
          "base_uri": "https://localhost:8080/"
        },
        "id": "7sALQnztbFGX",
        "outputId": "ae1d23a7-0466-4b27-8558-9be358c2697f"
      },
      "source": [
        "# Covert prediction  probabilities to labels\n",
        "\n",
        "model_6_preds = tf.squeeze(tf.round(model_6_pred_probs))\n",
        "model_6_preds[:10]"
      ],
      "execution_count": 200,
      "outputs": [
        {
          "output_type": "execute_result",
          "data": {
            "text/plain": [
              "<tf.Tensor: shape=(10,), dtype=float32, numpy=array([0., 1., 1., 0., 1., 1., 1., 1., 1., 0.], dtype=float32)>"
            ]
          },
          "metadata": {
            "tags": []
          },
          "execution_count": 200
        }
      ]
    },
    {
      "cell_type": "code",
      "metadata": {
        "colab": {
          "base_uri": "https://localhost:8080/"
        },
        "id": "br_v83JRbVoM",
        "outputId": "19b442e4-aa90-4508-c0df-bef906076e49"
      },
      "source": [
        "val_labels"
      ],
      "execution_count": 201,
      "outputs": [
        {
          "output_type": "execute_result",
          "data": {
            "text/plain": [
              "array([0, 0, 1, 1, 1, 1, 1, 1, 1, 0, 0, 0, 0, 0, 0, 0, 0, 0, 1, 0, 1, 1,\n",
              "       1, 1, 1, 1, 0, 0, 0, 0, 1, 0, 0, 0, 1, 0, 1, 0, 1, 1, 1, 0, 1, 0,\n",
              "       0, 1, 0, 1, 0, 0, 0, 1, 0, 0, 0, 0, 0, 1, 1, 1, 0, 1, 1, 1, 1, 1,\n",
              "       1, 0, 0, 1, 0, 0, 1, 0, 0, 1, 0, 1, 0, 1, 0, 0, 1, 0, 1, 1, 0, 0,\n",
              "       1, 1, 1, 0, 0, 0, 1, 1, 1, 1, 1, 1, 1, 0, 0, 1, 1, 0, 1, 1, 0, 0,\n",
              "       1, 0, 0, 0, 0, 0, 0, 0, 1, 0, 1, 1, 1, 1, 1, 0, 0, 1, 0, 0, 0, 1,\n",
              "       1, 1, 1, 1, 1, 0, 0, 0, 1, 0, 0, 1, 0, 1, 0, 0, 0, 1, 0, 0, 0, 0,\n",
              "       0, 1, 0, 0, 1, 0, 1, 0, 0, 1, 0, 0, 1, 0, 1, 0, 1, 1, 1, 0, 1, 0,\n",
              "       1, 1, 1, 1, 0, 0, 0, 1, 1, 0, 0, 1, 0, 0, 0, 1, 1, 0, 0, 0, 0, 1,\n",
              "       1, 0, 0, 1, 1, 0, 0, 1, 0, 1, 1, 0, 0, 1, 0, 0, 0, 0, 1, 1, 1, 0,\n",
              "       1, 1, 0, 0, 1, 0, 1, 1, 1, 0, 1, 1, 1, 1, 0, 0, 0, 0, 1, 0, 1, 1,\n",
              "       1, 1, 1, 0, 1, 0, 1, 1, 1, 0, 0, 0, 1, 0, 1, 1, 1, 0, 1, 1, 1, 1,\n",
              "       1, 1, 1, 0, 0, 0, 0, 0, 1, 0, 1, 1, 0, 0, 1, 0, 0, 0, 1, 0, 0, 0,\n",
              "       1, 1, 1, 0, 1, 0, 0, 1, 1, 1, 1, 1, 0, 0, 0, 0, 0, 0, 0, 0, 1, 0,\n",
              "       0, 0, 0, 1, 1, 0, 1, 0, 1, 0, 0, 0, 0, 0, 1, 0, 1, 0, 0, 1, 0, 1,\n",
              "       1, 0, 1, 1, 0, 1, 0, 0, 1, 1, 0, 0, 1, 1, 0, 1, 0, 0, 0, 0, 0, 0,\n",
              "       1, 0, 1, 0, 1, 1, 1, 0, 0, 1, 1, 1, 1, 0, 0, 0, 0, 0, 1, 0, 0, 1,\n",
              "       0, 0, 1, 0, 0, 1, 1, 0, 1, 0, 0, 1, 1, 0, 1, 0, 1, 0, 0, 0, 1, 1,\n",
              "       0, 0, 0, 0, 1, 0, 1, 1, 0, 1, 0, 1, 1, 0, 1, 1, 0, 1, 1, 1, 0, 1,\n",
              "       0, 0, 1, 1, 1, 1, 0, 1, 0, 1, 1, 1, 0, 0, 0, 0, 1, 1, 0, 0, 1, 1,\n",
              "       0, 1, 0, 0, 1, 1, 0, 0, 0, 0, 0, 1, 1, 1, 1, 1, 0, 1, 0, 1, 1, 0,\n",
              "       0, 1, 1, 1, 1, 0, 1, 0, 0, 1, 0, 0, 0, 1, 1, 1, 0, 0, 0, 0, 0, 1,\n",
              "       0, 1, 1, 0, 0, 0, 0, 1, 1, 0, 0, 0, 0, 1, 0, 1, 1, 0, 1, 1, 0, 1,\n",
              "       0, 1, 0, 0, 0, 0, 0, 1, 1, 0, 1, 1, 1, 1, 0, 0, 1, 1, 0, 0, 0, 0,\n",
              "       1, 1, 1, 1, 0, 0, 1, 1, 1, 0, 0, 0, 0, 1, 0, 0, 0, 1, 0, 1, 1, 0,\n",
              "       1, 1, 0, 1, 0, 1, 0, 1, 0, 0, 0, 0, 1, 1, 1, 0, 1, 0, 0, 0, 1, 1,\n",
              "       1, 1, 0, 1, 0, 0, 1, 0, 0, 0, 1, 0, 0, 1, 1, 0, 0, 0, 0, 0, 1, 0,\n",
              "       0, 1, 0, 1, 1, 0, 0, 0, 1, 1, 1, 0, 0, 0, 0, 1, 0, 1, 0, 1, 1, 0,\n",
              "       0, 1, 0, 0, 1, 0, 1, 0, 1, 1, 0, 1, 0, 0, 0, 1, 1, 1, 1, 0, 1, 0,\n",
              "       1, 1, 1, 1, 1, 0, 0, 0, 0, 0, 1, 1, 1, 0, 0, 0, 0, 0, 0, 1, 0, 1,\n",
              "       0, 0, 1, 1, 0, 0, 0, 0, 1, 1, 0, 0, 0, 0, 1, 0, 1, 1, 0, 0, 0, 1,\n",
              "       0, 1, 0, 1, 0, 1, 0, 0, 1, 1, 0, 0, 1, 0, 1, 1, 0, 0, 0, 0, 1, 0,\n",
              "       1, 0, 1, 0, 0, 0, 0, 0, 0, 0, 0, 0, 0, 0, 0, 0, 1, 0, 1, 1, 0, 0,\n",
              "       0, 0, 1, 0, 0, 1, 1, 1, 1, 1, 0, 0, 0, 1, 1, 0, 0, 0, 1, 1, 0, 0,\n",
              "       0, 0, 0, 1, 1, 0, 1, 1, 0, 0, 0, 0, 0, 0])"
            ]
          },
          "metadata": {
            "tags": []
          },
          "execution_count": 201
        }
      ]
    },
    {
      "cell_type": "code",
      "metadata": {
        "colab": {
          "base_uri": "https://localhost:8080/"
        },
        "id": "mziiu4d0bYJm",
        "outputId": "a213b6bc-c200-4eb3-e496-9eaad06e484c"
      },
      "source": [
        "# Calculate model 6 perfomance metrics\n",
        "\n",
        "model_6_results = calculate_results(y_true=val_labels,\n",
        "                                    y_pred=model_6_preds)\n",
        "\n",
        "model_6_results"
      ],
      "execution_count": 202,
      "outputs": [
        {
          "output_type": "execute_result",
          "data": {
            "text/plain": [
              "{'accuracy': 81.49606299212599,\n",
              " 'f1': 0.8136303789632117,\n",
              " 'precision': 0.8166816944448522,\n",
              " 'recall': 0.8149606299212598}"
            ]
          },
          "metadata": {
            "tags": []
          },
          "execution_count": 202
        }
      ]
    },
    {
      "cell_type": "code",
      "metadata": {
        "colab": {
          "base_uri": "https://localhost:8080/"
        },
        "id": "Y0k7tVbDbwep",
        "outputId": "24d749e4-eafc-448e-97d5-149eb6f66609"
      },
      "source": [
        "baseline_results"
      ],
      "execution_count": 203,
      "outputs": [
        {
          "output_type": "execute_result",
          "data": {
            "text/plain": [
              "{'accuracy': 79.26509186351706,\n",
              " 'f1': 0.7862189758049549,\n",
              " 'precision': 0.8111390004213173,\n",
              " 'recall': 0.7926509186351706}"
            ]
          },
          "metadata": {
            "tags": []
          },
          "execution_count": 203
        }
      ]
    },
    {
      "cell_type": "code",
      "metadata": {
        "colab": {
          "base_uri": "https://localhost:8080/"
        },
        "id": "VlIp-a0qb372",
        "outputId": "5d8c6f99-fa33-4743-93a6-3af6847b2f36"
      },
      "source": [
        "len(train_df)"
      ],
      "execution_count": 205,
      "outputs": [
        {
          "output_type": "execute_result",
          "data": {
            "text/plain": [
              "7613"
            ]
          },
          "metadata": {
            "tags": []
          },
          "execution_count": 205
        }
      ]
    },
    {
      "cell_type": "markdown",
      "metadata": {
        "id": "vZzPG40edME_"
      },
      "source": [
        "# Model 7: Tf Hub Pretrained USE but with 10% of training data \n",
        "\n",
        "Transfer learning really helps when you don't have a large dataset.\n",
        "\n",
        "To see how our model perfoms on smaller dataset, let's replicate ` model 6` except we'll train it on 10 % of the data\n",
        "\n"
      ]
    },
    {
      "cell_type": "code",
      "metadata": {
        "colab": {
          "base_uri": "https://localhost:8080/",
          "height": 293
        },
        "id": "yPjzwJvsesH1",
        "outputId": "aa293ede-b173-4893-a504-28a2fa6fc37e"
      },
      "source": [
        "\n",
        "\n",
        "# Create subsets of 10% of the training data\n",
        "\n",
        "train_df_shuffled.head()"
      ],
      "execution_count": 206,
      "outputs": [
        {
          "output_type": "execute_result",
          "data": {
            "text/html": [
              "<div>\n",
              "<style scoped>\n",
              "    .dataframe tbody tr th:only-of-type {\n",
              "        vertical-align: middle;\n",
              "    }\n",
              "\n",
              "    .dataframe tbody tr th {\n",
              "        vertical-align: top;\n",
              "    }\n",
              "\n",
              "    .dataframe thead th {\n",
              "        text-align: right;\n",
              "    }\n",
              "</style>\n",
              "<table border=\"1\" class=\"dataframe\">\n",
              "  <thead>\n",
              "    <tr style=\"text-align: right;\">\n",
              "      <th></th>\n",
              "      <th>id</th>\n",
              "      <th>keyword</th>\n",
              "      <th>location</th>\n",
              "      <th>text</th>\n",
              "      <th>target</th>\n",
              "    </tr>\n",
              "  </thead>\n",
              "  <tbody>\n",
              "    <tr>\n",
              "      <th>2644</th>\n",
              "      <td>3796</td>\n",
              "      <td>destruction</td>\n",
              "      <td>NaN</td>\n",
              "      <td>So you have a new weapon that can cause un-ima...</td>\n",
              "      <td>1</td>\n",
              "    </tr>\n",
              "    <tr>\n",
              "      <th>2227</th>\n",
              "      <td>3185</td>\n",
              "      <td>deluge</td>\n",
              "      <td>NaN</td>\n",
              "      <td>The f$&amp;amp;@ing things I do for #GISHWHES Just...</td>\n",
              "      <td>0</td>\n",
              "    </tr>\n",
              "    <tr>\n",
              "      <th>5448</th>\n",
              "      <td>7769</td>\n",
              "      <td>police</td>\n",
              "      <td>UK</td>\n",
              "      <td>DT @georgegalloway: RT @Galloway4Mayor: ÛÏThe...</td>\n",
              "      <td>1</td>\n",
              "    </tr>\n",
              "    <tr>\n",
              "      <th>132</th>\n",
              "      <td>191</td>\n",
              "      <td>aftershock</td>\n",
              "      <td>NaN</td>\n",
              "      <td>Aftershock back to school kick off was great. ...</td>\n",
              "      <td>0</td>\n",
              "    </tr>\n",
              "    <tr>\n",
              "      <th>6845</th>\n",
              "      <td>9810</td>\n",
              "      <td>trauma</td>\n",
              "      <td>Montgomery County, MD</td>\n",
              "      <td>in response to trauma Children of Addicts deve...</td>\n",
              "      <td>0</td>\n",
              "    </tr>\n",
              "  </tbody>\n",
              "</table>\n",
              "</div>"
            ],
            "text/plain": [
              "        id  ... target\n",
              "2644  3796  ...      1\n",
              "2227  3185  ...      0\n",
              "5448  7769  ...      1\n",
              "132    191  ...      0\n",
              "6845  9810  ...      0\n",
              "\n",
              "[5 rows x 5 columns]"
            ]
          },
          "metadata": {
            "tags": []
          },
          "execution_count": 206
        }
      ]
    },
    {
      "cell_type": "code",
      "metadata": {
        "colab": {
          "base_uri": "https://localhost:8080/"
        },
        "id": "KOB59uRKfB4_",
        "outputId": "ce19dc40-e084-4339-9020-4e9d93dcc1ca"
      },
      "source": [
        "## NOTE: Making data splits like below leads to data leakage(model_7 trained on 10% data, outperforms model_6 trained on 100% data)\n",
        "\n",
        "## DO NOT MAKE DATA SPLITS WHICH LEAK DATA FROM VALIDATION/TEST SETS INTO TRAINING SET\n",
        "\n",
        "\n",
        "\n",
        "\n",
        "# train_10_percent = train_df_shuffled[[\"text\", \"target\"]].sample(frac=0.1, random_state=42)\n",
        "\n",
        "# train_sentences_10_percent = train_10_percent[\"text\"].to_list()\n",
        "\n",
        "# train_labels_10_percent =  train_10_percent[\"target\"].to_list()\n",
        "\n",
        "# len(train_sentences_10_percent), len(train_labels_10_percent)\n",
        "\n"
      ],
      "execution_count": 207,
      "outputs": [
        {
          "output_type": "execute_result",
          "data": {
            "text/plain": [
              "(761, 761)"
            ]
          },
          "metadata": {
            "tags": []
          },
          "execution_count": 207
        }
      ]
    },
    {
      "cell_type": "markdown",
      "metadata": {
        "id": "fnbIzpjju1vD"
      },
      "source": [
        "**Note:** Be \"very\" carefull when creating training/val/test splits that you don't leak data across the datasets,otherwise your model evaluation metrics will be wrong. IF something looks too good to be true ( a model trained on 10% of data outperforming the same model trained on 100% of data) trust yout gut and go back through to find where the error may lie.\n"
      ]
    },
    {
      "cell_type": "code",
      "metadata": {
        "colab": {
          "base_uri": "https://localhost:8080/"
        },
        "id": "PLf-kkMDrUif",
        "outputId": "ffbdfef4-506d-4094-db1a-0314dd54c919"
      },
      "source": [
        "# Making a better dataset split( no data leakage)\n",
        "\n",
        "train_10_percent_split = int(0.1 * len(train_sentences))\n",
        "\n",
        "train_sentences_10_percent = train_sentences[:train_10_percent_split]\n",
        "train_labels_10_percent = train_labels[:train_10_percent_split]\n",
        "len(train_sentences_10_percent), len(train_labels_10_percent)\n"
      ],
      "execution_count": 220,
      "outputs": [
        {
          "output_type": "execute_result",
          "data": {
            "text/plain": [
              "(685, 685)"
            ]
          },
          "metadata": {
            "tags": []
          },
          "execution_count": 220
        }
      ]
    },
    {
      "cell_type": "code",
      "metadata": {
        "colab": {
          "base_uri": "https://localhost:8080/"
        },
        "id": "RqmaVji-sLy7",
        "outputId": "ef150795-94cd-402a-f079-cc4f72d7e3ac"
      },
      "source": [
        "# Check the number of each label in the updated training data subset\n",
        "\n",
        "pd.Series(np.array(train_labels_10_percent)).value_counts()"
      ],
      "execution_count": 224,
      "outputs": [
        {
          "output_type": "execute_result",
          "data": {
            "text/plain": [
              "0    406\n",
              "1    279\n",
              "dtype: int64"
            ]
          },
          "metadata": {
            "tags": []
          },
          "execution_count": 224
        }
      ]
    },
    {
      "cell_type": "code",
      "metadata": {
        "colab": {
          "base_uri": "https://localhost:8080/"
        },
        "id": "wkUceFFAr2WA",
        "outputId": "7a8f7845-596b-43d9-86e6-68680bcc2be2"
      },
      "source": [
        "len(train_sentences)"
      ],
      "execution_count": 217,
      "outputs": [
        {
          "output_type": "execute_result",
          "data": {
            "text/plain": [
              "6851"
            ]
          },
          "metadata": {
            "tags": []
          },
          "execution_count": 217
        }
      ]
    },
    {
      "cell_type": "code",
      "metadata": {
        "colab": {
          "base_uri": "https://localhost:8080/"
        },
        "id": "LPuvkK6zgO-_",
        "outputId": "416b79b7-8db0-4e18-86c4-25ce89926d80"
      },
      "source": [
        "# Check the number of targets in our subset of data\n",
        "# verficamos el ratio para ver si es un subconjunto representativo\n",
        "train_10_percent[\"target\"].value_counts()"
      ],
      "execution_count": 208,
      "outputs": [
        {
          "output_type": "execute_result",
          "data": {
            "text/plain": [
              "0    413\n",
              "1    348\n",
              "Name: target, dtype: int64"
            ]
          },
          "metadata": {
            "tags": []
          },
          "execution_count": 208
        }
      ]
    },
    {
      "cell_type": "code",
      "metadata": {
        "colab": {
          "base_uri": "https://localhost:8080/"
        },
        "id": "Qn5yPNnPgxnv",
        "outputId": "37c2d633-761c-46d3-d33b-316e822fc9fe"
      },
      "source": [
        "train_df_shuffled[\"target\"].value_counts()"
      ],
      "execution_count": 209,
      "outputs": [
        {
          "output_type": "execute_result",
          "data": {
            "text/plain": [
              "0    4342\n",
              "1    3271\n",
              "Name: target, dtype: int64"
            ]
          },
          "metadata": {
            "tags": []
          },
          "execution_count": 209
        }
      ]
    },
    {
      "cell_type": "markdown",
      "metadata": {
        "id": "myzPXopah3Cl"
      },
      "source": [
        "To recreate a model the same to a as a previous model you've created you can use the `tf.keras.models.clone_model()`\n",
        "\n",
        "\n"
      ]
    },
    {
      "cell_type": "code",
      "metadata": {
        "colab": {
          "base_uri": "https://localhost:8080/"
        },
        "id": "ctXVgiswg8rN",
        "outputId": "4456bb33-bca6-456c-aaae-0618af77712d"
      },
      "source": [
        "# Let's build a model the same as model_6\n",
        "#model_7 = tf.keras.models.clone_model(model_6)\n",
        "\n",
        "model_7 = tf.keras.Sequential([\n",
        "              sentence_enconder_layer,\n",
        "\n",
        "              layers.Dense(64, activation=\"relu\"),\n",
        "\n",
        "              layers.Dense(1,activation=\"sigmoid\")\n",
        "\n",
        "\n",
        "\n",
        "],name = \"model_7_USE\")\n",
        "\n",
        "# compile model\n",
        "\n",
        "model_7.compile(loss=\"binary_crossentropy\",\n",
        "                optimizer=tf.keras.optimizers.Adam(),\n",
        "                metrics=[\"accuracy\"])\n",
        "\n",
        "\n",
        "\n",
        "# Get a summary(will be same as model_6)\n",
        "\n",
        "model_7.summary()"
      ],
      "execution_count": 225,
      "outputs": [
        {
          "output_type": "stream",
          "text": [
            "Model: \"model_7_USE\"\n",
            "_________________________________________________________________\n",
            "Layer (type)                 Output Shape              Param #   \n",
            "=================================================================\n",
            "USE (KerasLayer)             (None, 512)               256797824 \n",
            "_________________________________________________________________\n",
            "dense_14 (Dense)             (None, 64)                32832     \n",
            "_________________________________________________________________\n",
            "dense_15 (Dense)             (None, 1)                 65        \n",
            "=================================================================\n",
            "Total params: 256,830,721\n",
            "Trainable params: 32,897\n",
            "Non-trainable params: 256,797,824\n",
            "_________________________________________________________________\n"
          ],
          "name": "stdout"
        }
      ]
    },
    {
      "cell_type": "code",
      "metadata": {
        "colab": {
          "base_uri": "https://localhost:8080/"
        },
        "id": "vmGX6c8yjXxm",
        "outputId": "d7b9c0b6-d4e6-45df-e489-6b2b62d7d44f"
      },
      "source": [
        "# Fit the model to the 10% training data subsets\n",
        "\n",
        "model_7_history = model_7.fit(train_sentences_10_percent,\n",
        "                              train_labels_10_percent,\n",
        "                              epochs=5,\n",
        "                              validation_data=(val_sentences, val_labels),\n",
        "                              callbacks=[create_tensorboard_callback(SAVE_DIR,\n",
        "                                                                     \"tf_hub_sentence_encoder_10_percent_correct_split\")])"
      ],
      "execution_count": 226,
      "outputs": [
        {
          "output_type": "stream",
          "text": [
            "Saving TensorBoard log files to: model_logs/tf_hub_sentence_encoder_10_percent_correct_split/20210519-222537\n",
            "Epoch 1/5\n",
            "22/22 [==============================] - 3s 89ms/step - loss: 0.6793 - accuracy: 0.6393 - val_loss: 0.6437 - val_accuracy: 0.7270\n",
            "Epoch 2/5\n",
            "22/22 [==============================] - 0s 20ms/step - loss: 0.6076 - accuracy: 0.8085 - val_loss: 0.5851 - val_accuracy: 0.7743\n",
            "Epoch 3/5\n",
            "22/22 [==============================] - 0s 20ms/step - loss: 0.5323 - accuracy: 0.8202 - val_loss: 0.5347 - val_accuracy: 0.7835\n",
            "Epoch 4/5\n",
            "22/22 [==============================] - 0s 19ms/step - loss: 0.4855 - accuracy: 0.8191 - val_loss: 0.5056 - val_accuracy: 0.7822\n",
            "Epoch 5/5\n",
            "22/22 [==============================] - 0s 19ms/step - loss: 0.4279 - accuracy: 0.8355 - val_loss: 0.4899 - val_accuracy: 0.7756\n"
          ],
          "name": "stdout"
        }
      ]
    },
    {
      "cell_type": "code",
      "metadata": {
        "colab": {
          "base_uri": "https://localhost:8080/"
        },
        "id": "fdjdvI6SlGkW",
        "outputId": "29eb2493-e895-461a-a37e-1a690e007a7e"
      },
      "source": [
        "# Make predictions with the model trained on 10% of the data\n",
        "model_7_pred_probs = model_7.predict(val_sentences)\n",
        "\n",
        "model_7_pred_probs[:10]\n"
      ],
      "execution_count": 227,
      "outputs": [
        {
          "output_type": "execute_result",
          "data": {
            "text/plain": [
              "array([[0.20899825],\n",
              "       [0.59499437],\n",
              "       [0.9201053 ],\n",
              "       [0.37378317],\n",
              "       [0.54206306],\n",
              "       [0.67855227],\n",
              "       [0.8781928 ],\n",
              "       [0.80955833],\n",
              "       [0.8391253 ],\n",
              "       [0.15685485]], dtype=float32)"
            ]
          },
          "metadata": {
            "tags": []
          },
          "execution_count": 227
        }
      ]
    },
    {
      "cell_type": "code",
      "metadata": {
        "colab": {
          "base_uri": "https://localhost:8080/"
        },
        "id": "OzJld4_VlpJ9",
        "outputId": "e8b683f2-4000-463c-eeba-ee7591408a2b"
      },
      "source": [
        "# Turn pred probs into labels\n",
        "\n",
        "model_7_preds = tf.squeeze(tf.round(model_7_pred_probs))\n",
        "\n",
        "model_7_preds[:10]\n"
      ],
      "execution_count": 228,
      "outputs": [
        {
          "output_type": "execute_result",
          "data": {
            "text/plain": [
              "<tf.Tensor: shape=(10,), dtype=float32, numpy=array([0., 1., 1., 0., 1., 1., 1., 1., 1., 0.], dtype=float32)>"
            ]
          },
          "metadata": {
            "tags": []
          },
          "execution_count": 228
        }
      ]
    },
    {
      "cell_type": "code",
      "metadata": {
        "colab": {
          "base_uri": "https://localhost:8080/"
        },
        "id": "2yU-WM3yl7fG",
        "outputId": "0c730ec6-7011-4012-d53c-f17833fb721d"
      },
      "source": [
        "# Evaluate model 7 predictions\n",
        "\n",
        "model_7_results = calculate_results(y_true=val_labels,\n",
        "                                    y_pred=model_7_preds)\n",
        "\n",
        "model_7_results"
      ],
      "execution_count": 229,
      "outputs": [
        {
          "output_type": "execute_result",
          "data": {
            "text/plain": [
              "{'accuracy': 77.55905511811024,\n",
              " 'f1': 0.7737412623092624,\n",
              " 'precision': 0.7769617885542762,\n",
              " 'recall': 0.7755905511811023}"
            ]
          },
          "metadata": {
            "tags": []
          },
          "execution_count": 229
        }
      ]
    },
    {
      "cell_type": "code",
      "metadata": {
        "colab": {
          "base_uri": "https://localhost:8080/"
        },
        "id": "xgBWnYBfuqy3",
        "outputId": "e6b41197-f582-40ea-bc33-1d23548d0304"
      },
      "source": [
        "model_6_results"
      ],
      "execution_count": 231,
      "outputs": [
        {
          "output_type": "execute_result",
          "data": {
            "text/plain": [
              "{'accuracy': 81.49606299212599,\n",
              " 'f1': 0.8136303789632117,\n",
              " 'precision': 0.8166816944448522,\n",
              " 'recall': 0.8149606299212598}"
            ]
          },
          "metadata": {
            "tags": []
          },
          "execution_count": 231
        }
      ]
    },
    {
      "cell_type": "code",
      "metadata": {
        "id": "Lq278L9HmRTe"
      },
      "source": [
        "# hay que tener cuidado cuando separamos el data set para evitar data leakage (filtracion) y tner por tanto resultados erroes como el del modelo 7 de arriba\n",
        "\n"
      ],
      "execution_count": 230,
      "outputs": []
    },
    {
      "cell_type": "markdown",
      "metadata": {
        "id": "3xu6S83GulcF"
      },
      "source": [
        "## Comparing the perfomance of each of our models"
      ]
    },
    {
      "cell_type": "code",
      "metadata": {
        "id": "GtQ5LpFewrle"
      },
      "source": [
        "# Combine model results into a DataFrame \n",
        "\n",
        "all_model_results = pd.DataFrame(\n",
        "    \n",
        "    {\"0_baseline\": baseline_results,\n",
        "     \"1_simple_dense\":model_1_results,\n",
        "     \"2_lstm\": model_2_results,\n",
        "     \"3_gru\": model_3_results,\n",
        "     \"4_bidirectional\": model_4_results,\n",
        "     \"5_conv1d\": model_5_results,\n",
        "     \"6_tf_hub_use_encoder\": model_6_results,\n",
        "     \"7_tf_hub_use_enconder_10_percent\":model_7_results\n",
        "                                  \n",
        "                                  \n",
        "                                  \n",
        "                                  },\n",
        "                                 \n",
        "                                 \n",
        "                                 \n",
        "                                 )"
      ],
      "execution_count": 232,
      "outputs": []
    },
    {
      "cell_type": "code",
      "metadata": {
        "id": "7_VF2GPdyM4u"
      },
      "source": [
        "all_model_results= all_model_results.transpose()"
      ],
      "execution_count": 236,
      "outputs": []
    },
    {
      "cell_type": "code",
      "metadata": {
        "id": "Teht4kOTyT4x"
      },
      "source": [
        "# Reduce the accuracy to the same scale as other metrics\n",
        "all_model_results[\"accuracy\"] = all_model_results[\"accuracy\"]/100\n",
        "\n",
        "\n",
        "\n",
        "\n",
        "\n",
        "\n"
      ],
      "execution_count": 237,
      "outputs": []
    },
    {
      "cell_type": "code",
      "metadata": {
        "colab": {
          "base_uri": "https://localhost:8080/",
          "height": 206
        },
        "id": "CTqX1BGdzJgR",
        "outputId": "546034fe-42ce-45ed-9497-0a8d0803e518"
      },
      "source": [
        "all_model_results.head()"
      ],
      "execution_count": 238,
      "outputs": [
        {
          "output_type": "execute_result",
          "data": {
            "text/html": [
              "<div>\n",
              "<style scoped>\n",
              "    .dataframe tbody tr th:only-of-type {\n",
              "        vertical-align: middle;\n",
              "    }\n",
              "\n",
              "    .dataframe tbody tr th {\n",
              "        vertical-align: top;\n",
              "    }\n",
              "\n",
              "    .dataframe thead th {\n",
              "        text-align: right;\n",
              "    }\n",
              "</style>\n",
              "<table border=\"1\" class=\"dataframe\">\n",
              "  <thead>\n",
              "    <tr style=\"text-align: right;\">\n",
              "      <th></th>\n",
              "      <th>accuracy</th>\n",
              "      <th>precision</th>\n",
              "      <th>recall</th>\n",
              "      <th>f1</th>\n",
              "    </tr>\n",
              "  </thead>\n",
              "  <tbody>\n",
              "    <tr>\n",
              "      <th>0_baseline</th>\n",
              "      <td>0.792651</td>\n",
              "      <td>0.811139</td>\n",
              "      <td>0.792651</td>\n",
              "      <td>0.786219</td>\n",
              "    </tr>\n",
              "    <tr>\n",
              "      <th>1_simple_dense</th>\n",
              "      <td>0.787402</td>\n",
              "      <td>0.794218</td>\n",
              "      <td>0.787402</td>\n",
              "      <td>0.783801</td>\n",
              "    </tr>\n",
              "    <tr>\n",
              "      <th>2_lstm</th>\n",
              "      <td>0.771654</td>\n",
              "      <td>0.771784</td>\n",
              "      <td>0.771654</td>\n",
              "      <td>0.770503</td>\n",
              "    </tr>\n",
              "    <tr>\n",
              "      <th>3_gru</th>\n",
              "      <td>0.771654</td>\n",
              "      <td>0.771358</td>\n",
              "      <td>0.771654</td>\n",
              "      <td>0.770968</td>\n",
              "    </tr>\n",
              "    <tr>\n",
              "      <th>4_bidirectional</th>\n",
              "      <td>0.761155</td>\n",
              "      <td>0.761042</td>\n",
              "      <td>0.761155</td>\n",
              "      <td>0.760055</td>\n",
              "    </tr>\n",
              "  </tbody>\n",
              "</table>\n",
              "</div>"
            ],
            "text/plain": [
              "                 accuracy  precision    recall        f1\n",
              "0_baseline       0.792651   0.811139  0.792651  0.786219\n",
              "1_simple_dense   0.787402   0.794218  0.787402  0.783801\n",
              "2_lstm           0.771654   0.771784  0.771654  0.770503\n",
              "3_gru            0.771654   0.771358  0.771654  0.770968\n",
              "4_bidirectional  0.761155   0.761042  0.761155  0.760055"
            ]
          },
          "metadata": {
            "tags": []
          },
          "execution_count": 238
        }
      ]
    },
    {
      "cell_type": "code",
      "metadata": {
        "colab": {
          "base_uri": "https://localhost:8080/",
          "height": 553
        },
        "id": "V8tc5xnmzbtf",
        "outputId": "70820a17-f1a7-4d2f-f43c-0cb49eaa58bb"
      },
      "source": [
        "# Plot and compare all of the model results\n",
        "\n",
        "all_model_results.plot(kind=\"bar\", figsize=(10, 7)).legend(bbox_to_anchor=(1.0, 1.0));\n",
        "\n",
        "# .legend(bbox_to_anchor=(1.0, 1.0)) es para que la leyenda aparezca afuera"
      ],
      "execution_count": 239,
      "outputs": [
        {
          "output_type": "display_data",
          "data": {
            "image/png": "[encoded data removed]",
            "text/plain": [
              "<Figure size 720x504 with 1 Axes>"
            ]
          },
          "metadata": {
            "tags": [],
            "needs_background": "light"
          }
        }
      ]
    },
    {
      "cell_type": "code",
      "metadata": {
        "colab": {
          "base_uri": "https://localhost:8080/",
          "height": 597
        },
        "id": "Suax_B1bz-bL",
        "outputId": "fea2f6e3-a497-4a62-98c6-e61bf55db453"
      },
      "source": [
        "# Sort model results by f1-score\n",
        "\n",
        "\n",
        "all_model_results.sort_values(\"f1\", ascending=False)[\"f1\"].plot(kind=\"bar\", figsize=(10, 7));"
      ],
      "execution_count": 240,
      "outputs": [
        {
          "output_type": "display_data",
          "data": {
            "image/png": "[encoded data removed]",
            "text/plain": [
              "<Figure size 720x504 with 1 Axes>"
            ]
          },
          "metadata": {
            "tags": [],
            "needs_background": "light"
          }
        }
      ]
    },
    {
      "cell_type": "markdown",
      "metadata": {
        "id": "R5FhJT1y1RIV"
      },
      "source": [
        "## Uploading our model training logs to Tensorboard dev\n",
        "\n",
        "We can further inspect our model's performance using https://tensorboard.dev/\n",
        "\n",
        "> **Resource:** TensorBoard is great for quickly tracking experiment but\n",
        "\n",
        "for larger scale experiment and a whole bunch more tracking options, check out Weights & Biasses:\n",
        " https://wandb.ai/site\n",
        " "
      ]
    },
    {
      "cell_type": "code",
      "metadata": {
        "colab": {
          "base_uri": "https://localhost:8080/"
        },
        "id": "2JbY1pHK2T3Y",
        "outputId": "84e2f9cd-d985-462f-8b3c-e5df5eb12fea"
      },
      "source": [
        "# View TensorBoard logs  of trnasfer learning modelling experiments (plus all of our other models)\n",
        "\n",
        "# Upload TensorBoard dev records\n",
        "\n",
        "\n",
        "\n",
        "!tensorboard dev upload --logdir ./model_logs/ \\\n",
        "  --name \"NLP Modelling Experiments ZTM TF Course Video\" \\\n",
        "  --description \"Comparing multiple different types of model architectures on the Kaggle Tweets text classification dataset\" \\\n",
        "  --one_shot # exit the uploader once  uploading is finished"
      ],
      "execution_count": 241,
      "outputs": [
        {
          "output_type": "stream",
          "text": [
            "2021-05-19 23:07:12.714126: I tensorflow/stream_executor/platform/default/dso_loader.cc:49] Successfully opened dynamic library libcudart.so.11.0\n",
            "\n",
            "***** TensorBoard Uploader *****\n",
            "\n",
            "This will upload your TensorBoard logs to https://tensorboard.dev/ from\n",
            "the following directory:\n",
            "\n",
            "./model_logs/\n",
            "\n",
            "This TensorBoard will be visible to everyone. Do not upload sensitive\n",
            "data.\n",
            "\n",
            "Your use of this service is subject to Google's Terms of Service\n",
            "<https://policies.google.com/terms> and Privacy Policy\n",
            "<https://policies.google.com/privacy>, and TensorBoard.dev's Terms of Service\n",
            "<https://tensorboard.dev/policy/terms/>.\n",
            "\n",
            "This notice will not be shown again while you are logged into the uploader.\n",
            "To log out, run `tensorboard dev auth revoke`.\n",
            "\n",
            "Continue? (yes/NO) yes\n",
            "\n",
            "Please visit this URL to authorize this application: https://accounts.google.com/o/oauth2/auth?response_type=code&client_id=373649185512-8v619h5kft38l4456nm2dj4ubeqsrvh6.apps.googleusercontent.com&redirect_uri=urn%3Aietf%3Awg%3Aoauth%3A2.0%3Aoob&scope=openid+https%3A%2F%2Fwww.googleapis.com%2Fauth%2Fuserinfo.email&state=wBwFBkByh4XVR8oojpaKIRuim7kXRL&prompt=consent&access_type=offline\n",
            "Enter the authorization code: 4/1AY0e-g5XOvg9V3uaVv3NSP-s89Ate04PiH0DsfFBH48sWHgtccr-uhAM4Po\n",
            "\n",
            "Data for the \"text\" plugin is now uploaded to TensorBoard.dev! Note that uploaded data is public. If you do not want to upload data for this plugin, use the \"--plugins\" command line argument.\n",
            "\n",
            "New experiment created. View your TensorBoard at: https://tensorboard.dev/experiment/GzKyZm4jRWyIeEWzlLeMKw/\n",
            "\n",
            "\u001b[1m[2021-05-19T23:08:10]\u001b[0m Started scanning logdir.\n",
            "\u001b[1m[2021-05-19T23:08:21]\u001b[0m Total uploaded: 220 scalars, 0 tensors, 11 binary objects (8.8 MB)\n",
            "\u001b[1m[2021-05-19T23:08:21]\u001b[0m Done scanning logdir.\n",
            "\n",
            "\n",
            "Done. View your TensorBoard at https://tensorboard.dev/experiment/GzKyZm4jRWyIeEWzlLeMKw/\n"
          ],
          "name": "stdout"
        }
      ]
    },
    {
      "cell_type": "markdown",
      "metadata": {
        "id": "lcd3x9Ao4R37"
      },
      "source": [
        "Now i've ran the cell above, my modelling experiments are visable on TensorBoard.dev : https://tensorboard.dev/experiment/GzKyZm4jRWyIeEWzlLeMKw/"
      ]
    },
    {
      "cell_type": "code",
      "metadata": {
        "colab": {
          "base_uri": "https://localhost:8080/"
        },
        "id": "JZV_pOmp6Ek5",
        "outputId": "87ccc4b3-035e-48e5-e64f-0fed0759d53f"
      },
      "source": [
        "# See the previous TensorBoard Dev experiments you've run.\n",
        "!tensorboard dev list"
      ],
      "execution_count": 242,
      "outputs": [
        {
          "output_type": "stream",
          "text": [
            "2021-05-19 23:16:43.430767: I tensorflow/stream_executor/platform/default/dso_loader.cc:49] Successfully opened dynamic library libcudart.so.11.0\n",
            "Data for the \"text\" plugin is now uploaded to TensorBoard.dev! Note that uploaded data is public. If you do not want to upload data for this plugin, use the \"--plugins\" command line argument.\n",
            "https://tensorboard.dev/experiment/GzKyZm4jRWyIeEWzlLeMKw/\n",
            "\tName                 [No Name]\n",
            "\tDescription          [No Description]\n",
            "\tId                   GzKyZm4jRWyIeEWzlLeMKw\n",
            "\tCreated              2021-05-19 23:08:10 (8 minutes ago)\n",
            "\tUpdated              2021-05-19 23:08:21 (8 minutes ago)\n",
            "\tRuns                 22\n",
            "\tTags                 3\n",
            "\tScalars              220\n",
            "\tTensor bytes         0\n",
            "\tBinary object bytes  9234386\n",
            "https://tensorboard.dev/experiment/CNiNjK5kRKmVadrH6AvYTg/\n",
            "\tName                 [No Name]\n",
            "\tDescription          [No Description]\n",
            "\tId                   CNiNjK5kRKmVadrH6AvYTg\n",
            "\tCreated              2021-05-18 13:48:42\n",
            "\tUpdated              2021-05-18 13:48:44\n",
            "\tRuns                 4\n",
            "\tTags                 3\n",
            "\tScalars              32\n",
            "\tTensor bytes         0\n",
            "\tBinary object bytes  2080703\n",
            "https://tensorboard.dev/experiment/nnqCp7mkTZe2ig7Lt0S1kQ/\n",
            "\tName                 [No Name]\n",
            "\tDescription          [No Description]\n",
            "\tId                   nnqCp7mkTZe2ig7Lt0S1kQ\n",
            "\tCreated              2021-05-18 10:19:37\n",
            "\tUpdated              2021-05-18 10:19:41\n",
            "\tRuns                 4\n",
            "\tTags                 3\n",
            "\tScalars              32\n",
            "\tTensor bytes         0\n",
            "\tBinary object bytes  2080703\n",
            "https://tensorboard.dev/experiment/9kq0FOHNQkizpQdsq3pbVg/\n",
            "\tName                 [No Name]\n",
            "\tDescription          [No Description]\n",
            "\tId                   9kq0FOHNQkizpQdsq3pbVg\n",
            "\tCreated              2021-05-18 09:58:36\n",
            "\tUpdated              2021-05-18 09:58:38\n",
            "\tRuns                 2\n",
            "\tTags                 3\n",
            "\tScalars              20\n",
            "\tTensor bytes         0\n",
            "\tBinary object bytes  1271569\n",
            "Total: 4 experiment(s)\n"
          ],
          "name": "stdout"
        }
      ]
    },
    {
      "cell_type": "code",
      "metadata": {
        "id": "y_DZ4P_B2i_c"
      },
      "source": [
        "# If you need to delete an experiment from TensorBoar, you can run the following:\n",
        "\n",
        "# !tensorboard dev delete --experiment_id GzKyZm4jRWyIeEWzlLeMKw"
      ],
      "execution_count": null,
      "outputs": []
    },
    {
      "cell_type": "markdown",
      "metadata": {
        "id": "wCs4gq-h6D9h"
      },
      "source": [
        "## Saving and loading a trained model\n",
        "\n",
        "There are two main formats to save a model to in TensorFlow:\n",
        "\n",
        "1. The HDF5 format\n",
        "\n",
        "2. The` SavedModel` format(this is the default when using TensorFlow"
      ]
    },
    {
      "cell_type": "code",
      "metadata": {
        "colab": {
          "base_uri": "https://localhost:8080/"
        },
        "id": "45a5XaIu8Kme",
        "outputId": "3ed6f2ee-95fb-463d-9c26-a705fe810c6c"
      },
      "source": [
        "model_6_results\n"
      ],
      "execution_count": 243,
      "outputs": [
        {
          "output_type": "execute_result",
          "data": {
            "text/plain": [
              "{'accuracy': 81.49606299212599,\n",
              " 'f1': 0.8136303789632117,\n",
              " 'precision': 0.8166816944448522,\n",
              " 'recall': 0.8149606299212598}"
            ]
          },
          "metadata": {
            "tags": []
          },
          "execution_count": 243
        }
      ]
    },
    {
      "cell_type": "code",
      "metadata": {
        "id": "QFCpMqPJ8rSV"
      },
      "source": [
        "# Save Tf Hub Sentence Encoder model to HDF5 format\n",
        "model_6.save(\"model_6.h5\")\n"
      ],
      "execution_count": 244,
      "outputs": []
    },
    {
      "cell_type": "code",
      "metadata": {
        "id": "Vjh1t5A396eb"
      },
      "source": [
        "\n"
      ],
      "execution_count": null,
      "outputs": []
    },
    {
      "cell_type": "code",
      "metadata": {
        "colab": {
          "base_uri": "https://localhost:8080/"
        },
        "id": "OSitMkmw9AJp",
        "outputId": "c02ad6c3-5660-44a6-dc86-b498fe3d3925"
      },
      "source": [
        "\n",
        "\n",
        "# Load model with custom Hub layer (requiered HDF5 format)\n",
        "import tensorflow_hub  as hub\n",
        "loaded_model_6 = tf.keras.models.load_model(\"model_6.h5\",\n",
        "                                            # le pasamos un diccionario con la clave llamaando al tipo de custom objets\n",
        "                                            custom_objects={\"KerasLayer\":hub.KerasLayer})"
      ],
      "execution_count": 245,
      "outputs": [
        {
          "output_type": "stream",
          "text": [
            "WARNING:tensorflow:8 out of the last 8 calls to <function recreate_function.<locals>.restored_function_body at 0x7f2a1070bdd0> triggered tf.function retracing. Tracing is expensive and the excessive number of tracings could be due to (1) creating @tf.function repeatedly in a loop, (2) passing tensors with different shapes, (3) passing Python objects instead of tensors. For (1), please define your @tf.function outside of the loop. For (2), @tf.function has experimental_relax_shapes=True option that relaxes argument shapes that can avoid unnecessary retracing. For (3), please refer to https://www.tensorflow.org/guide/function#controlling_retracing and https://www.tensorflow.org/api_docs/python/tf/function for  more details.\n"
          ],
          "name": "stdout"
        },
        {
          "output_type": "stream",
          "text": [
            "WARNING:tensorflow:8 out of the last 8 calls to <function recreate_function.<locals>.restored_function_body at 0x7f2a1070bdd0> triggered tf.function retracing. Tracing is expensive and the excessive number of tracings could be due to (1) creating @tf.function repeatedly in a loop, (2) passing tensors with different shapes, (3) passing Python objects instead of tensors. For (1), please define your @tf.function outside of the loop. For (2), @tf.function has experimental_relax_shapes=True option that relaxes argument shapes that can avoid unnecessary retracing. For (3), please refer to https://www.tensorflow.org/guide/function#controlling_retracing and https://www.tensorflow.org/api_docs/python/tf/function for  more details.\n"
          ],
          "name": "stderr"
        }
      ]
    },
    {
      "cell_type": "code",
      "metadata": {
        "colab": {
          "base_uri": "https://localhost:8080/"
        },
        "id": "8LrVb2sb-Kr5",
        "outputId": "a1c1c184-64cf-4038-9894-bb61d90ee58b"
      },
      "source": [
        "# How does our loaded model perform?\n",
        "\n",
        "loaded_model_6.evaluate(val_sentences, val_labels)"
      ],
      "execution_count": 246,
      "outputs": [
        {
          "output_type": "stream",
          "text": [
            "24/24 [==============================] - 1s 9ms/step - loss: 0.4294 - accuracy: 0.8150\n"
          ],
          "name": "stdout"
        },
        {
          "output_type": "execute_result",
          "data": {
            "text/plain": [
              "[0.42944374680519104, 0.8149606585502625]"
            ]
          },
          "metadata": {
            "tags": []
          },
          "execution_count": 246
        }
      ]
    },
    {
      "cell_type": "code",
      "metadata": {
        "colab": {
          "base_uri": "https://localhost:8080/"
        },
        "id": "odla07f7-nWH",
        "outputId": "4d3bb54d-e6a4-4a27-c1e0-2932d7ecc3c7"
      },
      "source": [
        "model_1_results"
      ],
      "execution_count": 247,
      "outputs": [
        {
          "output_type": "execute_result",
          "data": {
            "text/plain": [
              "{'accuracy': 78.74015748031496,\n",
              " 'f1': 0.7838012115396069,\n",
              " 'precision': 0.7942180127180873,\n",
              " 'recall': 0.7874015748031497}"
            ]
          },
          "metadata": {
            "tags": []
          },
          "execution_count": 247
        }
      ]
    },
    {
      "cell_type": "markdown",
      "metadata": {
        "id": "dsS-F5NS-1rU"
      },
      "source": [
        "Now let's save to the `SavedModel` format...."
      ]
    },
    {
      "cell_type": "code",
      "metadata": {
        "colab": {
          "base_uri": "https://localhost:8080/"
        },
        "id": "dg5sb4-B-sn9",
        "outputId": "21f396f1-3ed9-4828-c1f0-a215b6458497"
      },
      "source": [
        "# Save TF hub sentence Encoder model to SavedModel format(default)\n",
        "\n",
        "\n",
        "model_6.save(\"model_6_SavedModel_format\")\n"
      ],
      "execution_count": 248,
      "outputs": [
        {
          "output_type": "stream",
          "text": [
            "Exception ignored in: <function CapturableResourceDeleter.__del__ at 0x7f2c31a0c710>\n",
            "Traceback (most recent call last):\n",
            "  File \"/usr/local/lib/python3.7/dist-packages/tensorflow/python/training/tracking/tracking.py\", line 208, in __del__\n",
            "    self._destroy_resource()\n",
            "  File \"/usr/local/lib/python3.7/dist-packages/tensorflow/python/eager/def_function.py\", line 828, in __call__\n",
            "    result = self._call(*args, **kwds)\n",
            "  File \"/usr/local/lib/python3.7/dist-packages/tensorflow/python/eager/def_function.py\", line 871, in _call\n",
            "    self._initialize(args, kwds, add_initializers_to=initializers)\n",
            "  File \"/usr/local/lib/python3.7/dist-packages/tensorflow/python/eager/def_function.py\", line 726, in _initialize\n",
            "    *args, **kwds))\n",
            "  File \"/usr/local/lib/python3.7/dist-packages/tensorflow/python/eager/function.py\", line 2969, in _get_concrete_function_internal_garbage_collected\n",
            "    graph_function, _ = self._maybe_define_function(args, kwargs)\n",
            "  File \"/usr/local/lib/python3.7/dist-packages/tensorflow/python/eager/function.py\", line 3361, in _maybe_define_function\n",
            "    graph_function = self._create_graph_function(args, kwargs)\n",
            "  File \"/usr/local/lib/python3.7/dist-packages/tensorflow/python/eager/function.py\", line 3206, in _create_graph_function\n",
            "    capture_by_value=self._capture_by_value),\n",
            "  File \"/usr/local/lib/python3.7/dist-packages/tensorflow/python/framework/func_graph.py\", line 990, in func_graph_from_py_func\n",
            "    func_outputs = python_func(*func_args, **func_kwargs)\n",
            "  File \"/usr/local/lib/python3.7/dist-packages/tensorflow/python/eager/def_function.py\", line 634, in wrapped_fn\n",
            "    out = weak_wrapped_fn().__wrapped__(*args, **kwds)\n",
            "  File \"/usr/local/lib/python3.7/dist-packages/tensorflow/python/saved_model/function_deserialization.py\", line 253, in restored_function_body\n",
            "    return _call_concrete_function(function, inputs)\n",
            "  File \"/usr/local/lib/python3.7/dist-packages/tensorflow/python/saved_model/function_deserialization.py\", line 75, in _call_concrete_function\n",
            "    result = function._call_flat(tensor_inputs, function._captured_inputs)  # pylint: disable=protected-access\n",
            "  File \"/usr/local/lib/python3.7/dist-packages/tensorflow/python/saved_model/load.py\", line 116, in _call_flat\n",
            "    cancellation_manager)\n",
            "  File \"/usr/local/lib/python3.7/dist-packages/tensorflow/python/eager/function.py\", line 1932, in _call_flat\n",
            "    flat_outputs = forward_function.call(ctx, args_with_tangents)\n",
            "  File \"/usr/local/lib/python3.7/dist-packages/tensorflow/python/eager/function.py\", line 589, in call\n",
            "    executor_type=executor_type)\n",
            "  File \"/usr/local/lib/python3.7/dist-packages/tensorflow/python/ops/functional_ops.py\", line 1206, in partitioned_call\n",
            "    f.add_to_graph(graph)\n",
            "  File \"/usr/local/lib/python3.7/dist-packages/tensorflow/python/eager/function.py\", line 505, in add_to_graph\n",
            "    g._add_function(self)\n",
            "  File \"/usr/local/lib/python3.7/dist-packages/tensorflow/python/framework/ops.py\", line 3396, in _add_function\n",
            "    gradient)\n",
            "tensorflow.python.framework.errors_impl.InvalidArgumentError: 'func' argument to TF_GraphCopyFunction cannot be null\n"
          ],
          "name": "stderr"
        },
        {
          "output_type": "stream",
          "text": [
            "INFO:tensorflow:Assets written to: model_6_SavedModel_format/assets\n"
          ],
          "name": "stdout"
        },
        {
          "output_type": "stream",
          "text": [
            "INFO:tensorflow:Assets written to: model_6_SavedModel_format/assets\n"
          ],
          "name": "stderr"
        }
      ]
    },
    {
      "cell_type": "code",
      "metadata": {
        "colab": {
          "base_uri": "https://localhost:8080/"
        },
        "id": "dGOkyRfe_TII",
        "outputId": "383a8949-9844-44e7-8e90-828e6cd03abf"
      },
      "source": [
        "# Load in a model from the SavedModel format\n",
        "\n",
        "# el salvado anterior me devuelve un directorio, mientras que este me devuelve  una carpeta file\n",
        "loaded_model_6_SavedModel_format = tf.keras.models.load_model(\"model_6_SavedModel_format\")"
      ],
      "execution_count": 249,
      "outputs": [
        {
          "output_type": "stream",
          "text": [
            "WARNING:tensorflow:9 out of the last 9 calls to <function recreate_function.<locals>.restored_function_body at 0x7f2a1330d3b0> triggered tf.function retracing. Tracing is expensive and the excessive number of tracings could be due to (1) creating @tf.function repeatedly in a loop, (2) passing tensors with different shapes, (3) passing Python objects instead of tensors. For (1), please define your @tf.function outside of the loop. For (2), @tf.function has experimental_relax_shapes=True option that relaxes argument shapes that can avoid unnecessary retracing. For (3), please refer to https://www.tensorflow.org/guide/function#controlling_retracing and https://www.tensorflow.org/api_docs/python/tf/function for  more details.\n"
          ],
          "name": "stdout"
        },
        {
          "output_type": "stream",
          "text": [
            "WARNING:tensorflow:9 out of the last 9 calls to <function recreate_function.<locals>.restored_function_body at 0x7f2a1330d3b0> triggered tf.function retracing. Tracing is expensive and the excessive number of tracings could be due to (1) creating @tf.function repeatedly in a loop, (2) passing tensors with different shapes, (3) passing Python objects instead of tensors. For (1), please define your @tf.function outside of the loop. For (2), @tf.function has experimental_relax_shapes=True option that relaxes argument shapes that can avoid unnecessary retracing. For (3), please refer to https://www.tensorflow.org/guide/function#controlling_retracing and https://www.tensorflow.org/api_docs/python/tf/function for  more details.\n"
          ],
          "name": "stderr"
        }
      ]
    },
    {
      "cell_type": "code",
      "metadata": {
        "colab": {
          "base_uri": "https://localhost:8080/"
        },
        "id": "_MvnEq0HAJo3",
        "outputId": "72fc23b0-18b1-465d-c357-b309ae462982"
      },
      "source": [
        "# Evaluate model in SavedModel Format\n",
        "\n",
        "loaded_model_6_SavedModel_format.evaluate(val_sentences, val_labels)"
      ],
      "execution_count": 251,
      "outputs": [
        {
          "output_type": "stream",
          "text": [
            "24/24 [==============================] - 1s 8ms/step - loss: 0.4294 - accuracy: 0.8150\n"
          ],
          "name": "stdout"
        },
        {
          "output_type": "execute_result",
          "data": {
            "text/plain": [
              "[0.42944374680519104, 0.8149606585502625]"
            ]
          },
          "metadata": {
            "tags": []
          },
          "execution_count": 251
        }
      ]
    },
    {
      "cell_type": "markdown",
      "metadata": {
        "id": "hxrYZEADAb3n"
      },
      "source": [
        "##  Finding the most wrong examples\n",
        "\n",
        "* If our best model still isn't perfect, what examples is it getting wrong?\n",
        "\n",
        "*  And of thesse wrong examples which ones is it getting *most* wrong (those will prediction probabilities closest to the oppositive class)\n",
        "\n",
        "For example if a sample should have a label of 0 but our model predicts a prediction probability of 0.999 (really close to 1) and vice versa"
      ]
    },
    {
      "cell_type": "code",
      "metadata": {
        "colab": {
          "base_uri": "https://localhost:8080/"
        },
        "id": "SfVTYRL8EM51",
        "outputId": "22cc0063-3f8d-41fb-aa0a-bc2ca284cf16"
      },
      "source": [
        "# Download a pretrained model from Google Storage\n",
        "\n",
        "!wget https://storage.googleapis.com/ztm_tf_course/08_model_6_USE_feature_extractor.zip\n",
        "\n",
        "!unzip  08_model_6_USE_feature_extractor.zip"
      ],
      "execution_count": 253,
      "outputs": [
        {
          "output_type": "stream",
          "text": [
            "--2021-05-20 00:04:26--  https://storage.googleapis.com/ztm_tf_course/08_model_6_USE_feature_extractor.zip\n",
            "Resolving storage.googleapis.com (storage.googleapis.com)... 142.250.31.128, 172.217.164.144, 142.250.73.208, ...\n",
            "Connecting to storage.googleapis.com (storage.googleapis.com)|142.250.31.128|:443... connected.\n",
            "HTTP request sent, awaiting response... 200 OK\n",
            "Length: 960779165 (916M) [application/zip]\n",
            "Saving to: ‘08_model_6_USE_feature_extractor.zip.1’\n",
            "\n",
            "08_model_6_USE_feat 100%[===================>] 916.27M   242MB/s    in 4.3s    \n",
            "\n",
            "2021-05-20 00:04:30 (214 MB/s) - ‘08_model_6_USE_feature_extractor.zip.1’ saved [960779165/960779165]\n",
            "\n",
            "Archive:  08_model_6_USE_feature_extractor.zip\n",
            "   creating: 08_model_6_USE_feature_extractor/\n",
            "   creating: 08_model_6_USE_feature_extractor/assets/\n",
            "   creating: 08_model_6_USE_feature_extractor/variables/\n",
            "  inflating: 08_model_6_USE_feature_extractor/variables/variables.data-00000-of-00001  \n",
            "  inflating: 08_model_6_USE_feature_extractor/variables/variables.index  \n",
            "  inflating: 08_model_6_USE_feature_extractor/saved_model.pb  \n"
          ],
          "name": "stdout"
        }
      ]
    },
    {
      "cell_type": "code",
      "metadata": {
        "colab": {
          "base_uri": "https://localhost:8080/"
        },
        "id": "avJXWOQUFWlC",
        "outputId": "e282082e-a526-49a5-d99b-a45042c29a74"
      },
      "source": [
        "# Import previously trained model from Google Storage\n",
        "\n",
        "model_6_pretrained = tf.keras.models.load_model(\"08_model_6_USE_feature_extractor\")\n",
        "\n",
        "model_6_pretrained.evaluate(val_sentences, val_labels)"
      ],
      "execution_count": 256,
      "outputs": [
        {
          "output_type": "stream",
          "text": [
            "WARNING:tensorflow:11 out of the last 11 calls to <function recreate_function.<locals>.restored_function_body at 0x7f2a0e488710> triggered tf.function retracing. Tracing is expensive and the excessive number of tracings could be due to (1) creating @tf.function repeatedly in a loop, (2) passing tensors with different shapes, (3) passing Python objects instead of tensors. For (1), please define your @tf.function outside of the loop. For (2), @tf.function has experimental_relax_shapes=True option that relaxes argument shapes that can avoid unnecessary retracing. For (3), please refer to https://www.tensorflow.org/guide/function#controlling_retracing and https://www.tensorflow.org/api_docs/python/tf/function for  more details.\n"
          ],
          "name": "stdout"
        },
        {
          "output_type": "stream",
          "text": [
            "WARNING:tensorflow:11 out of the last 11 calls to <function recreate_function.<locals>.restored_function_body at 0x7f2a0e488710> triggered tf.function retracing. Tracing is expensive and the excessive number of tracings could be due to (1) creating @tf.function repeatedly in a loop, (2) passing tensors with different shapes, (3) passing Python objects instead of tensors. For (1), please define your @tf.function outside of the loop. For (2), @tf.function has experimental_relax_shapes=True option that relaxes argument shapes that can avoid unnecessary retracing. For (3), please refer to https://www.tensorflow.org/guide/function#controlling_retracing and https://www.tensorflow.org/api_docs/python/tf/function for  more details.\n"
          ],
          "name": "stderr"
        },
        {
          "output_type": "stream",
          "text": [
            "24/24 [==============================] - 1s 8ms/step - loss: 0.4272 - accuracy: 0.8163\n"
          ],
          "name": "stdout"
        },
        {
          "output_type": "execute_result",
          "data": {
            "text/plain": [
              "[0.42723122239112854, 0.8162729740142822]"
            ]
          },
          "metadata": {
            "tags": []
          },
          "execution_count": 256
        }
      ]
    },
    {
      "cell_type": "code",
      "metadata": {
        "colab": {
          "base_uri": "https://localhost:8080/"
        },
        "id": "P000tQcCGJSo",
        "outputId": "21d87879-5949-4372-8078-fca5dcd8f851"
      },
      "source": [
        "# Make predictions with the loaded model from GS\n",
        "model_6_pretrained_pred_probs = model_6_pretrained.predict(val_sentences)\n",
        "\n",
        "model_6_pretrained_preds = tf.squeeze(tf.round(model_6_pretrained_pred_probs))\n",
        "\n",
        "model_6_pretrained_preds[:10] # these should be in label format\n",
        "\n",
        "\n"
      ],
      "execution_count": 260,
      "outputs": [
        {
          "output_type": "execute_result",
          "data": {
            "text/plain": [
              "<tf.Tensor: shape=(10,), dtype=float32, numpy=array([0., 1., 1., 0., 1., 1., 1., 1., 1., 0.], dtype=float32)>"
            ]
          },
          "metadata": {
            "tags": []
          },
          "execution_count": 260
        }
      ]
    },
    {
      "cell_type": "code",
      "metadata": {
        "id": "8Sq1dHvpJPse"
      },
      "source": [
        ""
      ],
      "execution_count": null,
      "outputs": []
    },
    {
      "cell_type": "code",
      "metadata": {
        "colab": {
          "base_uri": "https://localhost:8080/",
          "height": 206
        },
        "id": "6-Thmk8wBcXP",
        "outputId": "c76558a8-0a5e-4b9f-eea6-1dcd37d5c180"
      },
      "source": [
        "# Create DataFrame with validation sentences, validation labels and best performing model predictions labels + probabilites\n",
        "\n",
        "val_df = pd.DataFrame({\"text\": val_sentences,\n",
        "                       \n",
        "                       \"target\":val_labels,\n",
        "                       \"pred\": model_6_pretrained_preds,\n",
        "                       \"pred_prob\":tf.squeeze(model_6_pretrained_pred_probs)})\n",
        "\n",
        "val_df.head()\n",
        "\n"
      ],
      "execution_count": 263,
      "outputs": [
        {
          "output_type": "execute_result",
          "data": {
            "text/html": [
              "<div>\n",
              "<style scoped>\n",
              "    .dataframe tbody tr th:only-of-type {\n",
              "        vertical-align: middle;\n",
              "    }\n",
              "\n",
              "    .dataframe tbody tr th {\n",
              "        vertical-align: top;\n",
              "    }\n",
              "\n",
              "    .dataframe thead th {\n",
              "        text-align: right;\n",
              "    }\n",
              "</style>\n",
              "<table border=\"1\" class=\"dataframe\">\n",
              "  <thead>\n",
              "    <tr style=\"text-align: right;\">\n",
              "      <th></th>\n",
              "      <th>text</th>\n",
              "      <th>target</th>\n",
              "      <th>pred</th>\n",
              "      <th>pred_prob</th>\n",
              "    </tr>\n",
              "  </thead>\n",
              "  <tbody>\n",
              "    <tr>\n",
              "      <th>0</th>\n",
              "      <td>DFR EP016 Monthly Meltdown - On Dnbheaven 2015...</td>\n",
              "      <td>0</td>\n",
              "      <td>0.0</td>\n",
              "      <td>0.159757</td>\n",
              "    </tr>\n",
              "    <tr>\n",
              "      <th>1</th>\n",
              "      <td>FedEx no longer to transport bioterror germs i...</td>\n",
              "      <td>0</td>\n",
              "      <td>1.0</td>\n",
              "      <td>0.747162</td>\n",
              "    </tr>\n",
              "    <tr>\n",
              "      <th>2</th>\n",
              "      <td>Gunmen kill four in El Salvador bus attack: Su...</td>\n",
              "      <td>1</td>\n",
              "      <td>1.0</td>\n",
              "      <td>0.988749</td>\n",
              "    </tr>\n",
              "    <tr>\n",
              "      <th>3</th>\n",
              "      <td>@camilacabello97 Internally and externally scr...</td>\n",
              "      <td>1</td>\n",
              "      <td>0.0</td>\n",
              "      <td>0.196229</td>\n",
              "    </tr>\n",
              "    <tr>\n",
              "      <th>4</th>\n",
              "      <td>Radiation emergency #preparedness starts with ...</td>\n",
              "      <td>1</td>\n",
              "      <td>1.0</td>\n",
              "      <td>0.707808</td>\n",
              "    </tr>\n",
              "  </tbody>\n",
              "</table>\n",
              "</div>"
            ],
            "text/plain": [
              "                                                text  target  pred  pred_prob\n",
              "0  DFR EP016 Monthly Meltdown - On Dnbheaven 2015...       0   0.0   0.159757\n",
              "1  FedEx no longer to transport bioterror germs i...       0   1.0   0.747162\n",
              "2  Gunmen kill four in El Salvador bus attack: Su...       1   1.0   0.988749\n",
              "3  @camilacabello97 Internally and externally scr...       1   0.0   0.196229\n",
              "4  Radiation emergency #preparedness starts with ...       1   1.0   0.707808"
            ]
          },
          "metadata": {
            "tags": []
          },
          "execution_count": 263
        }
      ]
    },
    {
      "cell_type": "code",
      "metadata": {
        "colab": {
          "base_uri": "https://localhost:8080/",
          "height": 363
        },
        "id": "M7GHijLxGH-7",
        "outputId": "98ea3b3d-cf9f-4833-db13-1d81f697662c"
      },
      "source": [
        "# Find the wrong predictions and sort by predictions probabilities\n",
        "\n",
        "most_wrong = val_df[val_df[\"target\"] != val_df[\"pred\"]].sort_values(\"pred_prob\", ascending=False)\n",
        "most_wrong[:10]\n",
        "\n",
        "# falses positvos"
      ],
      "execution_count": 264,
      "outputs": [
        {
          "output_type": "execute_result",
          "data": {
            "text/html": [
              "<div>\n",
              "<style scoped>\n",
              "    .dataframe tbody tr th:only-of-type {\n",
              "        vertical-align: middle;\n",
              "    }\n",
              "\n",
              "    .dataframe tbody tr th {\n",
              "        vertical-align: top;\n",
              "    }\n",
              "\n",
              "    .dataframe thead th {\n",
              "        text-align: right;\n",
              "    }\n",
              "</style>\n",
              "<table border=\"1\" class=\"dataframe\">\n",
              "  <thead>\n",
              "    <tr style=\"text-align: right;\">\n",
              "      <th></th>\n",
              "      <th>text</th>\n",
              "      <th>target</th>\n",
              "      <th>pred</th>\n",
              "      <th>pred_prob</th>\n",
              "    </tr>\n",
              "  </thead>\n",
              "  <tbody>\n",
              "    <tr>\n",
              "      <th>31</th>\n",
              "      <td>? High Skies - Burning Buildings ? http://t.co...</td>\n",
              "      <td>0</td>\n",
              "      <td>1.0</td>\n",
              "      <td>0.910196</td>\n",
              "    </tr>\n",
              "    <tr>\n",
              "      <th>759</th>\n",
              "      <td>FedEx will no longer transport bioterror patho...</td>\n",
              "      <td>0</td>\n",
              "      <td>1.0</td>\n",
              "      <td>0.876982</td>\n",
              "    </tr>\n",
              "    <tr>\n",
              "      <th>628</th>\n",
              "      <td>@noah_anyname That's where the concentration c...</td>\n",
              "      <td>0</td>\n",
              "      <td>1.0</td>\n",
              "      <td>0.852300</td>\n",
              "    </tr>\n",
              "    <tr>\n",
              "      <th>209</th>\n",
              "      <td>Ashes 2015: AustraliaÛªs collapse at Trent Br...</td>\n",
              "      <td>0</td>\n",
              "      <td>1.0</td>\n",
              "      <td>0.835454</td>\n",
              "    </tr>\n",
              "    <tr>\n",
              "      <th>251</th>\n",
              "      <td>@AshGhebranious civil rights continued in the ...</td>\n",
              "      <td>0</td>\n",
              "      <td>1.0</td>\n",
              "      <td>0.827213</td>\n",
              "    </tr>\n",
              "    <tr>\n",
              "      <th>393</th>\n",
              "      <td>@SonofLiberty357 all illuminated by the bright...</td>\n",
              "      <td>0</td>\n",
              "      <td>1.0</td>\n",
              "      <td>0.814816</td>\n",
              "    </tr>\n",
              "    <tr>\n",
              "      <th>109</th>\n",
              "      <td>[55436] 1950 LIONEL TRAINS SMOKE LOCOMOTIVES W...</td>\n",
              "      <td>0</td>\n",
              "      <td>1.0</td>\n",
              "      <td>0.810840</td>\n",
              "    </tr>\n",
              "    <tr>\n",
              "      <th>49</th>\n",
              "      <td>@madonnamking RSPCA site multiple 7 story high...</td>\n",
              "      <td>0</td>\n",
              "      <td>1.0</td>\n",
              "      <td>0.803122</td>\n",
              "    </tr>\n",
              "    <tr>\n",
              "      <th>119</th>\n",
              "      <td>@freefromwolves GodsLove &amp;amp; #thankU brother...</td>\n",
              "      <td>0</td>\n",
              "      <td>1.0</td>\n",
              "      <td>0.766901</td>\n",
              "    </tr>\n",
              "    <tr>\n",
              "      <th>344</th>\n",
              "      <td>Air Group is here to the rescue! We have 24/7 ...</td>\n",
              "      <td>0</td>\n",
              "      <td>1.0</td>\n",
              "      <td>0.766625</td>\n",
              "    </tr>\n",
              "  </tbody>\n",
              "</table>\n",
              "</div>"
            ],
            "text/plain": [
              "                                                  text  target  pred  pred_prob\n",
              "31   ? High Skies - Burning Buildings ? http://t.co...       0   1.0   0.910196\n",
              "759  FedEx will no longer transport bioterror patho...       0   1.0   0.876982\n",
              "628  @noah_anyname That's where the concentration c...       0   1.0   0.852300\n",
              "209  Ashes 2015: AustraliaÛªs collapse at Trent Br...       0   1.0   0.835454\n",
              "251  @AshGhebranious civil rights continued in the ...       0   1.0   0.827213\n",
              "393  @SonofLiberty357 all illuminated by the bright...       0   1.0   0.814816\n",
              "109  [55436] 1950 LIONEL TRAINS SMOKE LOCOMOTIVES W...       0   1.0   0.810840\n",
              "49   @madonnamking RSPCA site multiple 7 story high...       0   1.0   0.803122\n",
              "119  @freefromwolves GodsLove &amp; #thankU brother...       0   1.0   0.766901\n",
              "344  Air Group is here to the rescue! We have 24/7 ...       0   1.0   0.766625"
            ]
          },
          "metadata": {
            "tags": []
          },
          "execution_count": 264
        }
      ]
    },
    {
      "cell_type": "markdown",
      "metadata": {
        "id": "WkuX97SsKrZf"
      },
      "source": [
        "Let's remind ourselves of the target labels...\n",
        "\n",
        "* `0`=not disaster\n",
        "\n",
        "* `1` = disaster"
      ]
    },
    {
      "cell_type": "code",
      "metadata": {
        "colab": {
          "base_uri": "https://localhost:8080/",
          "height": 206
        },
        "id": "xN-dqWGbKjfI",
        "outputId": "023f6691-96f0-4ce1-b1a8-e5793f8672d9"
      },
      "source": [
        "# falsos negativos\n",
        "most_wrong.tail()"
      ],
      "execution_count": 265,
      "outputs": [
        {
          "output_type": "execute_result",
          "data": {
            "text/html": [
              "<div>\n",
              "<style scoped>\n",
              "    .dataframe tbody tr th:only-of-type {\n",
              "        vertical-align: middle;\n",
              "    }\n",
              "\n",
              "    .dataframe tbody tr th {\n",
              "        vertical-align: top;\n",
              "    }\n",
              "\n",
              "    .dataframe thead th {\n",
              "        text-align: right;\n",
              "    }\n",
              "</style>\n",
              "<table border=\"1\" class=\"dataframe\">\n",
              "  <thead>\n",
              "    <tr style=\"text-align: right;\">\n",
              "      <th></th>\n",
              "      <th>text</th>\n",
              "      <th>target</th>\n",
              "      <th>pred</th>\n",
              "      <th>pred_prob</th>\n",
              "    </tr>\n",
              "  </thead>\n",
              "  <tbody>\n",
              "    <tr>\n",
              "      <th>411</th>\n",
              "      <td>@SoonerMagic_ I mean I'm a fan but I don't nee...</td>\n",
              "      <td>1</td>\n",
              "      <td>0.0</td>\n",
              "      <td>0.043918</td>\n",
              "    </tr>\n",
              "    <tr>\n",
              "      <th>233</th>\n",
              "      <td>I get to smoke my shit in peace</td>\n",
              "      <td>1</td>\n",
              "      <td>0.0</td>\n",
              "      <td>0.042087</td>\n",
              "    </tr>\n",
              "    <tr>\n",
              "      <th>38</th>\n",
              "      <td>Why are you deluged with low self-image? Take ...</td>\n",
              "      <td>1</td>\n",
              "      <td>0.0</td>\n",
              "      <td>0.038998</td>\n",
              "    </tr>\n",
              "    <tr>\n",
              "      <th>244</th>\n",
              "      <td>Reddit Will Now QuarantineÛ_ http://t.co/pkUA...</td>\n",
              "      <td>1</td>\n",
              "      <td>0.0</td>\n",
              "      <td>0.038949</td>\n",
              "    </tr>\n",
              "    <tr>\n",
              "      <th>23</th>\n",
              "      <td>Ron &amp;amp; Fez - Dave's High School Crush https...</td>\n",
              "      <td>1</td>\n",
              "      <td>0.0</td>\n",
              "      <td>0.037186</td>\n",
              "    </tr>\n",
              "  </tbody>\n",
              "</table>\n",
              "</div>"
            ],
            "text/plain": [
              "                                                  text  target  pred  pred_prob\n",
              "411  @SoonerMagic_ I mean I'm a fan but I don't nee...       1   0.0   0.043918\n",
              "233                    I get to smoke my shit in peace       1   0.0   0.042087\n",
              "38   Why are you deluged with low self-image? Take ...       1   0.0   0.038998\n",
              "244  Reddit Will Now QuarantineÛ_ http://t.co/pkUA...       1   0.0   0.038949\n",
              "23   Ron &amp; Fez - Dave's High School Crush https...       1   0.0   0.037186"
            ]
          },
          "metadata": {
            "tags": []
          },
          "execution_count": 265
        }
      ]
    },
    {
      "cell_type": "code",
      "metadata": {
        "colab": {
          "base_uri": "https://localhost:8080/"
        },
        "id": "FnHZRP_eLNfb",
        "outputId": "a3f8c74e-1883-41c5-e1c4-39f1ddc01c48"
      },
      "source": [
        "# Check the false  positives (model predicted 1 when should've been 0)\n",
        "\n",
        "for row in most_wrong[:10].itertuples():\n",
        "  _, text, target, pred, pred_prob = row\n",
        "\n",
        "  print(f\"Target: {target}, pred:{pred}, prob: {pred_prob}\")\n",
        "\n",
        "  print(f\"text:\\n{text}\\n\")\n",
        "  print(\"----\\n\")"
      ],
      "execution_count": 266,
      "outputs": [
        {
          "output_type": "stream",
          "text": [
            "Target: 0, pred:1.0, prob: 0.9101957678794861\n",
            "text:\n",
            "? High Skies - Burning Buildings ? http://t.co/uVq41i3Kx2 #nowplaying\n",
            "\n",
            "----\n",
            "\n",
            "Target: 0, pred:1.0, prob: 0.8769820928573608\n",
            "text:\n",
            "FedEx will no longer transport bioterror pathogens in wake of anthrax lab mishaps http://t.co/lHpgxc4b8J\n",
            "\n",
            "----\n",
            "\n",
            "Target: 0, pred:1.0, prob: 0.8523000478744507\n",
            "text:\n",
            "@noah_anyname That's where the concentration camps and mass murder come in. \n",
            " \n",
            "EVERY. FUCKING. TIME.\n",
            "\n",
            "----\n",
            "\n",
            "Target: 0, pred:1.0, prob: 0.8354544639587402\n",
            "text:\n",
            "Ashes 2015: AustraliaÛªs collapse at Trent Bridge among worst in history: England bundled out Australia for 60 ... http://t.co/t5TrhjUAU0\n",
            "\n",
            "----\n",
            "\n",
            "Target: 0, pred:1.0, prob: 0.8272132873535156\n",
            "text:\n",
            "@AshGhebranious civil rights continued in the 60s. And what about trans-generational trauma? if anything we should listen to the Americans.\n",
            "\n",
            "----\n",
            "\n",
            "Target: 0, pred:1.0, prob: 0.8148158192634583\n",
            "text:\n",
            "@SonofLiberty357 all illuminated by the brightly burning buildings all around the town!\n",
            "\n",
            "----\n",
            "\n",
            "Target: 0, pred:1.0, prob: 0.8108396530151367\n",
            "text:\n",
            "[55436] 1950 LIONEL TRAINS SMOKE LOCOMOTIVES WITH MAGNE-TRACTION INSTRUCTIONS http://t.co/xEZBs3sq0y http://t.co/C2x0QoKGlY\n",
            "\n",
            "----\n",
            "\n",
            "Target: 0, pred:1.0, prob: 0.8031217455863953\n",
            "text:\n",
            "@madonnamking RSPCA site multiple 7 story high rise buildings next to low density character residential in an area that floods\n",
            "\n",
            "----\n",
            "\n",
            "Target: 0, pred:1.0, prob: 0.7669008374214172\n",
            "text:\n",
            "@freefromwolves GodsLove &amp; #thankU brother Danny for RT of NEW VIDEO http://t.co/cybKsXHF7d The Coming Apocalyptic US Earthquake &amp; Tsunami\n",
            "\n",
            "----\n",
            "\n",
            "Target: 0, pred:1.0, prob: 0.7666252255439758\n",
            "text:\n",
            "Air Group is here to the rescue! We have 24/7 Emergency Service! Learn more about it here - http://t.co/9lyx7zMtHE http://t.co/5PbC96rTMJ\n",
            "\n",
            "----\n",
            "\n"
          ],
          "name": "stdout"
        }
      ]
    },
    {
      "cell_type": "code",
      "metadata": {
        "colab": {
          "base_uri": "https://localhost:8080/"
        },
        "id": "l6ydP1-SNb9b",
        "outputId": "97071555-53ad-4b1f-f5da-93c2dacba8bb"
      },
      "source": [
        "# Check the false  negatives (model predicted 0 when should've been 1)\n",
        "\n",
        "for row in most_wrong[-10:].itertuples():\n",
        "  _, text, target, pred, pred_prob = row\n",
        "\n",
        "  print(f\"Target: {target}, pred:{pred}, prob: {pred_prob}\")\n",
        "\n",
        "  print(f\"text:\\n{text}\\n\")\n",
        "  print(\"----\\n\")"
      ],
      "execution_count": 268,
      "outputs": [
        {
          "output_type": "stream",
          "text": [
            "Target: 1, pred:0.0, prob: 0.06730346381664276\n",
            "text:\n",
            "@DavidVonderhaar At least you were sincere ??\n",
            "\n",
            "----\n",
            "\n",
            "Target: 1, pred:0.0, prob: 0.05507579818367958\n",
            "text:\n",
            "@willienelson We need help! Horses will die!Please RT &amp; sign petition!Take a stand &amp; be a voice for them! #gilbert23 https://t.co/e8dl1lNCVu\n",
            "\n",
            "----\n",
            "\n",
            "Target: 1, pred:0.0, prob: 0.05460337549448013\n",
            "text:\n",
            "Lucas Duda is Ghost Rider. Not the Nic Cage version but an actual 'engulfed in flames' badass. #Mets\n",
            "\n",
            "----\n",
            "\n",
            "Target: 1, pred:0.0, prob: 0.05459698289632797\n",
            "text:\n",
            "going to redo my nails and watch behind the scenes of desolation of smaug ayyy\n",
            "\n",
            "----\n",
            "\n",
            "Target: 1, pred:0.0, prob: 0.04963727295398712\n",
            "text:\n",
            "You can never escape me. Bullets don't harm me. Nothing harms me. But I know pain. I know pain. Sometimes I share it. With someone like you.\n",
            "\n",
            "----\n",
            "\n",
            "Target: 1, pred:0.0, prob: 0.043918490409851074\n",
            "text:\n",
            "@SoonerMagic_ I mean I'm a fan but I don't need a girl sounding off like a damn siren\n",
            "\n",
            "----\n",
            "\n",
            "Target: 1, pred:0.0, prob: 0.042086850851774216\n",
            "text:\n",
            "I get to smoke my shit in peace\n",
            "\n",
            "----\n",
            "\n",
            "Target: 1, pred:0.0, prob: 0.03899792954325676\n",
            "text:\n",
            "Why are you deluged with low self-image? Take the quiz: http://t.co/XsPqdOrIqj http://t.co/CQYvFR4UCy\n",
            "\n",
            "----\n",
            "\n",
            "Target: 1, pred:0.0, prob: 0.038949452340602875\n",
            "text:\n",
            "Reddit Will Now QuarantineÛ_ http://t.co/pkUAMXw6pm #onlinecommunities #reddit #amageddon #freespeech #Business http://t.co/PAWvNJ4sAP\n",
            "\n",
            "----\n",
            "\n",
            "Target: 1, pred:0.0, prob: 0.037185799330472946\n",
            "text:\n",
            "Ron &amp; Fez - Dave's High School Crush https://t.co/aN3W16c8F6 via @YouTube\n",
            "\n",
            "----\n",
            "\n"
          ],
          "name": "stdout"
        }
      ]
    },
    {
      "cell_type": "code",
      "metadata": {
        "colab": {
          "base_uri": "https://localhost:8080/",
          "height": 441
        },
        "id": "9tZSocz2OQzD",
        "outputId": "07e945b8-db7a-44ec-ac10-a1f087a56389"
      },
      "source": [
        "test_df"
      ],
      "execution_count": 269,
      "outputs": [
        {
          "output_type": "execute_result",
          "data": {
            "text/html": [
              "<div>\n",
              "<style scoped>\n",
              "    .dataframe tbody tr th:only-of-type {\n",
              "        vertical-align: middle;\n",
              "    }\n",
              "\n",
              "    .dataframe tbody tr th {\n",
              "        vertical-align: top;\n",
              "    }\n",
              "\n",
              "    .dataframe thead th {\n",
              "        text-align: right;\n",
              "    }\n",
              "</style>\n",
              "<table border=\"1\" class=\"dataframe\">\n",
              "  <thead>\n",
              "    <tr style=\"text-align: right;\">\n",
              "      <th></th>\n",
              "      <th>id</th>\n",
              "      <th>keyword</th>\n",
              "      <th>location</th>\n",
              "      <th>text</th>\n",
              "    </tr>\n",
              "  </thead>\n",
              "  <tbody>\n",
              "    <tr>\n",
              "      <th>0</th>\n",
              "      <td>0</td>\n",
              "      <td>NaN</td>\n",
              "      <td>NaN</td>\n",
              "      <td>Just happened a terrible car crash</td>\n",
              "    </tr>\n",
              "    <tr>\n",
              "      <th>1</th>\n",
              "      <td>2</td>\n",
              "      <td>NaN</td>\n",
              "      <td>NaN</td>\n",
              "      <td>Heard about #earthquake is different cities, s...</td>\n",
              "    </tr>\n",
              "    <tr>\n",
              "      <th>2</th>\n",
              "      <td>3</td>\n",
              "      <td>NaN</td>\n",
              "      <td>NaN</td>\n",
              "      <td>there is a forest fire at spot pond, geese are...</td>\n",
              "    </tr>\n",
              "    <tr>\n",
              "      <th>3</th>\n",
              "      <td>9</td>\n",
              "      <td>NaN</td>\n",
              "      <td>NaN</td>\n",
              "      <td>Apocalypse lighting. #Spokane #wildfires</td>\n",
              "    </tr>\n",
              "    <tr>\n",
              "      <th>4</th>\n",
              "      <td>11</td>\n",
              "      <td>NaN</td>\n",
              "      <td>NaN</td>\n",
              "      <td>Typhoon Soudelor kills 28 in China and Taiwan</td>\n",
              "    </tr>\n",
              "    <tr>\n",
              "      <th>...</th>\n",
              "      <td>...</td>\n",
              "      <td>...</td>\n",
              "      <td>...</td>\n",
              "      <td>...</td>\n",
              "    </tr>\n",
              "    <tr>\n",
              "      <th>3258</th>\n",
              "      <td>10861</td>\n",
              "      <td>NaN</td>\n",
              "      <td>NaN</td>\n",
              "      <td>EARTHQUAKE SAFETY LOS ANGELES ÛÒ SAFETY FASTE...</td>\n",
              "    </tr>\n",
              "    <tr>\n",
              "      <th>3259</th>\n",
              "      <td>10865</td>\n",
              "      <td>NaN</td>\n",
              "      <td>NaN</td>\n",
              "      <td>Storm in RI worse than last hurricane. My city...</td>\n",
              "    </tr>\n",
              "    <tr>\n",
              "      <th>3260</th>\n",
              "      <td>10868</td>\n",
              "      <td>NaN</td>\n",
              "      <td>NaN</td>\n",
              "      <td>Green Line derailment in Chicago http://t.co/U...</td>\n",
              "    </tr>\n",
              "    <tr>\n",
              "      <th>3261</th>\n",
              "      <td>10874</td>\n",
              "      <td>NaN</td>\n",
              "      <td>NaN</td>\n",
              "      <td>MEG issues Hazardous Weather Outlook (HWO) htt...</td>\n",
              "    </tr>\n",
              "    <tr>\n",
              "      <th>3262</th>\n",
              "      <td>10875</td>\n",
              "      <td>NaN</td>\n",
              "      <td>NaN</td>\n",
              "      <td>#CityofCalgary has activated its Municipal Eme...</td>\n",
              "    </tr>\n",
              "  </tbody>\n",
              "</table>\n",
              "<p>3263 rows × 4 columns</p>\n",
              "</div>"
            ],
            "text/plain": [
              "         id keyword location                                               text\n",
              "0         0     NaN      NaN                 Just happened a terrible car crash\n",
              "1         2     NaN      NaN  Heard about #earthquake is different cities, s...\n",
              "2         3     NaN      NaN  there is a forest fire at spot pond, geese are...\n",
              "3         9     NaN      NaN           Apocalypse lighting. #Spokane #wildfires\n",
              "4        11     NaN      NaN      Typhoon Soudelor kills 28 in China and Taiwan\n",
              "...     ...     ...      ...                                                ...\n",
              "3258  10861     NaN      NaN  EARTHQUAKE SAFETY LOS ANGELES ÛÒ SAFETY FASTE...\n",
              "3259  10865     NaN      NaN  Storm in RI worse than last hurricane. My city...\n",
              "3260  10868     NaN      NaN  Green Line derailment in Chicago http://t.co/U...\n",
              "3261  10874     NaN      NaN  MEG issues Hazardous Weather Outlook (HWO) htt...\n",
              "3262  10875     NaN      NaN  #CityofCalgary has activated its Municipal Eme...\n",
              "\n",
              "[3263 rows x 4 columns]"
            ]
          },
          "metadata": {
            "tags": []
          },
          "execution_count": 269
        }
      ]
    },
    {
      "cell_type": "markdown",
      "metadata": {
        "id": "yjzZOMIzO354"
      },
      "source": [
        "# Making predictions on the test dataset\n",
        "\n"
      ]
    },
    {
      "cell_type": "code",
      "metadata": {
        "colab": {
          "base_uri": "https://localhost:8080/"
        },
        "id": "ABUG8YN4PlIM",
        "outputId": "01d4e3c7-c07f-4aa1-b11e-28a66be808f1"
      },
      "source": [
        "# Making predictions on the test dataset and visualizing them\n",
        "\n",
        "test_sentences = test_df[\"text\"].to_list()\n",
        "\n",
        "test_sentences[:5]"
      ],
      "execution_count": 271,
      "outputs": [
        {
          "output_type": "execute_result",
          "data": {
            "text/plain": [
              "['Just happened a terrible car crash',\n",
              " 'Heard about #earthquake is different cities, stay safe everyone.',\n",
              " 'there is a forest fire at spot pond, geese are fleeing across the street, I cannot save them all',\n",
              " 'Apocalypse lighting. #Spokane #wildfires',\n",
              " 'Typhoon Soudelor kills 28 in China and Taiwan']"
            ]
          },
          "metadata": {
            "tags": []
          },
          "execution_count": 271
        }
      ]
    },
    {
      "cell_type": "code",
      "metadata": {
        "colab": {
          "base_uri": "https://localhost:8080/"
        },
        "id": "ZFvH8dvPP3qs",
        "outputId": "1106fcf6-e92b-47d2-b4c6-097eba7c8575"
      },
      "source": [
        "test_samples = random.sample(test_sentences, 10)\n",
        "\n",
        "for test_sample in test_samples:\n",
        "  pred_prob = tf.squeeze(model_6_pretrained.predict([test_sample])) # our model ex[ects a list as input]\n",
        "  pred = tf.round(pred_prob)\n",
        "  print(f\"Pred:{int(pred)},  Prob: {pred_prob}\" )\n",
        "  print(f\"Text:\\n{test_sample}\\n\")\n",
        "  print(\"------\\n\")"
      ],
      "execution_count": 275,
      "outputs": [
        {
          "output_type": "stream",
          "text": [
            "Pred:0,  Prob: 0.37449008226394653\n",
            "Text:\n",
            "TWIA board approves 5 percent rate hike: The Texas Windstorm Insurance Association (TWIA) Board of Directors v... http://t.co/NvxLJDsNkX\n",
            "\n",
            "------\n",
            "\n",
            "Pred:0,  Prob: 0.20570088922977448\n",
            "Text:\n",
            "Reddit Is Planning to 'Quarantine' Its Most Toxic Communities http://t.co/KlVxYN2EJK #mcgtech\n",
            "\n",
            "------\n",
            "\n",
            "Pred:1,  Prob: 0.9923925399780273\n",
            "Text:\n",
            "Remembering Sgt.-Maj. Roni Ghanem 28 of Maghar murdered by Hamas terrorists in the suicide bombing of Egged bus No. 361 13 years ago today\n",
            "\n",
            "------\n",
            "\n",
            "Pred:0,  Prob: 0.03170809894800186\n",
            "Text:\n",
            "@BattyAfterDawn @DrawLiomDraw he's a good cute.  The kind of cute I want to obliterate.\n",
            "\n",
            "------\n",
            "\n",
            "Pred:0,  Prob: 0.35067081451416016\n",
            "Text:\n",
            "Send me flying off a cliff straight through the smoke of my spliff\n",
            "\n",
            "------\n",
            "\n",
            "Pred:1,  Prob: 0.8780890703201294\n",
            "Text:\n",
            "You knew that Israel is a world leader in lifesaving emergency services. And now looking far beyond Haiti and... http://t.co/49N6YzAjvd\n",
            "\n",
            "------\n",
            "\n",
            "Pred:0,  Prob: 0.10882695764303207\n",
            "Text:\n",
            "Actually if I don't see Hunter Hayes and Lady Antebellum perform Where it All Begins live I will be a very devastated person :-)\n",
            "\n",
            "------\n",
            "\n",
            "Pred:0,  Prob: 0.4885905385017395\n",
            "Text:\n",
            "@god if an accident were to happen on this airplane idc if the rest of my luggage is completely destroyed just please save my makeup\n",
            "\n",
            "------\n",
            "\n",
            "Pred:0,  Prob: 0.08247742801904678\n",
            "Text:\n",
            "The shortest and hardest tongue twister is: 'Toy Boat' (Try saying it five times fast).\n",
            "\n",
            "------\n",
            "\n",
            "Pred:1,  Prob: 0.7654599547386169\n",
            "Text:\n",
            "Water conservation urged for North Thompson: B.C. government declares a Level 3 drought level for the North Th... http://t.co/dJ4qw8YfW5\n",
            "\n",
            "------\n",
            "\n"
          ],
          "name": "stdout"
        }
      ]
    },
    {
      "cell_type": "markdown",
      "metadata": {
        "id": "kxHdI9qcQnmQ"
      },
      "source": [
        "## Your challange.... predicting on Tweets from the wild\n",
        "\n",
        "Go to your favorite Twitter account and copy one of their latest Tweets\n",
        "\n",
        "then pass that Tweet through our trained model.\n",
        "\n",
        "Is that Tweet a disaster or not disaster (according to the model) ?"
      ]
    },
    {
      "cell_type": "markdown",
      "metadata": {
        "id": "4WRr1XIzS3Vg"
      },
      "source": [
        "## The speed/score tradeoff\n",
        "\n",
        "velocidad de la prediccion"
      ]
    },
    {
      "cell_type": "code",
      "metadata": {
        "colab": {
          "base_uri": "https://localhost:8080/"
        },
        "id": "yktxLq6jTT8Z",
        "outputId": "52ad5750-32ae-4076-b250-249aad61d5a4"
      },
      "source": [
        "model_6_results"
      ],
      "execution_count": 276,
      "outputs": [
        {
          "output_type": "execute_result",
          "data": {
            "text/plain": [
              "{'accuracy': 81.49606299212599,\n",
              " 'f1': 0.8136303789632117,\n",
              " 'precision': 0.8166816944448522,\n",
              " 'recall': 0.8149606299212598}"
            ]
          },
          "metadata": {
            "tags": []
          },
          "execution_count": 276
        }
      ]
    },
    {
      "cell_type": "code",
      "metadata": {
        "colab": {
          "base_uri": "https://localhost:8080/"
        },
        "id": "r9c9SmaqTV8M",
        "outputId": "4c77c963-c383-4016-be0f-9a63cbd56180"
      },
      "source": [
        "baseline_results"
      ],
      "execution_count": 277,
      "outputs": [
        {
          "output_type": "execute_result",
          "data": {
            "text/plain": [
              "{'accuracy': 79.26509186351706,\n",
              " 'f1': 0.7862189758049549,\n",
              " 'precision': 0.8111390004213173,\n",
              " 'recall': 0.7926509186351706}"
            ]
          },
          "metadata": {
            "tags": []
          },
          "execution_count": 277
        }
      ]
    },
    {
      "cell_type": "code",
      "metadata": {
        "id": "NBzKzHUhTZSv"
      },
      "source": [
        "# Let's make a function to measure the time of prediction\n",
        "\n",
        "import time\n",
        "\n",
        "def pred_timer(model, samples):\n",
        "\n",
        "  \"\"\"\n",
        "  Times how long a model takes to make predicitons on samples/\n",
        "\n",
        "\n",
        "\n",
        "  \n",
        "  \n",
        "  \"\"\"\n",
        "\n",
        "  start_time = time.perf_counter() # get start time\n",
        "\n",
        "  model.predict(samples)\n",
        "\n",
        "  end_time = time.perf_counter() # get finish time\n",
        "\n",
        "  total_time = end_time - start_time # Calculate how long predictions took to make\n",
        "\n",
        "  time_per_pred = total_time/len(samples)\n",
        "\n",
        "  return total_time, time_per_pred\n",
        "\n",
        "\n"
      ],
      "execution_count": 278,
      "outputs": []
    },
    {
      "cell_type": "code",
      "metadata": {
        "colab": {
          "base_uri": "https://localhost:8080/"
        },
        "id": "y9LPqlNjVoVb",
        "outputId": "a7949097-837e-4c0d-c5eb-74b7bd7da9a7"
      },
      "source": [
        "# Calculate TF Hub Sentence Encoder time per pred\n",
        "model_6_total_pred_time, model_6_time_per_pred = pred_timer(model=model_6_pretrained,\n",
        "                                                            samples=val_sentences)\n",
        "\n",
        "model_6_total_pred_time, model_6_time_per_pred\n"
      ],
      "execution_count": 279,
      "outputs": [
        {
          "output_type": "execute_result",
          "data": {
            "text/plain": [
              "(0.21305693300018902, 0.0002796022742784633)"
            ]
          },
          "metadata": {
            "tags": []
          },
          "execution_count": 279
        }
      ]
    },
    {
      "cell_type": "code",
      "metadata": {
        "colab": {
          "base_uri": "https://localhost:8080/"
        },
        "id": "PBnJOsd6Wedu",
        "outputId": "32376100-8c1e-4ecb-e0ab-20cc63dc32ab"
      },
      "source": [
        "# Calculate our baseline model times per pred\n",
        "# inference= prediction\n",
        "baseline_total_pred_time, baseline_time_per_pred =pred_timer(model_0, val_sentences)\n",
        "\n",
        "baseline_total_pred_time, baseline_time_per_pred"
      ],
      "execution_count": 280,
      "outputs": [
        {
          "output_type": "execute_result",
          "data": {
            "text/plain": [
              "(0.021403538001322886, 2.808863254766783e-05)"
            ]
          },
          "metadata": {
            "tags": []
          },
          "execution_count": 280
        }
      ]
    },
    {
      "cell_type": "code",
      "metadata": {
        "colab": {
          "base_uri": "https://localhost:8080/"
        },
        "id": "PIyy1e5lX_DJ",
        "outputId": "672b1be0-22fd-46d1-9b90-bedafbc936a9"
      },
      "source": [
        "\n",
        "model_6_pretrained_results = calculate_results(y_true=val_labels,\n",
        "                                       y_pred=model_6_pretrained_preds)\n",
        "\n",
        "model_6_pretrained_results"
      ],
      "execution_count": 281,
      "outputs": [
        {
          "output_type": "execute_result",
          "data": {
            "text/plain": [
              "{'accuracy': 81.62729658792651,\n",
              " 'f1': 0.8148082644367335,\n",
              " 'precision': 0.818446310697231,\n",
              " 'recall': 0.8162729658792651}"
            ]
          },
          "metadata": {
            "tags": []
          },
          "execution_count": 281
        }
      ]
    },
    {
      "cell_type": "code",
      "metadata": {
        "colab": {
          "base_uri": "https://localhost:8080/",
          "height": 476
        },
        "id": "dmj3c9YKXP0g",
        "outputId": "41c64d08-4630-4832-f1d8-1d1f5175229f"
      },
      "source": [
        "import matplotlib.pyplot as plt\n",
        "\n",
        "plt.figure(figsize=(10, 7))\n",
        "\n",
        "plt.scatter(baseline_time_per_pred, baseline_results[\"f1\"], label =\"baseline\")\n",
        "\n",
        "plt.scatter(model_6_time_per_pred, model_6_pretrained_results[\"f1\"], label=\"tf_hub_sentence_encoder\")\n",
        "\n",
        "plt.legend()\n",
        "plt.title(\"f1-score versus time per prediction\")\n",
        "\n",
        "plt.xlabel(\"Time per prediction\")\n",
        "\n",
        "plt.ylabel(\"F1-score\")\n"
      ],
      "execution_count": 282,
      "outputs": [
        {
          "output_type": "execute_result",
          "data": {
            "text/plain": [
              "Text(0, 0.5, 'F1-score')"
            ]
          },
          "metadata": {
            "tags": []
          },
          "execution_count": 282
        },
        {
          "output_type": "display_data",
          "data": {
            "image/png": "[encoded data removed]",
            "text/plain": [
              "<Figure size 720x504 with 1 Axes>"
            ]
          },
          "metadata": {
            "tags": [],
            "needs_background": "light"
          }
        }
      ]
    },
    {
      "cell_type": "code",
      "metadata": {
        "id": "Q_jG9svjZ8b9"
      },
      "source": [
        ""
      ],
      "execution_count": null,
      "outputs": []
    }
  ]
}