{
  "nbformat": 4,
  "nbformat_minor": 0,
  "metadata": {
    "accelerator": "GPU",
    "colab": {
      "name": "Redesneuronalesrecurrents.ipynb",
      "provenance": [],
      "collapsed_sections": []
    },
    "kernelspec": {
      "display_name": "Python 3",
      "name": "python3"
    },
    "language_info": {
      "name": "python"
    }
  },
  "cells": [
    {
      "cell_type": "markdown",
      "metadata": {
        "id": "gNnwiFqXGywe"
      },
      "source": [
        "## Importamos el respositorio del curso "
      ]
    },
    {
      "cell_type": "markdown",
      "metadata": {
        "id": "rl8c7PCfJVdB"
      },
      "source": [
        "## Redes Neuronales recurrentes"
      ]
    },
    {
      "cell_type": "code",
      "metadata": {
        "colab": {
          "base_uri": "https://localhost:8080/"
        },
        "id": "Zba6IO0PG23_",
        "outputId": "e8c7faf7-105f-4df1-a4e8-e83c7d7f0ccf"
      },
      "source": [
        "!git clone https://github.com/joanby/deeplearning-az.git"
      ],
      "execution_count": null,
      "outputs": [
        {
          "output_type": "stream",
          "text": [
            "Cloning into 'deeplearning-az'...\n",
            "remote: Enumerating objects: 10196, done.\u001b[K\n",
            "remote: Counting objects: 100% (100/100), done.\u001b[K\n",
            "remote: Compressing objects: 100% (70/70), done.\u001b[K\n",
            "remote: Total 10196 (delta 50), reused 67 (delta 30), pack-reused 10096\u001b[K\n",
            "Receiving objects: 100% (10196/10196), 281.16 MiB | 40.67 MiB/s, done.\n",
            "Resolving deltas: 100% (75/75), done.\n",
            "Checking out files: 100% (10119/10119), done.\n"
          ],
          "name": "stdout"
        }
      ]
    },
    {
      "cell_type": "code",
      "metadata": {
        "colab": {
          "base_uri": "https://localhost:8080/"
        },
        "id": "Yo7scSvSHSDy",
        "outputId": "c9c13641-1880-41f1-a51d-7214ba9ba35f"
      },
      "source": [
        "from google.colab import drive\n",
        "drive.mount('/content/drive')"
      ],
      "execution_count": null,
      "outputs": [
        {
          "output_type": "stream",
          "text": [
            "Mounted at /content/drive\n"
          ],
          "name": "stdout"
        }
      ]
    },
    {
      "cell_type": "markdown",
      "metadata": {
        "id": "879_fYNsJBBr"
      },
      "source": [
        "## Red neuronal recurente\n",
        "### Parte 1- Preprocesamiento de datos e importacion de librerias"
      ]
    },
    {
      "cell_type": "code",
      "metadata": {
        "id": "4Ty4-vUMHXN_"
      },
      "source": [
        "import numpy as np\n",
        "import matplotlib.pyplot as plt\n",
        "import pandas as pd"
      ],
      "execution_count": null,
      "outputs": []
    },
    {
      "cell_type": "markdown",
      "metadata": {
        "id": "7lFwiHPyJ-zn"
      },
      "source": [
        "### Importando del set de entrenamiento\n",
        "\n"
      ]
    },
    {
      "cell_type": "code",
      "metadata": {
        "colab": {
          "base_uri": "https://localhost:8080/"
        },
        "id": "zQ5szY5HJ5h_",
        "outputId": "b515386b-2cfd-4079-db28-63395a9bdd06"
      },
      "source": [
        "dataset_train = pd.read_csv('/content/deeplearning-az/datasets/Part 3 - Recurrent Neural Networks (RNN)/Google_Stock_Price_Train.csv')\n",
        "# Valor de apertura en la bolsa\n",
        "training_set = dataset_train.iloc[:, 1:2].values\n",
        "# sintaxis para tomar solo una colunma con iloc\n",
        "\n",
        "training_set, len(training_set)"
      ],
      "execution_count": null,
      "outputs": [
        {
          "output_type": "execute_result",
          "data": {
            "text/plain": [
              "(array([[325.25],\n",
              "        [331.27],\n",
              "        [329.83],\n",
              "        ...,\n",
              "        [793.7 ],\n",
              "        [783.33],\n",
              "        [782.75]]), 1258)"
            ]
          },
          "metadata": {
            "tags": []
          },
          "execution_count": 4
        }
      ]
    },
    {
      "cell_type": "markdown",
      "metadata": {
        "id": "VGatl5gnL_rE"
      },
      "source": [
        "## Escalado de caracteristicas"
      ]
    },
    {
      "cell_type": "code",
      "metadata": {
        "colab": {
          "base_uri": "https://localhost:8080/"
        },
        "id": "6RFyzEThKh7g",
        "outputId": "09879612-5861-43e3-d488-853420e7657d"
      },
      "source": [
        "# la normalizacion es mas conveniente para la escala\n",
        "from sklearn.preprocessing import MinMaxScaler\n",
        "# se le pasa el minimo y el maximo\n",
        "sc = MinMaxScaler(feature_range=(0, 1))\n",
        "training_set_scaled = sc.fit_transform(training_set)\n",
        "\n",
        "training_set,training_set_scaled"
      ],
      "execution_count": null,
      "outputs": [
        {
          "output_type": "execute_result",
          "data": {
            "text/plain": [
              "(array([[325.25],\n",
              "        [331.27],\n",
              "        [329.83],\n",
              "        ...,\n",
              "        [793.7 ],\n",
              "        [783.33],\n",
              "        [782.75]]), array([[0.08581368],\n",
              "        [0.09701243],\n",
              "        [0.09433366],\n",
              "        ...,\n",
              "        [0.95725128],\n",
              "        [0.93796041],\n",
              "        [0.93688146]]))"
            ]
          },
          "metadata": {
            "tags": []
          },
          "execution_count": 10
        }
      ]
    },
    {
      "cell_type": "markdown",
      "metadata": {
        "id": "hBvX9F5bOp0y"
      },
      "source": [
        "## Creacion de una estructura de datos con tiempo y 1 salido"
      ]
    },
    {
      "cell_type": "code",
      "metadata": {
        "colab": {
          "base_uri": "https://localhost:8080/"
        },
        "id": "O68bcgwMLduX",
        "outputId": "05d37567-2ebd-4f5f-9225-912da474eecd"
      },
      "source": [
        "# numero de pasos es importante (time steps)\n",
        "# en cada momento del tiempo la red neunal sera capaz de mirar 60 dias atras\n",
        "# los 60 pasos del pasado sera la entrada de la red neuronal\n",
        "# 60 pasos (trimestre) en base a los 3 meses anteriores que pasara en el dia actual\n",
        "X_train = []\n",
        "\n",
        "y_train = []\n",
        "\n",
        "# el rango empieza en 60, porque la primera iteracion debera tomar desde el 60 hacia atras\n",
        "# el limite sumerior es el ultimo indice de la observacion\n",
        "for i in range(60, 1258):\n",
        "# recordar que el numero a la derecha del : no se incluye\n",
        "  X_train.append(training_set_scaled[i-60:i, 0])\n",
        "  y_train.append(training_set_scaled[i, 0])\n",
        "# reconvertimos todo a array de numpy\n",
        "X_train, y_train = np.array(X_train), np.array(y_train)\n",
        "\n",
        "X_train"
      ],
      "execution_count": null,
      "outputs": [
        {
          "output_type": "execute_result",
          "data": {
            "text/plain": [
              "array([[0.08581368, 0.09701243, 0.09433366, ..., 0.07846566, 0.08034452,\n",
              "        0.08497656],\n",
              "       [0.09701243, 0.09433366, 0.09156187, ..., 0.08034452, 0.08497656,\n",
              "        0.08627874],\n",
              "       [0.09433366, 0.09156187, 0.07984225, ..., 0.08497656, 0.08627874,\n",
              "        0.08471612],\n",
              "       ...,\n",
              "       [0.92106928, 0.92438053, 0.93048218, ..., 0.95475854, 0.95204256,\n",
              "        0.95163331],\n",
              "       [0.92438053, 0.93048218, 0.9299055 , ..., 0.95204256, 0.95163331,\n",
              "        0.95725128],\n",
              "       [0.93048218, 0.9299055 , 0.93113327, ..., 0.95163331, 0.95725128,\n",
              "        0.93796041]])"
            ]
          },
          "metadata": {
            "tags": []
          },
          "execution_count": 11
        }
      ]
    },
    {
      "cell_type": "markdown",
      "metadata": {
        "id": "oEYSZTs4Uj2m"
      },
      "source": [
        "### Remodelacion"
      ]
    },
    {
      "cell_type": "code",
      "metadata": {
        "colab": {
          "base_uri": "https://localhost:8080/"
        },
        "id": "zAMJZzW7PbFz",
        "outputId": "ed13b433-6456-4a7b-ff74-fd93c6688b24"
      },
      "source": [
        "# Agregando una dimension\n",
        "# las redes neuronales recurrentes esperan un tensor tridimencional, batch_size(en este contexto, numero total de observaciones para entrenar), numero de pasos de tiempo, imput dim (numero de variables/indicadores)\n",
        "X_train = np.reshape(X_train, (X_train.shape[0], X_train.shape[1], 1))\n",
        "\n",
        "X_train.shape"
      ],
      "execution_count": null,
      "outputs": [
        {
          "output_type": "execute_result",
          "data": {
            "text/plain": [
              "(1198, 60, 1)"
            ]
          },
          "metadata": {
            "tags": []
          },
          "execution_count": 12
        }
      ]
    },
    {
      "cell_type": "markdown",
      "metadata": {
        "id": "bkH7t0C6Ui6M"
      },
      "source": [
        "### Parte 2 - Construyendo el RNN\n",
        "\n",
        "Importacion de las librias y paquetes keras"
      ]
    },
    {
      "cell_type": "code",
      "metadata": {
        "id": "asSiiOtwaLYC"
      },
      "source": [
        "from keras.models import Sequential\n",
        "\n",
        "from keras.layers import Dense\n",
        "\n",
        "from keras.layers import LSTM\n",
        "\n",
        "from keras.layers import Dropout"
      ],
      "execution_count": null,
      "outputs": []
    },
    {
      "cell_type": "markdown",
      "metadata": {
        "id": "ATk1G_Lgan8y"
      },
      "source": [
        "## Inicializando el RNN"
      ]
    },
    {
      "cell_type": "code",
      "metadata": {
        "id": "jRlaK9CFajWW"
      },
      "source": [
        "# regresion lineal\n",
        "regressor = Sequential()\n"
      ],
      "execution_count": null,
      "outputs": []
    },
    {
      "cell_type": "code",
      "metadata": {
        "id": "qX97f4Rwd2q0"
      },
      "source": [
        "import tensorflow as tf\n",
        "\n",
        "# regresion lineal\n",
        "regressor = Sequential()\n",
        "\n",
        "regressor.add(LSTM(units=50, return_sequences=True, input_shape=(X_train.shape[1], 1)))\n",
        "regressor.add(Dropout(rate=0.20))\n",
        "# segunda capa\n",
        "regressor.add(LSTM(50, return_sequences=True))\n",
        "regressor.add(Dropout(rate=0.20))\n",
        "\n",
        "#  tercera capa\n",
        "regressor.add(LSTM(50, return_sequences=True))\n",
        "regressor.add(Dropout(rate=0.2))\n",
        "\n",
        "\n",
        "# cuarta capa\n",
        "\n",
        "regressor.add(LSTM(50, return_sequences=False))\n",
        "# desercion\n",
        "regressor.add(Dropout(0.20))\n",
        "\n",
        "# capa de salida, como se predice un unico valor se coloca una dimension\n",
        "\n",
        "regressor.add(Dense(units=1))\n",
        "\n",
        "# Compilacion del RNN\n",
        "\n",
        "regressor.compile(loss=\"mean_squared_error\",\n",
        "                  optimizer=tf.keras.optimizers.Adam())\n"
      ],
      "execution_count": null,
      "outputs": []
    },
    {
      "cell_type": "code",
      "metadata": {
        "colab": {
          "base_uri": "https://localhost:8080/"
        },
        "id": "UFyYEYtuhnv8",
        "outputId": "496f7866-3f08-40c9-8415-953a2294ed1f"
      },
      "source": [
        "# fit\n",
        "\n",
        "regressor.fit(x=X_train,\n",
        "              y=y_train,\n",
        "              epochs=100,\n",
        "              batch_size=32)"
      ],
      "execution_count": 34,
      "outputs": [
        {
          "output_type": "stream",
          "text": [
            "Epoch 1/100\n",
            "38/38 [==============================] - 1s 16ms/step - loss: 7.3863e-04\n",
            "Epoch 2/100\n",
            "38/38 [==============================] - 0s 12ms/step - loss: 8.0764e-04\n",
            "Epoch 3/100\n",
            "38/38 [==============================] - 0s 13ms/step - loss: 9.3870e-04\n",
            "Epoch 4/100\n",
            "38/38 [==============================] - 0s 13ms/step - loss: 9.4868e-04\n",
            "Epoch 5/100\n",
            "38/38 [==============================] - 0s 12ms/step - loss: 0.0012\n",
            "Epoch 6/100\n",
            "38/38 [==============================] - 0s 12ms/step - loss: 8.7614e-04\n",
            "Epoch 7/100\n",
            "38/38 [==============================] - 0s 12ms/step - loss: 8.5602e-04\n",
            "Epoch 8/100\n",
            "38/38 [==============================] - 0s 12ms/step - loss: 9.5816e-04\n",
            "Epoch 9/100\n",
            "38/38 [==============================] - 0s 12ms/step - loss: 8.6444e-04\n",
            "Epoch 10/100\n",
            "38/38 [==============================] - 0s 12ms/step - loss: 9.4414e-04\n",
            "Epoch 11/100\n",
            "38/38 [==============================] - 0s 12ms/step - loss: 8.0345e-04\n",
            "Epoch 12/100\n",
            "38/38 [==============================] - 0s 12ms/step - loss: 8.9189e-04\n",
            "Epoch 13/100\n",
            "38/38 [==============================] - 0s 12ms/step - loss: 8.7420e-04\n",
            "Epoch 14/100\n",
            "38/38 [==============================] - 0s 12ms/step - loss: 7.7880e-04\n",
            "Epoch 15/100\n",
            "38/38 [==============================] - 0s 12ms/step - loss: 8.5680e-04\n",
            "Epoch 16/100\n",
            "38/38 [==============================] - 0s 12ms/step - loss: 8.9633e-04\n",
            "Epoch 17/100\n",
            "38/38 [==============================] - 0s 12ms/step - loss: 9.0810e-04\n",
            "Epoch 18/100\n",
            "38/38 [==============================] - 0s 12ms/step - loss: 9.2707e-04\n",
            "Epoch 19/100\n",
            "38/38 [==============================] - 0s 12ms/step - loss: 8.2300e-04\n",
            "Epoch 20/100\n",
            "38/38 [==============================] - 0s 12ms/step - loss: 8.6014e-04\n",
            "Epoch 21/100\n",
            "38/38 [==============================] - 0s 12ms/step - loss: 8.1027e-04\n",
            "Epoch 22/100\n",
            "38/38 [==============================] - 0s 12ms/step - loss: 8.2885e-04\n",
            "Epoch 23/100\n",
            "38/38 [==============================] - 0s 12ms/step - loss: 8.6913e-04\n",
            "Epoch 24/100\n",
            "38/38 [==============================] - 0s 12ms/step - loss: 7.9782e-04\n",
            "Epoch 25/100\n",
            "38/38 [==============================] - 0s 12ms/step - loss: 0.0010\n",
            "Epoch 26/100\n",
            "38/38 [==============================] - 0s 13ms/step - loss: 9.1971e-04\n",
            "Epoch 27/100\n",
            "38/38 [==============================] - 0s 12ms/step - loss: 9.2780e-04\n",
            "Epoch 28/100\n",
            "38/38 [==============================] - 0s 12ms/step - loss: 9.2171e-04\n",
            "Epoch 29/100\n",
            "38/38 [==============================] - 0s 12ms/step - loss: 8.5083e-04\n",
            "Epoch 30/100\n",
            "38/38 [==============================] - 0s 12ms/step - loss: 8.9491e-04\n",
            "Epoch 31/100\n",
            "38/38 [==============================] - 0s 12ms/step - loss: 7.9725e-04\n",
            "Epoch 32/100\n",
            "38/38 [==============================] - 0s 13ms/step - loss: 9.0331e-04\n",
            "Epoch 33/100\n",
            "38/38 [==============================] - 0s 12ms/step - loss: 9.3566e-04\n",
            "Epoch 34/100\n",
            "38/38 [==============================] - 0s 12ms/step - loss: 8.7116e-04\n",
            "Epoch 35/100\n",
            "38/38 [==============================] - 0s 12ms/step - loss: 8.2668e-04\n",
            "Epoch 36/100\n",
            "38/38 [==============================] - 0s 12ms/step - loss: 9.6423e-04\n",
            "Epoch 37/100\n",
            "38/38 [==============================] - 0s 12ms/step - loss: 8.5903e-04\n",
            "Epoch 38/100\n",
            "38/38 [==============================] - 0s 12ms/step - loss: 8.7263e-04\n",
            "Epoch 39/100\n",
            "38/38 [==============================] - 0s 12ms/step - loss: 7.5821e-04\n",
            "Epoch 40/100\n",
            "38/38 [==============================] - 0s 12ms/step - loss: 8.0539e-04\n",
            "Epoch 41/100\n",
            "38/38 [==============================] - 0s 12ms/step - loss: 8.1653e-04\n",
            "Epoch 42/100\n",
            "38/38 [==============================] - 0s 12ms/step - loss: 8.3651e-04\n",
            "Epoch 43/100\n",
            "38/38 [==============================] - 0s 12ms/step - loss: 8.1252e-04\n",
            "Epoch 44/100\n",
            "38/38 [==============================] - 0s 13ms/step - loss: 8.4047e-04\n",
            "Epoch 45/100\n",
            "38/38 [==============================] - 0s 13ms/step - loss: 7.6618e-04\n",
            "Epoch 46/100\n",
            "38/38 [==============================] - 0s 12ms/step - loss: 8.5548e-04\n",
            "Epoch 47/100\n",
            "38/38 [==============================] - 0s 12ms/step - loss: 8.7703e-04\n",
            "Epoch 48/100\n",
            "38/38 [==============================] - 0s 12ms/step - loss: 9.2269e-04\n",
            "Epoch 49/100\n",
            "38/38 [==============================] - 0s 12ms/step - loss: 8.4817e-04\n",
            "Epoch 50/100\n",
            "38/38 [==============================] - 0s 12ms/step - loss: 8.8621e-04\n",
            "Epoch 51/100\n",
            "38/38 [==============================] - 0s 12ms/step - loss: 8.2900e-04\n",
            "Epoch 52/100\n",
            "38/38 [==============================] - 0s 12ms/step - loss: 8.6087e-04\n",
            "Epoch 53/100\n",
            "38/38 [==============================] - 0s 13ms/step - loss: 8.7624e-04\n",
            "Epoch 54/100\n",
            "38/38 [==============================] - 0s 12ms/step - loss: 8.4611e-04\n",
            "Epoch 55/100\n",
            "38/38 [==============================] - 0s 12ms/step - loss: 8.1954e-04\n",
            "Epoch 56/100\n",
            "38/38 [==============================] - 0s 12ms/step - loss: 8.3007e-04\n",
            "Epoch 57/100\n",
            "38/38 [==============================] - 0s 12ms/step - loss: 9.6014e-04\n",
            "Epoch 58/100\n",
            "38/38 [==============================] - 0s 12ms/step - loss: 7.9594e-04\n",
            "Epoch 59/100\n",
            "38/38 [==============================] - 0s 12ms/step - loss: 8.6833e-04\n",
            "Epoch 60/100\n",
            "38/38 [==============================] - 0s 13ms/step - loss: 8.2504e-04\n",
            "Epoch 61/100\n",
            "38/38 [==============================] - 0s 12ms/step - loss: 7.5951e-04\n",
            "Epoch 62/100\n",
            "38/38 [==============================] - 0s 12ms/step - loss: 8.4608e-04\n",
            "Epoch 63/100\n",
            "38/38 [==============================] - 0s 12ms/step - loss: 9.6411e-04\n",
            "Epoch 64/100\n",
            "38/38 [==============================] - 0s 12ms/step - loss: 7.7640e-04\n",
            "Epoch 65/100\n",
            "38/38 [==============================] - 0s 12ms/step - loss: 7.9652e-04\n",
            "Epoch 66/100\n",
            "38/38 [==============================] - 0s 12ms/step - loss: 7.7266e-04\n",
            "Epoch 67/100\n",
            "38/38 [==============================] - 0s 12ms/step - loss: 7.5912e-04\n",
            "Epoch 68/100\n",
            "38/38 [==============================] - 0s 12ms/step - loss: 8.1717e-04\n",
            "Epoch 69/100\n",
            "38/38 [==============================] - 0s 12ms/step - loss: 8.2048e-04\n",
            "Epoch 70/100\n",
            "38/38 [==============================] - 0s 12ms/step - loss: 9.8113e-04\n",
            "Epoch 71/100\n",
            "38/38 [==============================] - 0s 12ms/step - loss: 9.4453e-04\n",
            "Epoch 72/100\n",
            "38/38 [==============================] - 0s 12ms/step - loss: 7.9251e-04\n",
            "Epoch 73/100\n",
            "38/38 [==============================] - 0s 12ms/step - loss: 8.6827e-04\n",
            "Epoch 74/100\n",
            "38/38 [==============================] - 0s 12ms/step - loss: 8.2091e-04\n",
            "Epoch 75/100\n",
            "38/38 [==============================] - 0s 12ms/step - loss: 8.1007e-04\n",
            "Epoch 76/100\n",
            "38/38 [==============================] - 0s 12ms/step - loss: 8.4958e-04\n",
            "Epoch 77/100\n",
            "38/38 [==============================] - 0s 12ms/step - loss: 8.5068e-04\n",
            "Epoch 78/100\n",
            "38/38 [==============================] - 0s 12ms/step - loss: 8.0309e-04\n",
            "Epoch 79/100\n",
            "38/38 [==============================] - 0s 12ms/step - loss: 8.1908e-04\n",
            "Epoch 80/100\n",
            "38/38 [==============================] - 0s 12ms/step - loss: 8.5476e-04\n",
            "Epoch 81/100\n",
            "38/38 [==============================] - 0s 12ms/step - loss: 8.0516e-04\n",
            "Epoch 82/100\n",
            "38/38 [==============================] - 0s 12ms/step - loss: 7.8116e-04\n",
            "Epoch 83/100\n",
            "38/38 [==============================] - 0s 12ms/step - loss: 7.4093e-04\n",
            "Epoch 84/100\n",
            "38/38 [==============================] - 0s 13ms/step - loss: 8.2562e-04\n",
            "Epoch 85/100\n",
            "38/38 [==============================] - 0s 12ms/step - loss: 8.7085e-04\n",
            "Epoch 86/100\n",
            "38/38 [==============================] - 0s 13ms/step - loss: 8.7304e-04\n",
            "Epoch 87/100\n",
            "38/38 [==============================] - 0s 12ms/step - loss: 8.7251e-04\n",
            "Epoch 88/100\n",
            "38/38 [==============================] - 0s 12ms/step - loss: 9.4141e-04\n",
            "Epoch 89/100\n",
            "38/38 [==============================] - 0s 12ms/step - loss: 8.1112e-04\n",
            "Epoch 90/100\n",
            "38/38 [==============================] - 0s 12ms/step - loss: 8.0287e-04\n",
            "Epoch 91/100\n",
            "38/38 [==============================] - 0s 12ms/step - loss: 7.6841e-04\n",
            "Epoch 92/100\n",
            "38/38 [==============================] - 0s 13ms/step - loss: 8.7428e-04\n",
            "Epoch 93/100\n",
            "38/38 [==============================] - 0s 12ms/step - loss: 8.0665e-04\n",
            "Epoch 94/100\n",
            "38/38 [==============================] - 0s 12ms/step - loss: 0.0011\n",
            "Epoch 95/100\n",
            "38/38 [==============================] - 0s 12ms/step - loss: 8.4849e-04\n",
            "Epoch 96/100\n",
            "38/38 [==============================] - 0s 12ms/step - loss: 7.5508e-04\n",
            "Epoch 97/100\n",
            "38/38 [==============================] - 0s 12ms/step - loss: 8.2486e-04\n",
            "Epoch 98/100\n",
            "38/38 [==============================] - 0s 12ms/step - loss: 8.6061e-04\n",
            "Epoch 99/100\n",
            "38/38 [==============================] - 0s 12ms/step - loss: 7.9832e-04\n",
            "Epoch 100/100\n",
            "38/38 [==============================] - 0s 12ms/step - loss: 7.6779e-04\n"
          ],
          "name": "stdout"
        },
        {
          "output_type": "execute_result",
          "data": {
            "text/plain": [
              "<tensorflow.python.keras.callbacks.History at 0x7f0febfb3ed0>"
            ]
          },
          "metadata": {
            "tags": []
          },
          "execution_count": 34
        }
      ]
    },
    {
      "cell_type": "markdown",
      "metadata": {
        "id": "9Jnnhebdrpdx"
      },
      "source": [
        "##  Hacer las predicciones y visualizar los Obtencion del precio real de las acciones del 2017"
      ]
    },
    {
      "cell_type": "code",
      "metadata": {
        "id": "oygOKKRDnt26",
        "colab": {
          "base_uri": "https://localhost:8080/"
        },
        "outputId": "6c3a6754-a6f8-41f2-84a6-55ed55cb9075"
      },
      "source": [
        "dataset_test = pd.read_csv(\"/content/deeplearning-az/datasets/Part 3 - Recurrent Neural Networks (RNN)/Google_Stock_Price_Test.csv\")\n",
        "\n",
        "real_stock_price= dataset_test.iloc[:, 1:2].values\n",
        "\n",
        "real_stock_price"
      ],
      "execution_count": 36,
      "outputs": [
        {
          "output_type": "execute_result",
          "data": {
            "text/plain": [
              "array([[778.81],\n",
              "       [788.36],\n",
              "       [786.08],\n",
              "       [795.26],\n",
              "       [806.4 ],\n",
              "       [807.86],\n",
              "       [805.  ],\n",
              "       [807.14],\n",
              "       [807.48],\n",
              "       [807.08],\n",
              "       [805.81],\n",
              "       [805.12],\n",
              "       [806.91],\n",
              "       [807.25],\n",
              "       [822.3 ],\n",
              "       [829.62],\n",
              "       [837.81],\n",
              "       [834.71],\n",
              "       [814.66],\n",
              "       [796.86]])"
            ]
          },
          "metadata": {
            "tags": []
          },
          "execution_count": 36
        }
      ]
    },
    {
      "cell_type": "code",
      "metadata": {
        "colab": {
          "base_uri": "https://localhost:8080/"
        },
        "id": "o26NwSMvsIDh",
        "outputId": "10edd031-111c-49c2-9460-0bf9419b073d"
      },
      "source": [
        "# concatenacion de in y test(primer mes) axis = 0, por que tienen las mismas colunmnas\n",
        "dataset_total = pd.concat((dataset_train[\"Open\"], dataset_test[\"Open\"]), axis=0)\n",
        "\n",
        "# se escalan luego de la concatenacion\n",
        "\n",
        "# limite inferior del dataset( ultimo dia del 2016) ubico el ultimo del a;o anterior y le resto 60\n",
        "inputs = dataset_total[len(dataset_total)-len(dataset_test) - 60:].values\n",
        "\n",
        "print(inputs.shape)\n",
        "\n",
        "# hay que cambiar de vector filas a vector columnas\n",
        "# pasamos de vector filas a vector colunmnas\n",
        "# la sintaxis de abajo significa, deja el primer valor talcual y a;ade otra dimension\n",
        "inputs =inputs.reshape(-1,1)\n",
        "\n",
        "inputs.shape\n",
        "\n",
        "# debemos escalar los datos\n",
        "\n",
        "# como ya me escalado ha sido ajustado no necesito volver a hacerlo\n",
        "inputs = sc.transform(inputs)\n",
        "\n",
        "X_test = []\n",
        "# sumo 60 + los dias del test data osea 20\n",
        "for i in range(60, 80):\n",
        "  X_test.append(inputs[i-60:i, 0])\n",
        "X_test = np.array(X_test)\n",
        "\n",
        "X_test = np.reshape(X_test, (X_test.shape[0], X_test.shape[1], 1))\n",
        "predicted_stock_price = regressor.predict(X_test)\n",
        "# para revertir el escalado\n",
        "predicted_stock_price = sc.inverse_transform(predicted_stock_price)\n"
      ],
      "execution_count": 46,
      "outputs": [
        {
          "output_type": "stream",
          "text": [
            "(80,)\n"
          ],
          "name": "stdout"
        }
      ]
    },
    {
      "cell_type": "code",
      "metadata": {
        "colab": {
          "base_uri": "https://localhost:8080/",
          "height": 295
        },
        "id": "e91h1aLRxNZy",
        "outputId": "54e27c46-d648-408b-fa1b-c9849fc131c7"
      },
      "source": [
        "plt.plot(real_stock_price, color =\"red\", label= \"Real Google Stock Price\")\n",
        "plt.plot(predicted_stock_price, color = \"blue\", label=\"Predicted Google Stock Price\")\n",
        "plt.title(\"google stock Price prediction\")\n",
        "plt.xlabel(\"time\")\n",
        "\n",
        "plt.ylabel(\"google stock price\")\n",
        "\n",
        "plt.legend()\n",
        "plt.show()"
      ],
      "execution_count": 47,
      "outputs": [
        {
          "output_type": "display_data",
          "data": {
            "image/png": "[encoded data removed]",
            "text/plain": [
              "<Figure size 432x288 with 1 Axes>"
            ]
          },
          "metadata": {
            "tags": [],
            "needs_background": "light"
          }
        }
      ]
    },
    {
      "cell_type": "code",
      "metadata": {
        "id": "gVe1dIVc05UE"
      },
      "source": [
        ""
      ],
      "execution_count": null,
      "outputs": []
    }
  ]
}