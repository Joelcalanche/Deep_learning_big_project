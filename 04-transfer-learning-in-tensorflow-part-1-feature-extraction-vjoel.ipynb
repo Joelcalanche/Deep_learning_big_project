{
 "cells": [
  {
   "cell_type": "markdown",
   "id": "tender-abraham",
   "metadata": {},
   "source": [
    "# Transfer Learning with TensorFlow part 1: Feature Extraction\n",
    "\n",
    "Transfer learning is leveraging a working model's existing architecture and learned patterns for our own problem.\n",
    "\n",
    "There are two main benefits:\n",
    "\n",
    "1. Can leverage an existing neural network architecture proven to work on problems similar to our own.\n",
    "2. Can leverage a working neural network architecture which has already learned patterns on similar data to our own, then we can adapt those patterns to our own data."
   ]
  },
  {
   "cell_type": "markdown",
   "id": "massive-kidney",
   "metadata": {},
   "source": [
    "## Downloading and becoming one with the data"
   ]
  },
  {
   "cell_type": "code",
   "execution_count": 1,
   "id": "regulation-register",
   "metadata": {},
   "outputs": [
    {
     "name": "stdout",
     "output_type": "stream",
     "text": [
      "There are 2 directories and 0 images in '10_food_classes_10_percent'.\n",
      "There are 2 directories and 0 images in '10_food_classes_10_percent\\10_food_classes_10_percent'.\n",
      "There are 10 directories and 0 images in '10_food_classes_10_percent\\10_food_classes_10_percent\\test'.\n",
      "There are 0 directories and 250 images in '10_food_classes_10_percent\\10_food_classes_10_percent\\test\\chicken_curry'.\n",
      "There are 0 directories and 250 images in '10_food_classes_10_percent\\10_food_classes_10_percent\\test\\chicken_wings'.\n",
      "There are 0 directories and 250 images in '10_food_classes_10_percent\\10_food_classes_10_percent\\test\\fried_rice'.\n",
      "There are 0 directories and 250 images in '10_food_classes_10_percent\\10_food_classes_10_percent\\test\\grilled_salmon'.\n",
      "There are 0 directories and 250 images in '10_food_classes_10_percent\\10_food_classes_10_percent\\test\\hamburger'.\n",
      "There are 0 directories and 250 images in '10_food_classes_10_percent\\10_food_classes_10_percent\\test\\ice_cream'.\n",
      "There are 0 directories and 250 images in '10_food_classes_10_percent\\10_food_classes_10_percent\\test\\pizza'.\n",
      "There are 0 directories and 250 images in '10_food_classes_10_percent\\10_food_classes_10_percent\\test\\ramen'.\n",
      "There are 0 directories and 250 images in '10_food_classes_10_percent\\10_food_classes_10_percent\\test\\steak'.\n",
      "There are 0 directories and 250 images in '10_food_classes_10_percent\\10_food_classes_10_percent\\test\\sushi'.\n",
      "There are 10 directories and 0 images in '10_food_classes_10_percent\\10_food_classes_10_percent\\train'.\n",
      "There are 0 directories and 75 images in '10_food_classes_10_percent\\10_food_classes_10_percent\\train\\chicken_curry'.\n",
      "There are 0 directories and 75 images in '10_food_classes_10_percent\\10_food_classes_10_percent\\train\\chicken_wings'.\n",
      "There are 0 directories and 75 images in '10_food_classes_10_percent\\10_food_classes_10_percent\\train\\fried_rice'.\n",
      "There are 0 directories and 75 images in '10_food_classes_10_percent\\10_food_classes_10_percent\\train\\grilled_salmon'.\n",
      "There are 0 directories and 75 images in '10_food_classes_10_percent\\10_food_classes_10_percent\\train\\hamburger'.\n",
      "There are 0 directories and 75 images in '10_food_classes_10_percent\\10_food_classes_10_percent\\train\\ice_cream'.\n",
      "There are 0 directories and 75 images in '10_food_classes_10_percent\\10_food_classes_10_percent\\train\\pizza'.\n",
      "There are 0 directories and 75 images in '10_food_classes_10_percent\\10_food_classes_10_percent\\train\\ramen'.\n",
      "There are 0 directories and 75 images in '10_food_classes_10_percent\\10_food_classes_10_percent\\train\\steak'.\n",
      "There are 0 directories and 75 images in '10_food_classes_10_percent\\10_food_classes_10_percent\\train\\sushi'.\n",
      "There are 1 directories and 1 images in '10_food_classes_10_percent\\__MACOSX'.\n",
      "There are 2 directories and 2 images in '10_food_classes_10_percent\\__MACOSX\\10_food_classes_10_percent'.\n",
      "There are 0 directories and 10 images in '10_food_classes_10_percent\\__MACOSX\\10_food_classes_10_percent\\test'.\n",
      "There are 0 directories and 10 images in '10_food_classes_10_percent\\__MACOSX\\10_food_classes_10_percent\\train'.\n"
     ]
    }
   ],
   "source": [
    "# How many images in each folder?\n",
    "\n",
    "import os\n",
    "\n",
    "# walk though 10 percent data directory and list number of files\n",
    "\n",
    "for dirpath, dirnames, filenames in os.walk(\"10_food_classes_10_percent\"):\n",
    "    print(f\"There are {len(dirnames)} directories and {len(filenames)} images in '{dirpath}'.\")"
   ]
  },
  {
   "cell_type": "markdown",
   "id": "regular-burden",
   "metadata": {},
   "source": [
    "## Creating data loeader(preparing the data)\n",
    "\n",
    "we'll use the \"ImageDataGenerator\" class to load in our images in batches."
   ]
  },
  {
   "cell_type": "code",
   "execution_count": 2,
   "id": "conventional-anaheim",
   "metadata": {},
   "outputs": [
    {
     "name": "stdout",
     "output_type": "stream",
     "text": [
      "Training images:\n",
      "Found 750 images belonging to 10 classes.\n",
      "Testing images:\n",
      "Found 2500 images belonging to 10 classes.\n"
     ]
    }
   ],
   "source": [
    "# Setup data inputs\n",
    "from tensorflow.keras.preprocessing.image import ImageDataGenerator\n",
    "# generalmente las letras mayusculas indican algun tipo de hiperparametro\n",
    "IMAGE_SHAPE =(224, 224) \n",
    "\n",
    "BATCH_SIZE = 32\n",
    "\n",
    "train_dir= \"10_food_classes_10_percent/10_food_classes_10_percent/train/\"\n",
    "\n",
    "test_dir=\"10_food_classes_10_percent/10_food_classes_10_percent/test/\"\n",
    "\n",
    "train_datagen = ImageDataGenerator(rescale=1/255.)\n",
    "\n",
    "test_datagen = ImageDataGenerator(rescale=1/255.)\n",
    "\n",
    "print(\"Training images:\")\n",
    "\n",
    "train_data_10_percent = train_datagen.flow_from_directory(train_dir,\n",
    "                                                          target_size=IMAGE_SHAPE,\n",
    "                                                          batch_size=BATCH_SIZE,\n",
    "                                                          class_mode=\"categorical\")\n",
    "print(\"Testing images:\")\n",
    "test_data = test_datagen.flow_from_directory(test_dir,\n",
    "                                             target_size=IMAGE_SHAPE,\n",
    "                                             batch_size=BATCH_SIZE,\n",
    "                                             class_mode=\"categorical\")\n",
    "\n",
    "\n",
    "\n"
   ]
  },
  {
   "cell_type": "markdown",
   "id": "convenient-shape",
   "metadata": {},
   "source": [
    "## Setting up callbacks(hings to run whilst our model trains)\n",
    "Callbacks are extra functionality you can add to your models to be performed during or after training. Some of the most popular callbacks:\n",
    "* Tracking experiment with the TensorBoard callback\n",
    "\n",
    "* Model checkpoint with the ModelCheckpoint callback\n",
    "\n",
    "* Stopping model from training(before it trains too long and overfits) with the EarlyStopping callback"
   ]
  },
  {
   "cell_type": "code",
   "execution_count": 3,
   "id": "refined-consistency",
   "metadata": {},
   "outputs": [],
   "source": [
    "# Create a TensorBoard callback( functionzed because we need to create a new one for each model)\n",
    "import datetime\n",
    "\n",
    "def create_tensorboard_callback(dir_name, experiment_name):\n",
    "    log_dir = dir_name + \"/\" + experiment_name + \"/\" + datetime.datetime.now().strftime(\"%y%m%d-%H%M%S\")\n",
    "    tensorboard_callback = tf.keras.callbacks.TensorBoard(log_dir=log_dir)\n",
    "    \n",
    "    print(f\"Saving TensorBoard log files to: {log_dir}\")\n",
    "    \n",
    "    return tensorboard_callback\n",
    "    \n"
   ]
  },
  {
   "cell_type": "markdown",
   "id": "danish-missile",
   "metadata": {},
   "source": [
    "**Note:** You can customize the directory where your TensorBoard logs(model training metrics) get saved to whatever you like.\n",
    "\n",
    "The log_dir parameter we've created above is only one option."
   ]
  },
  {
   "cell_type": "markdown",
   "id": "general-category",
   "metadata": {},
   "source": [
    "## Creating models using TensorFlow Hub\n",
    "\n",
    "In the past we've used TensorFlow to create our own models layer by layer from scratch.\n",
    "\n",
    "\n",
    "Now we're goint to do a similar process, except the majority of our model's layers are going to come from TensorFlow Hub.\n",
    "\n",
    "We can access pretrained model on : https://tfhub.dev/\n",
    "\n",
    "\n",
    "Browsing the TensorFlow Hub Page and sorting for image classification, we  found the following feature vector model  link: https://tfhub.dev/tensorflow/efficientnet/lite0/feature-vector/2"
   ]
  },
  {
   "cell_type": "code",
   "execution_count": 17,
   "id": "spare-listing",
   "metadata": {},
   "outputs": [],
   "source": [
    "# let's compare the following two models\n",
    "resnet_url =\"https://tfhub.dev/google/imagenet/resnet_v2_50/feature_vector/5\"\n",
    "\n",
    "efficientnet_url =\"https://tfhub.dev/tensorflow/efficientnet/lite0/feature-vector/2\"\n",
    "\n"
   ]
  },
  {
   "cell_type": "code",
   "execution_count": 5,
   "id": "swedish-freedom",
   "metadata": {},
   "outputs": [],
   "source": [
    "# Import dependencies\n",
    "\n",
    "import tensorflow as tf\n",
    "\n",
    "import tensorflow_hub as hub\n",
    "\n",
    "from tensorflow.keras import layers"
   ]
  },
  {
   "cell_type": "code",
   "execution_count": 6,
   "id": "optical-prison",
   "metadata": {},
   "outputs": [
    {
     "data": {
      "text/plain": [
       "(224, 224, 3)"
      ]
     },
     "execution_count": 6,
     "metadata": {},
     "output_type": "execute_result"
    }
   ],
   "source": [
    "# forma curriosa de agregar una dimension\n",
    "IMAGE_SHAPE + (3,)"
   ]
  },
  {
   "cell_type": "code",
   "execution_count": 7,
   "id": "opened-paradise",
   "metadata": {},
   "outputs": [],
   "source": [
    "# Let's make a create_model() function to create a model from a URL\n",
    "\n",
    "def create_model(model_url, num_classes=10):\n",
    "    \"\"\"\n",
    "     Takes a TensorFlow Hub URL and create a Keras Sequential model with it.\n",
    "  \n",
    "      \n",
    "    Args:\n",
    "      model_url(str): A TensorFlow Hub feature extraction URL.\n",
    "      \n",
    "      number_classes(int): Number of output neurons in the ouput layer,\n",
    "          should be equal to number to target classes, default 10.\n",
    "          \n",
    "    Returns:\n",
    "        An uncompiled Keras Sequential model with model_url as feature extractor\n",
    "        leyer and Dense output layer with num_classes output neurons.\n",
    "    \"\"\"\n",
    "    \n",
    "    \n",
    "\n",
    "    # Download the pretrained model and save it as a Keras layer\n",
    "    feature_extractor_layer = hub.KerasLayer(model_url,\n",
    "                                            trainable=False,# freeze the already learned patterns\n",
    "                                            name = \"feature_extraction_layer\",\n",
    "                                            input_shape=IMAGE_SHAPE + (3,))\n",
    "\n",
    "    # Create Create our own model\n",
    "\n",
    "    model = tf.keras.Sequential([\n",
    "         feature_extractor_layer,\n",
    "         layers.Dense(num_classes, activation=\"softmax\", name=\"output_layer\")\n",
    "     ])\n",
    "\n",
    "    return model\n",
    "    "
   ]
  },
  {
   "cell_type": "markdown",
   "id": "exclusive-belly",
   "metadata": {},
   "source": [
    "### Creating and testing ResNet TensorFlow Hub Feature Extraction model"
   ]
  },
  {
   "cell_type": "code",
   "execution_count": 9,
   "id": "starting-fighter",
   "metadata": {},
   "outputs": [],
   "source": [
    "# Create Resnet model\n",
    "resnet_model = create_model(resnet_url,\n",
    "                            num_classes=train_data_10_percent.num_classes)"
   ]
  },
  {
   "cell_type": "code",
   "execution_count": 10,
   "id": "right-reach",
   "metadata": {},
   "outputs": [
    {
     "data": {
      "text/plain": [
       "10"
      ]
     },
     "execution_count": 10,
     "metadata": {},
     "output_type": "execute_result"
    }
   ],
   "source": [
    "train_data_10_percent.num_classes"
   ]
  },
  {
   "cell_type": "code",
   "execution_count": 11,
   "id": "proof-special",
   "metadata": {},
   "outputs": [
    {
     "name": "stdout",
     "output_type": "stream",
     "text": [
      "Model: \"sequential_1\"\n",
      "_________________________________________________________________\n",
      "Layer (type)                 Output Shape              Param #   \n",
      "=================================================================\n",
      "feature_extraction_layer (Ke (None, 2048)              23564800  \n",
      "_________________________________________________________________\n",
      "output_layer (Dense)         (None, 10)                20490     \n",
      "=================================================================\n",
      "Total params: 23,585,290\n",
      "Trainable params: 20,490\n",
      "Non-trainable params: 23,564,800\n",
      "_________________________________________________________________\n"
     ]
    }
   ],
   "source": [
    "resnet_model.summary()"
   ]
  },
  {
   "cell_type": "code",
   "execution_count": 12,
   "id": "intelligent-policy",
   "metadata": {},
   "outputs": [],
   "source": [
    "# Compile our resnet model\n",
    "resnet_model.compile(loss=\"categorical_crossentropy\",\n",
    "                     optimizer=tf.keras.optimizers.Adam(),\n",
    "                     metrics=[\"accuracy\"])"
   ]
  },
  {
   "cell_type": "code",
   "execution_count": 13,
   "id": "advisory-guinea",
   "metadata": {},
   "outputs": [
    {
     "name": "stdout",
     "output_type": "stream",
     "text": [
      "Saving TensorBoard log files to: Tensorflow_hub/restnet50v2/210514-042426\n",
      "Epoch 1/5\n",
      "24/24 [==============================] - 320s 14s/step - loss: 2.3281 - accuracy: 0.2305 - val_loss: 1.2700 - val_accuracy: 0.5996\n",
      "Epoch 2/5\n",
      "24/24 [==============================] - 303s 13s/step - loss: 0.9988 - accuracy: 0.6911 - val_loss: 0.8954 - val_accuracy: 0.7240\n",
      "Epoch 3/5\n",
      "24/24 [==============================] - 285s 12s/step - loss: 0.6768 - accuracy: 0.8102 - val_loss: 0.7791 - val_accuracy: 0.7540\n",
      "Epoch 4/5\n",
      "24/24 [==============================] - 287s 12s/step - loss: 0.5125 - accuracy: 0.8780 - val_loss: 0.7214 - val_accuracy: 0.7724\n",
      "Epoch 5/5\n",
      "24/24 [==============================] - 278s 12s/step - loss: 0.3937 - accuracy: 0.9010 - val_loss: 0.6839 - val_accuracy: 0.7876\n"
     ]
    }
   ],
   "source": [
    "# Let's fit our ResNet model to the data(10 percent of 10 classes)\n",
    "resnet_history = resnet_model.fit(train_data_10_percent,\n",
    "                                  epochs=5,\n",
    "                                  steps_per_epoch=len(train_data_10_percent),\n",
    "                                  validation_data=test_data,\n",
    "                                  validation_steps=len(test_data),\n",
    "                                  callbacks=[create_tensorboard_callback(dir_name=\"Tensorflow_hub\",\n",
    "                                                                        experiment_name=\"restnet50v2\")])"
   ]
  },
  {
   "cell_type": "markdown",
   "id": "alive-defeat",
   "metadata": {},
   "source": [
    "Wow !\n",
    "\n",
    "That. Is. Incredible. Our transfer learning feature extractor model out perfomed ALL of the previous models we built by hand.... (substantially) and in a quicker training time. And with only 10% of the trainig examples."
   ]
  },
  {
   "cell_type": "code",
   "execution_count": 14,
   "id": "instant-phenomenon",
   "metadata": {},
   "outputs": [],
   "source": [
    "# Let' create a function to plot our loss curves\n",
    "# tidbit: you could put a function like this into a script called \"helper.py\" and import it when you need it \n",
    "# ejemplo \"from helper import plot_loss_curves\"\n",
    "import matplotlib.pyplot as plt\n",
    "\n",
    "# Plot the validation and training curves\n",
    "\n",
    "def plot_loss_curves(history):\n",
    "    \"\"\"\n",
    "    Returns separate loss curvs for training and validation metrics.\n",
    "    \n",
    "    Args:\n",
    "    history: TensorFlow History object.\n",
    "    \n",
    "    Return:\n",
    "    Plots of training/validation loss and accuracy metrics.\n",
    "    \n",
    "    \n",
    "    \"\"\"\n",
    "    \n",
    "    loss = history.history[\"loss\"]\n",
    "    \n",
    "    val_loss = history.history[\"val_loss\"]\n",
    "    \n",
    "    \n",
    "    accuracy = history.history[\"accuracy\"]\n",
    "    val_accuracy = history.history[\"val_accuracy\"]\n",
    "    \n",
    "    \n",
    "    epochs = range(len(history.history[\"loss\"]))\n",
    "    \n",
    "    # Plot loss\n",
    "    plt.plot(epochs, loss, label=\"training_loss\")\n",
    "    plt.plot(epochs, val_loss, label=\"val_loss\")\n",
    "    plt.title(\"loss\")\n",
    "    plt.xlabel(\"Epochs\")\n",
    "    plt.legend()\n",
    "    \n",
    "    # PLot accuracy\n",
    "    plt.figure()\n",
    "    plt.plot(epochs, accuracy, label=\"training_accuracy\")\n",
    "    plt.plot(epochs, val_accuracy, label=\"val_accuracy\")\n",
    "    plt.title(\"Accuracy\")\n",
    "    plt.xlabel(\"Epochs\")\n",
    "    plt.legend();"
   ]
  },
  {
   "cell_type": "code",
   "execution_count": 15,
   "id": "matched-egyptian",
   "metadata": {},
   "outputs": [
    {
     "data": {
      "image/png": "[encoded data removed]",
      "text/plain": [
       "<Figure size 432x288 with 1 Axes>"
      ]
     },
     "metadata": {
      "needs_background": "light"
     },
     "output_type": "display_data"
    },
    {
     "data": {
      "image/png": "[encoded data removed]",
      "text/plain": [
       "<Figure size 432x288 with 1 Axes>"
      ]
     },
     "metadata": {
      "needs_background": "light"
     },
     "output_type": "display_data"
    }
   ],
   "source": [
    "plot_loss_curves(resnet_history)"
   ]
  },
  {
   "cell_type": "code",
   "execution_count": 18,
   "id": "solar-entity",
   "metadata": {},
   "outputs": [
    {
     "name": "stdout",
     "output_type": "stream",
     "text": [
      "Saving TensorBoard log files to: Tensorflow_hub/efficientnetb0/210514-075449\n",
      "Epoch 1/5\n",
      "24/24 [==============================] - 122s 5s/step - loss: 2.2657 - accuracy: 0.1779 - val_loss: 1.5068 - val_accuracy: 0.6092\n",
      "Epoch 2/5\n",
      "24/24 [==============================] - 116s 5s/step - loss: 1.3103 - accuracy: 0.6991 - val_loss: 1.0333 - val_accuracy: 0.7596\n",
      "Epoch 3/5\n",
      "24/24 [==============================] - 113s 5s/step - loss: 0.8886 - accuracy: 0.8143 - val_loss: 0.8184 - val_accuracy: 0.8040\n",
      "Epoch 4/5\n",
      "24/24 [==============================] - 103s 4s/step - loss: 0.6962 - accuracy: 0.8362 - val_loss: 0.7175 - val_accuracy: 0.8212\n",
      "Epoch 5/5\n",
      "24/24 [==============================] - 104s 4s/step - loss: 0.5821 - accuracy: 0.8729 - val_loss: 0.6457 - val_accuracy: 0.8364\n"
     ]
    }
   ],
   "source": [
    "# Creating and testing EfficientNetB0 TensorFlow Hub Feature Extraction model- details on EfficientNet: https://ai.googleblog.com/2019/05/efficientnet-improving-accuracy-and.html\n",
    "efficientnet_model = create_model(model_url=efficientnet_url,\n",
    "                                  num_classes=train_data_10_percent.num_classes)\n",
    "\n",
    "# Compile EfficienNet model\n",
    "\n",
    "efficientnet_model.compile(loss=\"categorical_crossentropy\",\n",
    "                           optimizer=tf.keras.optimizers.Adam(),\n",
    "                           metrics=[\"accuracy\"])\n",
    "# una nota, con transfer learning con menos datos puedos obtener grandes resultados\n",
    "#EPOCHS = 5\n",
    "# Fit EfficientNet model to 10% of training data\n",
    "efficientnet_history = efficientnet_model.fit(train_data_10_percent,\n",
    "                                              epochs=5,\n",
    "                                              steps_per_epoch=len(train_data_10_percent),\n",
    "                                              validation_data=test_data,\n",
    "                                              validation_steps=len(test_data),\n",
    "                                              # callbacks argumento recibe una lista\n",
    "                                              callbacks=[create_tensorboard_callback(dir_name=\"Tensorflow_hub\",\n",
    "                                                                                     experiment_name=\"efficientnetb0\")])"
   ]
  },
  {
   "cell_type": "code",
   "execution_count": 19,
   "id": "sticky-associate",
   "metadata": {},
   "outputs": [
    {
     "data": {
      "image/png": "[encoded data removed]",
      "text/plain": [
       "<Figure size 432x288 with 1 Axes>"
      ]
     },
     "metadata": {
      "needs_background": "light"
     },
     "output_type": "display_data"
    },
    {
     "data": {
      "image/png": "[encoded data removed]",
      "text/plain": [
       "<Figure size 432x288 with 1 Axes>"
      ]
     },
     "metadata": {
      "needs_background": "light"
     },
     "output_type": "display_data"
    }
   ],
   "source": [
    "plot_loss_curves(efficientnet_history)"
   ]
  },
  {
   "cell_type": "code",
   "execution_count": 20,
   "id": "breathing-puppy",
   "metadata": {},
   "outputs": [
    {
     "name": "stdout",
     "output_type": "stream",
     "text": [
      "Model: \"sequential_2\"\n",
      "_________________________________________________________________\n",
      "Layer (type)                 Output Shape              Param #   \n",
      "=================================================================\n",
      "feature_extraction_layer (Ke (None, 1280)              3413024   \n",
      "_________________________________________________________________\n",
      "output_layer (Dense)         (None, 10)                12810     \n",
      "=================================================================\n",
      "Total params: 3,425,834\n",
      "Trainable params: 12,810\n",
      "Non-trainable params: 3,413,024\n",
      "_________________________________________________________________\n"
     ]
    }
   ],
   "source": [
    "efficientnet_model.summary()"
   ]
  },
  {
   "cell_type": "code",
   "execution_count": 21,
   "id": "opening-booking",
   "metadata": {},
   "outputs": [
    {
     "name": "stdout",
     "output_type": "stream",
     "text": [
      "Model: \"sequential_1\"\n",
      "_________________________________________________________________\n",
      "Layer (type)                 Output Shape              Param #   \n",
      "=================================================================\n",
      "feature_extraction_layer (Ke (None, 2048)              23564800  \n",
      "_________________________________________________________________\n",
      "output_layer (Dense)         (None, 10)                20490     \n",
      "=================================================================\n",
      "Total params: 23,585,290\n",
      "Trainable params: 20,490\n",
      "Non-trainable params: 23,564,800\n",
      "_________________________________________________________________\n"
     ]
    }
   ],
   "source": [
    "resnet_model.summary()"
   ]
  },
  {
   "cell_type": "code",
   "execution_count": 25,
   "id": "continuous-cover",
   "metadata": {},
   "outputs": [
    {
     "data": {
      "text/plain": [
       "245"
      ]
     },
     "execution_count": 25,
     "metadata": {},
     "output_type": "execute_result"
    }
   ],
   "source": [
    "# How many layers does our efficientnetb0 feature extractor have?\n",
    "# weights es la forma formal de decir patrones\n",
    "len(efficientnet_model.layers[0].weights)"
   ]
  },
  {
   "cell_type": "markdown",
   "id": "noticed-march",
   "metadata": {},
   "source": [
    "## Different types of transfer learning\n",
    "* **\"As is\" transfer learning** -using an existing model with no changes what so ever(e.g using ImageNet model on 1000 ImageNet classes, none or your own)\n",
    "* **\"Feature extraction\"** transfer learing- use the prelearned patterns of an existing model(e.g EfficientNetB0 trainet on ImageNet) and adjust the output layer for your own problem(e.g 1000 classes--> 10 classes of food)\n",
    "\n",
    "* **\"Fine-tunning\"** transfer learning - use the prelearned patterns of an existing model and \"fine-tune\" many or all of the underlying layers (including new output layers).\n",
    "\n"
   ]
  },
  {
   "cell_type": "markdown",
   "id": "solar-channels",
   "metadata": {},
   "source": [
    "## Comparing our models result using Tensorboard\n",
    "\n",
    "> **Note**: When you upload things to TensorBoard.dev, you experiments are publics. So if you're running private experiments(things you don't want others to see) do not upload them to TensorBoard.dev."
   ]
  },
  {
   "cell_type": "code",
   "execution_count": 27,
   "id": "amber-finnish",
   "metadata": {},
   "outputs": [
    {
     "name": "stdout",
     "output_type": "stream",
     "text": [
      "^C\n"
     ]
    }
   ],
   "source": [
    "!tensorboard dev upload --logdir ./Tensorflow_hub/ \\\n",
    " --name \"EfficientNetB0 vs ResNet50V2\" \\\n",
    " --description \"Comparing two different TF Hub feature extraction model architectures using 10% of the training data\" \\\n",
    " --one_shot"
   ]
  },
  {
   "cell_type": "code",
   "execution_count": 28,
   "id": "auburn-fitting",
   "metadata": {},
   "outputs": [],
   "source": [
    "%load_ext tensorboard"
   ]
  },
  {
   "cell_type": "code",
   "execution_count": 31,
   "id": "opened-jesus",
   "metadata": {},
   "outputs": [
    {
     "data": {
      "text/plain": [
       "ERROR: Failed to launch TensorBoard (exited with 1).\n",
       "Contents of stderr:\n",
       "2021-05-14 12:00:51.404514: W tensorflow/stream_executor/platform/default/dso_loader.cc:60] Could not load dynamic library 'cudart64_110.dll'; dlerror: cudart64_110.dll not found\n",
       "2021-05-14 12:00:51.404643: I tensorflow/stream_executor/cuda/cudart_stub.cc:29] Ignore above cudart dlerror if you do not have a GPU set up on your machine.\n",
       "Error: A logdir or db must be specified. For example `tensorboard --logdir mylogdir` or `tensorboard --db sqlite:~/.tensorboard.db`. Run `tensorboard --helpfull` for details and examples."
      ]
     },
     "metadata": {},
     "output_type": "display_data"
    }
   ],
   "source": [
    "%tensorboard"
   ]
  },
  {
   "cell_type": "code",
   "execution_count": 32,
   "id": "other-leather",
   "metadata": {},
   "outputs": [
    {
     "data": {
      "text/plain": [
       "Reusing TensorBoard on port 6006 (pid 13660), started 0:08:06 ago. (Use '!kill 13660' to kill it.)"
      ]
     },
     "metadata": {},
     "output_type": "display_data"
    },
    {
     "data": {
      "text/html": [
       "\n",
       "      <iframe id=\"tensorboard-frame-11b44040678b47f\" width=\"100%\" height=\"800\" frameborder=\"0\">\n",
       "      </iframe>\n",
       "      <script>\n",
       "        (function() {\n",
       "          const frame = document.getElementById(\"tensorboard-frame-11b44040678b47f\");\n",
       "          const url = new URL(\"/\", window.location);\n",
       "          const port = 6006;\n",
       "          if (port) {\n",
       "            url.port = port;\n",
       "          }\n",
       "          frame.src = url;\n",
       "        })();\n",
       "      </script>\n",
       "    "
      ],
      "text/plain": [
       "<IPython.core.display.HTML object>"
      ]
     },
     "metadata": {},
     "output_type": "display_data"
    }
   ],
   "source": [
    "%tensorboard --logdir Tensorflow_hub/"
   ]
  },
  {
   "cell_type": "code",
   "execution_count": null,
   "id": "chubby-wagner",
   "metadata": {},
   "outputs": [],
   "source": []
  }
 ],
 "metadata": {
  "kernelspec": {
   "display_name": "Python 3",
   "language": "python",
   "name": "python3"
  },
  "language_info": {
   "codemirror_mode": {
    "name": "ipython",
    "version": 3
   },
   "file_extension": ".py",
   "mimetype": "text/x-python",
   "name": "python",
   "nbconvert_exporter": "python",
   "pygments_lexer": "ipython3",
   "version": "3.6.9"
  }
 },
 "nbformat": 4,
 "nbformat_minor": 5
}
